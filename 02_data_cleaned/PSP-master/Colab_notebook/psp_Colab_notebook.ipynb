{
  "nbformat": 4,
  "nbformat_minor": 0,
  "metadata": {
    "colab": {
      "provenance": [],
      "collapsed_sections": [
        "9IEQRlxQRiAf",
        "fKpOOu8lSPoH",
        "P_oP4ktdT1u6",
        "eV2eccsKUJ3O",
        "RLXfrGCQU0mE",
        "DbsDDSHnWtf0",
        "RWynlAHRmKTt",
        "OOy4h6WEj810",
        "62Jfzaw9kegH",
        "KRXwkfhCsvp7",
        "uDlEg2dstDh1",
        "l2nLY5wnGMXQ",
        "Tby08Lx2lFWz",
        "SJYhD8xLm76t",
        "g-XmyfciIA5C",
        "M2XfoTkDaZUa",
        "4BJGUo8HnAAH",
        "aakvIYLqncal",
        "oJYJeMsvL04F",
        "tA-BlaF4vP8h",
        "WzUsrYQ7P1Kf",
        "HH7LiDoVobbb",
        "7iOJVH_hnzVN",
        "qVCbdMEZUZ4y",
        "mbgNzORzQ4Q2",
        "vrXLj1aDQuat",
        "hJqq7iHOoLbd",
        "4FX4ih0EonGe",
        "RVd-dXLS-5rm",
        "GoZLAK6rbJhl",
        "mgls2QVkqA2a",
        "jedCvYl_djvG",
        "OrQaphzOp3fF",
        "ZW5XLyYI7cQ1",
        "lk4jN36lbGxf",
        "Q8Ek7Andmu9r"
      ]
    },
    "kernelspec": {
      "display_name": "Python 3",
      "name": "python3"
    },
    "language_info": {
      "name": "python"
    }
  },
  "cells": [
    {
      "cell_type": "markdown",
      "metadata": {
        "id": "4f6KZnwQri0d"
      },
      "source": [
        "# Polymer Structure Predictor (PSP)\n",
        "Polymer Structure Predictor (PSP) is an autonomous model generator that builds a hierarchy of polymer models from SMILES strings, ranging from monomers, linear and loop oligomers, infinite polymer chains, to crystal and amorphous structures. The flexibility to define parameters allows for the construction of desired models at a reasonable computational cost. Individual output models can be visualized and used to perform *ab initio* and molecular dynamics simulations. \n",
        "\n",
        "In this tutorial, we will cover:\n",
        "- Instation of PSP and dependencies\n",
        "- Examples for building polymer models\n",
        "\t- $MoleculeBuilder$ (Linear and circular oligomers)\n",
        "\t- $ChainBuilder$ (Finite and infinite polymer chains [*periodic*])\n",
        "\t- $CrystalBuilder$ (Crystal models for small molecules and polymers)\n",
        "\t- $AmorphousBuilder$ (Amorphous structures)\n",
        "\n",
        "> The user can save a copy of this notebook to Google Drive or download it using the **File** tab (top left) for later use."
      ]
    },
    {
      "cell_type": "markdown",
      "metadata": {
        "id": "9IEQRlxQRiAf"
      },
      "source": [
        "# Install PSP and dependencies\n",
        "\n",
        "- Miniconda\n",
        "- Scipy (v1.7.3)\n",
        "- Open Babel (v3.1.1)\n",
        "- RDKit (v2020.09.1.0)\n",
        "- Packmol (v20.3.1)\n",
        "- PySIMM (v1.1)\n",
        "- py3Dmol (v1.7.0)\n",
        "- Ambertools (v3.1.1)\n",
        "- PSP (v0.1.0)"
      ]
    },
    {
      "cell_type": "markdown",
      "metadata": {
        "id": "fKpOOu8lSPoH"
      },
      "source": [
        "## Install Miniconda\n",
        "Miniconda is a free minimal installer for conda. For more details visit https://docs.conda.io/en/latest/miniconda.html."
      ]
    },
    {
      "cell_type": "markdown",
      "metadata": {
        "id": "P_oP4ktdT1u6"
      },
      "source": [
        "### Download the installer script\n",
        "The following code downloads the suitable Miniconda installer script."
      ]
    },
    {
      "cell_type": "code",
      "metadata": {
        "colab": {
          "base_uri": "https://localhost:8080/"
        },
        "id": "klvat5vnSMF3",
        "outputId": "afd78b8d-8d68-44b7-ad0c-f87d334c7636"
      },
      "source": [
        "!wget https://repo.anaconda.com/miniconda/Miniconda3-py37_4.10.3-Linux-x86_64.sh\n",
        "!chmod +x Miniconda3-py37_4.10.3-Linux-x86_64.sh"
      ],
      "execution_count": null,
      "outputs": [
        {
          "output_type": "stream",
          "name": "stdout",
          "text": [
            "--2022-11-17 16:48:01--  https://repo.anaconda.com/miniconda/Miniconda3-py37_4.10.3-Linux-x86_64.sh\n",
            "Resolving repo.anaconda.com (repo.anaconda.com)... 104.16.130.3, 104.16.131.3, 2606:4700::6810:8303, ...\n",
            "Connecting to repo.anaconda.com (repo.anaconda.com)|104.16.130.3|:443... connected.\n",
            "HTTP request sent, awaiting response... 200 OK\n",
            "Length: 89026327 (85M) [application/x-sh]\n",
            "Saving to: ‘Miniconda3-py37_4.10.3-Linux-x86_64.sh’\n",
            "\n",
            "Miniconda3-py37_4.1 100%[===================>]  84.90M   233MB/s    in 0.4s    \n",
            "\n",
            "2022-11-17 16:48:01 (233 MB/s) - ‘Miniconda3-py37_4.10.3-Linux-x86_64.sh’ saved [89026327/89026327]\n",
            "\n"
          ]
        }
      ]
    },
    {
      "cell_type": "markdown",
      "metadata": {
        "id": "eV2eccsKUJ3O"
      },
      "source": [
        "### Unset the *PYTHONPATH* variable\n",
        "It is recommended that you clear the PYTHONPATH environment variable prior to installing Miniconda. Otherwise, it may cause problems if the packages installed and accessible via the PYTHONPATH directories are incompatible with the Python version included with Miniconda. "
      ]
    },
    {
      "cell_type": "code",
      "metadata": {
        "colab": {
          "base_uri": "https://localhost:8080/"
        },
        "id": "fesAixDQsEp3",
        "outputId": "5e77a2ed-b3aa-4ff1-ebe5-f264b9a49821"
      },
      "source": [
        "%env PYTHONPATH="
      ],
      "execution_count": null,
      "outputs": [
        {
          "output_type": "stream",
          "name": "stdout",
          "text": [
            "env: PYTHONPATH=\n"
          ]
        }
      ]
    },
    {
      "cell_type": "markdown",
      "metadata": {
        "id": "RLXfrGCQU0mE"
      },
      "source": [
        "### Install Miniconda \n",
        "The code below will install Miniconda into */usr/local*."
      ]
    },
    {
      "cell_type": "code",
      "metadata": {
        "colab": {
          "base_uri": "https://localhost:8080/"
        },
        "id": "fO2Tpc2JsJ0W",
        "outputId": "226b2f17-0558-4c63-b86b-5ff5a61f2bee"
      },
      "source": [
        "!./Miniconda3-py37_4.10.3-Linux-x86_64.sh -b -f -p /usr/local"
      ],
      "execution_count": null,
      "outputs": [
        {
          "output_type": "stream",
          "name": "stdout",
          "text": [
            "PREFIX=/usr/local\n",
            "Unpacking payload ...\n",
            "Collecting package metadata (current_repodata.json): - \b\b\\ \b\bdone\n",
            "Solving environment: / \b\b- \b\b\\ \b\bdone\n",
            "\n",
            "## Package Plan ##\n",
            "\n",
            "  environment location: /usr/local\n",
            "\n",
            "  added / updated specs:\n",
            "    - _libgcc_mutex==0.1=main\n",
            "    - _openmp_mutex==4.5=1_gnu\n",
            "    - brotlipy==0.7.0=py37h27cfd23_1003\n",
            "    - ca-certificates==2021.7.5=h06a4308_1\n",
            "    - certifi==2021.5.30=py37h06a4308_0\n",
            "    - cffi==1.14.6=py37h400218f_0\n",
            "    - chardet==4.0.0=py37h06a4308_1003\n",
            "    - conda-package-handling==1.7.3=py37h27cfd23_1\n",
            "    - conda==4.10.3=py37h06a4308_0\n",
            "    - cryptography==3.4.7=py37hd23ed53_0\n",
            "    - idna==2.10=pyhd3eb1b0_0\n",
            "    - ld_impl_linux-64==2.35.1=h7274673_9\n",
            "    - libffi==3.3=he6710b0_2\n",
            "    - libgcc-ng==9.3.0=h5101ec6_17\n",
            "    - libgomp==9.3.0=h5101ec6_17\n",
            "    - libstdcxx-ng==9.3.0=hd4cf53a_17\n",
            "    - ncurses==6.2=he6710b0_1\n",
            "    - openssl==1.1.1k=h27cfd23_0\n",
            "    - pip==21.1.3=py37h06a4308_0\n",
            "    - pycosat==0.6.3=py37h27cfd23_0\n",
            "    - pycparser==2.20=py_2\n",
            "    - pyopenssl==20.0.1=pyhd3eb1b0_1\n",
            "    - pysocks==1.7.1=py37_1\n",
            "    - python==3.7.10=h12debd9_4\n",
            "    - readline==8.1=h27cfd23_0\n",
            "    - requests==2.25.1=pyhd3eb1b0_0\n",
            "    - ruamel_yaml==0.15.100=py37h27cfd23_0\n",
            "    - setuptools==52.0.0=py37h06a4308_0\n",
            "    - six==1.16.0=pyhd3eb1b0_0\n",
            "    - sqlite==3.36.0=hc218d9a_0\n",
            "    - tk==8.6.10=hbc83047_0\n",
            "    - tqdm==4.61.2=pyhd3eb1b0_1\n",
            "    - urllib3==1.26.6=pyhd3eb1b0_1\n",
            "    - wheel==0.36.2=pyhd3eb1b0_0\n",
            "    - xz==5.2.5=h7b6447c_0\n",
            "    - yaml==0.2.5=h7b6447c_0\n",
            "    - zlib==1.2.11=h7b6447c_3\n",
            "\n",
            "\n",
            "The following NEW packages will be INSTALLED:\n",
            "\n",
            "  _libgcc_mutex      pkgs/main/linux-64::_libgcc_mutex-0.1-main\n",
            "  _openmp_mutex      pkgs/main/linux-64::_openmp_mutex-4.5-1_gnu\n",
            "  brotlipy           pkgs/main/linux-64::brotlipy-0.7.0-py37h27cfd23_1003\n",
            "  ca-certificates    pkgs/main/linux-64::ca-certificates-2021.7.5-h06a4308_1\n",
            "  certifi            pkgs/main/linux-64::certifi-2021.5.30-py37h06a4308_0\n",
            "  cffi               pkgs/main/linux-64::cffi-1.14.6-py37h400218f_0\n",
            "  chardet            pkgs/main/linux-64::chardet-4.0.0-py37h06a4308_1003\n",
            "  conda              pkgs/main/linux-64::conda-4.10.3-py37h06a4308_0\n",
            "  conda-package-han~ pkgs/main/linux-64::conda-package-handling-1.7.3-py37h27cfd23_1\n",
            "  cryptography       pkgs/main/linux-64::cryptography-3.4.7-py37hd23ed53_0\n",
            "  idna               pkgs/main/noarch::idna-2.10-pyhd3eb1b0_0\n",
            "  ld_impl_linux-64   pkgs/main/linux-64::ld_impl_linux-64-2.35.1-h7274673_9\n",
            "  libffi             pkgs/main/linux-64::libffi-3.3-he6710b0_2\n",
            "  libgcc-ng          pkgs/main/linux-64::libgcc-ng-9.3.0-h5101ec6_17\n",
            "  libgomp            pkgs/main/linux-64::libgomp-9.3.0-h5101ec6_17\n",
            "  libstdcxx-ng       pkgs/main/linux-64::libstdcxx-ng-9.3.0-hd4cf53a_17\n",
            "  ncurses            pkgs/main/linux-64::ncurses-6.2-he6710b0_1\n",
            "  openssl            pkgs/main/linux-64::openssl-1.1.1k-h27cfd23_0\n",
            "  pip                pkgs/main/linux-64::pip-21.1.3-py37h06a4308_0\n",
            "  pycosat            pkgs/main/linux-64::pycosat-0.6.3-py37h27cfd23_0\n",
            "  pycparser          pkgs/main/noarch::pycparser-2.20-py_2\n",
            "  pyopenssl          pkgs/main/noarch::pyopenssl-20.0.1-pyhd3eb1b0_1\n",
            "  pysocks            pkgs/main/linux-64::pysocks-1.7.1-py37_1\n",
            "  python             pkgs/main/linux-64::python-3.7.10-h12debd9_4\n",
            "  readline           pkgs/main/linux-64::readline-8.1-h27cfd23_0\n",
            "  requests           pkgs/main/noarch::requests-2.25.1-pyhd3eb1b0_0\n",
            "  ruamel_yaml        pkgs/main/linux-64::ruamel_yaml-0.15.100-py37h27cfd23_0\n",
            "  setuptools         pkgs/main/linux-64::setuptools-52.0.0-py37h06a4308_0\n",
            "  six                pkgs/main/noarch::six-1.16.0-pyhd3eb1b0_0\n",
            "  sqlite             pkgs/main/linux-64::sqlite-3.36.0-hc218d9a_0\n",
            "  tk                 pkgs/main/linux-64::tk-8.6.10-hbc83047_0\n",
            "  tqdm               pkgs/main/noarch::tqdm-4.61.2-pyhd3eb1b0_1\n",
            "  urllib3            pkgs/main/noarch::urllib3-1.26.6-pyhd3eb1b0_1\n",
            "  wheel              pkgs/main/noarch::wheel-0.36.2-pyhd3eb1b0_0\n",
            "  xz                 pkgs/main/linux-64::xz-5.2.5-h7b6447c_0\n",
            "  yaml               pkgs/main/linux-64::yaml-0.2.5-h7b6447c_0\n",
            "  zlib               pkgs/main/linux-64::zlib-1.2.11-h7b6447c_3\n",
            "\n",
            "\n",
            "Preparing transaction: / \b\b- \b\b\\ \b\b| \b\bdone\n",
            "Executing transaction: - \b\b\\ \b\b| \b\b/ \b\b- \b\b\\ \b\b| \b\b/ \b\b- \b\b\\ \b\b| \b\b/ \b\b- \b\b\\ \b\b| \b\bdone\n",
            "installation finished.\n"
          ]
        }
      ]
    },
    {
      "cell_type": "markdown",
      "metadata": {
        "id": "DbsDDSHnWtf0"
      },
      "source": [
        "### Appending to the sys.path\n",
        "You must include the directory where *conda* will install packages in the list of directories that Python will search for modules to import. "
      ]
    },
    {
      "cell_type": "code",
      "metadata": {
        "colab": {
          "base_uri": "https://localhost:8080/"
        },
        "id": "nkAhN4ocsTsE",
        "outputId": "a5527204-97a7-4310-a062-822d889bf987"
      },
      "source": [
        "import sys\n",
        "_ = (sys.path.append(\"/usr/local/lib/python3.7/site-packages\"))\n",
        "sys.path"
      ],
      "execution_count": null,
      "outputs": [
        {
          "output_type": "execute_result",
          "data": {
            "text/plain": [
              "['/content',\n",
              " '/env/python',\n",
              " '/usr/lib/python37.zip',\n",
              " '/usr/lib/python3.7',\n",
              " '/usr/lib/python3.7/lib-dynload',\n",
              " '',\n",
              " '/usr/local/lib/python3.7/dist-packages',\n",
              " '/usr/lib/python3/dist-packages',\n",
              " '/usr/local/lib/python3.7/dist-packages/IPython/extensions',\n",
              " '/root/.ipython',\n",
              " '/usr/local/lib/python3.7/site-packages']"
            ]
          },
          "metadata": {},
          "execution_count": 4
        }
      ]
    },
    {
      "cell_type": "markdown",
      "source": [
        "## Install Scipy (v1.7.3)\n",
        "SciPy provides algorithms for optimization, integration, interpolation, eigenvalue problems, algebraic equations, differential equations, statistics, and many other classes of problems. Additional information can be found at: https://scipy.org. It will be installed as follows:"
      ],
      "metadata": {
        "id": "RWynlAHRmKTt"
      }
    },
    {
      "cell_type": "code",
      "source": [
        "!conda install -y -c anaconda scipy=1.7"
      ],
      "metadata": {
        "id": "VXzhuNwmmVq1",
        "colab": {
          "base_uri": "https://localhost:8080/"
        },
        "outputId": "69b10121-0ef4-4230-b0c7-1485ecc374ac"
      },
      "execution_count": null,
      "outputs": [
        {
          "output_type": "stream",
          "name": "stdout",
          "text": [
            "Collecting package metadata (current_repodata.json): - \b\b\\ \b\b| \b\b/ \b\b- \b\b\\ \b\b| \b\b/ \b\b- \b\b\\ \b\b| \b\b/ \b\b- \b\b\\ \b\b| \b\b/ \b\b- \b\b\\ \b\b| \b\b/ \b\b- \b\b\\ \b\b| \b\b/ \b\b- \b\b\\ \b\b| \b\b/ \b\b- \b\bdone\n",
            "Solving environment: | \b\b/ \b\b- \b\b\\ \b\b| \b\b/ \b\b- \b\b\\ \b\b| \b\b/ \b\b- \b\b\\ \b\bdone\n",
            "\n",
            "\n",
            "==> WARNING: A newer version of conda exists. <==\n",
            "  current version: 4.10.3\n",
            "  latest version: 22.9.0\n",
            "\n",
            "Please update conda by running\n",
            "\n",
            "    $ conda update -n base -c defaults conda\n",
            "\n",
            "\n",
            "\n",
            "## Package Plan ##\n",
            "\n",
            "  environment location: /usr/local\n",
            "\n",
            "  added / updated specs:\n",
            "    - scipy=1.7\n",
            "\n",
            "\n",
            "The following packages will be downloaded:\n",
            "\n",
            "    package                    |            build\n",
            "    ---------------------------|-----------------\n",
            "    blas-1.0                   |              mkl           6 KB  anaconda\n",
            "    ca-certificates-2022.07.19 |       h06a4308_0         131 KB  anaconda\n",
            "    certifi-2022.6.15          |   py37h06a4308_0         156 KB  anaconda\n",
            "    conda-4.13.0               |   py37h06a4308_0         990 KB  anaconda\n",
            "    intel-openmp-2021.4.0      |    h06a4308_3561         8.8 MB  anaconda\n",
            "    libgfortran-ng-7.5.0       |      ha8ba4b0_17          22 KB  anaconda\n",
            "    libgfortran4-7.5.0         |      ha8ba4b0_17         1.3 MB  anaconda\n",
            "    mkl-2021.4.0               |     h06a4308_640       219.1 MB  anaconda\n",
            "    mkl-service-2.4.0          |   py37h7f8727e_0          59 KB  anaconda\n",
            "    mkl_fft-1.3.1              |   py37hd3c417c_0         190 KB  anaconda\n",
            "    mkl_random-1.2.2           |   py37h51133e4_0         332 KB  anaconda\n",
            "    numpy-1.21.5               |   py37he7a7128_2          10 KB  anaconda\n",
            "    numpy-base-1.21.5          |   py37hf524024_2         6.0 MB  anaconda\n",
            "    openssl-1.1.1q             |       h7f8727e_0         3.8 MB  anaconda\n",
            "    scipy-1.7.3                |   py37hc147768_0        21.2 MB  anaconda\n",
            "    ------------------------------------------------------------\n",
            "                                           Total:       262.0 MB\n",
            "\n",
            "The following NEW packages will be INSTALLED:\n",
            "\n",
            "  blas               anaconda/linux-64::blas-1.0-mkl\n",
            "  intel-openmp       anaconda/linux-64::intel-openmp-2021.4.0-h06a4308_3561\n",
            "  libgfortran-ng     anaconda/linux-64::libgfortran-ng-7.5.0-ha8ba4b0_17\n",
            "  libgfortran4       anaconda/linux-64::libgfortran4-7.5.0-ha8ba4b0_17\n",
            "  mkl                anaconda/linux-64::mkl-2021.4.0-h06a4308_640\n",
            "  mkl-service        anaconda/linux-64::mkl-service-2.4.0-py37h7f8727e_0\n",
            "  mkl_fft            anaconda/linux-64::mkl_fft-1.3.1-py37hd3c417c_0\n",
            "  mkl_random         anaconda/linux-64::mkl_random-1.2.2-py37h51133e4_0\n",
            "  numpy              anaconda/linux-64::numpy-1.21.5-py37he7a7128_2\n",
            "  numpy-base         anaconda/linux-64::numpy-base-1.21.5-py37hf524024_2\n",
            "  scipy              anaconda/linux-64::scipy-1.7.3-py37hc147768_0\n",
            "\n",
            "The following packages will be UPDATED:\n",
            "\n",
            "  ca-certificates    pkgs/main::ca-certificates-2021.7.5-h~ --> anaconda::ca-certificates-2022.07.19-h06a4308_0\n",
            "  certifi            pkgs/main::certifi-2021.5.30-py37h06a~ --> anaconda::certifi-2022.6.15-py37h06a4308_0\n",
            "  conda              pkgs/main::conda-4.10.3-py37h06a4308_0 --> anaconda::conda-4.13.0-py37h06a4308_0\n",
            "  openssl              pkgs/main::openssl-1.1.1k-h27cfd23_0 --> anaconda::openssl-1.1.1q-h7f8727e_0\n",
            "\n",
            "\n",
            "\n",
            "Downloading and Extracting Packages\n",
            "mkl-2021.4.0         | 219.1 MB  | : 100% 1.0/1 [00:56<00:00, 56.42s/it]               \n",
            "libgfortran4-7.5.0   | 1.3 MB    | : 100% 1.0/1 [00:00<00:00,  3.00it/s]\n",
            "mkl-service-2.4.0    | 59 KB     | : 100% 1.0/1 [00:00<00:00, 19.87it/s]\n",
            "mkl_fft-1.3.1        | 190 KB    | : 100% 1.0/1 [00:00<00:00, 14.46it/s]\n",
            "scipy-1.7.3          | 21.2 MB   | : 100% 1.0/1 [00:04<00:00,  4.99s/it]              \n",
            "conda-4.13.0         | 990 KB    | : 100% 1.0/1 [00:00<00:00,  2.73it/s]\n",
            "numpy-1.21.5         | 10 KB     | : 100% 1.0/1 [00:00<00:00, 33.02it/s]\n",
            "libgfortran-ng-7.5.0 | 22 KB     | : 100% 1.0/1 [00:00<00:00, 26.70it/s]\n",
            "intel-openmp-2021.4. | 8.8 MB    | : 100% 1.0/1 [00:01<00:00,  1.87s/it]\n",
            "ca-certificates-2022 | 131 KB    | : 100% 1.0/1 [00:00<00:00, 20.63it/s]\n",
            "certifi-2022.6.15    | 156 KB    | : 100% 1.0/1 [00:00<00:00, 19.22it/s]\n",
            "openssl-1.1.1q       | 3.8 MB    | : 100% 1.0/1 [00:00<00:00,  1.16it/s]\n",
            "blas-1.0             | 6 KB      | : 100% 1.0/1 [00:00<00:00, 29.25it/s]\n",
            "numpy-base-1.21.5    | 6.0 MB    | : 100% 1.0/1 [00:01<00:00,  1.87s/it]\n",
            "mkl_random-1.2.2     | 332 KB    | : 100% 1.0/1 [00:00<00:00,  9.72it/s]\n",
            "Preparing transaction: / \b\b- \b\b\\ \b\bdone\n",
            "Verifying transaction: / \b\b- \b\b\\ \b\b| \b\b/ \b\bdone\n",
            "Executing transaction: \\ \b\b| \b\b/ \b\b- \b\b\\ \b\b| \b\b/ \b\b- \b\b\\ \b\b| \b\b/ \b\b- \b\b\\ \b\b| \b\b/ \b\b- \b\b\\ \b\b| \b\b/ \b\b- \b\b\\ \b\b| \b\b/ \b\b- \b\b\\ \b\b| \b\b/ \b\b- \b\b\\ \b\b| \b\bdone\n"
          ]
        }
      ]
    },
    {
      "cell_type": "markdown",
      "metadata": {
        "id": "OOy4h6WEj810"
      },
      "source": [
        "## Install Open Babel (v3.1.1)\n",
        "Openbabel is used to read, write, and convert chemical file formats, obtain information about atomic connectivity, and perform constrained optimization. For additional information, see: https://open-babel.readthedocs.io/en/latest/ReleaseNotes/ob310.html. It will be installed using the following code:"
      ]
    },
    {
      "cell_type": "code",
      "metadata": {
        "colab": {
          "base_uri": "https://localhost:8080/"
        },
        "id": "FbxgJaQ_sYpm",
        "outputId": "c95e38a9-fc79-414c-a79a-8961a247df0c"
      },
      "source": [
        "!conda install -y -c conda-forge openbabel"
      ],
      "execution_count": null,
      "outputs": [
        {
          "output_type": "stream",
          "name": "stdout",
          "text": [
            "Collecting package metadata (current_repodata.json): - \b\b\\ \b\b| \b\b/ \b\b- \b\b\\ \b\b| \b\b/ \b\b- \b\b\\ \b\b| \b\b/ \b\b- \b\b\\ \b\b| \b\b/ \b\b- \b\b\\ \b\b| \b\b/ \b\b- \b\b\\ \b\b| \b\b/ \b\b- \b\b\\ \b\b| \b\b/ \b\b- \b\b\\ \b\b| \b\b/ \b\b- \b\b\\ \b\b| \b\b/ \b\b- \b\b\\ \b\b| \b\b/ \b\b- \b\b\\ \b\b| \b\b/ \b\b- \b\b\\ \b\b| \b\b/ \b\b- \b\b\\ \b\b| \b\b/ \b\b- \b\b\\ \b\b| \b\b/ \b\b- \b\b\\ \b\b| \b\b/ \b\b- \b\b\\ \b\b| \b\b/ \b\b- \b\b\\ \b\b| \b\b/ \b\b- \b\b\\ \b\b| \b\b/ \b\b- \b\b\\ \b\b| \b\b/ \b\b- \b\b\\ \b\b| \b\b/ \b\b- \b\b\\ \b\b| \b\b/ \b\b- \b\b\\ \b\b| \b\b/ \b\b- \b\b\\ \b\b| \b\b/ \b\b- \b\b\\ \b\b| \b\b/ \b\b- \b\b\\ \b\b| \b\b/ \b\b- \b\b\\ \b\b| \b\b/ \b\b- \b\b\\ \b\b| \b\b/ \b\b- \b\b\\ \b\b| \b\b/ \b\b- \b\b\\ \b\b| \b\b/ \b\b- \b\b\\ \b\b| \b\b/ \b\b- \b\b\\ \b\b| \b\b/ \b\b- \b\b\\ \b\b| \b\b/ \b\b- \b\b\\ \b\b| \b\b/ \b\b- \b\b\\ \b\b| \b\b/ \b\b- \b\b\\ \b\b| \b\b/ \b\b- \b\b\\ \b\b| \b\b/ \b\b- \b\b\\ \b\b| \b\b/ \b\b- \b\b\\ \b\b| \b\b/ \b\b- \b\b\\ \b\b| \b\b/ \b\b- \b\b\\ \b\b| \b\b/ \b\b- \b\b\\ \b\b| \b\b/ \b\b- \b\b\\ \b\b| \b\b/ \b\b- \b\b\\ \b\b| \b\bdone\n",
            "Solving environment: - \b\b\\ \b\b| \b\b/ \b\b- \b\b\\ \b\b| \b\b/ \b\b- \b\b\\ \b\b| \b\b/ \b\b- \b\b\\ \b\b| \b\b/ \b\b- \b\b\\ \b\b| \b\b/ \b\b- \b\b\\ \b\b| \b\b/ \b\b- \b\b\\ \b\b| \b\b/ \b\b- \b\b\\ \b\b| \b\b/ \b\b- \b\b\\ \b\b| \b\b/ \b\b- \b\b\\ \b\b| \b\b/ \b\b- \b\b\\ \b\b| \b\b/ \b\b- \b\b\\ \b\b| \b\b/ \b\b- \b\b\\ \b\b| \b\b/ \b\bdone\n",
            "\n",
            "## Package Plan ##\n",
            "\n",
            "  environment location: /usr/local\n",
            "\n",
            "  added / updated specs:\n",
            "    - openbabel\n",
            "\n",
            "\n",
            "The following packages will be downloaded:\n",
            "\n",
            "    package                    |            build\n",
            "    ---------------------------|-----------------\n",
            "    ca-certificates-2022.9.24  |       ha878542_0         150 KB  conda-forge\n",
            "    cairo-1.16.0               |       h19f5f5c_2         1.1 MB\n",
            "    certifi-2022.9.24          |     pyhd8ed1ab_0         155 KB  conda-forge\n",
            "    conda-22.9.0               |   py37h89c1867_1         960 KB  conda-forge\n",
            "    fontconfig-2.13.1          |       h6c09931_0         250 KB\n",
            "    freetype-2.10.4            |       h0708190_1         890 KB  conda-forge\n",
            "    glib-2.69.1                |       h4ff587b_1         1.7 MB\n",
            "    icu-58.2                   |    hf484d3e_1000        22.6 MB  conda-forge\n",
            "    libpng-1.6.37              |       hbc83047_0         278 KB\n",
            "    libuuid-1.0.3              |       h7f8727e_2          17 KB\n",
            "    libxcb-1.15                |       h7f8727e_0         505 KB\n",
            "    libxml2-2.9.14             |       h74e7548_0         718 KB\n",
            "    openbabel-3.1.1            |   py37h200e996_1         5.5 MB  conda-forge\n",
            "    openssl-1.1.1s             |       h7f8727e_0         3.6 MB\n",
            "    pcre-8.45                  |       h9c3ff4c_0         253 KB  conda-forge\n",
            "    pixman-0.40.0              |       h36c2ea0_0         627 KB  conda-forge\n",
            "    python_abi-3.7             |          2_cp37m           4 KB  conda-forge\n",
            "    toolz-0.12.0               |     pyhd8ed1ab_0          48 KB  conda-forge\n",
            "    zlib-1.2.12                |       h7f8727e_2         106 KB\n",
            "    ------------------------------------------------------------\n",
            "                                           Total:        39.3 MB\n",
            "\n",
            "The following NEW packages will be INSTALLED:\n",
            "\n",
            "  cairo              pkgs/main/linux-64::cairo-1.16.0-h19f5f5c_2\n",
            "  fontconfig         pkgs/main/linux-64::fontconfig-2.13.1-h6c09931_0\n",
            "  freetype           conda-forge/linux-64::freetype-2.10.4-h0708190_1\n",
            "  glib               pkgs/main/linux-64::glib-2.69.1-h4ff587b_1\n",
            "  icu                conda-forge/linux-64::icu-58.2-hf484d3e_1000\n",
            "  libpng             pkgs/main/linux-64::libpng-1.6.37-hbc83047_0\n",
            "  libuuid            pkgs/main/linux-64::libuuid-1.0.3-h7f8727e_2\n",
            "  libxcb             pkgs/main/linux-64::libxcb-1.15-h7f8727e_0\n",
            "  libxml2            pkgs/main/linux-64::libxml2-2.9.14-h74e7548_0\n",
            "  openbabel          conda-forge/linux-64::openbabel-3.1.1-py37h200e996_1\n",
            "  pcre               conda-forge/linux-64::pcre-8.45-h9c3ff4c_0\n",
            "  pixman             conda-forge/linux-64::pixman-0.40.0-h36c2ea0_0\n",
            "  python_abi         conda-forge/linux-64::python_abi-3.7-2_cp37m\n",
            "  toolz              conda-forge/noarch::toolz-0.12.0-pyhd8ed1ab_0\n",
            "\n",
            "The following packages will be UPDATED:\n",
            "\n",
            "  ca-certificates    anaconda::ca-certificates-2022.07.19-~ --> conda-forge::ca-certificates-2022.9.24-ha878542_0\n",
            "  certifi            anaconda/linux-64::certifi-2022.6.15-~ --> conda-forge/noarch::certifi-2022.9.24-pyhd8ed1ab_0\n",
            "  conda               anaconda::conda-4.13.0-py37h06a4308_0 --> conda-forge::conda-22.9.0-py37h89c1867_1\n",
            "  openssl               anaconda::openssl-1.1.1q-h7f8727e_0 --> pkgs/main::openssl-1.1.1s-h7f8727e_0\n",
            "  zlib                                    1.2.11-h7b6447c_3 --> 1.2.12-h7f8727e_2\n",
            "\n",
            "\n",
            "\n",
            "Downloading and Extracting Packages\n",
            "zlib-1.2.12          | 106 KB    | : 100% 1.0/1 [00:00<00:00,  8.87it/s]\n",
            "fontconfig-2.13.1    | 250 KB    | : 100% 1.0/1 [00:00<00:00, 11.28it/s]\n",
            "python_abi-3.7       | 4 KB      | : 100% 1.0/1 [00:00<00:00, 12.45it/s]\n",
            "toolz-0.12.0         | 48 KB     | : 100% 1.0/1 [00:00<00:00, 20.90it/s]\n",
            "libuuid-1.0.3        | 17 KB     | : 100% 1.0/1 [00:00<00:00, 12.92it/s]\n",
            "libxcb-1.15          | 505 KB    | : 100% 1.0/1 [00:00<00:00,  9.63it/s]\n",
            "glib-2.69.1          | 1.7 MB    | : 100% 1.0/1 [00:00<00:00,  6.38it/s]\n",
            "conda-22.9.0         | 960 KB    | : 100% 1.0/1 [00:00<00:00,  2.63it/s]\n",
            "pcre-8.45            | 253 KB    | : 100% 1.0/1 [00:00<00:00, 11.22it/s]\n",
            "openssl-1.1.1s       | 3.6 MB    | : 100% 1.0/1 [00:00<00:00,  5.99it/s]\n",
            "ca-certificates-2022 | 150 KB    | : 100% 1.0/1 [00:00<00:00, 18.63it/s]\n",
            "pixman-0.40.0        | 627 KB    | : 100% 1.0/1 [00:00<00:00,  6.37it/s]\n",
            "certifi-2022.9.24    | 155 KB    | : 100% 1.0/1 [00:00<00:00, 16.56it/s]\n",
            "cairo-1.16.0         | 1.1 MB    | : 100% 1.0/1 [00:00<00:00,  8.23it/s]\n",
            "libxml2-2.9.14       | 718 KB    | : 100% 1.0/1 [00:00<00:00, 10.48it/s]\n",
            "freetype-2.10.4      | 890 KB    | : 100% 1.0/1 [00:00<00:00,  3.97it/s]\n",
            "openbabel-3.1.1      | 5.5 MB    | : 100% 1.0/1 [00:01<00:00,  1.67s/it]\n",
            "icu-58.2             | 22.6 MB   | : 100% 1.0/1 [00:04<00:00,  4.79s/it]               \n",
            "libpng-1.6.37        | 278 KB    | : 100% 1.0/1 [00:00<00:00,  7.98it/s]\n",
            "Preparing transaction: \\ \b\b| \b\bdone\n",
            "Verifying transaction: - \b\b\\ \b\b| \b\b/ \b\b- \b\bdone\n",
            "Executing transaction: | \b\b/ \b\b- \b\b\\ \b\b| \b\b/ \b\b- \b\b\\ \b\b| \b\b/ \b\bdone\n"
          ]
        }
      ]
    },
    {
      "cell_type": "markdown",
      "metadata": {
        "id": "62Jfzaw9kegH"
      },
      "source": [
        "## Install RDKit (v2020.09.1.0)\n",
        "RDKit is a cheminformatics toolkit for reading SMILES strings and writing and optimizing 3D molecular structures, among other things. Additional information can be found at: https://www.rdkit.org/. It will be installed as follows: "
      ]
    },
    {
      "cell_type": "code",
      "metadata": {
        "colab": {
          "base_uri": "https://localhost:8080/"
        },
        "id": "M_0ClxwIsk6l",
        "outputId": "c3db02e0-e216-4066-9383-69cc7e7ae3ae"
      },
      "source": [
        "!conda install -y -c rdkit rdkit"
      ],
      "execution_count": null,
      "outputs": [
        {
          "output_type": "stream",
          "name": "stdout",
          "text": [
            "Collecting package metadata (current_repodata.json): - \b\b\\ \b\b| \b\b/ \b\b- \b\b\\ \b\b| \b\b/ \b\b- \b\b\\ \b\b| \b\b/ \b\b- \b\b\\ \b\b| \b\b/ \b\b- \b\b\\ \b\b| \b\b/ \b\b- \b\b\\ \b\b| \b\b/ \b\b- \b\b\\ \b\b| \b\b/ \b\b- \b\b\\ \b\b| \b\b/ \b\b- \b\b\\ \b\b| \b\bdone\n",
            "Solving environment: - \b\b\\ \b\b| \b\b/ \b\b- \b\b\\ \b\b| \b\b/ \b\b- \b\b\\ \b\b| \b\b/ \b\b- \b\b\\ \b\b| \b\b/ \b\b- \b\b\\ \b\b| \b\b/ \b\b- \b\b\\ \b\b| \b\b/ \b\b- \b\b\\ \b\b| \b\b/ \b\b- \b\b\\ \b\bdone\n",
            "\n",
            "## Package Plan ##\n",
            "\n",
            "  environment location: /usr/local\n",
            "\n",
            "  added / updated specs:\n",
            "    - rdkit\n",
            "\n",
            "\n",
            "The following packages will be downloaded:\n",
            "\n",
            "    package                    |            build\n",
            "    ---------------------------|-----------------\n",
            "    bottleneck-1.3.5           |   py37h7deecbd_0         115 KB\n",
            "    bzip2-1.0.8                |       h7b6447c_0          78 KB\n",
            "    ca-certificates-2022.10.11 |       h06a4308_0         124 KB\n",
            "    certifi-2022.9.24          |   py37h06a4308_0         154 KB\n",
            "    giflib-5.2.1               |       h7b6447c_0          78 KB\n",
            "    jpeg-9e                    |       h7f8727e_0         240 KB\n",
            "    lcms2-2.12                 |       h3be6417_0         312 KB\n",
            "    lerc-3.0                   |       h295c915_0         196 KB\n",
            "    libboost-1.73.0            |      h28710b8_12        13.8 MB\n",
            "    libdeflate-1.8             |       h7f8727e_5          51 KB\n",
            "    libgcc-ng-11.2.0           |       h1234567_1         5.3 MB\n",
            "    libgomp-11.2.0             |       h1234567_1         474 KB\n",
            "    libstdcxx-ng-11.2.0        |       h1234567_1         4.7 MB\n",
            "    libtiff-4.4.0              |       hecacb30_0         471 KB\n",
            "    libwebp-1.2.4              |       h11a3e52_0          79 KB\n",
            "    libwebp-base-1.2.4         |       h5eee18b_0         347 KB\n",
            "    lz4-c-1.9.3                |       h295c915_1         185 KB\n",
            "    numexpr-2.8.3              |   py37h807cd23_0         124 KB\n",
            "    packaging-21.3             |     pyhd3eb1b0_0          36 KB\n",
            "    pandas-1.3.5               |   py37h8c16a72_0         9.3 MB\n",
            "    pillow-9.2.0               |   py37hace64e9_1         664 KB\n",
            "    py-boost-1.73.0            |  py37h51133e4_12         195 KB\n",
            "    pyparsing-3.0.9            |   py37h06a4308_0         150 KB\n",
            "    python-dateutil-2.8.2      |     pyhd3eb1b0_0         233 KB\n",
            "    pytz-2022.1                |   py37h06a4308_0         196 KB\n",
            "    rdkit-2020.09.1.0          |   py37hd50e099_1        25.8 MB  rdkit\n",
            "    zstd-1.5.2                 |       ha4553b6_0         488 KB\n",
            "    ------------------------------------------------------------\n",
            "                                           Total:        63.8 MB\n",
            "\n",
            "The following NEW packages will be INSTALLED:\n",
            "\n",
            "  bottleneck         pkgs/main/linux-64::bottleneck-1.3.5-py37h7deecbd_0 None\n",
            "  bzip2              pkgs/main/linux-64::bzip2-1.0.8-h7b6447c_0 None\n",
            "  giflib             pkgs/main/linux-64::giflib-5.2.1-h7b6447c_0 None\n",
            "  jpeg               pkgs/main/linux-64::jpeg-9e-h7f8727e_0 None\n",
            "  lcms2              pkgs/main/linux-64::lcms2-2.12-h3be6417_0 None\n",
            "  lerc               pkgs/main/linux-64::lerc-3.0-h295c915_0 None\n",
            "  libboost           pkgs/main/linux-64::libboost-1.73.0-h28710b8_12 None\n",
            "  libdeflate         pkgs/main/linux-64::libdeflate-1.8-h7f8727e_5 None\n",
            "  libtiff            pkgs/main/linux-64::libtiff-4.4.0-hecacb30_0 None\n",
            "  libwebp            pkgs/main/linux-64::libwebp-1.2.4-h11a3e52_0 None\n",
            "  libwebp-base       pkgs/main/linux-64::libwebp-base-1.2.4-h5eee18b_0 None\n",
            "  lz4-c              pkgs/main/linux-64::lz4-c-1.9.3-h295c915_1 None\n",
            "  numexpr            pkgs/main/linux-64::numexpr-2.8.3-py37h807cd23_0 None\n",
            "  packaging          pkgs/main/noarch::packaging-21.3-pyhd3eb1b0_0 None\n",
            "  pandas             pkgs/main/linux-64::pandas-1.3.5-py37h8c16a72_0 None\n",
            "  pillow             pkgs/main/linux-64::pillow-9.2.0-py37hace64e9_1 None\n",
            "  py-boost           pkgs/main/linux-64::py-boost-1.73.0-py37h51133e4_12 None\n",
            "  pyparsing          pkgs/main/linux-64::pyparsing-3.0.9-py37h06a4308_0 None\n",
            "  python-dateutil    pkgs/main/noarch::python-dateutil-2.8.2-pyhd3eb1b0_0 None\n",
            "  pytz               pkgs/main/linux-64::pytz-2022.1-py37h06a4308_0 None\n",
            "  rdkit              rdkit/linux-64::rdkit-2020.09.1.0-py37hd50e099_1 None\n",
            "  zstd               pkgs/main/linux-64::zstd-1.5.2-ha4553b6_0 None\n",
            "\n",
            "The following packages will be UPDATED:\n",
            "\n",
            "  ca-certificates    conda-forge::ca-certificates-2022.9.2~ --> pkgs/main::ca-certificates-2022.10.11-h06a4308_0 None\n",
            "  libgcc-ng                               9.3.0-h5101ec6_17 --> 11.2.0-h1234567_1 None\n",
            "  libgomp                                 9.3.0-h5101ec6_17 --> 11.2.0-h1234567_1 None\n",
            "  libstdcxx-ng                            9.3.0-hd4cf53a_17 --> 11.2.0-h1234567_1 None\n",
            "\n",
            "The following packages will be SUPERSEDED by a higher-priority channel:\n",
            "\n",
            "  certifi            conda-forge/noarch::certifi-2022.9.24~ --> pkgs/main/linux-64::certifi-2022.9.24-py37h06a4308_0 None\n",
            "\n",
            "\n",
            "\n",
            "Downloading and Extracting Packages\n",
            "py-boost-1.73.0      | 195 KB    | : 100% 1.0/1 [00:00<00:00, 10.39it/s]\n",
            "numexpr-2.8.3        | 124 KB    | : 100% 1.0/1 [00:00<00:00, 17.97it/s]\n",
            "pandas-1.3.5         | 9.3 MB    | : 100% 1.0/1 [00:00<00:00,  1.50it/s]\n",
            "libstdcxx-ng-11.2.0  | 4.7 MB    | : 100% 1.0/1 [00:00<00:00,  5.40it/s]\n",
            "libgcc-ng-11.2.0     | 5.3 MB    | : 100% 1.0/1 [00:00<00:00,  4.20it/s]               \n",
            "libgomp-11.2.0       | 474 KB    | : 100% 1.0/1 [00:00<00:00, 13.69it/s]\n",
            "libdeflate-1.8       | 51 KB     | : 100% 1.0/1 [00:00<00:00, 17.02it/s]\n",
            "lcms2-2.12           | 312 KB    | : 100% 1.0/1 [00:00<00:00, 16.63it/s]\n",
            "lz4-c-1.9.3          | 185 KB    | : 100% 1.0/1 [00:00<00:00, 18.31it/s]\n",
            "giflib-5.2.1         | 78 KB     | : 100% 1.0/1 [00:00<00:00, 17.55it/s]\n",
            "ca-certificates-2022 | 124 KB    | : 100% 1.0/1 [00:00<00:00, 16.17it/s]\n",
            "libboost-1.73.0      | 13.8 MB   | : 100% 1.0/1 [00:02<00:00,  2.36s/it]\n",
            "libtiff-4.4.0        | 471 KB    | : 100% 1.0/1 [00:00<00:00, 14.12it/s]\n",
            "bottleneck-1.3.5     | 115 KB    | : 100% 1.0/1 [00:00<00:00, 13.95it/s]\n",
            "pyparsing-3.0.9      | 150 KB    | : 100% 1.0/1 [00:00<00:00, 12.21it/s]\n",
            "rdkit-2020.09.1.0    | 25.8 MB   | : 100% 1.0/1 [00:09<00:00,  9.98s/it]\n",
            "libwebp-1.2.4        | 79 KB     | : 100% 1.0/1 [00:00<00:00, 16.03it/s]\n",
            "pytz-2022.1          | 196 KB    | : 100% 1.0/1 [00:00<00:00,  5.44it/s]\n",
            "libwebp-base-1.2.4   | 347 KB    | : 100% 1.0/1 [00:00<00:00, 15.04it/s]\n",
            "packaging-21.3       | 36 KB     | : 100% 1.0/1 [00:00<00:00, 16.28it/s]\n",
            "bzip2-1.0.8          | 78 KB     | : 100% 1.0/1 [00:00<00:00, 17.39it/s]\n",
            "pillow-9.2.0         | 664 KB    | : 100% 1.0/1 [00:00<00:00, 10.94it/s]\n",
            "certifi-2022.9.24    | 154 KB    | : 100% 1.0/1 [00:00<00:00, 16.34it/s]\n",
            "jpeg-9e              | 240 KB    | : 100% 1.0/1 [00:00<00:00, 15.02it/s]\n",
            "python-dateutil-2.8. | 233 KB    | : 100% 1.0/1 [00:00<00:00, 16.81it/s]\n",
            "lerc-3.0             | 196 KB    | : 100% 1.0/1 [00:00<00:00, 17.02it/s]\n",
            "zstd-1.5.2           | 488 KB    | : 100% 1.0/1 [00:00<00:00, 14.15it/s]\n",
            "Preparing transaction: / \b\b- \b\b\\ \b\b| \b\b/ \b\b- \b\b\\ \b\b| \b\b/ \b\b- \b\bdone\n",
            "Verifying transaction: | \b\b/ \b\b- \b\b\\ \b\b| \b\b/ \b\b- \b\b\\ \b\b| \b\b/ \b\b- \b\b\\ \b\b| \b\b/ \b\b- \b\b\\ \b\b| \b\b/ \b\b- \b\b\\ \b\b| \b\b/ \b\b- \b\b\\ \b\b| \b\b/ \b\bdone\n",
            "Executing transaction: \\ \b\b| \b\b/ \b\b- \b\b\\ \b\b| \b\b/ \b\b- \b\b\\ \b\b| \b\b/ \b\b- \b\b\\ \b\b| \b\b/ \b\b- \b\b\\ \b\b| \b\b/ \b\b- \b\b\\ \b\b| \b\b/ \b\b- \b\b\\ \b\b| \b\b/ \b\b- \b\b\\ \b\b| \b\b/ \b\b- \b\b\\ \b\bdone\n",
            "Retrieving notices: ...working... done\n"
          ]
        }
      ]
    },
    {
      "cell_type": "markdown",
      "metadata": {
        "id": "KRXwkfhCsvp7"
      },
      "source": [
        "## Install Packmol (v20.3.1)\n",
        "Packmol generates initial configurations for amorphous structures by utilizing 3D geometries of individual molecules. It packs all molecules into a predefined simulation box with a specified minimum intermolecular distance cutoff. For additional information, see: http://leandro.iqm.unicamp.br/m3g/packmol/home.shtml. The following codes will download the PACKMOL to /usr/local/ and install it."
      ]
    },
    {
      "cell_type": "code",
      "metadata": {
        "colab": {
          "base_uri": "https://localhost:8080/"
        },
        "id": "vR9DOKWCs0Kr",
        "outputId": "7b3f113b-f6c2-4154-e3cb-c7c890e4f224"
      },
      "source": [
        "!git clone https://github.com/m3g/packmol.git /usr/local/packmol"
      ],
      "execution_count": null,
      "outputs": [
        {
          "output_type": "stream",
          "name": "stdout",
          "text": [
            "Cloning into '/usr/local/packmol'...\n",
            "remote: Enumerating objects: 1367, done.\u001b[K\n",
            "remote: Counting objects: 100% (226/226), done.\u001b[K\n",
            "remote: Compressing objects: 100% (109/109), done.\u001b[K\n",
            "remote: Total 1367 (delta 129), reused 189 (delta 116), pack-reused 1141\u001b[K\n",
            "Receiving objects: 100% (1367/1367), 6.94 MiB | 12.74 MiB/s, done.\n",
            "Resolving deltas: 100% (769/769), done.\n"
          ]
        }
      ]
    },
    {
      "cell_type": "code",
      "metadata": {
        "colab": {
          "base_uri": "https://localhost:8080/"
        },
        "id": "dBfp-3bgtE2X",
        "outputId": "27957900-9090-47a8-e423-529458d90bde"
      },
      "source": [
        "cd /usr/local/packmol"
      ],
      "execution_count": null,
      "outputs": [
        {
          "output_type": "stream",
          "name": "stdout",
          "text": [
            "/usr/local/packmol\n"
          ]
        }
      ]
    },
    {
      "cell_type": "code",
      "metadata": {
        "colab": {
          "base_uri": "https://localhost:8080/"
        },
        "id": "TMVrZACetQzi",
        "outputId": "7af4d308-6ce8-4282-fff8-262ef37efdfb"
      },
      "source": [
        "!make"
      ],
      "execution_count": null,
      "outputs": [
        {
          "output_type": "stream",
          "name": "stdout",
          "text": [
            " ------------------------------------------------------ \n",
            " Compiling packmol with /usr/bin/gfortran \n",
            " Flags: -O3 --fast-math -march=native -funroll-loops \n",
            " ------------------------------------------------------ \n",
            " ------------------------------------------------------ \n",
            " Packmol succesfully built.\n",
            " ------------------------------------------------------ \n"
          ]
        }
      ]
    },
    {
      "cell_type": "markdown",
      "metadata": {
        "id": "J7_bPp3t-50b"
      },
      "source": [
        "The code snippet below will create a variable for the PACKMOL executable."
      ]
    },
    {
      "cell_type": "code",
      "metadata": {
        "colab": {
          "base_uri": "https://localhost:8080/"
        },
        "id": "6sh7V0ebtbJj",
        "outputId": "a33beda9-5513-4239-a78f-c16f15765d6f"
      },
      "source": [
        "import os\n",
        "os.environ['PACKMOL_EXEC'] = '/usr/local/packmol/packmol'\n",
        "%cd .."
      ],
      "execution_count": null,
      "outputs": [
        {
          "output_type": "stream",
          "name": "stdout",
          "text": [
            "/usr/local\n"
          ]
        }
      ]
    },
    {
      "cell_type": "markdown",
      "metadata": {
        "id": "uDlEg2dstDh1"
      },
      "source": [
        "## Install PySIMM (v1.1)\n",
        "PySIMM is an open-source, object-oriented Python package for molecular simulations. Additional information can be found at: https://pysimm.org. This package is used for generating GAFF2 FF parameter files. The following code will install it and append it to the *sys.path*.\n"
      ]
    },
    {
      "cell_type": "code",
      "metadata": {
        "id": "xB4vaMHl3mRs",
        "colab": {
          "base_uri": "https://localhost:8080/"
        },
        "outputId": "005feb44-db6f-4f32-9e90-4fb11fa60adb"
      },
      "source": [
        "!git clone -b 1.1 --single-branch https://github.com/polysimtools/pysimm\n",
        "sys.path.insert(0,'/usr/local/pysimm')"
      ],
      "execution_count": null,
      "outputs": [
        {
          "output_type": "stream",
          "name": "stdout",
          "text": [
            "Cloning into 'pysimm'...\n",
            "remote: Enumerating objects: 5219, done.\u001b[K\n",
            "remote: Counting objects: 100% (816/816), done.\u001b[K\n",
            "remote: Compressing objects: 100% (258/258), done.\u001b[K\n",
            "remote: Total 5219 (delta 556), reused 813 (delta 556), pack-reused 4403\u001b[K\n",
            "Receiving objects: 100% (5219/5219), 30.07 MiB | 13.43 MiB/s, done.\n",
            "Resolving deltas: 100% (3352/3352), done.\n",
            "Note: checking out '175d112d7b54fa63ad4209ee0b3e03694a3750c9'.\n",
            "\n",
            "You are in 'detached HEAD' state. You can look around, make experimental\n",
            "changes and commit them, and you can discard any commits you make in this\n",
            "state without impacting any branches by performing another checkout.\n",
            "\n",
            "If you want to create a new branch to retain commits you create, you may\n",
            "do so (now or later) by using -b with the checkout command again. Example:\n",
            "\n",
            "  git checkout -b <new-branch-name>\n",
            "\n"
          ]
        }
      ]
    },
    {
      "cell_type": "markdown",
      "metadata": {
        "id": "l2nLY5wnGMXQ"
      },
      "source": [
        "##Install py3Dmol (v1.7.0)\n",
        "Py3DMol is a python package for molecular visualization in iPython notebooks. For more details, visit https://github.com/avirshup/py3dmol. It is used to visualize 3D models generated by PSP. It will be installed as follows: "
      ]
    },
    {
      "cell_type": "code",
      "metadata": {
        "colab": {
          "base_uri": "https://localhost:8080/"
        },
        "id": "izqvJ2q6JI1s",
        "outputId": "7aecf170-ff5b-4f89-9e1d-abd37241f57e"
      },
      "source": [
        "!pip install py3Dmol"
      ],
      "execution_count": null,
      "outputs": [
        {
          "output_type": "stream",
          "name": "stdout",
          "text": [
            "Looking in indexes: https://pypi.org/simple, https://us-python.pkg.dev/colab-wheels/public/simple/\n",
            "Collecting py3Dmol\n",
            "  Downloading py3Dmol-1.8.1-py2.py3-none-any.whl (6.5 kB)\n",
            "Installing collected packages: py3Dmol\n",
            "Successfully installed py3Dmol-1.8.1\n",
            "\u001b[33mWARNING: Running pip as the 'root' user can result in broken permissions and conflicting behaviour with the system package manager. It is recommended to use a virtual environment instead: https://pip.pypa.io/warnings/venv\u001b[0m\n"
          ]
        }
      ]
    },
    {
      "cell_type": "markdown",
      "metadata": {
        "id": "XvTs3k_cHVwo"
      },
      "source": [
        "Function **visualize3D** shows 3D structure of molecules. It accepts **pdb**, **xyz** and **vasp** files as input."
      ]
    },
    {
      "cell_type": "code",
      "metadata": {
        "id": "1oSgpNf8GraD"
      },
      "source": [
        "import py3Dmol\n",
        "def visualize3D(input_file, supercell=[1,1,1]):\n",
        "  if input_file.split(\".\")[-1] == 'vasp':\n",
        "    !obabel -iposcar $input_file -ocif > model_wCell.cif\n",
        "    input_file = \"model_wCell.cif\"\n",
        "  with open(input_file) as ifile:\n",
        "      print(input_file)\n",
        "      system = \"\".join([x for x in ifile])\n",
        "  view = py3Dmol.view(width=400, height=300)\n",
        "  view.addModelsAsFrames(system)\n",
        "  view.setStyle({\"stick\":{}}) # 'colorscheme':'greenCarbon'\n",
        "  view.addUnitCell()\n",
        "  view.replicateUnitCell(supercell[0],supercell[1],supercell[2])\n",
        "  view.zoomTo()\n",
        "  view.show()"
      ],
      "execution_count": null,
      "outputs": []
    },
    {
      "cell_type": "markdown",
      "metadata": {
        "id": "Tby08Lx2lFWz"
      },
      "source": [
        "## Install Polymer Structure Predictor (PSP)\n",
        "The code snippet below will download the PSP package from the Ramprasad GitHub account and install into /usr/local.\n",
        "*Currently, PSP is a private package. To download the package, please use your GitHub login credentials.*\n"
      ]
    },
    {
      "cell_type": "code",
      "metadata": {
        "colab": {
          "base_uri": "https://localhost:8080/"
        },
        "id": "6EZW1BTPs0WA",
        "outputId": "3b420d92-2aee-4662-a836-54d5e6ec9cfc"
      },
      "source": [
        "%cd /usr/local\n",
        "!git clone https://github.com/Ramprasad-Group/PSP.git\n",
        "%cd PSP\n",
        "!python setup.py install"
      ],
      "execution_count": null,
      "outputs": [
        {
          "output_type": "stream",
          "name": "stdout",
          "text": [
            "/usr/local\n",
            "Cloning into 'PSP'...\n",
            "remote: Enumerating objects: 1556, done.\u001b[K\n",
            "remote: Counting objects: 100% (25/25), done.\u001b[K\n",
            "remote: Compressing objects: 100% (25/25), done.\u001b[K\n",
            "remote: Total 1556 (delta 3), reused 0 (delta 0), pack-reused 1531\u001b[K\n",
            "Receiving objects: 100% (1556/1556), 5.45 MiB | 12.57 MiB/s, done.\n",
            "Resolving deltas: 100% (945/945), done.\n",
            "/usr/local/PSP\n",
            "running install\n",
            "running bdist_egg\n",
            "running egg_info\n",
            "creating PolymerStructurePredictor.egg-info\n",
            "writing PolymerStructurePredictor.egg-info/PKG-INFO\n",
            "writing dependency_links to PolymerStructurePredictor.egg-info/dependency_links.txt\n",
            "writing requirements to PolymerStructurePredictor.egg-info/requires.txt\n",
            "writing top-level names to PolymerStructurePredictor.egg-info/top_level.txt\n",
            "writing manifest file 'PolymerStructurePredictor.egg-info/SOURCES.txt'\n",
            "reading manifest file 'PolymerStructurePredictor.egg-info/SOURCES.txt'\n",
            "writing manifest file 'PolymerStructurePredictor.egg-info/SOURCES.txt'\n",
            "installing library code to build/bdist.linux-x86_64/egg\n",
            "running install_lib\n",
            "running build_py\n",
            "creating build\n",
            "creating build/lib\n",
            "creating build/lib/LigParGenPSP\n",
            "copying LigParGenPSP/CreatZmat.py -> build/lib/LigParGenPSP\n",
            "copying LigParGenPSP/BOSSReader.py -> build/lib/LigParGenPSP\n",
            "copying LigParGenPSP/BOSS2LAMMPS.py -> build/lib/LigParGenPSP\n",
            "copying LigParGenPSP/fepzmat.py -> build/lib/LigParGenPSP\n",
            "copying LigParGenPSP/mol_boss.py -> build/lib/LigParGenPSP\n",
            "copying LigParGenPSP/Converter.py -> build/lib/LigParGenPSP\n",
            "copying LigParGenPSP/Vector_algebra.py -> build/lib/LigParGenPSP\n",
            "copying LigParGenPSP/__init__.py -> build/lib/LigParGenPSP\n",
            "creating build/lib/psp\n",
            "copying psp/output_lib.py -> build/lib/psp\n",
            "copying psp/simulated_annealing.py -> build/lib/psp\n",
            "copying psp/PSP_lib.py -> build/lib/psp\n",
            "copying psp/AmorphousBuilder.py -> build/lib/psp\n",
            "copying psp/MoleculeBuilder.py -> build/lib/psp\n",
            "copying psp/CrystalBuilder.py -> build/lib/psp\n",
            "copying psp/ChainBuilder.py -> build/lib/psp\n",
            "copying psp/MD_lib.py -> build/lib/psp\n",
            "copying psp/__init__.py -> build/lib/psp\n",
            "creating build/bdist.linux-x86_64\n",
            "creating build/bdist.linux-x86_64/egg\n",
            "creating build/bdist.linux-x86_64/egg/LigParGenPSP\n",
            "copying build/lib/LigParGenPSP/CreatZmat.py -> build/bdist.linux-x86_64/egg/LigParGenPSP\n",
            "copying build/lib/LigParGenPSP/BOSSReader.py -> build/bdist.linux-x86_64/egg/LigParGenPSP\n",
            "copying build/lib/LigParGenPSP/BOSS2LAMMPS.py -> build/bdist.linux-x86_64/egg/LigParGenPSP\n",
            "copying build/lib/LigParGenPSP/fepzmat.py -> build/bdist.linux-x86_64/egg/LigParGenPSP\n",
            "copying build/lib/LigParGenPSP/mol_boss.py -> build/bdist.linux-x86_64/egg/LigParGenPSP\n",
            "copying build/lib/LigParGenPSP/Converter.py -> build/bdist.linux-x86_64/egg/LigParGenPSP\n",
            "copying build/lib/LigParGenPSP/Vector_algebra.py -> build/bdist.linux-x86_64/egg/LigParGenPSP\n",
            "copying build/lib/LigParGenPSP/__init__.py -> build/bdist.linux-x86_64/egg/LigParGenPSP\n",
            "creating build/bdist.linux-x86_64/egg/psp\n",
            "copying build/lib/psp/output_lib.py -> build/bdist.linux-x86_64/egg/psp\n",
            "copying build/lib/psp/simulated_annealing.py -> build/bdist.linux-x86_64/egg/psp\n",
            "copying build/lib/psp/PSP_lib.py -> build/bdist.linux-x86_64/egg/psp\n",
            "copying build/lib/psp/AmorphousBuilder.py -> build/bdist.linux-x86_64/egg/psp\n",
            "copying build/lib/psp/MoleculeBuilder.py -> build/bdist.linux-x86_64/egg/psp\n",
            "copying build/lib/psp/CrystalBuilder.py -> build/bdist.linux-x86_64/egg/psp\n",
            "copying build/lib/psp/ChainBuilder.py -> build/bdist.linux-x86_64/egg/psp\n",
            "copying build/lib/psp/MD_lib.py -> build/bdist.linux-x86_64/egg/psp\n",
            "copying build/lib/psp/__init__.py -> build/bdist.linux-x86_64/egg/psp\n",
            "byte-compiling build/bdist.linux-x86_64/egg/LigParGenPSP/CreatZmat.py to CreatZmat.cpython-37.pyc\n",
            "byte-compiling build/bdist.linux-x86_64/egg/LigParGenPSP/BOSSReader.py to BOSSReader.cpython-37.pyc\n",
            "byte-compiling build/bdist.linux-x86_64/egg/LigParGenPSP/BOSS2LAMMPS.py to BOSS2LAMMPS.cpython-37.pyc\n",
            "byte-compiling build/bdist.linux-x86_64/egg/LigParGenPSP/fepzmat.py to fepzmat.cpython-37.pyc\n",
            "byte-compiling build/bdist.linux-x86_64/egg/LigParGenPSP/mol_boss.py to mol_boss.cpython-37.pyc\n",
            "byte-compiling build/bdist.linux-x86_64/egg/LigParGenPSP/Converter.py to Converter.cpython-37.pyc\n",
            "byte-compiling build/bdist.linux-x86_64/egg/LigParGenPSP/Vector_algebra.py to Vector_algebra.cpython-37.pyc\n",
            "byte-compiling build/bdist.linux-x86_64/egg/LigParGenPSP/__init__.py to __init__.cpython-37.pyc\n",
            "byte-compiling build/bdist.linux-x86_64/egg/psp/output_lib.py to output_lib.cpython-37.pyc\n",
            "byte-compiling build/bdist.linux-x86_64/egg/psp/simulated_annealing.py to simulated_annealing.cpython-37.pyc\n",
            "byte-compiling build/bdist.linux-x86_64/egg/psp/PSP_lib.py to PSP_lib.cpython-37.pyc\n",
            "byte-compiling build/bdist.linux-x86_64/egg/psp/AmorphousBuilder.py to AmorphousBuilder.cpython-37.pyc\n",
            "byte-compiling build/bdist.linux-x86_64/egg/psp/MoleculeBuilder.py to MoleculeBuilder.cpython-37.pyc\n",
            "byte-compiling build/bdist.linux-x86_64/egg/psp/CrystalBuilder.py to CrystalBuilder.cpython-37.pyc\n",
            "byte-compiling build/bdist.linux-x86_64/egg/psp/ChainBuilder.py to ChainBuilder.cpython-37.pyc\n",
            "byte-compiling build/bdist.linux-x86_64/egg/psp/MD_lib.py to MD_lib.cpython-37.pyc\n",
            "byte-compiling build/bdist.linux-x86_64/egg/psp/__init__.py to __init__.cpython-37.pyc\n",
            "creating build/bdist.linux-x86_64/egg/EGG-INFO\n",
            "copying PolymerStructurePredictor.egg-info/PKG-INFO -> build/bdist.linux-x86_64/egg/EGG-INFO\n",
            "copying PolymerStructurePredictor.egg-info/SOURCES.txt -> build/bdist.linux-x86_64/egg/EGG-INFO\n",
            "copying PolymerStructurePredictor.egg-info/dependency_links.txt -> build/bdist.linux-x86_64/egg/EGG-INFO\n",
            "copying PolymerStructurePredictor.egg-info/not-zip-safe -> build/bdist.linux-x86_64/egg/EGG-INFO\n",
            "copying PolymerStructurePredictor.egg-info/requires.txt -> build/bdist.linux-x86_64/egg/EGG-INFO\n",
            "copying PolymerStructurePredictor.egg-info/top_level.txt -> build/bdist.linux-x86_64/egg/EGG-INFO\n",
            "creating dist\n",
            "creating 'dist/PolymerStructurePredictor-1.0.0-py3.7.egg' and adding 'build/bdist.linux-x86_64/egg' to it\n",
            "removing 'build/bdist.linux-x86_64/egg' (and everything under it)\n",
            "Processing PolymerStructurePredictor-1.0.0-py3.7.egg\n",
            "creating /usr/local/lib/python3.7/site-packages/PolymerStructurePredictor-1.0.0-py3.7.egg\n",
            "Extracting PolymerStructurePredictor-1.0.0-py3.7.egg to /usr/local/lib/python3.7/site-packages\n",
            "Adding PolymerStructurePredictor 1.0.0 to easy-install.pth file\n",
            "\n",
            "Installed /usr/local/lib/python3.7/site-packages/PolymerStructurePredictor-1.0.0-py3.7.egg\n",
            "Processing dependencies for PolymerStructurePredictor==1.0.0\n",
            "Searching for joblib\n",
            "Reading https://pypi.org/simple/joblib/\n",
            "Downloading https://files.pythonhosted.org/packages/91/d4/3b4c8e5a30604df4c7518c562d4bf0502f2fa29221459226e140cf846512/joblib-1.2.0-py3-none-any.whl#sha256=091138ed78f800342968c523bdde947e7a305b8594b910a0fea2ab83c3c6d385\n",
            "Best match: joblib 1.2.0\n",
            "Processing joblib-1.2.0-py3-none-any.whl\n",
            "Installing joblib-1.2.0-py3-none-any.whl to /usr/local/lib/python3.7/site-packages\n",
            "Adding joblib 1.2.0 to easy-install.pth file\n",
            "\n",
            "Installed /usr/local/lib/python3.7/site-packages/joblib-1.2.0-py3.7.egg\n",
            "Searching for pandas==1.3.5\n",
            "Best match: pandas 1.3.5\n",
            "Adding pandas 1.3.5 to easy-install.pth file\n",
            "\n",
            "Using /usr/local/lib/python3.7/site-packages\n",
            "Searching for scipy==1.7.3\n",
            "Best match: scipy 1.7.3\n",
            "Adding scipy 1.7.3 to easy-install.pth file\n",
            "\n",
            "Using /usr/local/lib/python3.7/site-packages\n",
            "Searching for numpy==1.21.5\n",
            "Best match: numpy 1.21.5\n",
            "Adding numpy 1.21.5 to easy-install.pth file\n",
            "Installing f2py script to /usr/local/bin\n",
            "Installing f2py3 script to /usr/local/bin\n",
            "Installing f2py3.7 script to /usr/local/bin\n",
            "\n",
            "Using /usr/local/lib/python3.7/site-packages\n",
            "Searching for pytz==2022.1\n",
            "Best match: pytz 2022.1\n",
            "Adding pytz 2022.1 to easy-install.pth file\n",
            "\n",
            "Using /usr/local/lib/python3.7/site-packages\n",
            "Searching for python-dateutil==2.8.2\n",
            "Best match: python-dateutil 2.8.2\n",
            "Adding python-dateutil 2.8.2 to easy-install.pth file\n",
            "\n",
            "Using /usr/local/lib/python3.7/site-packages\n",
            "Searching for six==1.16.0\n",
            "Best match: six 1.16.0\n",
            "Adding six 1.16.0 to easy-install.pth file\n",
            "\n",
            "Using /usr/local/lib/python3.7/site-packages\n",
            "Finished processing dependencies for PolymerStructurePredictor==1.0.0\n"
          ]
        }
      ]
    },
    {
      "cell_type": "markdown",
      "metadata": {
        "id": "SJYhD8xLm76t"
      },
      "source": [
        "## Verify that PSP and dependencies are installed properly\n",
        "If all packages are properly installed, PSP is capable of building a hierarchy of polymer models using SMILES, starting from monomer, oligomers, infinite polymer chains, crystal, and amorphous structures. It can also generate GAFF2 FF parameter files for molecules and amorphous structures."
      ]
    },
    {
      "cell_type": "code",
      "metadata": {
        "colab": {
          "base_uri": "https://localhost:8080/"
        },
        "id": "IORLMkSOnkIY",
        "outputId": "80436a28-b836-4879-86fa-62cdd1acb0d3"
      },
      "source": [
        "!pip show PolymerStructurePredictor"
      ],
      "execution_count": null,
      "outputs": [
        {
          "output_type": "stream",
          "name": "stdout",
          "text": [
            "Name: PolymerStructurePredictor\n",
            "Version: 1.0.0\n",
            "Summary: Build single chains and crystal structures of polymers\n",
            "Home-page: https://github.com/Ramprasad-Group/PSP\n",
            "Author: Harikrishna Sahu\n",
            "Author-email: harikrishnasahu89@gmail.com\n",
            "License: UNKNOWN\n",
            "Location: /usr/local/lib/python3.7/site-packages/PolymerStructurePredictor-1.0.0-py3.7.egg\n",
            "Requires: scipy, pandas, joblib\n",
            "Required-by: \n"
          ]
        }
      ]
    },
    {
      "cell_type": "code",
      "metadata": {
        "id": "c1MZLD4rs-By"
      },
      "source": [
        "from rdkit import Chem\n",
        "from openbabel import openbabel as ob\n",
        "import psp.AmorphousBuilder as am"
      ],
      "execution_count": null,
      "outputs": []
    },
    {
      "cell_type": "markdown",
      "metadata": {
        "id": "CiZlbxSVz0JD"
      },
      "source": [
        "**Note**: LAMMPS and LigParGen packages are not installed. So, it doesn't perform MD simulations or generates an OPLS FF parameter file. *If you encounter an error during the package installation, contact hsahu3@gatech.edu.* "
      ]
    },
    {
      "cell_type": "markdown",
      "metadata": {
        "id": "g-XmyfciIA5C"
      },
      "source": [
        "## Install Ambertools (v3.1.1)\n",
        "AmberTools is a set of programs for biomolecular simulation and analysis. Additional information can be found at: https://ambermd.org/AmberTools.php. This package is used for generating GAFF2 FF parameter files."
      ]
    },
    {
      "cell_type": "code",
      "metadata": {
        "colab": {
          "base_uri": "https://localhost:8080/"
        },
        "id": "LnoRICskH-eC",
        "outputId": "642c7f91-0fbe-4016-b5cf-e3da211c4112"
      },
      "source": [
        "!conda install -y -c conda-forge ambertools"
      ],
      "execution_count": null,
      "outputs": [
        {
          "output_type": "stream",
          "name": "stdout",
          "text": [
            "Collecting package metadata (current_repodata.json): - \b\b\\ \b\b| \b\b/ \b\b- \b\b\\ \b\b| \b\b/ \b\b- \b\b\\ \b\b| \b\b/ \b\b- \b\b\\ \b\b| \b\b/ \b\b- \b\b\\ \b\b| \b\b/ \b\b- \b\b\\ \b\b| \b\b/ \b\b- \b\b\\ \b\b| \b\b/ \b\b- \b\b\\ \b\b| \b\b/ \b\b- \b\b\\ \b\b| \b\b/ \b\b- \b\b\\ \b\b| \b\b/ \b\b- \b\b\\ \b\b| \b\b/ \b\b- \b\b\\ \b\b| \b\b/ \b\b- \b\b\\ \b\b| \b\b/ \b\b- \b\b\\ \b\b| \b\b/ \b\b- \b\b\\ \b\b| \b\b/ \b\b- \b\b\\ \b\b| \b\b/ \b\b- \b\b\\ \b\b| \b\b/ \b\b- \b\b\\ \b\b| \b\b/ \b\b- \b\b\\ \b\b| \b\b/ \b\b- \b\b\\ \b\b| \b\b/ \b\b- \b\b\\ \b\b| \b\b/ \b\b- \b\b\\ \b\b| \b\b/ \b\b- \b\b\\ \b\b| \b\b/ \b\b- \b\b\\ \b\b| \b\b/ \b\b- \b\b\\ \b\b| \b\b/ \b\b- \b\b\\ \b\b| \b\b/ \b\b- \b\b\\ \b\b| \b\b/ \b\b- \b\b\\ \b\b| \b\b/ \b\b- \b\b\\ \b\b| \b\b/ \b\b- \b\b\\ \b\b| \b\b/ \b\b- \b\b\\ \b\b| \b\b/ \b\b- \b\b\\ \b\b| \b\b/ \b\b- \b\b\\ \b\b| \b\b/ \b\b- \b\b\\ \b\b| \b\b/ \b\b- \b\b\\ \b\bdone\n",
            "Solving environment: / \b\b- \b\b\\ \b\b| \b\b/ \b\b- \b\b\\ \b\b| \b\b/ \b\b- \b\b\\ \b\b| \b\b/ \b\b- \b\b\\ \b\b| \b\b/ \b\b- \b\b\\ \b\b| \b\b/ \b\b- \b\b\\ \b\b| \b\b/ \b\b- \b\b\\ \b\b| \b\b/ \b\b- \b\b\\ \b\b| \b\b/ \b\b- \b\b\\ \b\b| \b\b/ \b\b- \b\b\\ \b\b| \b\b/ \b\b- \b\b\\ \b\b| \b\b/ \b\b- \b\b\\ \b\b| \b\b/ \b\b- \b\b\\ \b\b| \b\b/ \b\b- \b\b\\ \b\b| \b\b/ \b\b- \b\b\\ \b\b| \b\b/ \b\b- \b\b\\ \b\b| \b\b/ \b\b- \b\b\\ \b\b| \b\b/ \b\b- \b\b\\ \b\b| \b\b/ \b\b- \b\b\\ \b\b| \b\b/ \b\b- \b\b\\ \b\b| \b\b/ \b\b- \b\b\\ \b\b| \b\b/ \b\b- \b\b\\ \b\b| \b\b/ \b\b- \b\b\\ \b\b| \b\b/ \b\b- \b\b\\ \b\b| \b\b/ \b\b- \b\b\\ \b\b| \b\b/ \b\b- \b\b\\ \b\b| \b\b/ \b\b- \b\b\\ \b\b| \b\b/ \b\b- \b\b\\ \b\b| \b\b/ \b\b- \b\b\\ \b\b| \b\b/ \b\b- \b\b\\ \b\b| \b\b/ \b\b- \b\b\\ \b\b| \b\b/ \b\b- \b\b\\ \b\b| \b\b/ \b\b- \b\b\\ \b\b| \b\b/ \b\b- \b\b\\ \b\b| \b\b/ \b\b- \b\b\\ \b\b| \b\b/ \b\b- \b\b\\ \b\b| \b\b/ \b\b- \b\b\\ \b\b| \b\b/ \b\b- \b\b\\ \b\b| \b\b/ \b\b- \b\b\\ \b\b| \b\b/ \b\b- \b\b\\ \b\b| \b\b/ \b\b- \b\b\\ \b\b| \b\b/ \b\b- \b\b\\ \b\b| \b\b/ \b\b- \b\b\\ \b\b| \b\b/ \b\b- \b\b\\ \b\b| \b\b/ \b\b- \b\b\\ \b\b| \b\b/ \b\b- \b\b\\ \b\b| \b\b/ \b\b- \b\b\\ \b\b| \b\b/ \b\b- \b\b\\ \b\b| \b\b/ \b\b- \b\b\\ \b\b| \b\b/ \b\b- \b\b\\ \b\b| \b\b/ \b\b- \b\b\\ \b\b| \b\b/ \b\b- \b\b\\ \b\b| \b\b/ \b\b- \b\b\\ \b\b| \b\b/ \b\b- \b\b\\ \b\b| \b\b/ \b\b- \b\b\\ \b\b| \b\b/ \b\b- \b\b\\ \b\b| \b\b/ \b\b- \b\b\\ \b\b| \b\b/ \b\b- \b\b\\ \b\b| \b\b/ \b\b- \b\b\\ \b\b| \b\b/ \b\b- \b\b\\ \b\b| \b\b/ \b\b- \b\b\\ \b\b| \b\b/ \b\b- \b\b\\ \b\b| \b\b/ \b\b- \b\b\\ \b\b| \b\b/ \b\b- \b\b\\ \b\b| \b\b/ \b\b- \b\b\\ \b\b| \b\b/ \b\b- \b\b\\ \b\b| \b\b/ \b\b- \b\b\\ \b\b| \b\b/ \b\b- \b\b\\ \b\b| \b\b/ \b\b- \b\b\\ \b\b| \b\b/ \b\b- \b\b\\ \b\b| \b\b/ \b\b- \b\b\\ \b\b| \b\b/ \b\b- \b\b\\ \b\b| \b\b/ \b\b- \b\b\\ \b\b| \b\b/ \b\b- \b\b\\ \b\b| \b\b/ \b\b- \b\b\\ \b\b| \b\b/ \b\b- \b\b\\ \b\b| \b\b/ \b\b- \b\b\\ \b\b| \b\b/ \b\b- \b\b\\ \b\b| \b\b/ \b\b- \b\b\\ \b\b| \b\b/ \b\b- \b\b\\ \b\b| \b\b/ \b\b- \b\b\\ \b\b| \b\b/ \b\b- \b\b\\ \b\b| \b\b/ \b\b- \b\b\\ \b\b| \b\b/ \b\b- \b\b\\ \b\b| \b\b/ \b\b- \b\b\\ \b\b| \b\b/ \b\b- \b\b\\ \b\b| \b\b/ \b\b- \b\b\\ \b\b| \b\b/ \b\b- \b\b\\ \b\b| \b\b/ \b\b- \b\b\\ \b\b| \b\b/ \b\b- \b\b\\ \b\b| \b\b/ \b\b- \b\b\\ \b\b| \b\b/ \b\b- \b\b\\ \b\b| \b\b/ \b\b- \b\b\\ \b\b| \b\b/ \b\b- \b\b\\ \b\b| \b\b/ \b\b- \b\b\\ \b\b| \b\b/ \b\b- \b\b\\ \b\b| \b\b/ \b\b- \b\b\\ \b\b| \b\b/ \b\b- \b\b\\ \b\b| \b\b/ \b\b- \b\b\\ \b\b| \b\b/ \b\b- \b\b\\ \b\b| \b\b/ \b\b- \b\b\\ \b\b| \b\b/ \b\b- \b\b\\ \b\b| \b\b/ \b\b- \b\b\\ \b\b| \b\b/ \b\b- \b\b\\ \b\b| \b\b/ \b\b- \b\b\\ \b\b| \b\b/ \b\b- \b\b\\ \b\b| \b\b/ \b\b- \b\b\\ \b\b| \b\b/ \b\b- \b\b\\ \b\b| \b\b/ \b\b- \b\b\\ \b\b| \b\b/ \b\b- \b\b\\ \b\b| \b\b/ \b\b- \b\b\\ \b\b| \b\b/ \b\b- \b\b\\ \b\b| \b\b/ \b\b- \b\b\\ \b\b| \b\b/ \b\b- \b\b\\ \b\b| \b\b/ \b\b- \b\b\\ \b\b| \b\b/ \b\b- \b\b\\ \b\b| \b\b/ \b\b- \b\b\\ \b\b| \b\b/ \b\b- \b\b\\ \b\b| \b\b/ \b\b- \b\b\\ \b\b| \b\b/ \b\b- \b\b\\ \b\b| \b\b/ \b\b- \b\b\\ \b\b| \b\b/ \b\b- \b\b\\ \b\b| \b\b/ \b\b- \b\b\\ \b\b| \b\b/ \b\b- \b\b\\ \b\b| \b\b/ \b\b- \b\b\\ \b\b| \b\b/ \b\b- \b\b\\ \b\b| \b\b/ \b\b- \b\b\\ \b\b| \b\b/ \b\b- \b\b\\ \b\b| \b\b/ \b\b- \b\b\\ \b\b| \b\b/ \b\b- \b\b\\ \b\b| \b\b/ \b\b- \b\b\\ \b\b| \b\b/ \b\b- \b\b\\ \b\b| \b\b/ \b\b- \b\b\\ \b\b| \b\b/ \b\b- \b\b\\ \b\b| \b\b/ \b\b- \b\b\\ \b\bdone\n",
            "\n",
            "## Package Plan ##\n",
            "\n",
            "  environment location: /usr/local\n",
            "\n",
            "  added / updated specs:\n",
            "    - ambertools\n",
            "\n",
            "\n",
            "The following packages will be downloaded:\n",
            "\n",
            "    package                    |            build\n",
            "    ---------------------------|-----------------\n",
            "    _libgcc_mutex-0.1          |      conda_forge           3 KB  conda-forge\n",
            "    _openmp_mutex-4.5          |            2_gnu          23 KB  conda-forge\n",
            "    ambertools-22.0            |   py37ha6f76a1_1       102.0 MB  conda-forge\n",
            "    arpack-3.7.0               |       hdefa2d7_2         215 KB  conda-forge\n",
            "    boost-1.74.0               |   py37h796e4cb_5         342 KB  conda-forge\n",
            "    boost-cpp-1.74.0           |       h75c5d50_8        16.2 MB  conda-forge\n",
            "    c-ares-1.18.1              |       h7f98852_0         113 KB  conda-forge\n",
            "    curl-7.86.0                |       h7bff187_1          91 KB  conda-forge\n",
            "    cycler-0.11.0              |     pyhd8ed1ab_0          10 KB  conda-forge\n",
            "    cython-0.29.32             |   py37h6a678d5_0         1.9 MB\n",
            "    expat-2.4.9                |       h6a678d5_0         156 KB\n",
            "    fftw-3.3.10                |nompi_h77c792f_102         6.4 MB  conda-forge\n",
            "    fontconfig-2.14.1          |       hc2a2eb6_0         365 KB  conda-forge\n",
            "    freetype-2.12.1            |       hca18f0e_0         884 KB  conda-forge\n",
            "    hdf4-4.2.15                |       h10796ff_3         950 KB  conda-forge\n",
            "    hdf5-1.12.1                |nompi_h2386368_104         3.5 MB  conda-forge\n",
            "    icu-70.1                   |       h27087fc_0        13.5 MB  conda-forge\n",
            "    keyutils-1.6.1             |       h166bdaf_0         115 KB  conda-forge\n",
            "    kiwisolver-1.4.2           |   py37h295c915_0          83 KB\n",
            "    krb5-1.19.3                |       h3790be6_0         1.4 MB  conda-forge\n",
            "    libblas-3.9.0              |   12_linux64_mkl          12 KB  conda-forge\n",
            "    libcblas-3.9.0             |   12_linux64_mkl          12 KB  conda-forge\n",
            "    libcurl-7.86.0             |       h7bff187_1         348 KB  conda-forge\n",
            "    libedit-3.1.20191231       |       he28a2e2_2         121 KB  conda-forge\n",
            "    libev-4.33                 |       h516909a_1         104 KB  conda-forge\n",
            "    libgcc-ng-12.2.0           |      h65d4601_19         931 KB  conda-forge\n",
            "    libgfortran-ng-12.2.0      |      h69a702a_19          22 KB  conda-forge\n",
            "    libgfortran5-12.2.0        |      h337968e_19         1.8 MB  conda-forge\n",
            "    libgomp-12.2.0             |      h65d4601_19         455 KB  conda-forge\n",
            "    libiconv-1.17              |       h166bdaf_0         1.4 MB  conda-forge\n",
            "    liblapack-3.9.0            |   12_linux64_mkl          12 KB  conda-forge\n",
            "    libnetcdf-4.8.1            |nompi_h329d8a1_102         1.5 MB  conda-forge\n",
            "    libnghttp2-1.47.0          |       h727a467_0         808 KB  conda-forge\n",
            "    libnsl-2.0.0               |       h7f98852_0          31 KB  conda-forge\n",
            "    libssh2-1.10.0             |       haa6b8db_3         234 KB  conda-forge\n",
            "    libuuid-2.32.1             |    h7f98852_1000          28 KB  conda-forge\n",
            "    libxml2-2.9.14             |       h22db469_4         771 KB  conda-forge\n",
            "    libzip-1.9.2               |       hc869a4a_1          97 KB  conda-forge\n",
            "    libzlib-1.2.13             |       h166bdaf_4          64 KB  conda-forge\n",
            "    matplotlib-base-3.4.3      |   py37h1058ff1_0         7.2 MB  conda-forge\n",
            "    netcdf-fortran-4.5.4       |nompi_h2b6e579_100         1.3 MB  conda-forge\n",
            "    openssl-1.1.1s             |       h166bdaf_0         2.1 MB  conda-forge\n",
            "    packmol-20.010             |       h86c2bf4_0         129 KB  conda-forge\n",
            "    parmed-3.4.3               |   py37hd23a5d3_2         974 KB  conda-forge\n",
            "    perl-5.32.1                | 2_h7f98852_perl5        14.4 MB  conda-forge\n",
            "    pycairo-1.21.0             |   py37h0afab05_1         116 KB  conda-forge\n",
            "    rdkit-2022.03.2            |   py37hc52db9c_0        39.4 MB  conda-forge\n",
            "    reportlab-3.5.68           |   py37h69800bb_1         2.4 MB  conda-forge\n",
            "    scipy-1.7.3                |   py37hf2a6cf1_0        21.8 MB  conda-forge\n",
            "    sqlalchemy-1.3.24          |   py37h540881e_1         1.8 MB  conda-forge\n",
            "    tornado-6.2                |   py37h540881e_0         651 KB  conda-forge\n",
            "    typing_extensions-4.4.0    |     pyha770c72_0          29 KB  conda-forge\n",
            "    xorg-kbproto-1.0.7         |    h7f98852_1002          27 KB  conda-forge\n",
            "    xorg-libice-1.0.10         |       h7f98852_0          58 KB  conda-forge\n",
            "    xorg-libsm-1.2.3           |    hd9c2040_1000          26 KB  conda-forge\n",
            "    xorg-libx11-1.7.2          |       h7f98852_0         941 KB  conda-forge\n",
            "    xorg-libxext-1.3.4         |       h7f98852_1          54 KB  conda-forge\n",
            "    xorg-libxt-1.2.1           |       h7f98852_2         375 KB  conda-forge\n",
            "    xorg-xextproto-7.3.0       |    h7f98852_1002          28 KB  conda-forge\n",
            "    xorg-xproto-7.0.31         |    h7f98852_1007          73 KB  conda-forge\n",
            "    zlib-1.2.13                |       h166bdaf_4          92 KB  conda-forge\n",
            "    ------------------------------------------------------------\n",
            "                                           Total:       250.9 MB\n",
            "\n",
            "The following NEW packages will be INSTALLED:\n",
            "\n",
            "  ambertools         conda-forge/linux-64::ambertools-22.0-py37ha6f76a1_1 None\n",
            "  arpack             conda-forge/linux-64::arpack-3.7.0-hdefa2d7_2 None\n",
            "  boost              conda-forge/linux-64::boost-1.74.0-py37h796e4cb_5 None\n",
            "  boost-cpp          conda-forge/linux-64::boost-cpp-1.74.0-h75c5d50_8 None\n",
            "  c-ares             conda-forge/linux-64::c-ares-1.18.1-h7f98852_0 None\n",
            "  curl               conda-forge/linux-64::curl-7.86.0-h7bff187_1 None\n",
            "  cycler             conda-forge/noarch::cycler-0.11.0-pyhd8ed1ab_0 None\n",
            "  cython             pkgs/main/linux-64::cython-0.29.32-py37h6a678d5_0 None\n",
            "  expat              pkgs/main/linux-64::expat-2.4.9-h6a678d5_0 None\n",
            "  fftw               conda-forge/linux-64::fftw-3.3.10-nompi_h77c792f_102 None\n",
            "  hdf4               conda-forge/linux-64::hdf4-4.2.15-h10796ff_3 None\n",
            "  hdf5               conda-forge/linux-64::hdf5-1.12.1-nompi_h2386368_104 None\n",
            "  keyutils           conda-forge/linux-64::keyutils-1.6.1-h166bdaf_0 None\n",
            "  kiwisolver         pkgs/main/linux-64::kiwisolver-1.4.2-py37h295c915_0 None\n",
            "  krb5               conda-forge/linux-64::krb5-1.19.3-h3790be6_0 None\n",
            "  libblas            conda-forge/linux-64::libblas-3.9.0-12_linux64_mkl None\n",
            "  libcblas           conda-forge/linux-64::libcblas-3.9.0-12_linux64_mkl None\n",
            "  libcurl            conda-forge/linux-64::libcurl-7.86.0-h7bff187_1 None\n",
            "  libedit            conda-forge/linux-64::libedit-3.1.20191231-he28a2e2_2 None\n",
            "  libev              conda-forge/linux-64::libev-4.33-h516909a_1 None\n",
            "  libgfortran5       conda-forge/linux-64::libgfortran5-12.2.0-h337968e_19 None\n",
            "  libiconv           conda-forge/linux-64::libiconv-1.17-h166bdaf_0 None\n",
            "  liblapack          conda-forge/linux-64::liblapack-3.9.0-12_linux64_mkl None\n",
            "  libnetcdf          conda-forge/linux-64::libnetcdf-4.8.1-nompi_h329d8a1_102 None\n",
            "  libnghttp2         conda-forge/linux-64::libnghttp2-1.47.0-h727a467_0 None\n",
            "  libnsl             conda-forge/linux-64::libnsl-2.0.0-h7f98852_0 None\n",
            "  libssh2            conda-forge/linux-64::libssh2-1.10.0-haa6b8db_3 None\n",
            "  libzip             conda-forge/linux-64::libzip-1.9.2-hc869a4a_1 None\n",
            "  libzlib            conda-forge/linux-64::libzlib-1.2.13-h166bdaf_4 None\n",
            "  matplotlib-base    conda-forge/linux-64::matplotlib-base-3.4.3-py37h1058ff1_0 None\n",
            "  netcdf-fortran     conda-forge/linux-64::netcdf-fortran-4.5.4-nompi_h2b6e579_100 None\n",
            "  packmol            conda-forge/linux-64::packmol-20.010-h86c2bf4_0 None\n",
            "  parmed             conda-forge/linux-64::parmed-3.4.3-py37hd23a5d3_2 None\n",
            "  perl               conda-forge/linux-64::perl-5.32.1-2_h7f98852_perl5 None\n",
            "  pycairo            conda-forge/linux-64::pycairo-1.21.0-py37h0afab05_1 None\n",
            "  reportlab          conda-forge/linux-64::reportlab-3.5.68-py37h69800bb_1 None\n",
            "  sqlalchemy         conda-forge/linux-64::sqlalchemy-1.3.24-py37h540881e_1 None\n",
            "  tornado            conda-forge/linux-64::tornado-6.2-py37h540881e_0 None\n",
            "  typing_extensions  conda-forge/noarch::typing_extensions-4.4.0-pyha770c72_0 None\n",
            "  xorg-kbproto       conda-forge/linux-64::xorg-kbproto-1.0.7-h7f98852_1002 None\n",
            "  xorg-libice        conda-forge/linux-64::xorg-libice-1.0.10-h7f98852_0 None\n",
            "  xorg-libsm         conda-forge/linux-64::xorg-libsm-1.2.3-hd9c2040_1000 None\n",
            "  xorg-libx11        conda-forge/linux-64::xorg-libx11-1.7.2-h7f98852_0 None\n",
            "  xorg-libxext       conda-forge/linux-64::xorg-libxext-1.3.4-h7f98852_1 None\n",
            "  xorg-libxt         conda-forge/linux-64::xorg-libxt-1.2.1-h7f98852_2 None\n",
            "  xorg-xextproto     conda-forge/linux-64::xorg-xextproto-7.3.0-h7f98852_1002 None\n",
            "  xorg-xproto        conda-forge/linux-64::xorg-xproto-7.0.31-h7f98852_1007 None\n",
            "\n",
            "The following packages will be REMOVED:\n",
            "\n",
            "  libboost-1.73.0-h28710b8_12\n",
            "  libgfortran4-7.5.0-ha8ba4b0_17\n",
            "  py-boost-1.73.0-py37h51133e4_12\n",
            "\n",
            "The following packages will be UPDATED:\n",
            "\n",
            "  fontconfig         pkgs/main::fontconfig-2.13.1-h6c09931~ --> conda-forge::fontconfig-2.14.1-hc2a2eb6_0 None\n",
            "  freetype                                2.10.4-h0708190_1 --> 2.12.1-hca18f0e_0 None\n",
            "  icu                                    58.2-hf484d3e_1000 --> 70.1-h27087fc_0 None\n",
            "  libgcc-ng          pkgs/main::libgcc-ng-11.2.0-h1234567_1 --> conda-forge::libgcc-ng-12.2.0-h65d4601_19 None\n",
            "  libgfortran-ng     anaconda::libgfortran-ng-7.5.0-ha8ba4~ --> conda-forge::libgfortran-ng-12.2.0-h69a702a_19 None\n",
            "  libgomp              pkgs/main::libgomp-11.2.0-h1234567_1 --> conda-forge::libgomp-12.2.0-h65d4601_19 None\n",
            "  libuuid               pkgs/main::libuuid-1.0.3-h7f8727e_2 --> conda-forge::libuuid-2.32.1-h7f98852_1000 None\n",
            "  libxml2              pkgs/main::libxml2-2.9.14-h74e7548_0 --> conda-forge::libxml2-2.9.14-h22db469_4 None\n",
            "  rdkit              rdkit::rdkit-2020.09.1.0-py37hd50e099~ --> conda-forge::rdkit-2022.03.2-py37hc52db9c_0 None\n",
            "  zlib                    pkgs/main::zlib-1.2.12-h7f8727e_2 --> conda-forge::zlib-1.2.13-h166bdaf_4 None\n",
            "\n",
            "The following packages will be SUPERSEDED by a higher-priority channel:\n",
            "\n",
            "  _libgcc_mutex           pkgs/main::_libgcc_mutex-0.1-main --> conda-forge::_libgcc_mutex-0.1-conda_forge None\n",
            "  _openmp_mutex          pkgs/main::_openmp_mutex-4.5-1_gnu --> conda-forge::_openmp_mutex-4.5-2_gnu None\n",
            "  ca-certificates    pkgs/main::ca-certificates-2022.10.11~ --> conda-forge::ca-certificates-2022.9.24-ha878542_0 None\n",
            "  certifi            pkgs/main/linux-64::certifi-2022.9.24~ --> conda-forge/noarch::certifi-2022.9.24-pyhd8ed1ab_0 None\n",
            "  openssl              pkgs/main::openssl-1.1.1s-h7f8727e_0 --> conda-forge::openssl-1.1.1s-h166bdaf_0 None\n",
            "  scipy                anaconda::scipy-1.7.3-py37hc147768_0 --> conda-forge::scipy-1.7.3-py37hf2a6cf1_0 None\n",
            "\n",
            "\n",
            "\n",
            "Downloading and Extracting Packages\n",
            "cycler-0.11.0        | 10 KB     | : 100% 1.0/1 [00:00<00:00, 14.32it/s]\n",
            "libgfortran5-12.2.0  | 1.8 MB    | : 100% 1.0/1 [00:00<00:00,  2.18it/s]\n",
            "arpack-3.7.0         | 215 KB    | : 100% 1.0/1 [00:00<00:00, 10.32it/s]\n",
            "xorg-xextproto-7.3.0 | 28 KB     | : 100% 1.0/1 [00:00<00:00, 23.29it/s]\n",
            "fontconfig-2.14.1    | 365 KB    | : 100% 1.0/1 [00:00<00:00,  8.90it/s]\n",
            "kiwisolver-1.4.2     | 83 KB     | : 100% 1.0/1 [00:00<00:00, 10.31it/s]\n",
            "libev-4.33           | 104 KB    | : 100% 1.0/1 [00:00<00:00, 20.38it/s]\n",
            "libzlib-1.2.13       | 64 KB     | : 100% 1.0/1 [00:00<00:00, 27.21it/s]\n",
            "_openmp_mutex-4.5    | 23 KB     | : 100% 1.0/1 [00:00<00:00, 21.81it/s]\n",
            "scipy-1.7.3          | 21.8 MB   | : 100% 1.0/1 [00:04<00:00,  5.00s/it]\n",
            "openssl-1.1.1s       | 2.1 MB    | : 100% 1.0/1 [00:00<00:00,  2.27it/s]\n",
            "libgomp-12.2.0       | 455 KB    | : 100% 1.0/1 [00:00<00:00,  9.17it/s]\n",
            "libgcc-ng-12.2.0     | 931 KB    | : 100% 1.0/1 [00:00<00:00,  4.97it/s]\n",
            "liblapack-3.9.0      | 12 KB     | : 100% 1.0/1 [00:00<00:00, 33.07it/s]\n",
            "xorg-libsm-1.2.3     | 26 KB     | : 100% 1.0/1 [00:00<00:00, 28.50it/s]\n",
            "libnetcdf-4.8.1      | 1.5 MB    | : 100% 1.0/1 [00:00<00:00,  2.71it/s]\n",
            "netcdf-fortran-4.5.4 | 1.3 MB    | : 100% 1.0/1 [00:00<00:00,  3.25it/s]\n",
            "reportlab-3.5.68     | 2.4 MB    | : 100% 1.0/1 [00:00<00:00,  1.19it/s]\n",
            "perl-5.32.1          | 14.4 MB   | : 100% 1.0/1 [00:05<00:00,  5.40s/it]              \n",
            "_libgcc_mutex-0.1    | 3 KB      | : 100% 1.0/1 [00:00<00:00, 34.72it/s]\n",
            "libnsl-2.0.0         | 31 KB     | : 100% 1.0/1 [00:00<00:00, 25.46it/s]\n",
            "tornado-6.2          | 651 KB    | : 100% 1.0/1 [00:00<00:00,  3.84it/s]\n",
            "krb5-1.19.3          | 1.4 MB    | : 100% 1.0/1 [00:00<00:00,  2.56it/s]\n",
            "libedit-3.1.20191231 | 121 KB    | : 100% 1.0/1 [00:00<00:00, 18.43it/s]\n",
            "libiconv-1.17        | 1.4 MB    | : 100% 1.0/1 [00:00<00:00,  4.04it/s]\n",
            "icu-70.1             | 13.5 MB   | : 100% 1.0/1 [00:02<00:00,  2.92s/it]               \n",
            "libuuid-2.32.1       | 28 KB     | : 100% 1.0/1 [00:00<00:00, 28.91it/s]\n",
            "boost-cpp-1.74.0     | 16.2 MB   | : 100% 1.0/1 [00:08<00:00,  8.52s/it]               \n",
            "boost-1.74.0         | 342 KB    | : 100% 1.0/1 [00:00<00:00,  6.45it/s]\n",
            "cython-0.29.32       | 1.9 MB    | : 100% 1.0/1 [00:00<00:00,  5.82it/s]\n",
            "xorg-libxt-1.2.1     | 375 KB    | : 100% 1.0/1 [00:00<00:00,  7.12it/s]\n",
            "xorg-xproto-7.0.31   | 73 KB     | : 100% 1.0/1 [00:00<00:00, 22.57it/s]\n",
            "freetype-2.12.1      | 884 KB    | : 100% 1.0/1 [00:00<00:00,  4.00it/s]\n",
            "matplotlib-base-3.4. | 7.2 MB    | : 100% 1.0/1 [00:01<00:00,  1.92s/it]\n",
            "zlib-1.2.13          | 92 KB     | : 100% 1.0/1 [00:00<00:00, 21.97it/s]\n",
            "libssh2-1.10.0       | 234 KB    | : 100% 1.0/1 [00:00<00:00,  4.04it/s]               \n",
            "c-ares-1.18.1        | 113 KB    | : 100% 1.0/1 [00:00<00:00, 18.11it/s]\n",
            "packmol-20.010       | 129 KB    | : 100% 1.0/1 [00:00<00:00, 21.54it/s]\n",
            "parmed-3.4.3         | 974 KB    | : 100% 1.0/1 [00:00<00:00,  2.89it/s]\n",
            "pycairo-1.21.0       | 116 KB    | : 100% 1.0/1 [00:00<00:00, 18.39it/s]\n",
            "xorg-kbproto-1.0.7   | 27 KB     | : 100% 1.0/1 [00:00<00:00, 32.67it/s]\n",
            "hdf4-4.2.15          | 950 KB    | : 100% 1.0/1 [00:00<00:00,  3.36it/s]\n",
            "sqlalchemy-1.3.24    | 1.8 MB    | : 100% 1.0/1 [00:00<00:00,  1.37it/s]\n",
            "fftw-3.3.10          | 6.4 MB    | : 100% 1.0/1 [00:01<00:00,  1.59s/it]\n",
            "libgfortran-ng-12.2. | 22 KB     | : 100% 1.0/1 [00:00<00:00, 29.67it/s]\n",
            "expat-2.4.9          | 156 KB    | : 100% 1.0/1 [00:00<00:00, 14.51it/s]\n",
            "libblas-3.9.0        | 12 KB     | : 100% 1.0/1 [00:00<00:00, 30.75it/s]\n",
            "ambertools-22.0      | 102.0 MB  | : 100% 1.0/1 [00:26<00:00, 26.60s/it]               \n",
            "libnghttp2-1.47.0    | 808 KB    | : 100% 1.0/1 [00:01<00:00,  1.04s/it]               \n",
            "typing_extensions-4. | 29 KB     | : 100% 1.0/1 [00:00<00:00, 19.96it/s]\n",
            "libcurl-7.86.0       | 348 KB    | : 100% 1.0/1 [00:00<00:00, 10.13it/s]\n",
            "libxml2-2.9.14       | 771 KB    | : 100% 1.0/1 [00:00<00:00,  4.76it/s]\n",
            "xorg-libx11-1.7.2    | 941 KB    | : 100% 1.0/1 [00:00<00:00,  4.09it/s]\n",
            "keyutils-1.6.1       | 115 KB    | : 100% 1.0/1 [00:00<00:00, 18.01it/s]\n",
            "rdkit-2022.03.2      | 39.4 MB   | : 100% 1.0/1 [00:10<00:00, 10.95s/it]               \n",
            "libcblas-3.9.0       | 12 KB     | : 100% 1.0/1 [00:00<00:00, 26.27it/s]\n",
            "libzip-1.9.2         | 97 KB     | : 100% 1.0/1 [00:00<00:00, 18.67it/s]\n",
            "xorg-libxext-1.3.4   | 54 KB     | : 100% 1.0/1 [00:00<00:00, 25.57it/s]\n",
            "curl-7.86.0          | 91 KB     | : 100% 1.0/1 [00:00<00:00, 24.14it/s]\n",
            "hdf5-1.12.1          | 3.5 MB    | : 100% 1.0/1 [00:00<00:00,  1.33it/s]\n",
            "xorg-libice-1.0.10   | 58 KB     | : 100% 1.0/1 [00:00<00:00, 21.95it/s]\n",
            "Preparing transaction: / \b\b- \b\b\\ \b\b| \b\b/ \b\b- \b\b\\ \b\b| \b\b/ \b\b- \b\b\\ \b\b| \b\b/ \b\b- \b\bdone\n",
            "Verifying transaction: | \b\b/ \b\b- \b\b\\ \b\b| \b\b/ \b\b- \b\b\\ \b\b| \b\b/ \b\b- \b\b\\ \b\b| \b\b/ \b\b- \b\b\\ \b\b| \b\b/ \b\b- \b\b\\ \b\b| \b\b/ \b\b- \b\b\\ \b\b| \b\b/ \b\b- \b\b\\ \b\b| \b\b/ \b\b- \b\b\\ \b\b| \b\b/ \b\b- \b\b\\ \b\b| \b\b/ \b\b- \b\b\\ \b\b| \b\b/ \b\b- \b\b\\ \b\bdone\n",
            "Executing transaction: / \b\b- \b\b\\ \b\b| \b\b/ \b\b- \b\b\\ \b\b| \b\b/ \b\b- \b\b\\ \b\b| \b\b/ \b\b- \b\b\\ \b\b| \b\b/ \b\b- \b\b\\ \b\b| \b\b/ \b\b- \b\b\\ \b\b| \b\b/ \b\b- \b\b\\ \b\b| \b\b/ \b\b- \b\b\\ \b\b| \b\b/ \b\b- \b\b\\ \b\b| \b\b/ \b\b- \b\b\\ \b\b| \b\b/ \b\b- \b\b\\ \b\b| \b\b/ \b\b- \b\b\\ \b\b| \b\b/ \b\b- \b\b\\ \b\b| \b\b/ \b\b- \b\b\\ \b\b| \b\bdone\n",
            "Retrieving notices: ...working... done\n"
          ]
        }
      ]
    },
    {
      "cell_type": "markdown",
      "metadata": {
        "id": "qBcEyeT92azZ"
      },
      "source": [
        "The code snippet below will create a variable for the *antechamber* executable."
      ]
    },
    {
      "cell_type": "code",
      "metadata": {
        "id": "XFXj-F3YIXYv"
      },
      "source": [
        "import os\n",
        "os.environ['ANTECHAMBER_EXEC'] = '/usr/local/bin/antechamber'"
      ],
      "execution_count": null,
      "outputs": []
    },
    {
      "cell_type": "markdown",
      "metadata": {
        "id": "M2XfoTkDaZUa"
      },
      "source": [
        "## Clean /content/ directory and move test files to /content/polymer_models/\n",
        "The following code snippet will remove unnecessary files and move sample INPUT files to the /content directory. "
      ]
    },
    {
      "cell_type": "code",
      "metadata": {
        "colab": {
          "base_uri": "https://localhost:8080/"
        },
        "id": "tqXP5hKHRjQa",
        "outputId": "78e00e10-3c36-4a43-8457-98d0679191b3"
      },
      "source": [
        "%cd /content/\n",
        "!rm Miniconda3-py37_4.10.3-Linux-x86_64.sh\n",
        "!rm -rf sample_data/\n",
        "!mkdir /content/polymer_models\n",
        "!cp -r /usr/local/PSP/test/* /content/polymer_models/"
      ],
      "execution_count": null,
      "outputs": [
        {
          "output_type": "stream",
          "name": "stdout",
          "text": [
            "/content\n"
          ]
        }
      ]
    },
    {
      "cell_type": "markdown",
      "metadata": {
        "id": "4BJGUo8HnAAH"
      },
      "source": [
        "# PSP Examples\n",
        "There are four modules in PSP, each of which is designed to build a specific type of polymer model.\n",
        "- $MoleculeBuilder$ (Linear and circular oligomers)\n",
        "- $ChainBuilder$ (Finite and infinite polymer chains [*periodic*])\n",
        "- $CrystalBuilder$ (Crystal models for small molecules and polymers)\n",
        "- $AmorphousBuilder$ (Amorphous structures)\n",
        "\n",
        "Note that $ChainBuilder$ accepts only polymer SMILES, whereas $MoleculeBuilder$ and $AmorphousBuilder$ accept both polymer and molecule SMILES strings. \n",
        "\n",
        ">**Polymer SMILES**: Two linking atoms are indicated with asterisks (\\[\\*]). \n",
        "For example, a SMILES string for polypropylene can be expressed as C(C(C)\\[\\*])\\[\\*].  For more details, please visit our *Polymer Genome (PG)* website at: https://www.polymergenome.org. To obtain a polymer SMILES string, use the $Draw Polymer$ tool of the PG platform.\n",
        "\n",
        ">**Model visualization**: The function $visualize3D(input\\_file, supercell=[1,1,1])$ can be used to visualize models in XYZ, PDB, and POSCAR ($.vasp$) file formats. Users must use the POSCAR file to see the boundary box or supercell structures. Supercell (default value: supercell=[1,1,1]): Users need to define the size of the supercell as [x,y,z] where x, y, z define replication of the unit cell along X, Y, and Z directions, respectively. Users can rotate and zoom in/out the molecule using the mouse pointer. \n",
        "\n",
        ">**Download models** : Go to the **Files** tab (on the notebook's left side) and navigate to the relevant directory; then, simply select and download. If you don't see directories or models, refresh it.\n",
        "\n",
        "In the */content/polymer_models* directory, we provided test samples for all model builders available in PSP. Let's go to the respective directories and start building models.\n"
      ]
    },
    {
      "cell_type": "markdown",
      "metadata": {
        "id": "aakvIYLqncal"
      },
      "source": [
        "## MoleculeBuilder\n",
        "$MoleculeBuilder$ is designed to build 3D structures of linear and circular oligomers. It accepts SMILES strings for both molecules and polymers as input, and output models are saved in a variety of formats, including xyz, pdb, poscar, and lammps data files, as well as GAFF2/OPLS parameter files. Several examples are provided here to show how we can quickly build models with $MoleculeBuilder$. "
      ]
    },
    {
      "cell_type": "markdown",
      "metadata": {
        "id": "0-A8ZGJURusT"
      },
      "source": [
        "Let's go to the *polymer_models/MoleculeBuilder* directory:"
      ]
    },
    {
      "cell_type": "code",
      "metadata": {
        "colab": {
          "base_uri": "https://localhost:8080/"
        },
        "id": "01zhXKsTtCqS",
        "outputId": "34bc5c1b-6260-4dc2-dcfb-a61f8c0be330"
      },
      "source": [
        "cd /content/polymer_models/MoleculeBuilder"
      ],
      "execution_count": null,
      "outputs": [
        {
          "output_type": "stream",
          "name": "stdout",
          "text": [
            "/content/polymer_models/MoleculeBuilder\n"
          ]
        }
      ]
    },
    {
      "cell_type": "markdown",
      "metadata": {
        "id": "oJYJeMsvL04F"
      },
      "source": [
        "### **Example 1**: Linear oligomers with endcap units\n",
        "Now, we intend to construct a model for linear oligomers with endcap units. To construct such a model, users must define SMILES strings for the repeating/endcap units and the length of an oligomer. Note that the endcap SMILES include just one [\\*\\], as there is only one connecting atom.  Let's build a model for **Pentaethylene** end-capped with **CF$_3$** and **CCl$_3$**.\n",
        "\n",
        "As shown below, SMILES strings for the repeating unit of polyethylene and endcap units (**CF$_3$** and **CCl$_3$**) are provided. The oligomer is defined to have a length of 5 units.  Let's run the code below to build a pentamer model. "
      ]
    },
    {
      "cell_type": "code",
      "metadata": {
        "colab": {
          "base_uri": "https://localhost:8080/"
        },
        "id": "ZC3rYJUxOuvD",
        "outputId": "7cba588e-ee6f-4dbb-a913-0017d2c1411a"
      },
      "source": [
        "# Input SMILES strings and length of the oligomer\n",
        "repeating_unit = '[*]CC[*]'\n",
        "leftcap_unit = 'C(Cl)(Cl)(Cl)[*]'\n",
        "rightcap_unit = 'C(F)(F)(F)[*]'\n",
        "oligo_length = 5\n",
        "\n",
        "# Create a pandas DataFrame\n",
        "import pandas as pd\n",
        "input_data = [['PE',repeating_unit,leftcap_unit,rightcap_unit]]\n",
        "df_smiles = pd.DataFrame(input_data, columns = ['ID', 'smiles', 'LeftCap', 'RightCap'])\n",
        "\n",
        "# Build models\n",
        "import pandas as pd\n",
        "import psp.MoleculeBuilder as mb\n",
        "mol = mb.Builder(df_smiles, Length=[oligo_length], GAFF2=True)\n",
        "results = mol.Build()"
      ],
      "execution_count": null,
      "outputs": [
        {
          "output_type": "stream",
          "name": "stdout",
          "text": [
            "\n",
            "                        ---------  PPPPPP       SSSSSS    PPPPPP    ---------                        \n",
            "                -----------------  PP    PP   SS          PP    PP  -----------------                \n",
            "        -------------------------  PP    PP   SS          PP    PP  -------------------------        \n",
            " --------------------------------  PPPPPP       SSSSS     PPPPPP    -------------------------------- \n",
            "        -------------------------  PP                SS   PP        -------------------------        \n",
            "                -----------------  PP                SS   PP        -----------------                \n",
            "                        ---------  PP          SSSSSS     PP        ---------                        \n",
            " --------------------------------------------------------------------------------------------------- \n",
            "          ** ** ** ** ** ** ** ** ** ** ** ** ** ** ** ** ** ** ** ** ** ** ** ** ** ** **          \n",
            "                        Polymer Structure Predictor (PSP) version =  1.0.0                     \n",
            "                                   Developed at Ramprasad Group                                      \n",
            "           Materials Science and Engineering, Georgia Institute of Technology, Atlanta, US           \n",
            "\n",
            "           Cite this work as:                                                                \n",
            "           H. Sahu, K-H. Shen, J. H. Montoya, H. Tran, R. Ramprasad, PSP: A python toolkit           \n",
            "           for predicting 3D models of polymers, journal name, volume, page, 2022.                   \n",
            "          ** ** ** ** ** ** ** ** ** ** ** ** ** ** ** ** ** ** ** ** ** ** ** ** ** ** **          \n",
            " --------------------------------------------------------------------------------------------------- \n",
            "  MoleculeBuilder  started...\n",
            " ----------------------------------------------- INPUT --------------------------------------------- \n",
            "|    | ID   | smiles   | LeftCap          | RightCap      |\n",
            "|---:|:-----|:---------|:-----------------|:--------------|\n",
            "|  1 | PE   | [*]CC[*] | C(Cl)(Cl)(Cl)[*] | C(F)(F)(F)[*] |\n",
            "\n",
            " Additional information:  \n",
            " Length of oligomers:  [5] \n",
            " Number of conformers:  1 \n",
            " Loop model:  False \n",
            " Run short MD simulation:  False \n",
            " Generate OPLS parameter file:  False \n",
            " Intermolecular distance in POSCAR:  6 \n",
            " Number of cores:  All \n",
            " Output Directory:  molecules \n",
            "\n",
            "\n",
            " 3D model building started...\n",
            "\n"
          ]
        },
        {
          "output_type": "stream",
          "name": "stderr",
          "text": [
            "\rBuilding models ...:   0%|          | 0/1 [00:00<?, ?it/s]"
          ]
        },
        {
          "output_type": "stream",
          "name": "stdout",
          "text": [
            "\n",
            "Generating GAFF2 parameter file ...\n",
            "\n",
            "Pysimm working on molecules/PE_N5_C1.mol2\n",
            "(debug) PySIMM: reading file\n",
            "Pysimm applying force field for molecules/PE_N5_C1.mol2.\n",
            "16 C None\n",
            "Error applying force field with the mol2 file, switch to using cml file.\n",
            "(debug) PySIMM: reading file\n"
          ]
        },
        {
          "output_type": "stream",
          "name": "stderr",
          "text": [
            "Building models ...: 100%|██████████| 1/1 [00:02<00:00,  2.49s/it]"
          ]
        },
        {
          "output_type": "stream",
          "name": "stdout",
          "text": [
            "adding gasteiger charges\n",
            "charges converged after 17 iterations\n",
            "\n",
            "GAFF2 parameter file generated.\n",
            "\n",
            " 3D model building completed.\n",
            "\n",
            " ----------------------------------------------- OUTPUT -------------------------------------------- \n",
            "|    | ID   | Result   | SMILES                            |\n",
            "|---:|:-----|:---------|:----------------------------------|\n",
            "|  1 | PE   | SUCCESS  | ['FC(F)(F)CCCCCCCCCCC(Cl)(Cl)Cl'] |\n",
            "\n",
            " Total run time (minutes):  0.04\n",
            " ------------------------------------- PSP TERMINATED NORMALLY ------------------------------------- \n"
          ]
        },
        {
          "output_type": "stream",
          "name": "stderr",
          "text": [
            "\n"
          ]
        }
      ]
    },
    {
      "cell_type": "markdown",
      "metadata": {
        "id": "ONh_D0fuVav8"
      },
      "source": [
        "PSP terminated normally. All models are stored in *molecules/* directory. As mentioned before, models are stored in different file formats. The output files are named according to the following convention: \\$*ID*_N\\$*Length*_C\\$*NumConf*.\\$*file_format*."
      ]
    },
    {
      "cell_type": "code",
      "metadata": {
        "colab": {
          "base_uri": "https://localhost:8080/"
        },
        "id": "IUXWwvC1RGjN",
        "outputId": "54c8f8d7-ce4a-436d-8402-ad8b6ac99437"
      },
      "source": [
        "ls molecules/"
      ],
      "execution_count": null,
      "outputs": [
        {
          "output_type": "stream",
          "name": "stdout",
          "text": [
            "PE_N5_C1.cml        PE_N5_C1.lmp   PE_N5_C1.pdb   PE_N5_C1.xyz\n",
            "PE_N5_C1_gaff2.lmp  PE_N5_C1.mol2  PE_N5_C1.vasp\n"
          ]
        }
      ]
    },
    {
      "cell_type": "markdown",
      "metadata": {
        "id": "36FjV6zmVqfy"
      },
      "source": [
        "Let's visualize a model built by $MoleculeBuilder$."
      ]
    },
    {
      "cell_type": "code",
      "metadata": {
        "colab": {
          "base_uri": "https://localhost:8080/",
          "height": 354
        },
        "id": "mUhRVTIpRTPm",
        "outputId": "d02618b9-6c5d-445d-a404-61a9741778ac"
      },
      "source": [
        "visualize3D(\"molecules/PE_N5_C1.xyz\")"
      ],
      "execution_count": null,
      "outputs": [
        {
          "output_type": "stream",
          "name": "stdout",
          "text": [
            "molecules/PE_N5_C1.xyz\n"
          ]
        },
        {
          "output_type": "display_data",
          "data": {
            "application/3dmoljs_load.v0": "<div id=\"3dmolviewer_16463356672107458\"  style=\"position: relative; width: 400px; height: 300px\">\n        <p id=\"3dmolwarning_16463356672107458\" style=\"background-color:#ffcccc;color:black\">You appear to be running in JupyterLab (or JavaScript failed to load for some other reason).  You need to install the 3dmol extension: <br>\n        <tt>jupyter labextension install jupyterlab_3dmol</tt></p>\n        </div>\n<script>\n\nvar loadScriptAsync = function(uri){\n  return new Promise((resolve, reject) => {\n    var tag = document.createElement('script');\n    tag.src = uri;\n    tag.async = true;\n    tag.onload = () => {\n      resolve();\n    };\n  var firstScriptTag = document.getElementsByTagName('script')[0];\n  firstScriptTag.parentNode.insertBefore(tag, firstScriptTag);\n});\n};\n\nif(typeof $3Dmolpromise === 'undefined') {\n$3Dmolpromise = null;\n  $3Dmolpromise = loadScriptAsync('https://3dmol.org/build/3Dmol.js');\n}\n\nvar viewer_16463356672107458 = null;\nvar warn = document.getElementById(\"3dmolwarning_16463356672107458\");\nif(warn) {\n    warn.parentNode.removeChild(warn);\n}\n$3Dmolpromise.then(function() {\nviewer_16463356672107458 = $3Dmol.createViewer($(\"#3dmolviewer_16463356672107458\"),{backgroundColor:\"white\"});\nviewer_16463356672107458.zoomTo();\n\tviewer_16463356672107458.addModelsAsFrames(\"38\\n\\nF     -6.932401    0.558105   -0.408841\\nC     -6.359762   -0.398690    0.410494\\nF     -6.321484    0.075297    1.709950\\nF     -7.139982   -1.539906    0.374846\\nC     -4.946923   -0.735778   -0.072885\\nC     -4.018291    0.489859   -0.032701\\nC     -2.635710    0.206311   -0.642487\\nC     -1.757374   -0.670180    0.267294\\nC     -0.375511   -0.955044   -0.343175\\nC      0.553597    0.267917   -0.306204\\nC      1.959892   -0.096220   -0.797357\\nC      2.888415    1.127011   -0.760350\\nC      4.284716    0.835544   -1.333584\\nC      5.131262   -0.200891   -0.558579\\nC      5.523461    0.165394    0.892480\\nCl     4.185396   -0.129966    2.035443\\nCl     6.066499    1.859612    1.048065\\nCl     6.875396   -0.879395    1.402707\\nH     -4.540273   -1.540089    0.575426\\nH     -5.008533   -1.123953   -1.113027\\nH     -4.484381    1.313405   -0.616570\\nH     -3.900706    0.845793    1.014247\\nH     -2.135003    1.184435   -0.800043\\nH     -2.754193   -0.275577   -1.637680\\nH     -2.258483   -1.647876    0.425991\\nH     -1.637759   -0.187572    1.262011\\nH     -0.491401   -1.312204   -1.390096\\nH      0.093234   -1.776804    0.241859\\nH      0.144103    1.070394   -0.955478\\nH      0.618942    0.651875    0.735736\\nH      1.897420   -0.480105   -1.839400\\nH      2.367685   -0.900061   -0.149659\\nH      2.434544    1.931823   -1.379404\\nH      2.968929    1.528891    0.269816\\nH      4.164330    0.470547   -2.377143\\nH      4.845460    1.791121   -1.408940\\nH      6.068722   -0.333323   -1.142179\\nH      4.626167   -1.189700   -0.569612\\n\");\n\tviewer_16463356672107458.setStyle({\"stick\": {}});\n\tviewer_16463356672107458.addUnitCell();\n\tviewer_16463356672107458.replicateUnitCell(1,1,1);\n\tviewer_16463356672107458.zoomTo();\nviewer_16463356672107458.render();\n});\n</script>",
            "text/html": [
              "<div id=\"3dmolviewer_16463356672107458\"  style=\"position: relative; width: 400px; height: 300px\">\n",
              "        <p id=\"3dmolwarning_16463356672107458\" style=\"background-color:#ffcccc;color:black\">You appear to be running in JupyterLab (or JavaScript failed to load for some other reason).  You need to install the 3dmol extension: <br>\n",
              "        <tt>jupyter labextension install jupyterlab_3dmol</tt></p>\n",
              "        </div>\n",
              "<script>\n",
              "\n",
              "var loadScriptAsync = function(uri){\n",
              "  return new Promise((resolve, reject) => {\n",
              "    var tag = document.createElement('script');\n",
              "    tag.src = uri;\n",
              "    tag.async = true;\n",
              "    tag.onload = () => {\n",
              "      resolve();\n",
              "    };\n",
              "  var firstScriptTag = document.getElementsByTagName('script')[0];\n",
              "  firstScriptTag.parentNode.insertBefore(tag, firstScriptTag);\n",
              "});\n",
              "};\n",
              "\n",
              "if(typeof $3Dmolpromise === 'undefined') {\n",
              "$3Dmolpromise = null;\n",
              "  $3Dmolpromise = loadScriptAsync('https://3dmol.org/build/3Dmol.js');\n",
              "}\n",
              "\n",
              "var viewer_16463356672107458 = null;\n",
              "var warn = document.getElementById(\"3dmolwarning_16463356672107458\");\n",
              "if(warn) {\n",
              "    warn.parentNode.removeChild(warn);\n",
              "}\n",
              "$3Dmolpromise.then(function() {\n",
              "viewer_16463356672107458 = $3Dmol.createViewer($(\"#3dmolviewer_16463356672107458\"),{backgroundColor:\"white\"});\n",
              "viewer_16463356672107458.zoomTo();\n",
              "\tviewer_16463356672107458.addModelsAsFrames(\"38\\n\\nF     -6.932401    0.558105   -0.408841\\nC     -6.359762   -0.398690    0.410494\\nF     -6.321484    0.075297    1.709950\\nF     -7.139982   -1.539906    0.374846\\nC     -4.946923   -0.735778   -0.072885\\nC     -4.018291    0.489859   -0.032701\\nC     -2.635710    0.206311   -0.642487\\nC     -1.757374   -0.670180    0.267294\\nC     -0.375511   -0.955044   -0.343175\\nC      0.553597    0.267917   -0.306204\\nC      1.959892   -0.096220   -0.797357\\nC      2.888415    1.127011   -0.760350\\nC      4.284716    0.835544   -1.333584\\nC      5.131262   -0.200891   -0.558579\\nC      5.523461    0.165394    0.892480\\nCl     4.185396   -0.129966    2.035443\\nCl     6.066499    1.859612    1.048065\\nCl     6.875396   -0.879395    1.402707\\nH     -4.540273   -1.540089    0.575426\\nH     -5.008533   -1.123953   -1.113027\\nH     -4.484381    1.313405   -0.616570\\nH     -3.900706    0.845793    1.014247\\nH     -2.135003    1.184435   -0.800043\\nH     -2.754193   -0.275577   -1.637680\\nH     -2.258483   -1.647876    0.425991\\nH     -1.637759   -0.187572    1.262011\\nH     -0.491401   -1.312204   -1.390096\\nH      0.093234   -1.776804    0.241859\\nH      0.144103    1.070394   -0.955478\\nH      0.618942    0.651875    0.735736\\nH      1.897420   -0.480105   -1.839400\\nH      2.367685   -0.900061   -0.149659\\nH      2.434544    1.931823   -1.379404\\nH      2.968929    1.528891    0.269816\\nH      4.164330    0.470547   -2.377143\\nH      4.845460    1.791121   -1.408940\\nH      6.068722   -0.333323   -1.142179\\nH      4.626167   -1.189700   -0.569612\\n\");\n",
              "\tviewer_16463356672107458.setStyle({\"stick\": {}});\n",
              "\tviewer_16463356672107458.addUnitCell();\n",
              "\tviewer_16463356672107458.replicateUnitCell(1,1,1);\n",
              "\tviewer_16463356672107458.zoomTo();\n",
              "viewer_16463356672107458.render();\n",
              "});\n",
              "</script>"
            ]
          },
          "metadata": {}
        }
      ]
    },
    {
      "cell_type": "markdown",
      "metadata": {
        "id": "tA-BlaF4vP8h"
      },
      "source": [
        "###**Example 2**: Loop oligomers\n",
        "$MoleculeBuilder$ also builds loop models of a polymer. Required inputs are SMILES of the repeating unit and length (in terms of the number of monomer units) of the loop oligomer. Below, we have shown an example of a loop model for deca(vinyl chloride). As can be seen, we have provided the SMILES string for poly(vinyl chloride) and defined the length as 10 units."
      ]
    },
    {
      "cell_type": "code",
      "metadata": {
        "colab": {
          "base_uri": "https://localhost:8080/"
        },
        "id": "z6UmrTd7w4u4",
        "outputId": "be0a5822-fb76-42ba-956e-988a47d721a4"
      },
      "source": [
        "# Input SMILES string and length of the oligomer\n",
        "repeating_unit = 'C(C([*])Cl)[*]'\n",
        "oligo_length = 10\n",
        "\n",
        "# Create a pandas DataFrame\n",
        "import pandas as pd\n",
        "input_data = [['PVC',repeating_unit]]\n",
        "df_smiles = pd.DataFrame(input_data, columns = ['ID', 'smiles'])\n",
        "\n",
        "# Build models\n",
        "import pandas as pd\n",
        "import psp.MoleculeBuilder as mb\n",
        "mol = mb.Builder(df_smiles, Length=[oligo_length], Loop=True)\n",
        "results = mol.Build()"
      ],
      "execution_count": null,
      "outputs": [
        {
          "output_type": "stream",
          "name": "stdout",
          "text": [
            "\n",
            "                        ---------  PPPPPP       SSSSSS    PPPPPP    ---------                        \n",
            "                -----------------  PP    PP   SS          PP    PP  -----------------                \n",
            "        -------------------------  PP    PP   SS          PP    PP  -------------------------        \n",
            " --------------------------------  PPPPPP       SSSSS     PPPPPP    -------------------------------- \n",
            "        -------------------------  PP                SS   PP        -------------------------        \n",
            "                -----------------  PP                SS   PP        -----------------                \n",
            "                        ---------  PP          SSSSSS     PP        ---------                        \n",
            " --------------------------------------------------------------------------------------------------- \n",
            "          ** ** ** ** ** ** ** ** ** ** ** ** ** ** ** ** ** ** ** ** ** ** ** ** ** ** **          \n",
            "                        Polymer Structure Predictor (PSP) version =  1.0.0                     \n",
            "                                   Developed at Ramprasad Group                                      \n",
            "           Materials Science and Engineering, Georgia Institute of Technology, Atlanta, US           \n",
            "\n",
            "           Cite this work as:                                                                \n",
            "           H. Sahu, K-H. Shen, J. H. Montoya, H. Tran, R. Ramprasad, PSP: A python toolkit           \n",
            "           for predicting 3D models of polymers, journal name, volume, page, 2022.                   \n",
            "          ** ** ** ** ** ** ** ** ** ** ** ** ** ** ** ** ** ** ** ** ** ** ** ** ** ** **          \n",
            " --------------------------------------------------------------------------------------------------- \n",
            "  MoleculeBuilder  started...\n",
            " ----------------------------------------------- INPUT --------------------------------------------- \n",
            "|    | ID   | smiles         |\n",
            "|---:|:-----|:---------------|\n",
            "|  1 | PVC  | C(C([*])Cl)[*] |\n",
            "\n",
            " Additional information:  \n",
            " Length of oligomers:  [10] \n",
            " Number of conformers:  1 \n",
            " Loop model:  True \n",
            " Run short MD simulation:  False \n",
            " Generate OPLS parameter file:  False \n",
            " Intermolecular distance in POSCAR:  6 \n",
            " Number of cores:  All \n",
            " Output Directory:  molecules \n",
            "\n",
            "\n",
            " 3D model building started...\n",
            "\n"
          ]
        },
        {
          "output_type": "stream",
          "name": "stderr",
          "text": [
            "Building models ...: 100%|██████████| 1/1 [00:00<00:00,  1.51it/s]"
          ]
        },
        {
          "output_type": "stream",
          "name": "stdout",
          "text": [
            "\n",
            " 3D model building completed.\n",
            "\n",
            " ----------------------------------------------- OUTPUT -------------------------------------------- \n",
            "|    | ID   | Result   | SMILES                                                           |\n",
            "|---:|:-----|:---------|:-----------------------------------------------------------------|\n",
            "|  1 | PVC  | SUCCESS  | ['ClC1CC(Cl)CC(Cl)CC(Cl)CC(Cl)CC(Cl)CC(Cl)CC(Cl)CC(Cl)CC(Cl)C1'] |\n",
            "\n",
            " Total run time (minutes):  0.01\n",
            " ------------------------------------- PSP TERMINATED NORMALLY ------------------------------------- \n"
          ]
        },
        {
          "output_type": "stream",
          "name": "stderr",
          "text": [
            "\n"
          ]
        }
      ]
    },
    {
      "cell_type": "markdown",
      "metadata": {
        "id": "OpASUa-FZ16_"
      },
      "source": [
        "PSP normally terminated. All PSP output files are stored in *molecules/* directory. Let's visualize the loop model for deca(vinyl chloride)."
      ]
    },
    {
      "cell_type": "code",
      "metadata": {
        "colab": {
          "base_uri": "https://localhost:8080/",
          "height": 372
        },
        "id": "DGKLrIohxO6y",
        "outputId": "8baa47d4-3435-4751-c969-2edae53ba8ba"
      },
      "source": [
        "visualize3D(\"molecules/PVC_N10_C1.vasp\")"
      ],
      "execution_count": null,
      "outputs": [
        {
          "output_type": "stream",
          "name": "stdout",
          "text": [
            "1 molecule converted\n",
            "model_wCell.cif\n"
          ]
        },
        {
          "output_type": "display_data",
          "data": {
            "application/3dmoljs_load.v0": "<div id=\"3dmolviewer_16463356683652759\"  style=\"position: relative; width: 400px; height: 300px\">\n        <p id=\"3dmolwarning_16463356683652759\" style=\"background-color:#ffcccc;color:black\">You appear to be running in JupyterLab (or JavaScript failed to load for some other reason).  You need to install the 3dmol extension: <br>\n        <tt>jupyter labextension install jupyterlab_3dmol</tt></p>\n        </div>\n<script>\n\nvar loadScriptAsync = function(uri){\n  return new Promise((resolve, reject) => {\n    var tag = document.createElement('script');\n    tag.src = uri;\n    tag.async = true;\n    tag.onload = () => {\n      resolve();\n    };\n  var firstScriptTag = document.getElementsByTagName('script')[0];\n  firstScriptTag.parentNode.insertBefore(tag, firstScriptTag);\n});\n};\n\nif(typeof $3Dmolpromise === 'undefined') {\n$3Dmolpromise = null;\n  $3Dmolpromise = loadScriptAsync('https://3dmol.org/build/3Dmol.js');\n}\n\nvar viewer_16463356683652759 = null;\nvar warn = document.getElementById(\"3dmolwarning_16463356683652759\");\nif(warn) {\n    warn.parentNode.removeChild(warn);\n}\n$3Dmolpromise.then(function() {\nviewer_16463356683652759 = $3Dmol.createViewer($(\"#3dmolviewer_16463356683652759\"),{backgroundColor:\"white\"});\nviewer_16463356683652759.zoomTo();\n\tviewer_16463356683652759.addModelsAsFrames(\"# CIF file generated by openbabel 3.1.0, see https://openbabel.org\\ndata_I\\n_chemical_name_common '### PVC ###'\\n_cell_length_a 17.8034\\n_cell_length_b 16.0179\\n_cell_length_c 10.6412\\n_cell_angle_alpha 90\\n_cell_angle_beta 90\\n_cell_angle_gamma 90\\n_space_group_name_H-M_alt 'P 1'\\n_space_group_name_Hall 'P 1'\\nloop_\\n    _symmetry_equiv_pos_as_xyz\\n    x,y,z\\nloop_\\n    _atom_site_label\\n    _atom_site_type_symbol\\n    _atom_site_fract_x\\n    _atom_site_fract_y\\n    _atom_site_fract_z\\n    _atom_site_occupancy\\n    C0       C        0.40425    0.29573    0.37505    1.000\\n    C1       C        0.31876    0.49351    0.41725    1.000\\n    C2       C        0.44149    0.63872    0.43454    1.000\\n    C3       C        0.47716    0.69379    0.53781    1.000\\n    C4       C        0.25304    0.43264    0.44102    1.000\\n    C5       C        0.56315    0.68099    0.55388    1.000\\n    C6       C        0.60747    0.75359    0.49280    1.000\\n    C7       C        0.69414    0.74579    0.48885    1.000\\n    C8       C        0.72441    0.66582    0.42335    1.000\\n    C9       C        0.35465    0.64852    0.43238    1.000\\n    C10      C        0.26703    0.34524    0.38454    1.000\\n    C11      C        0.74474    0.50656    0.43736    1.000\\n    C12      C        0.33022    0.29579    0.45183    1.000\\n    C13      C        0.66835    0.46036    0.42664    1.000\\n    C14      C        0.67993    0.36578    0.39901    1.000\\n    C15      C        0.61932    0.30859    0.45794    1.000\\n    C16      C        0.54652    0.30416    0.37843    1.000\\n    C17      C        0.47530    0.28812    0.45756    1.000\\n    C18      C        0.74166    0.59046    0.51009    1.000\\n    C19      C        0.31033    0.57573    0.49177    1.000\\n    Cl20     Cl       0.16851    0.47360    0.37364    1.000\\n    Cl21     Cl       0.29932    0.19060    0.47739    1.000\\n    Cl22     Cl       0.47940    0.18729    0.52973    1.000\\n    Cl23     Cl       0.47834    0.66601    0.28343    1.000\\n    Cl24     Cl       0.58410    0.67362    0.71806    1.000\\n    Cl25     Cl       0.73609    0.76914    0.63780    1.000\\n    Cl26     Cl       0.83147    0.60564    0.58358    1.000\\n    Cl27     Cl       0.61314    0.50587    0.30382    1.000\\n    Cl28     Cl       0.65824    0.20596    0.47419    1.000\\n    Cl29     Cl       0.33516    0.56044    0.65312    1.000\\n    H30      H        0.46412    0.76052    0.51836    1.000\\n    H31      H        0.44845    0.67918    0.62784    1.000\\n    H32      H        0.45710    0.57273    0.45202    1.000\\n    H33      H        0.33786    0.70740    0.48030    1.000\\n    H34      H        0.33454    0.65564    0.33398    1.000\\n    H35      H        0.32196    0.50668    0.31481    1.000\\n    H36      H        0.37240    0.46386    0.44544    1.000\\n    H37      H        0.57989    0.62118    0.51000    1.000\\n    H38      H        0.24344    0.42609    0.54374    1.000\\n    H39      H        0.21344    0.31009    0.39338    1.000\\n    H40      H        0.27809    0.35048    0.28192    1.000\\n    H41      H        0.34022    0.32326    0.54627    1.000\\n    H42      H        0.25040    0.59515    0.49120    1.000\\n    H43      H        0.58803    0.76134    0.39441    1.000\\n    H44      H        0.68414    0.64821    0.34874    1.000\\n    H45      H        0.71273    0.79861    0.42852    1.000\\n    H46      H        0.77699    0.68217    0.37242    1.000\\n    H47      H        0.69975    0.58597    0.58668    1.000\\n    H48      H        0.78406    0.46529    0.48951    1.000\\n    H49      H        0.76968    0.51561    0.34254    1.000\\n    H50      H        0.63729    0.46779    0.51658    1.000\\n    H51      H        0.68375    0.35454    0.29621    1.000\\n    H52      H        0.73480    0.34568    0.43830    1.000\\n    H53      H        0.60657    0.33100    0.55445    1.000\\n    H54      H        0.53838    0.36391    0.32816    1.000\\n    H55      H        0.55203    0.25540    0.30466    1.000\\n    H56      H        0.47261    0.33600    0.53293    1.000\\n    H57      H        0.40840    0.35479    0.32073    1.000\\n    H58      H        0.59275    0.81272    0.54195    1.000\\n    H59      H        0.40318    0.24460    0.30438    1.000\\n\");\n\tviewer_16463356683652759.setStyle({\"stick\": {}});\n\tviewer_16463356683652759.addUnitCell();\n\tviewer_16463356683652759.replicateUnitCell(1,1,1);\n\tviewer_16463356683652759.zoomTo();\nviewer_16463356683652759.render();\n});\n</script>",
            "text/html": [
              "<div id=\"3dmolviewer_16463356683652759\"  style=\"position: relative; width: 400px; height: 300px\">\n",
              "        <p id=\"3dmolwarning_16463356683652759\" style=\"background-color:#ffcccc;color:black\">You appear to be running in JupyterLab (or JavaScript failed to load for some other reason).  You need to install the 3dmol extension: <br>\n",
              "        <tt>jupyter labextension install jupyterlab_3dmol</tt></p>\n",
              "        </div>\n",
              "<script>\n",
              "\n",
              "var loadScriptAsync = function(uri){\n",
              "  return new Promise((resolve, reject) => {\n",
              "    var tag = document.createElement('script');\n",
              "    tag.src = uri;\n",
              "    tag.async = true;\n",
              "    tag.onload = () => {\n",
              "      resolve();\n",
              "    };\n",
              "  var firstScriptTag = document.getElementsByTagName('script')[0];\n",
              "  firstScriptTag.parentNode.insertBefore(tag, firstScriptTag);\n",
              "});\n",
              "};\n",
              "\n",
              "if(typeof $3Dmolpromise === 'undefined') {\n",
              "$3Dmolpromise = null;\n",
              "  $3Dmolpromise = loadScriptAsync('https://3dmol.org/build/3Dmol.js');\n",
              "}\n",
              "\n",
              "var viewer_16463356683652759 = null;\n",
              "var warn = document.getElementById(\"3dmolwarning_16463356683652759\");\n",
              "if(warn) {\n",
              "    warn.parentNode.removeChild(warn);\n",
              "}\n",
              "$3Dmolpromise.then(function() {\n",
              "viewer_16463356683652759 = $3Dmol.createViewer($(\"#3dmolviewer_16463356683652759\"),{backgroundColor:\"white\"});\n",
              "viewer_16463356683652759.zoomTo();\n",
              "\tviewer_16463356683652759.addModelsAsFrames(\"# CIF file generated by openbabel 3.1.0, see https://openbabel.org\\ndata_I\\n_chemical_name_common '### PVC ###'\\n_cell_length_a 17.8034\\n_cell_length_b 16.0179\\n_cell_length_c 10.6412\\n_cell_angle_alpha 90\\n_cell_angle_beta 90\\n_cell_angle_gamma 90\\n_space_group_name_H-M_alt 'P 1'\\n_space_group_name_Hall 'P 1'\\nloop_\\n    _symmetry_equiv_pos_as_xyz\\n    x,y,z\\nloop_\\n    _atom_site_label\\n    _atom_site_type_symbol\\n    _atom_site_fract_x\\n    _atom_site_fract_y\\n    _atom_site_fract_z\\n    _atom_site_occupancy\\n    C0       C        0.40425    0.29573    0.37505    1.000\\n    C1       C        0.31876    0.49351    0.41725    1.000\\n    C2       C        0.44149    0.63872    0.43454    1.000\\n    C3       C        0.47716    0.69379    0.53781    1.000\\n    C4       C        0.25304    0.43264    0.44102    1.000\\n    C5       C        0.56315    0.68099    0.55388    1.000\\n    C6       C        0.60747    0.75359    0.49280    1.000\\n    C7       C        0.69414    0.74579    0.48885    1.000\\n    C8       C        0.72441    0.66582    0.42335    1.000\\n    C9       C        0.35465    0.64852    0.43238    1.000\\n    C10      C        0.26703    0.34524    0.38454    1.000\\n    C11      C        0.74474    0.50656    0.43736    1.000\\n    C12      C        0.33022    0.29579    0.45183    1.000\\n    C13      C        0.66835    0.46036    0.42664    1.000\\n    C14      C        0.67993    0.36578    0.39901    1.000\\n    C15      C        0.61932    0.30859    0.45794    1.000\\n    C16      C        0.54652    0.30416    0.37843    1.000\\n    C17      C        0.47530    0.28812    0.45756    1.000\\n    C18      C        0.74166    0.59046    0.51009    1.000\\n    C19      C        0.31033    0.57573    0.49177    1.000\\n    Cl20     Cl       0.16851    0.47360    0.37364    1.000\\n    Cl21     Cl       0.29932    0.19060    0.47739    1.000\\n    Cl22     Cl       0.47940    0.18729    0.52973    1.000\\n    Cl23     Cl       0.47834    0.66601    0.28343    1.000\\n    Cl24     Cl       0.58410    0.67362    0.71806    1.000\\n    Cl25     Cl       0.73609    0.76914    0.63780    1.000\\n    Cl26     Cl       0.83147    0.60564    0.58358    1.000\\n    Cl27     Cl       0.61314    0.50587    0.30382    1.000\\n    Cl28     Cl       0.65824    0.20596    0.47419    1.000\\n    Cl29     Cl       0.33516    0.56044    0.65312    1.000\\n    H30      H        0.46412    0.76052    0.51836    1.000\\n    H31      H        0.44845    0.67918    0.62784    1.000\\n    H32      H        0.45710    0.57273    0.45202    1.000\\n    H33      H        0.33786    0.70740    0.48030    1.000\\n    H34      H        0.33454    0.65564    0.33398    1.000\\n    H35      H        0.32196    0.50668    0.31481    1.000\\n    H36      H        0.37240    0.46386    0.44544    1.000\\n    H37      H        0.57989    0.62118    0.51000    1.000\\n    H38      H        0.24344    0.42609    0.54374    1.000\\n    H39      H        0.21344    0.31009    0.39338    1.000\\n    H40      H        0.27809    0.35048    0.28192    1.000\\n    H41      H        0.34022    0.32326    0.54627    1.000\\n    H42      H        0.25040    0.59515    0.49120    1.000\\n    H43      H        0.58803    0.76134    0.39441    1.000\\n    H44      H        0.68414    0.64821    0.34874    1.000\\n    H45      H        0.71273    0.79861    0.42852    1.000\\n    H46      H        0.77699    0.68217    0.37242    1.000\\n    H47      H        0.69975    0.58597    0.58668    1.000\\n    H48      H        0.78406    0.46529    0.48951    1.000\\n    H49      H        0.76968    0.51561    0.34254    1.000\\n    H50      H        0.63729    0.46779    0.51658    1.000\\n    H51      H        0.68375    0.35454    0.29621    1.000\\n    H52      H        0.73480    0.34568    0.43830    1.000\\n    H53      H        0.60657    0.33100    0.55445    1.000\\n    H54      H        0.53838    0.36391    0.32816    1.000\\n    H55      H        0.55203    0.25540    0.30466    1.000\\n    H56      H        0.47261    0.33600    0.53293    1.000\\n    H57      H        0.40840    0.35479    0.32073    1.000\\n    H58      H        0.59275    0.81272    0.54195    1.000\\n    H59      H        0.40318    0.24460    0.30438    1.000\\n\");\n",
              "\tviewer_16463356683652759.setStyle({\"stick\": {}});\n",
              "\tviewer_16463356683652759.addUnitCell();\n",
              "\tviewer_16463356683652759.replicateUnitCell(1,1,1);\n",
              "\tviewer_16463356683652759.zoomTo();\n",
              "viewer_16463356683652759.render();\n",
              "});\n",
              "</script>"
            ]
          },
          "metadata": {}
        }
      ]
    },
    {
      "cell_type": "markdown",
      "metadata": {
        "id": "WzUsrYQ7P1Kf"
      },
      "source": [
        "### Additional information\n",
        "$MoleculeBuilder$ allows fine-tuning of atomic models by adjusting a variety of parameters or keywords. Users may also construct several models simultaneously by defining all the input SMILES strings in a comma-separated values (CSV) file and supplying them as a pandas DataFrame to $MoleculeBuilder$."
      ]
    },
    {
      "cell_type": "markdown",
      "metadata": {
        "id": "4X8HdXQHlKFi"
      },
      "source": [
        "$MoleculeBuilder$ supports the following **parameters** or **keywords**:\n",
        "- $\\verb=Dataframe=$ **:** A *pandas Dataframe* that contains polymer IDs and SMILES strings representing repeating and endcap units.\n",
        "- $\\verb=ID_col=$ [*default option=`ID'*] **:** Column name for IDs of polymers/molecules in the Dataframe.\n",
        "- $\\verb=SMILES_col=$ [*default option=`smiles'*] **:** Column name for the polymer SMILES string (repeating unit) in the Dataframe.\n",
        "- $\\verb=LeftCap=$ [*default option=`LeftCap'*] **:** Column name for the SMILES string of left cap molecular fragment in the Dataframe.\n",
        "- $\\verb=RightCap=$ [*default option=`RightCap'*] **:** Column name for the SMILES string of right cap molecular fragment in the Dataframe.\n",
        "- $\\verb=Inter_Mol_Dis=$ [*default value=6$Å$*] **:** When periodic boundary conditions are applied (POSCAR format), it determines the minimum distance between two molecules in x, y, and z directions.\n",
        "- $\\verb=Length=$ [*default option=[1]*] **:** Monomer and oligomers can be generated by setting $\\verb=Length=$ as desired. For example, if $\\verb=Length=$=[1,2,5], monomer, dimer, and pentamer chains will be constructed.\n",
        "- $\\verb=NumConf=$ [*default value=1*] **:** PSP can create *N* number of conformers if $\\verb=NumConf=$=*N* is assigned, where *N* is an integer.\n",
        "- $\\verb=Loop=$ [*default option=False*] **:** It specifies whether to produce a linear or circular oligomer model. For circular one, set $\\verb=loop=$=True.\n",
        "- $\\verb=IrrStruc=$ [*default option=False*] **:** If $\\verb=IrrStruc=$=True, a short MD simulation will be performed to generate a more relevant structure. *This feature is not available here.*\n",
        "- $\\verb=OPLS=$ [*default option=False*] **:** If $\\verb=OPLS=$=True, an OPLS FF parameter file will be generated for each model.\n",
        "- $\\verb=GAFF2=$ [*default option=False*] **:** If $\\verb=GAFF2=$=True, an GAFF2 FF parameter file will be generated for each model.\n",
        "- $\\verb=GAFF2_atom_typing=$ [*default option=`pysimm'*] **:** Use *pysimm* or *antechamber* for atom typing.\n",
        "- $\\verb=OutDir=$ [*default option=`molecules'*] **:** The output directory, which contains output models of all molecules in XYZ ($\\textit{.xyz}$), POSCAR ($\\textit{.vasp}$), and PDB ($\\textit{.pdb}$) formats, including FF parameter files.\n",
        "\n",
        "**NOTE**: In the colab notebook, $\\verb=IrrStruc=$ and $\\verb=OPLS=$ do not work. $\\verb=IrrStruc=$ necessitates the installation of LAMMPS.\n",
        "$\\verb=OPLS=$ requires the BOSS executable and the LigParGen package. Please contact Prof. William L. Jorgensen for the BOSS executable, and to install LigparGen, follow the instructions at http://zarbi.chem.yale.edu/ligpargen."
      ]
    },
    {
      "cell_type": "markdown",
      "metadata": {
        "id": "1fLts3KUeL5D"
      },
      "source": [
        "As previously stated, users can provide a CSV file to build multiple models at the same time. An example CSV file containing SMILES strings of one molecule and two repeating polymer units, including endcap units, is provided below. Note that endcap units for **Mol1** are not provided, and the corresponding columns are left blank."
      ]
    },
    {
      "cell_type": "code",
      "metadata": {
        "colab": {
          "base_uri": "https://localhost:8080/"
        },
        "id": "pGRe5kSUGIX9",
        "outputId": "ee40a22d-ca1f-47d7-ca68-81532346e022"
      },
      "source": [
        "cat linear_oligomer_with_endcaps.csv"
      ],
      "execution_count": null,
      "outputs": [
        {
          "output_type": "stream",
          "name": "stdout",
          "text": [
            "ID,smiles,LeftCap,RightCap\n",
            "Mol1,C13C=CC(C2C=CC1N=C2OC)N=C3OC,,\n",
            "PE,[*]CC[*],C(Cl)(Cl)(Cl)[*],C(F)(F)(F)[*]\n",
            "PVC,C(C([*])Cl)[*],C(Cl)(Cl)(Cl)[*],C(F)(F)(F)[*]\n"
          ]
        }
      ]
    },
    {
      "cell_type": "markdown",
      "metadata": {
        "id": "U0IBqFByHBvO"
      },
      "source": [
        "Below is an example of a python code snippet required for $MoleculeBuilder$. The definitions of keywords and parameters are provided above."
      ]
    },
    {
      "cell_type": "code",
      "metadata": {
        "colab": {
          "base_uri": "https://localhost:8080/"
        },
        "id": "6B8kemsZtEBY",
        "outputId": "e6dcc1cf-74d4-4e3b-ce3d-16406796da45"
      },
      "source": [
        "cat molecule_model.py"
      ],
      "execution_count": null,
      "outputs": [
        {
          "output_type": "stream",
          "name": "stdout",
          "text": [
            "import pandas as pd\n",
            "import psp.MoleculeBuilder as mb\n",
            "\n",
            "df_smiles = pd.read_csv(\"linear_oligomer.csv\")\n",
            "\n",
            "mol = mb.Builder(\n",
            "    df_smiles,\n",
            "    ID_col=\"ID\",\n",
            "    SMILES_col=\"smiles\",\n",
            "    LeftCap = \"LeftCap\",\n",
            "    RightCap ='RightCap',\n",
            "    OutDir='models',\n",
            "    Inter_Mol_Dis=6,\n",
            "    Length=[1,3],\n",
            "    NumConf=1,\n",
            "    Loop=False,\n",
            "    NCores=1,\n",
            "    IrrStruc=False,\n",
            "    OPLS=False,\n",
            "    GAFF2=True,\n",
            "    GAFF2_atom_typing='pysimm'\n",
            ")\n",
            "results = mol.Build()\n"
          ]
        }
      ]
    },
    {
      "cell_type": "markdown",
      "metadata": {
        "id": "HH7LiDoVobbb"
      },
      "source": [
        "###**Example 3**: Build multiple models using a CSV file\n",
        "Now, we'll build models for all the SMILES provided in the CSV file (*linear_oligomer_with_endcaps.csv*). Also, we will simultaneously build monomer and pentamer models for each case, which is defined by $\\verb=Length=$. GAFF2 parameter files will be generated, which can then be used directly in LAMMPS MD simulations. All output models will be stored in */models* directory."
      ]
    },
    {
      "cell_type": "code",
      "metadata": {
        "colab": {
          "base_uri": "https://localhost:8080/"
        },
        "id": "eapZK_0yDOhO",
        "outputId": "7370266a-1aa0-4c74-c666-a7f7aadca626"
      },
      "source": [
        "df_smiles = pd.read_csv(\"linear_oligomer_with_endcaps.csv\")\n",
        "mol = mb.Builder(\n",
        "    df_smiles,\n",
        "    ID_col=\"ID\",\n",
        "    SMILES_col=\"smiles\",\n",
        "    LeftCap = \"LeftCap\",\n",
        "    RightCap ='RightCap',\n",
        "    OutDir='models',\n",
        "    Inter_Mol_Dis=6,\n",
        "    Length=[1,5],#16\n",
        "    NumConf=1,\n",
        "    Loop=False,\n",
        "    NCores=1,\n",
        "    IrrStruc=False,\n",
        "    OPLS=False,\n",
        "    GAFF2=True,\n",
        "    GAFF2_atom_typing='antechamber'\n",
        ")\n",
        "results = mol.Build()"
      ],
      "execution_count": null,
      "outputs": [
        {
          "output_type": "stream",
          "name": "stdout",
          "text": [
            "\n",
            "                        ---------  PPPPPP       SSSSSS    PPPPPP    ---------                        \n",
            "                -----------------  PP    PP   SS          PP    PP  -----------------                \n",
            "        -------------------------  PP    PP   SS          PP    PP  -------------------------        \n",
            " --------------------------------  PPPPPP       SSSSS     PPPPPP    -------------------------------- \n",
            "        -------------------------  PP                SS   PP        -------------------------        \n",
            "                -----------------  PP                SS   PP        -----------------                \n",
            "                        ---------  PP          SSSSSS     PP        ---------                        \n",
            " --------------------------------------------------------------------------------------------------- \n",
            "          ** ** ** ** ** ** ** ** ** ** ** ** ** ** ** ** ** ** ** ** ** ** ** ** ** ** **          \n",
            "                        Polymer Structure Predictor (PSP) version =  1.0.0                     \n",
            "                                   Developed at Ramprasad Group                                      \n",
            "           Materials Science and Engineering, Georgia Institute of Technology, Atlanta, US           \n",
            "\n",
            "           Cite this work as:                                                                \n",
            "           H. Sahu, K-H. Shen, J. H. Montoya, H. Tran, R. Ramprasad, PSP: A python toolkit           \n",
            "           for predicting 3D models of polymers, journal name, volume, page, 2022.                   \n",
            "          ** ** ** ** ** ** ** ** ** ** ** ** ** ** ** ** ** ** ** ** ** ** ** ** ** ** **          \n",
            " --------------------------------------------------------------------------------------------------- \n",
            "  MoleculeBuilder  started...\n",
            " ----------------------------------------------- INPUT --------------------------------------------- \n",
            "|    | ID   | smiles                       | LeftCap          | RightCap      |\n",
            "|---:|:-----|:-----------------------------|:-----------------|:--------------|\n",
            "|  1 | Mol1 | C13C=CC(C2C=CC1N=C2OC)N=C3OC | nan              | nan           |\n",
            "|  2 | PE   | [*]CC[*]                     | C(Cl)(Cl)(Cl)[*] | C(F)(F)(F)[*] |\n",
            "|  3 | PVC  | C(C([*])Cl)[*]               | C(Cl)(Cl)(Cl)[*] | C(F)(F)(F)[*] |\n",
            "\n",
            " Additional information:  \n",
            " Length of oligomers:  [1, 5] \n",
            " Number of conformers:  1 \n",
            " Loop model:  False \n",
            " Run short MD simulation:  False \n",
            " Generate OPLS parameter file:  False \n",
            " Intermolecular distance in POSCAR:  6 \n",
            " Number of cores:  1 \n",
            " Output Directory:  models \n",
            "\n",
            "\n",
            " 3D model building started...\n",
            "\n"
          ]
        },
        {
          "output_type": "stream",
          "name": "stderr",
          "text": [
            "\rBuilding models ...:   0%|          | 0/3 [00:00<?, ?it/s]"
          ]
        },
        {
          "output_type": "stream",
          "name": "stdout",
          "text": [
            "\n",
            "Generating GAFF2 parameter file ...\n",
            "\n",
            "Pysimm working on models/Mol1_N1_C1.mol2\n",
            "(debug) PySIMM: reading file\n",
            "Antechamber working on models/Mol1_N1_C1.mol2\n"
          ]
        },
        {
          "output_type": "stream",
          "name": "stderr",
          "text": [
            "\rBuilding models ...:  33%|███▎      | 1/3 [00:02<00:04,  2.12s/it]"
          ]
        },
        {
          "output_type": "stream",
          "name": "stdout",
          "text": [
            "adding gasteiger charges\n",
            "charges converged after 17 iterations\n",
            "\n",
            "GAFF2 parameter file generated.\n",
            "Mol1 : Couldn't fetch the position of dummy atoms. Hints: (1) In SMILES strings, use '*' for a dummy atom,(2) Check RDKit installation.\n",
            "\n",
            "Generating GAFF2 parameter file ...\n",
            "\n",
            "Pysimm working on models/PE_N1_C1.mol2\n",
            "(debug) PySIMM: reading file\n",
            "Antechamber working on models/PE_N1_C1.mol2\n",
            "adding gasteiger charges\n",
            "charges converged after 17 iterations\n",
            "\n",
            "GAFF2 parameter file generated.\n",
            "\n",
            "Generating GAFF2 parameter file ...\n",
            "\n",
            "Pysimm working on models/PE_N5_C1.mol2\n",
            "(debug) PySIMM: reading file\n",
            "Antechamber working on models/PE_N5_C1.mol2\n"
          ]
        },
        {
          "output_type": "stream",
          "name": "stderr",
          "text": [
            "\rBuilding models ...:  67%|██████▋   | 2/3 [00:05<00:02,  2.84s/it]"
          ]
        },
        {
          "output_type": "stream",
          "name": "stdout",
          "text": [
            "adding gasteiger charges\n",
            "charges converged after 17 iterations\n",
            "\n",
            "GAFF2 parameter file generated.\n",
            "\n",
            "Generating GAFF2 parameter file ...\n",
            "\n",
            "Pysimm working on models/PVC_N1_C1.mol2\n",
            "(debug) PySIMM: reading file\n",
            "Antechamber working on models/PVC_N1_C1.mol2\n",
            "adding gasteiger charges\n",
            "charges converged after 17 iterations\n",
            "\n",
            "GAFF2 parameter file generated.\n",
            "\n",
            "Generating GAFF2 parameter file ...\n",
            "\n",
            "Pysimm working on models/PVC_N5_C1.mol2\n",
            "(debug) PySIMM: reading file\n",
            "Antechamber working on models/PVC_N5_C1.mol2\n"
          ]
        },
        {
          "output_type": "stream",
          "name": "stderr",
          "text": [
            "Building models ...: 100%|██████████| 3/3 [00:09<00:00,  3.26s/it]"
          ]
        },
        {
          "output_type": "stream",
          "name": "stdout",
          "text": [
            "adding gasteiger charges\n",
            "charges converged after 17 iterations\n",
            "\n",
            "GAFF2 parameter file generated.\n",
            "\n",
            " 3D model building completed.\n",
            "\n",
            " ----------------------------------------------- OUTPUT -------------------------------------------- \n",
            "|    | ID   | Result          | SMILES                                                                             |\n",
            "|---:|:-----|:----------------|:-----------------------------------------------------------------------------------|\n",
            "|  1 | Mol1 | PARTIAL SUCCESS | ['COC1=NC2C=CC1C1C=CC2C(OC)=N1']                                                   |\n",
            "|  2 | PE   | SUCCESS         | ['FC(F)(F)CCC(Cl)(Cl)Cl', 'FC(F)(F)CCCCCCCCCCC(Cl)(Cl)Cl']                         |\n",
            "|  3 | PVC  | SUCCESS         | ['FC(F)(F)C(Cl)CC(Cl)(Cl)Cl', 'FC(F)(F)CC(Cl)CC(Cl)CC(Cl)CC(Cl)CC(Cl)C(Cl)(Cl)Cl'] |\n",
            "\n",
            " Total run time (minutes):  0.16\n",
            " ------------------------------------- PSP TERMINATED NORMALLY ------------------------------------- \n"
          ]
        },
        {
          "output_type": "stream",
          "name": "stderr",
          "text": [
            "\n"
          ]
        }
      ]
    },
    {
      "cell_type": "markdown",
      "metadata": {
        "id": "11wYx3FGOKL3"
      },
      "source": [
        "PSP terminated normally. Users can visualize models stored in */models* directory using the $\\verb=visualize3D()=$ function. **Note:** it accepts *.pbd*, *.xyz* and *.vasp* file formats."
      ]
    },
    {
      "cell_type": "code",
      "metadata": {
        "colab": {
          "base_uri": "https://localhost:8080/"
        },
        "id": "_idRU5OIDb70",
        "outputId": "8dd32465-f898-4cd4-8c0a-7b77651d45ea"
      },
      "source": [
        "ls models/"
      ],
      "execution_count": null,
      "outputs": [
        {
          "output_type": "stream",
          "name": "stdout",
          "text": [
            "Mol1_N1_C1_gaff2.lmp  PE_N1_C1.vasp        PVC_N1_C1.mol2\n",
            "Mol1_N1_C1.lmp        PE_N1_C1.xyz         PVC_N1_C1.pdb\n",
            "Mol1_N1_C1.mol2       PE_N5_C1_gaff2.lmp   PVC_N1_C1.vasp\n",
            "Mol1_N1_C1.pdb        PE_N5_C1.lmp         PVC_N1_C1.xyz\n",
            "Mol1_N1_C1.vasp       PE_N5_C1.mol2        PVC_N5_C1_gaff2.lmp\n",
            "Mol1_N1_C1.xyz        PE_N5_C1.pdb         PVC_N5_C1.lmp\n",
            "PE_N1_C1_gaff2.lmp    PE_N5_C1.vasp        PVC_N5_C1.mol2\n",
            "PE_N1_C1.lmp          PE_N5_C1.xyz         PVC_N5_C1.pdb\n",
            "PE_N1_C1.mol2         PVC_N1_C1_gaff2.lmp  PVC_N5_C1.vasp\n",
            "PE_N1_C1.pdb          PVC_N1_C1.lmp        PVC_N5_C1.xyz\n"
          ]
        }
      ]
    },
    {
      "cell_type": "markdown",
      "metadata": {
        "id": "ZCuoRhjozeNG"
      },
      "source": [
        "Users can modify the supplied CSV file or upload their own to create the desired models."
      ]
    },
    {
      "cell_type": "markdown",
      "metadata": {
        "id": "7iOJVH_hnzVN"
      },
      "source": [
        "## ChainBuilder\n",
        "$ChainBuilder$ builds periodic 3D structures of finite and infinite polymer chains (periodic) using polymer SMILES strings. Notably, all generated models are aligned along the Z-axis. Infinite polymer chains are stored in POSCAR format ($.vasp$), while oligomers are stored in POSCAR and XYZ formats. Several examples are provided to show how quickly infinite chain models can be built using $ChainBuilder$."
      ]
    },
    {
      "cell_type": "markdown",
      "metadata": {
        "id": "Nbz-6cMI2Ysv"
      },
      "source": [
        "Let's go to the *polymer_models/ChainBuilder* directory:"
      ]
    },
    {
      "cell_type": "code",
      "metadata": {
        "id": "w71fph_CRMPc",
        "colab": {
          "base_uri": "https://localhost:8080/"
        },
        "outputId": "0a47c260-f255-4a6a-8561-85675d236661"
      },
      "source": [
        "cd /content/polymer_models/ChainBuilder/"
      ],
      "execution_count": null,
      "outputs": [
        {
          "output_type": "stream",
          "name": "stdout",
          "text": [
            "/content/polymer_models/ChainBuilder\n"
          ]
        }
      ]
    },
    {
      "cell_type": "markdown",
      "metadata": {
        "id": "qVCbdMEZUZ4y"
      },
      "source": [
        "### **Example 1**: Models for infinite polymer chains\n",
        "The minimum input required to construct a periodic chain model is the repeating unit SMILES string. Here's an example of creating an infinite polymer chain model for poly(vinyl chloride).\n"
      ]
    },
    {
      "cell_type": "code",
      "metadata": {
        "colab": {
          "base_uri": "https://localhost:8080/"
        },
        "id": "tWm4qel1x4hf",
        "outputId": "3f2f7163-b857-48f0-cc34-7e479251c3d2"
      },
      "source": [
        "# Input SMILES string\n",
        "repeating_unit = 'C(C(CC([*])Cl)Cl)[*]'\n",
        "\n",
        "# Create a pandas DataFrame\n",
        "import pandas as pd\n",
        "input_data = [['PVC',repeating_unit]]\n",
        "df_smiles = pd.DataFrame(input_data, columns = ['ID', 'smiles'])\n",
        "\n",
        "# Build models\n",
        "import psp.ChainBuilder as ChB\n",
        "chain_builder = ChB.Builder(Dataframe=df_smiles)\n",
        "results = chain_builder.BuildChain()"
      ],
      "execution_count": null,
      "outputs": [
        {
          "output_type": "stream",
          "name": "stdout",
          "text": [
            "\n",
            "                        ---------  PPPPPP       SSSSSS    PPPPPP    ---------                        \n",
            "                -----------------  PP    PP   SS          PP    PP  -----------------                \n",
            "        -------------------------  PP    PP   SS          PP    PP  -------------------------        \n",
            " --------------------------------  PPPPPP       SSSSS     PPPPPP    -------------------------------- \n",
            "        -------------------------  PP                SS   PP        -------------------------        \n",
            "                -----------------  PP                SS   PP        -----------------                \n",
            "                        ---------  PP          SSSSSS     PP        ---------                        \n",
            " --------------------------------------------------------------------------------------------------- \n",
            "          ** ** ** ** ** ** ** ** ** ** ** ** ** ** ** ** ** ** ** ** ** ** ** ** ** ** **          \n",
            "                        Polymer Structure Predictor (PSP) version =  1.0.0                     \n",
            "                                   Developed at Ramprasad Group                                      \n",
            "           Materials Science and Engineering, Georgia Institute of Technology, Atlanta, US           \n",
            "\n",
            "           Cite this work as:                                                                \n",
            "           H. Sahu, K-H. Shen, J. H. Montoya, H. Tran, R. Ramprasad, PSP: A python toolkit           \n",
            "           for predicting 3D models of polymers, journal name, volume, page, 2022.                   \n",
            "          ** ** ** ** ** ** ** ** ** ** ** ** ** ** ** ** ** ** ** ** ** ** ** ** ** ** **          \n",
            " --------------------------------------------------------------------------------------------------- \n",
            "  ChainBuilder  started...\n",
            " ----------------------------------------------- INPUT --------------------------------------------- \n",
            "|    | ID   | smiles               |\n",
            "|---:|:-----|:---------------------|\n",
            "|  1 | PVC  | C(C(CC([*])Cl)Cl)[*] |\n",
            "\n",
            " Additional information:  \n",
            " Length of oligomers:  ['n'] \n",
            " Method:  SA | Steps:  20 | Substeps:  10 \n",
            " Intrachain correction:  1 \n",
            " Tolerance for intrachain correction:  50 \n",
            " Number of cores:  All \n",
            " Output directory:  chains \n",
            "\n",
            "\n",
            " Polymer chain building started...\n",
            "\n"
          ]
        },
        {
          "output_type": "stream",
          "name": "stderr",
          "text": [
            "\rBuilding models ...:   0%|          | 0/1 [00:00<?, ?it/s]"
          ]
        },
        {
          "output_type": "stream",
          "name": "stdout",
          "text": [
            " Chain model building started for PVC ...\n"
          ]
        },
        {
          "output_type": "stream",
          "name": "stderr",
          "text": [
            "Building models ...: 100%|██████████| 1/1 [00:00<00:00,  1.99it/s]"
          ]
        },
        {
          "output_type": "stream",
          "name": "stdout",
          "text": [
            " Chain model building completed for PVC .\n",
            "\n",
            " Polymer chain building completed.\n",
            "\n",
            " ----------------------------------------------- OUTPUT -------------------------------------------- \n",
            "|    | ID   | Result   |\n",
            "|---:|:-----|:---------|\n",
            "|  1 | PVC  | SUCCESS  |\n",
            "\n",
            " Total run time (minutes):  0.01\n",
            " ------------------------------------- PSP TERMINATED NORMALLY ------------------------------------- \n"
          ]
        },
        {
          "output_type": "stream",
          "name": "stderr",
          "text": [
            "\n"
          ]
        }
      ]
    },
    {
      "cell_type": "markdown",
      "metadata": {
        "id": "VK6cpIVTQkje"
      },
      "source": [
        "PSP normally terminated. The polymer model is saved in the directory: *chains/PVC/*. Let's see how the model looks."
      ]
    },
    {
      "cell_type": "code",
      "metadata": {
        "colab": {
          "base_uri": "https://localhost:8080/",
          "height": 372
        },
        "id": "Kj4BFy3QyqlU",
        "outputId": "ae96386a-86cc-4df6-9501-bac9d95cf678"
      },
      "source": [
        "visualize3D(\"chains/PVC/PVC.vasp\")"
      ],
      "execution_count": null,
      "outputs": [
        {
          "output_type": "stream",
          "name": "stdout",
          "text": [
            "1 molecule converted\n",
            "model_wCell.cif\n"
          ]
        },
        {
          "output_type": "display_data",
          "data": {
            "application/3dmoljs_load.v0": "<div id=\"3dmolviewer_16463356795770383\"  style=\"position: relative; width: 400px; height: 300px\">\n        <p id=\"3dmolwarning_16463356795770383\" style=\"background-color:#ffcccc;color:black\">You appear to be running in JupyterLab (or JavaScript failed to load for some other reason).  You need to install the 3dmol extension: <br>\n        <tt>jupyter labextension install jupyterlab_3dmol</tt></p>\n        </div>\n<script>\n\nvar loadScriptAsync = function(uri){\n  return new Promise((resolve, reject) => {\n    var tag = document.createElement('script');\n    tag.src = uri;\n    tag.async = true;\n    tag.onload = () => {\n      resolve();\n    };\n  var firstScriptTag = document.getElementsByTagName('script')[0];\n  firstScriptTag.parentNode.insertBefore(tag, firstScriptTag);\n});\n};\n\nif(typeof $3Dmolpromise === 'undefined') {\n$3Dmolpromise = null;\n  $3Dmolpromise = loadScriptAsync('https://3dmol.org/build/3Dmol.js');\n}\n\nvar viewer_16463356795770383 = null;\nvar warn = document.getElementById(\"3dmolwarning_16463356795770383\");\nif(warn) {\n    warn.parentNode.removeChild(warn);\n}\n$3Dmolpromise.then(function() {\nviewer_16463356795770383 = $3Dmol.createViewer($(\"#3dmolviewer_16463356795770383\"),{backgroundColor:\"white\"});\nviewer_16463356795770383.zoomTo();\n\tviewer_16463356795770383.addModelsAsFrames(\"# CIF file generated by openbabel 3.1.0, see https://openbabel.org\\ndata_I\\n_chemical_name_common '### PVC ###'\\n_cell_length_a 15.583\\n_cell_length_b 15.4755\\n_cell_length_c 5.06569\\n_cell_angle_alpha 90\\n_cell_angle_beta 90\\n_cell_angle_gamma 90\\n_space_group_name_H-M_alt 'P 1'\\n_space_group_name_Hall 'P 1'\\nloop_\\n    _symmetry_equiv_pos_as_xyz\\n    x,y,z\\nloop_\\n    _atom_site_label\\n    _atom_site_type_symbol\\n    _atom_site_fract_x\\n    _atom_site_fract_y\\n    _atom_site_fract_z\\n    _atom_site_occupancy\\n    C0       C        0.50793    0.49485    0.89366    1.000\\n    C1       C        0.45299    0.45943    0.14904    1.000\\n    C2       C        0.50087    0.49646    0.38771    1.000\\n    C3       C        0.46005    0.46389    0.64631    1.000\\n    Cl4      Cl       0.61497    0.45394    0.90452    1.000\\n    Cl5      Cl       0.49862    0.61232    0.37547    1.000\\n    H6       H        0.45447    0.38771    0.15496    1.000\\n    H7       H        0.38504    0.48115    0.14963    1.000\\n    H8       H        0.56863    0.47443    0.37685    1.000\\n    H9       H        0.39254    0.48716    0.65559    1.000\\n    H10      H        0.45922    0.39204    0.64710    1.000\\n    H11      H        0.51011    0.56651    0.90057    1.000\\n\");\n\tviewer_16463356795770383.setStyle({\"stick\": {}});\n\tviewer_16463356795770383.addUnitCell();\n\tviewer_16463356795770383.replicateUnitCell(1,1,1);\n\tviewer_16463356795770383.zoomTo();\nviewer_16463356795770383.render();\n});\n</script>",
            "text/html": [
              "<div id=\"3dmolviewer_16463356795770383\"  style=\"position: relative; width: 400px; height: 300px\">\n",
              "        <p id=\"3dmolwarning_16463356795770383\" style=\"background-color:#ffcccc;color:black\">You appear to be running in JupyterLab (or JavaScript failed to load for some other reason).  You need to install the 3dmol extension: <br>\n",
              "        <tt>jupyter labextension install jupyterlab_3dmol</tt></p>\n",
              "        </div>\n",
              "<script>\n",
              "\n",
              "var loadScriptAsync = function(uri){\n",
              "  return new Promise((resolve, reject) => {\n",
              "    var tag = document.createElement('script');\n",
              "    tag.src = uri;\n",
              "    tag.async = true;\n",
              "    tag.onload = () => {\n",
              "      resolve();\n",
              "    };\n",
              "  var firstScriptTag = document.getElementsByTagName('script')[0];\n",
              "  firstScriptTag.parentNode.insertBefore(tag, firstScriptTag);\n",
              "});\n",
              "};\n",
              "\n",
              "if(typeof $3Dmolpromise === 'undefined') {\n",
              "$3Dmolpromise = null;\n",
              "  $3Dmolpromise = loadScriptAsync('https://3dmol.org/build/3Dmol.js');\n",
              "}\n",
              "\n",
              "var viewer_16463356795770383 = null;\n",
              "var warn = document.getElementById(\"3dmolwarning_16463356795770383\");\n",
              "if(warn) {\n",
              "    warn.parentNode.removeChild(warn);\n",
              "}\n",
              "$3Dmolpromise.then(function() {\n",
              "viewer_16463356795770383 = $3Dmol.createViewer($(\"#3dmolviewer_16463356795770383\"),{backgroundColor:\"white\"});\n",
              "viewer_16463356795770383.zoomTo();\n",
              "\tviewer_16463356795770383.addModelsAsFrames(\"# CIF file generated by openbabel 3.1.0, see https://openbabel.org\\ndata_I\\n_chemical_name_common '### PVC ###'\\n_cell_length_a 15.583\\n_cell_length_b 15.4755\\n_cell_length_c 5.06569\\n_cell_angle_alpha 90\\n_cell_angle_beta 90\\n_cell_angle_gamma 90\\n_space_group_name_H-M_alt 'P 1'\\n_space_group_name_Hall 'P 1'\\nloop_\\n    _symmetry_equiv_pos_as_xyz\\n    x,y,z\\nloop_\\n    _atom_site_label\\n    _atom_site_type_symbol\\n    _atom_site_fract_x\\n    _atom_site_fract_y\\n    _atom_site_fract_z\\n    _atom_site_occupancy\\n    C0       C        0.50793    0.49485    0.89366    1.000\\n    C1       C        0.45299    0.45943    0.14904    1.000\\n    C2       C        0.50087    0.49646    0.38771    1.000\\n    C3       C        0.46005    0.46389    0.64631    1.000\\n    Cl4      Cl       0.61497    0.45394    0.90452    1.000\\n    Cl5      Cl       0.49862    0.61232    0.37547    1.000\\n    H6       H        0.45447    0.38771    0.15496    1.000\\n    H7       H        0.38504    0.48115    0.14963    1.000\\n    H8       H        0.56863    0.47443    0.37685    1.000\\n    H9       H        0.39254    0.48716    0.65559    1.000\\n    H10      H        0.45922    0.39204    0.64710    1.000\\n    H11      H        0.51011    0.56651    0.90057    1.000\\n\");\n",
              "\tviewer_16463356795770383.setStyle({\"stick\": {}});\n",
              "\tviewer_16463356795770383.addUnitCell();\n",
              "\tviewer_16463356795770383.replicateUnitCell(1,1,1);\n",
              "\tviewer_16463356795770383.zoomTo();\n",
              "viewer_16463356795770383.render();\n",
              "});\n",
              "</script>"
            ]
          },
          "metadata": {}
        }
      ]
    },
    {
      "cell_type": "markdown",
      "metadata": {
        "id": "mbgNzORzQ4Q2"
      },
      "source": [
        "### Additional information\n",
        "$ChainBuilder$ allows fine-tuning of chain models by adjusting a variety of parameters or keywords. Users can also build multiple models simultaneously by defining all of the input SMILES strings in a CSV file and supplying them to $ChainBuilder$ as a pandas DataFrame."
      ]
    },
    {
      "cell_type": "markdown",
      "metadata": {
        "id": "HZHNK5Mboeq7"
      },
      "source": [
        "$ChainBuilder$ allows altering the following **parameters** or **keywords**:\n",
        "- $\\verb=Dataframe=$ **:** A pandas Dataframe having polymer IDs and SMILES strings.\n",
        "- $\\verb=ID_col=$ [*default option=`ID'*] **:** Column name for the polymer IDs in the Dataframe.\n",
        "- $\\verb=SMILE_col=$ [*default option=`smiles'*] **:** Column name for the polymer SMILES strings (repeating unit) in the Dataframe.\n",
        "- $\\verb=Length=$ [*default option=`n'*] **:** It defines the lengths of oligomers. For example, if $\\verb=Length=$=[1,2,5,*`n'*], monomer, dimer, pentamer, and infinite polymer chain will be created. Note that *`n'* stands for infinite polymer chains.\n",
        "- $\\verb=Method=$ [*default option=`SA'*] **:** The default option for $\\verb=method=$ is *`SA'*, which means that the simulated annealing (SA) method will be used. If method=*`Dimer'*, then the $ChainBuilder$ will create dimers by rotating one monomer unit while keeping the other one fixed. This can quickly create polymer chains; however, the quality of chains may not be good, and the number of atoms in a unit cell will be high.\n",
        "- $\\verb=Steps=$ [*default value=20*] **:** The computational cost of $ChainBuilder$ mainly depends on how many steps and substeps are used in the SA method. \\verb=Steps= is the outer loop of the SA, and we recommend to set a large value ($\\verb=Steps=$=100 or more) if there are many rotatable single bonds in a molecule. To avoid unnecessary calculations, if the SA doesn't find a better geometry after three steps, it is terminated.\n",
        "- $\\verb=Substeps=$ [*default value=10*] **:** $\\verb=Substeps=$ is the inner loop of the SA, and  $\\verb=Substeps=$=20 should be sufficient for most of the cases.\n",
        "- $\\verb=IntraChainCorr=$ [*default option=True*] **:** $ChainBuilder$ sometimes generates a twisted polymer (often helical) backbone. If $\\verb=IntraChainCorr=$=True, $ChainBuilder$ makes the backbone straight by gradually moving two sets of the dummy and linking atoms towards opposite directions on the $z$-axis.\n",
        "- $\\verb=Tol_ChainCorr=$ [*default value=50*] **:** While straightening a monomer, we apply a cutoff for a sudden energy bump (in KJ/mol) defined by $\\verb=Tol_ChainCorr=$. Once it is reached, $ChainBuilder$ doesn't stretch the molecule further.\n",
        "- $\\verb=OutDir=$ [*default option=`chains'*] **:** This key allows users to define a directory where they want to store output files."
      ]
    },
    {
      "cell_type": "markdown",
      "metadata": {
        "id": "p5vxJGVkUBZE"
      },
      "source": [
        "As previously stated, users can provide a CSV file to build multiple chain models at the same time. An example CSV file containing repeating unit SMILES strings for 6 different polymers is provided below."
      ]
    },
    {
      "cell_type": "code",
      "metadata": {
        "colab": {
          "base_uri": "https://localhost:8080/"
        },
        "id": "pESqIQU1u3on",
        "outputId": "09730a79-0413-4e30-be59-12f85ec392c8"
      },
      "source": [
        "cat input_chain.csv"
      ],
      "execution_count": null,
      "outputs": [
        {
          "output_type": "stream",
          "name": "stdout",
          "text": [
            "PID,smiles_polymer\n",
            "PE,[*]CC[*]\n",
            "PVC,C(C(CC([*])Cl)Cl)[*]\n",
            "ABPBO,c1c2c(cc(c1)c1oc3c(n1)cc(cc3)[*])nc(o2)[*]\n",
            "PVDF,C(C(F)(F)[*])[*]\n",
            "PAN,C(CC(C[*])C#N)([*])C#N\n",
            "PPS,C1=CC(=CC=C1SC2=CC=C(C=C2)S[*])[*]\n"
          ]
        }
      ]
    },
    {
      "cell_type": "markdown",
      "metadata": {
        "id": "d0tLz_KDTS3B"
      },
      "source": [
        "The python code snippet required for $ChainBuilder$ is shown below.\n",
        "The definitions of keywords and parameters are provided above."
      ]
    },
    {
      "cell_type": "code",
      "metadata": {
        "colab": {
          "base_uri": "https://localhost:8080/"
        },
        "id": "wUjeuQgBu7mi",
        "outputId": "103b1ce3-7620-4d6f-918c-22e3f0e345b4"
      },
      "source": [
        "cat chain_model.py"
      ],
      "execution_count": null,
      "outputs": [
        {
          "output_type": "stream",
          "name": "stdout",
          "text": [
            "import pandas as pd\n",
            "import psp.ChainBuilder as ChB\n",
            "\n",
            "df_smiles = pd.read_csv(\"input_chain.csv\")\n",
            "chain_builder = ChB.Builder(\n",
            "    Dataframe=df_smiles,\n",
            "    ID_col=\"PID\",\n",
            "    SMILES_col=\"smiles_polymer\",\n",
            "    NumConf=1,\n",
            "    Length=[\"n\", 5],\n",
            "    Steps=100,\n",
            "    Substeps=20,\n",
            "    Method=\"SA\",\n",
            "    NCores=1,\n",
            "    OutDir='chains',\n",
            "    Tol_ChainCorr=50,\n",
            "    Inter_Chain_Dis=12,\n",
            ")\n",
            "results = chain_builder.BuildChain()\n"
          ]
        }
      ]
    },
    {
      "cell_type": "markdown",
      "metadata": {
        "id": "vrXLj1aDQuat"
      },
      "source": [
        "###**Example 2**: Build multiple chain models\n",
        "Using the given CSV file (*input_chain.csv*), let's build infinite chain and pentamer models for 6 polymers simultaneously. "
      ]
    },
    {
      "cell_type": "code",
      "metadata": {
        "id": "RLrKz68ZvAOo",
        "colab": {
          "base_uri": "https://localhost:8080/"
        },
        "outputId": "286fc984-b2b8-4908-85b6-c4e1c61bf447"
      },
      "source": [
        "import pandas as pd\n",
        "import psp.ChainBuilder as ChB\n",
        "df_smiles = pd.read_csv(\"input_chain.csv\")\n",
        "chain_builder = ChB.Builder(\n",
        "    Dataframe=df_smiles,\n",
        "    ID_col=\"PID\",\n",
        "    SMILES_col=\"smiles_polymer\",\n",
        "    NumConf=1,\n",
        "    Length=[\"n\", 5],\n",
        "    Steps=20,\n",
        "    Substeps=20,\n",
        "    MonomerAng=\"intense\",\n",
        "    DimerAng=\"intense\",\n",
        "    Method=\"SA\",\n",
        "    NCores=0,\n",
        "    OutDir='chains',\n",
        "    Tol_ChainCorr=50,\n",
        ")\n",
        "results = chain_builder.BuildChain()"
      ],
      "execution_count": null,
      "outputs": [
        {
          "output_type": "stream",
          "name": "stdout",
          "text": [
            "\n",
            "                        ---------  PPPPPP       SSSSSS    PPPPPP    ---------                        \n",
            "                -----------------  PP    PP   SS          PP    PP  -----------------                \n",
            "        -------------------------  PP    PP   SS          PP    PP  -------------------------        \n",
            " --------------------------------  PPPPPP       SSSSS     PPPPPP    -------------------------------- \n",
            "        -------------------------  PP                SS   PP        -------------------------        \n",
            "                -----------------  PP                SS   PP        -----------------                \n",
            "                        ---------  PP          SSSSSS     PP        ---------                        \n",
            " --------------------------------------------------------------------------------------------------- \n",
            "          ** ** ** ** ** ** ** ** ** ** ** ** ** ** ** ** ** ** ** ** ** ** ** ** ** ** **          \n",
            "                        Polymer Structure Predictor (PSP) version =  1.0.0                     \n",
            "                                   Developed at Ramprasad Group                                      \n",
            "           Materials Science and Engineering, Georgia Institute of Technology, Atlanta, US           \n",
            "\n",
            "           Cite this work as:                                                                \n",
            "           H. Sahu, K-H. Shen, J. H. Montoya, H. Tran, R. Ramprasad, PSP: A python toolkit           \n",
            "           for predicting 3D models of polymers, journal name, volume, page, 2022.                   \n",
            "          ** ** ** ** ** ** ** ** ** ** ** ** ** ** ** ** ** ** ** ** ** ** ** ** ** ** **          \n",
            " --------------------------------------------------------------------------------------------------- \n",
            "  ChainBuilder  started...\n",
            " ----------------------------------------------- INPUT --------------------------------------------- \n",
            "|    | PID   | smiles_polymer                             |\n",
            "|---:|:------|:-------------------------------------------|\n",
            "|  1 | PE    | [*]CC[*]                                   |\n",
            "|  2 | PVC   | C(C(CC([*])Cl)Cl)[*]                       |\n",
            "|  3 | ABPBO | c1c2c(cc(c1)c1oc3c(n1)cc(cc3)[*])nc(o2)[*] |\n",
            "|  4 | PVDF  | C(C(F)(F)[*])[*]                           |\n",
            "|  5 | PAN   | C(CC(C[*])C#N)([*])C#N                     |\n",
            "|  6 | PPS   | C1=CC(=CC=C1SC2=CC=C(C=C2)S[*])[*]         |\n",
            "\n",
            " Additional information:  \n",
            " Length of oligomers:  ['n', 5] \n",
            " Method:  SA | Steps:  20 | Substeps:  20 \n",
            " Intrachain correction:  1 \n",
            " Tolerance for intrachain correction:  50 \n",
            " Number of cores:  All \n",
            " Output directory:  chains \n",
            "\n",
            "\n",
            " Polymer chain building started...\n",
            "\n"
          ]
        },
        {
          "output_type": "stream",
          "name": "stderr",
          "text": [
            "\rBuilding models ...:   0%|          | 0/6 [00:00<?, ?it/s]"
          ]
        },
        {
          "output_type": "stream",
          "name": "stdout",
          "text": [
            " Chain model building started for PE ...\n"
          ]
        },
        {
          "output_type": "stream",
          "name": "stderr",
          "text": [
            "\rBuilding models ...:  17%|█▋        | 1/6 [00:00<00:02,  2.24it/s]"
          ]
        },
        {
          "output_type": "stream",
          "name": "stdout",
          "text": [
            " Chain model building completed for PE .\n",
            " Chain model building started for PVC ...\n"
          ]
        },
        {
          "output_type": "stream",
          "name": "stderr",
          "text": [
            "\rBuilding models ...:  33%|███▎      | 2/6 [00:00<00:02,  1.97it/s]"
          ]
        },
        {
          "output_type": "stream",
          "name": "stdout",
          "text": [
            " Chain model building completed for PVC .\n",
            " Chain model building started for ABPBO ...\n"
          ]
        },
        {
          "output_type": "stream",
          "name": "stderr",
          "text": [
            "Building models ...:  67%|██████▋   | 4/6 [00:03<00:01,  1.17it/s]"
          ]
        },
        {
          "output_type": "stream",
          "name": "stdout",
          "text": [
            " Chain model building completed for ABPBO .\n",
            " Chain model building started for PVDF ...\n",
            " Chain model building completed for PVDF .\n",
            " Chain model building started for PAN ...\n"
          ]
        },
        {
          "output_type": "stream",
          "name": "stderr",
          "text": [
            "\rBuilding models ...:  83%|████████▎ | 5/6 [00:04<00:01,  1.11s/it]"
          ]
        },
        {
          "output_type": "stream",
          "name": "stdout",
          "text": [
            " Chain model building completed for PAN .\n",
            " Chain model building started for PPS ...\n"
          ]
        },
        {
          "output_type": "stream",
          "name": "stderr",
          "text": [
            "Building models ...: 100%|██████████| 6/6 [00:07<00:00,  1.19s/it]"
          ]
        },
        {
          "output_type": "stream",
          "name": "stdout",
          "text": [
            " Chain model building completed for PPS .\n",
            "\n",
            " Polymer chain building completed.\n",
            "\n",
            " ----------------------------------------------- OUTPUT -------------------------------------------- \n",
            "|    | ID    | Result   |\n",
            "|---:|:------|:---------|\n",
            "|  1 | PE    | SUCCESS  |\n",
            "|  2 | PVC   | SUCCESS  |\n",
            "|  3 | ABPBO | SUCCESS  |\n",
            "|  4 | PVDF  | SUCCESS  |\n",
            "|  5 | PAN   | SUCCESS  |\n",
            "|  6 | PPS   | SUCCESS  |\n",
            "\n",
            " Total run time (minutes):  0.12\n",
            " ------------------------------------- PSP TERMINATED NORMALLY ------------------------------------- \n"
          ]
        },
        {
          "output_type": "stream",
          "name": "stderr",
          "text": [
            "\n"
          ]
        }
      ]
    },
    {
      "cell_type": "markdown",
      "metadata": {
        "id": "2nFkVf9eU1wP"
      },
      "source": [
        "PSP terminated normally. All infinite and pentamer chain models are stored in *chains/* directory. The output files are named according to the following convention: *\\$ID_1.\\$file_format* (infinite chain) and *\\$ID_N\\$Length.\\$file_format* (oligomers)."
      ]
    },
    {
      "cell_type": "code",
      "metadata": {
        "colab": {
          "base_uri": "https://localhost:8080/"
        },
        "id": "oyps1mu1PLMh",
        "outputId": "f0022543-c32d-4df9-c062-63af8ac22a37"
      },
      "source": [
        "!ls chains\n",
        "!ls chains/ABPBO"
      ],
      "execution_count": null,
      "outputs": [
        {
          "output_type": "stream",
          "name": "stdout",
          "text": [
            "ABPBO  PAN  PE\tPPS  PVC  PVDF\n",
            "ABPBO_N5.vasp  ABPBO_N5.xyz  ABPBO.vasp\n"
          ]
        }
      ]
    },
    {
      "cell_type": "markdown",
      "metadata": {
        "id": "p_-_GN0QV479"
      },
      "source": [
        "Let's visualize a pentamer chain model generated using $ChainBuilder$:"
      ]
    },
    {
      "cell_type": "code",
      "metadata": {
        "colab": {
          "base_uri": "https://localhost:8080/",
          "height": 372
        },
        "id": "Ox5P29h-Me4J",
        "outputId": "67c18ae2-4a8d-4b82-f1c9-76e3fd90079c"
      },
      "source": [
        "visualize3D(\"chains/ABPBO/ABPBO_N5.vasp\")"
      ],
      "execution_count": null,
      "outputs": [
        {
          "output_type": "stream",
          "name": "stdout",
          "text": [
            "1 molecule converted\n",
            "model_wCell.cif\n"
          ]
        },
        {
          "output_type": "display_data",
          "data": {
            "application/3dmoljs_load.v0": "<div id=\"3dmolviewer_1646335687760103\"  style=\"position: relative; width: 400px; height: 300px\">\n        <p id=\"3dmolwarning_1646335687760103\" style=\"background-color:#ffcccc;color:black\">You appear to be running in JupyterLab (or JavaScript failed to load for some other reason).  You need to install the 3dmol extension: <br>\n        <tt>jupyter labextension install jupyterlab_3dmol</tt></p>\n        </div>\n<script>\n\nvar loadScriptAsync = function(uri){\n  return new Promise((resolve, reject) => {\n    var tag = document.createElement('script');\n    tag.src = uri;\n    tag.async = true;\n    tag.onload = () => {\n      resolve();\n    };\n  var firstScriptTag = document.getElementsByTagName('script')[0];\n  firstScriptTag.parentNode.insertBefore(tag, firstScriptTag);\n});\n};\n\nif(typeof $3Dmolpromise === 'undefined') {\n$3Dmolpromise = null;\n  $3Dmolpromise = loadScriptAsync('https://3dmol.org/build/3Dmol.js');\n}\n\nvar viewer_1646335687760103 = null;\nvar warn = document.getElementById(\"3dmolwarning_1646335687760103\");\nif(warn) {\n    warn.parentNode.removeChild(warn);\n}\n$3Dmolpromise.then(function() {\nviewer_1646335687760103 = $3Dmol.createViewer($(\"#3dmolviewer_1646335687760103\"),{backgroundColor:\"white\"});\nviewer_1646335687760103.zoomTo();\n\tviewer_1646335687760103.addModelsAsFrames(\"# CIF file generated by openbabel 3.1.0, see https://openbabel.org\\ndata_I\\n_chemical_name_common '### ABPBO ###'\\n_cell_length_a 17.6757\\n_cell_length_b 14.9644\\n_cell_length_c 72.8272\\n_cell_angle_alpha 90\\n_cell_angle_beta 90\\n_cell_angle_gamma 90\\n_space_group_name_H-M_alt 'P 1'\\n_space_group_name_Hall 'P 1'\\nloop_\\n    _symmetry_equiv_pos_as_xyz\\n    x,y,z\\nloop_\\n    _atom_site_label\\n    _atom_site_type_symbol\\n    _atom_site_fract_x\\n    _atom_site_fract_y\\n    _atom_site_fract_z\\n    _atom_site_occupancy\\n    C0       C        0.40949    0.55585    0.16105    1.000\\n    C1       C        0.47823    0.51342    0.49023    1.000\\n    C2       C        0.52886    0.48221    0.47665    1.000\\n    C3       C        0.50889    0.49451    0.45837    1.000\\n    C4       C        0.44315    0.53507    0.45336    1.000\\n    C5       C        0.39161    0.56688    0.46621    1.000\\n    C6       C        0.50193    0.49878    0.42952    1.000\\n    C7       C        0.52275    0.48595    0.57039    1.000\\n    C8       C        0.50182    0.49885    0.10567    1.000\\n    C9       C        0.39150    0.56694    0.14236    1.000\\n    C10      C        0.44304    0.53514    0.12953    1.000\\n    C11      C        0.50878    0.49457    0.13452    1.000\\n    C12      C        0.52875    0.48228    0.15280    1.000\\n    C13      C        0.47811    0.51348    0.16639    1.000\\n    C14      C        0.49084    0.50567    0.37681    1.000\\n    C15      C        0.60858    0.43303    0.70822    1.000\\n    C16      C        0.40960    0.55578    0.48489    1.000\\n    C17      C        0.49695    0.50186    0.50980    1.000\\n    C18      C        0.52264    0.48602    0.24656    1.000\\n    C19      C        0.55653    0.46510    0.53356    1.000\\n    C20      C        0.49690    0.50192    0.34786    1.000\\n    C21      C        0.40955    0.55578    0.32297    1.000\\n    C22      C        0.47817    0.51348    0.32831    1.000\\n    C23      C        0.52881    0.48221    0.31473    1.000\\n    C24      C        0.50883    0.49457    0.29644    1.000\\n    C25      C        0.44309    0.53514    0.29144    1.000\\n    C26      C        0.39155    0.56694    0.30428    1.000\\n    C27      C        0.59104    0.44385    0.72695    1.000\\n    C28      C        0.50188    0.49885    0.26759    1.000\\n    C29      C        0.47150    0.51763    0.39515    1.000\\n    C30      C        0.59092    0.44392    0.40310    1.000\\n    C31      C        0.60846    0.43309    0.38439    1.000\\n    C32      C        0.60852    0.43303    0.54631    1.000\\n    C33      C        0.59098    0.44385    0.56502    1.000\\n    C34      C        0.47155    0.51756    0.55707    1.000\\n    C35      C        0.49090    0.50560    0.53873    1.000\\n    C36      C        0.52270    0.48602    0.40847    1.000\\n    C37      C        0.47161    0.51756    0.71899    1.000\\n    C38      C        0.55647    0.46517    0.37165    1.000\\n    C39      C        0.49096    0.50560    0.70064    1.000\\n    C40      C        0.49707    0.50179    0.83363    1.000\\n    C41      C        0.40972    0.55572    0.80874    1.000\\n    C42      C        0.47834    0.51335    0.81406    1.000\\n    C43      C        0.52898    0.48214    0.80048    1.000\\n    C44      C        0.47166    0.51749    0.88091    1.000\\n    C45      C        0.59109    0.44379    0.88887    1.000\\n    C46      C        0.49684    0.50192    0.18595    1.000\\n    C47      C        0.60863    0.43296    0.87014    1.000\\n    C48      C        0.50900    0.49444    0.78221    1.000\\n    C49      C        0.44326    0.53500    0.77721    1.000\\n    C50      C        0.39172    0.56681    0.79005    1.000\\n    C51      C        0.50205    0.49872    0.75336    1.000\\n    C52      C        0.60841    0.43309    0.22246    1.000\\n    C53      C        0.55664    0.46504    0.85741    1.000\\n    C54      C        0.59087    0.44392    0.24119    1.000\\n    C55      C        0.49079    0.50567    0.21489    1.000\\n    C56      C        0.52281    0.48595    0.73231    1.000\\n    C57      C        0.50199    0.49878    0.59144    1.000\\n    C58      C        0.39167    0.56688    0.62813    1.000\\n    C59      C        0.44321    0.53507    0.61528    1.000\\n    C60      C        0.52287    0.48589    0.89423    1.000\\n    C61      C        0.50895    0.49451    0.62029    1.000\\n    C62      C        0.52892    0.48214    0.63857    1.000\\n    C63      C        0.47828    0.51342    0.65215    1.000\\n    C64      C        0.40966    0.55572    0.64682    1.000\\n    C65      C        0.49701    0.50186    0.67171    1.000\\n    C66      C        0.55641    0.46517    0.20973    1.000\\n    C67      C        0.55658    0.46510    0.69550    1.000\\n    C68      C        0.47144    0.51763    0.23322    1.000\\n    C69      C        0.49101    0.50553    0.86256    1.000\\n    H70      H        0.58153    0.44967    0.31826    1.000\\n    H71      H        0.66034    0.40108    0.21813    1.000\\n    H72      H        0.37023    0.58011    0.33321    1.000\\n    H73      H        0.41905    0.54997    0.39900    1.000\\n    H74      H        0.63002    0.41980    0.41342    1.000\\n    H75      H        0.62996    0.41980    0.25150    1.000\\n    H76      H        0.41899    0.54997    0.23707    1.000\\n    H77      H        0.37017    0.58011    0.17130    1.000\\n    H78      H        0.58148    0.44973    0.15634    1.000\\n    H79      H        0.33945    0.59902    0.13815    1.000\\n    H80      H        0.33951    0.59902    0.30007    1.000\\n    H81      H        0.66040    0.40108    0.38005    1.000\\n    H82      H        0.51523    0.49063    0.09131    1.000\\n    H83      H        0.50991    0.49390    0.90863    1.000\\n    H84      H        0.63019    0.41966    0.89918    1.000\\n    H85      H        0.41922    0.54984    0.88475    1.000\\n    H86      H        0.37034    0.57998    0.81898    1.000\\n    H87      H        0.33962    0.59895    0.62390    1.000\\n    H88      H        0.58165    0.44960    0.64210    1.000\\n    H89      H        0.37028    0.58004    0.65705    1.000\\n    H90      H        0.41916    0.54990    0.72283    1.000\\n    H91      H        0.63013    0.41973    0.73725    1.000\\n    H92      H        0.66051    0.40102    0.70390    1.000\\n    H93      H        0.66057    0.40095    0.86582    1.000\\n    H94      H        0.33968    0.59889    0.78583    1.000\\n    H95      H        0.33956    0.59895    0.46198    1.000\\n    H96      H        0.58159    0.44967    0.48018    1.000\\n    H97      H        0.37023    0.58004    0.49513    1.000\\n    H98      H        0.41911    0.54990    0.56092    1.000\\n    H99      H        0.63007    0.41973    0.57533    1.000\\n    H100     H        0.66046    0.40102    0.54198    1.000\\n    H101     H        0.58170    0.44960    0.80403    1.000\\n    N102     N        0.45175    0.52979    0.19991    1.000\\n    N103     N        0.54742    0.47072    0.11947    1.000\\n    N104     N        0.54764    0.47058    0.76714    1.000\\n    N105     N        0.45198    0.52966    0.84760    1.000\\n    N106     N        0.45181    0.52972    0.36183    1.000\\n    N107     N        0.45186    0.52972    0.52376    1.000\\n    N108     N        0.45192    0.52966    0.68568    1.000\\n    N109     N        0.54759    0.47065    0.60523    1.000\\n    N110     N        0.54753    0.47065    0.44331    1.000\\n    N111     N        0.54748    0.47072    0.28139    1.000\\n    O112     O        0.55981    0.46310    0.19180    1.000\\n    O113     O        0.55987    0.46310    0.35373    1.000\\n    O114     O        0.55992    0.46303    0.51565    1.000\\n    O115     O        0.43908    0.53761    0.11161    1.000\\n    O116     O        0.43919    0.53754    0.43544    1.000\\n    O117     O        0.43930    0.53747    0.75928    1.000\\n    O118     O        0.43913    0.53754    0.27352    1.000\\n    O119     O        0.56003    0.46296    0.83948    1.000\\n    O120     O        0.55998    0.46303    0.67756    1.000\\n    O121     O        0.43925    0.53747    0.59736    1.000\\n\");\n\tviewer_1646335687760103.setStyle({\"stick\": {}});\n\tviewer_1646335687760103.addUnitCell();\n\tviewer_1646335687760103.replicateUnitCell(1,1,1);\n\tviewer_1646335687760103.zoomTo();\nviewer_1646335687760103.render();\n});\n</script>",
            "text/html": [
              "<div id=\"3dmolviewer_1646335687760103\"  style=\"position: relative; width: 400px; height: 300px\">\n",
              "        <p id=\"3dmolwarning_1646335687760103\" style=\"background-color:#ffcccc;color:black\">You appear to be running in JupyterLab (or JavaScript failed to load for some other reason).  You need to install the 3dmol extension: <br>\n",
              "        <tt>jupyter labextension install jupyterlab_3dmol</tt></p>\n",
              "        </div>\n",
              "<script>\n",
              "\n",
              "var loadScriptAsync = function(uri){\n",
              "  return new Promise((resolve, reject) => {\n",
              "    var tag = document.createElement('script');\n",
              "    tag.src = uri;\n",
              "    tag.async = true;\n",
              "    tag.onload = () => {\n",
              "      resolve();\n",
              "    };\n",
              "  var firstScriptTag = document.getElementsByTagName('script')[0];\n",
              "  firstScriptTag.parentNode.insertBefore(tag, firstScriptTag);\n",
              "});\n",
              "};\n",
              "\n",
              "if(typeof $3Dmolpromise === 'undefined') {\n",
              "$3Dmolpromise = null;\n",
              "  $3Dmolpromise = loadScriptAsync('https://3dmol.org/build/3Dmol.js');\n",
              "}\n",
              "\n",
              "var viewer_1646335687760103 = null;\n",
              "var warn = document.getElementById(\"3dmolwarning_1646335687760103\");\n",
              "if(warn) {\n",
              "    warn.parentNode.removeChild(warn);\n",
              "}\n",
              "$3Dmolpromise.then(function() {\n",
              "viewer_1646335687760103 = $3Dmol.createViewer($(\"#3dmolviewer_1646335687760103\"),{backgroundColor:\"white\"});\n",
              "viewer_1646335687760103.zoomTo();\n",
              "\tviewer_1646335687760103.addModelsAsFrames(\"# CIF file generated by openbabel 3.1.0, see https://openbabel.org\\ndata_I\\n_chemical_name_common '### ABPBO ###'\\n_cell_length_a 17.6757\\n_cell_length_b 14.9644\\n_cell_length_c 72.8272\\n_cell_angle_alpha 90\\n_cell_angle_beta 90\\n_cell_angle_gamma 90\\n_space_group_name_H-M_alt 'P 1'\\n_space_group_name_Hall 'P 1'\\nloop_\\n    _symmetry_equiv_pos_as_xyz\\n    x,y,z\\nloop_\\n    _atom_site_label\\n    _atom_site_type_symbol\\n    _atom_site_fract_x\\n    _atom_site_fract_y\\n    _atom_site_fract_z\\n    _atom_site_occupancy\\n    C0       C        0.40949    0.55585    0.16105    1.000\\n    C1       C        0.47823    0.51342    0.49023    1.000\\n    C2       C        0.52886    0.48221    0.47665    1.000\\n    C3       C        0.50889    0.49451    0.45837    1.000\\n    C4       C        0.44315    0.53507    0.45336    1.000\\n    C5       C        0.39161    0.56688    0.46621    1.000\\n    C6       C        0.50193    0.49878    0.42952    1.000\\n    C7       C        0.52275    0.48595    0.57039    1.000\\n    C8       C        0.50182    0.49885    0.10567    1.000\\n    C9       C        0.39150    0.56694    0.14236    1.000\\n    C10      C        0.44304    0.53514    0.12953    1.000\\n    C11      C        0.50878    0.49457    0.13452    1.000\\n    C12      C        0.52875    0.48228    0.15280    1.000\\n    C13      C        0.47811    0.51348    0.16639    1.000\\n    C14      C        0.49084    0.50567    0.37681    1.000\\n    C15      C        0.60858    0.43303    0.70822    1.000\\n    C16      C        0.40960    0.55578    0.48489    1.000\\n    C17      C        0.49695    0.50186    0.50980    1.000\\n    C18      C        0.52264    0.48602    0.24656    1.000\\n    C19      C        0.55653    0.46510    0.53356    1.000\\n    C20      C        0.49690    0.50192    0.34786    1.000\\n    C21      C        0.40955    0.55578    0.32297    1.000\\n    C22      C        0.47817    0.51348    0.32831    1.000\\n    C23      C        0.52881    0.48221    0.31473    1.000\\n    C24      C        0.50883    0.49457    0.29644    1.000\\n    C25      C        0.44309    0.53514    0.29144    1.000\\n    C26      C        0.39155    0.56694    0.30428    1.000\\n    C27      C        0.59104    0.44385    0.72695    1.000\\n    C28      C        0.50188    0.49885    0.26759    1.000\\n    C29      C        0.47150    0.51763    0.39515    1.000\\n    C30      C        0.59092    0.44392    0.40310    1.000\\n    C31      C        0.60846    0.43309    0.38439    1.000\\n    C32      C        0.60852    0.43303    0.54631    1.000\\n    C33      C        0.59098    0.44385    0.56502    1.000\\n    C34      C        0.47155    0.51756    0.55707    1.000\\n    C35      C        0.49090    0.50560    0.53873    1.000\\n    C36      C        0.52270    0.48602    0.40847    1.000\\n    C37      C        0.47161    0.51756    0.71899    1.000\\n    C38      C        0.55647    0.46517    0.37165    1.000\\n    C39      C        0.49096    0.50560    0.70064    1.000\\n    C40      C        0.49707    0.50179    0.83363    1.000\\n    C41      C        0.40972    0.55572    0.80874    1.000\\n    C42      C        0.47834    0.51335    0.81406    1.000\\n    C43      C        0.52898    0.48214    0.80048    1.000\\n    C44      C        0.47166    0.51749    0.88091    1.000\\n    C45      C        0.59109    0.44379    0.88887    1.000\\n    C46      C        0.49684    0.50192    0.18595    1.000\\n    C47      C        0.60863    0.43296    0.87014    1.000\\n    C48      C        0.50900    0.49444    0.78221    1.000\\n    C49      C        0.44326    0.53500    0.77721    1.000\\n    C50      C        0.39172    0.56681    0.79005    1.000\\n    C51      C        0.50205    0.49872    0.75336    1.000\\n    C52      C        0.60841    0.43309    0.22246    1.000\\n    C53      C        0.55664    0.46504    0.85741    1.000\\n    C54      C        0.59087    0.44392    0.24119    1.000\\n    C55      C        0.49079    0.50567    0.21489    1.000\\n    C56      C        0.52281    0.48595    0.73231    1.000\\n    C57      C        0.50199    0.49878    0.59144    1.000\\n    C58      C        0.39167    0.56688    0.62813    1.000\\n    C59      C        0.44321    0.53507    0.61528    1.000\\n    C60      C        0.52287    0.48589    0.89423    1.000\\n    C61      C        0.50895    0.49451    0.62029    1.000\\n    C62      C        0.52892    0.48214    0.63857    1.000\\n    C63      C        0.47828    0.51342    0.65215    1.000\\n    C64      C        0.40966    0.55572    0.64682    1.000\\n    C65      C        0.49701    0.50186    0.67171    1.000\\n    C66      C        0.55641    0.46517    0.20973    1.000\\n    C67      C        0.55658    0.46510    0.69550    1.000\\n    C68      C        0.47144    0.51763    0.23322    1.000\\n    C69      C        0.49101    0.50553    0.86256    1.000\\n    H70      H        0.58153    0.44967    0.31826    1.000\\n    H71      H        0.66034    0.40108    0.21813    1.000\\n    H72      H        0.37023    0.58011    0.33321    1.000\\n    H73      H        0.41905    0.54997    0.39900    1.000\\n    H74      H        0.63002    0.41980    0.41342    1.000\\n    H75      H        0.62996    0.41980    0.25150    1.000\\n    H76      H        0.41899    0.54997    0.23707    1.000\\n    H77      H        0.37017    0.58011    0.17130    1.000\\n    H78      H        0.58148    0.44973    0.15634    1.000\\n    H79      H        0.33945    0.59902    0.13815    1.000\\n    H80      H        0.33951    0.59902    0.30007    1.000\\n    H81      H        0.66040    0.40108    0.38005    1.000\\n    H82      H        0.51523    0.49063    0.09131    1.000\\n    H83      H        0.50991    0.49390    0.90863    1.000\\n    H84      H        0.63019    0.41966    0.89918    1.000\\n    H85      H        0.41922    0.54984    0.88475    1.000\\n    H86      H        0.37034    0.57998    0.81898    1.000\\n    H87      H        0.33962    0.59895    0.62390    1.000\\n    H88      H        0.58165    0.44960    0.64210    1.000\\n    H89      H        0.37028    0.58004    0.65705    1.000\\n    H90      H        0.41916    0.54990    0.72283    1.000\\n    H91      H        0.63013    0.41973    0.73725    1.000\\n    H92      H        0.66051    0.40102    0.70390    1.000\\n    H93      H        0.66057    0.40095    0.86582    1.000\\n    H94      H        0.33968    0.59889    0.78583    1.000\\n    H95      H        0.33956    0.59895    0.46198    1.000\\n    H96      H        0.58159    0.44967    0.48018    1.000\\n    H97      H        0.37023    0.58004    0.49513    1.000\\n    H98      H        0.41911    0.54990    0.56092    1.000\\n    H99      H        0.63007    0.41973    0.57533    1.000\\n    H100     H        0.66046    0.40102    0.54198    1.000\\n    H101     H        0.58170    0.44960    0.80403    1.000\\n    N102     N        0.45175    0.52979    0.19991    1.000\\n    N103     N        0.54742    0.47072    0.11947    1.000\\n    N104     N        0.54764    0.47058    0.76714    1.000\\n    N105     N        0.45198    0.52966    0.84760    1.000\\n    N106     N        0.45181    0.52972    0.36183    1.000\\n    N107     N        0.45186    0.52972    0.52376    1.000\\n    N108     N        0.45192    0.52966    0.68568    1.000\\n    N109     N        0.54759    0.47065    0.60523    1.000\\n    N110     N        0.54753    0.47065    0.44331    1.000\\n    N111     N        0.54748    0.47072    0.28139    1.000\\n    O112     O        0.55981    0.46310    0.19180    1.000\\n    O113     O        0.55987    0.46310    0.35373    1.000\\n    O114     O        0.55992    0.46303    0.51565    1.000\\n    O115     O        0.43908    0.53761    0.11161    1.000\\n    O116     O        0.43919    0.53754    0.43544    1.000\\n    O117     O        0.43930    0.53747    0.75928    1.000\\n    O118     O        0.43913    0.53754    0.27352    1.000\\n    O119     O        0.56003    0.46296    0.83948    1.000\\n    O120     O        0.55998    0.46303    0.67756    1.000\\n    O121     O        0.43925    0.53747    0.59736    1.000\\n\");\n",
              "\tviewer_1646335687760103.setStyle({\"stick\": {}});\n",
              "\tviewer_1646335687760103.addUnitCell();\n",
              "\tviewer_1646335687760103.replicateUnitCell(1,1,1);\n",
              "\tviewer_1646335687760103.zoomTo();\n",
              "viewer_1646335687760103.render();\n",
              "});\n",
              "</script>"
            ]
          },
          "metadata": {}
        }
      ]
    },
    {
      "cell_type": "markdown",
      "metadata": {
        "id": "iYydzmjRYH4b"
      },
      "source": [
        "To generate your desired chain models, modify the CSV file or upload your own and adjust the parameters as needed."
      ]
    },
    {
      "cell_type": "markdown",
      "metadata": {
        "id": "hJqq7iHOoLbd"
      },
      "source": [
        "## CrystalBuilder\n",
        "$CrystalBuilder$ generates crystal models for small molecules and infinite polymer chains. It accepts only POSCAR files as INPUT that can be generated using $ChainBuilder$. Users can also provide their own POSCAR files as INPUT. Note that all input chain models are expected to be aligned along the Z-axis. Examples of crystal models are given below, starting with the construction of a chain model, which is then used to build crystal models."
      ]
    },
    {
      "cell_type": "markdown",
      "metadata": {
        "id": "rkhtg677iZEu"
      },
      "source": [
        "Let's go to the *polymer_models/CrystalBuilder* directory"
      ]
    },
    {
      "cell_type": "code",
      "metadata": {
        "colab": {
          "base_uri": "https://localhost:8080/"
        },
        "id": "Ah11hRTYvNGt",
        "outputId": "cda3768c-aaac-4f2b-d16b-11ed809d498f"
      },
      "source": [
        "%cd /content/polymer_models/CrystalBuilder/"
      ],
      "execution_count": null,
      "outputs": [
        {
          "output_type": "stream",
          "name": "stdout",
          "text": [
            "/content/polymer_models/CrystalBuilder\n"
          ]
        }
      ]
    },
    {
      "cell_type": "markdown",
      "metadata": {
        "id": "4FX4ih0EonGe"
      },
      "source": [
        "###**Example 1**: Crystal structures for an infinite polymer chain\n",
        "First, we'll use $ChainBuilder$ to create an infinite chain model for poly(vinyl chloride). See the $ChainBuilder$ section for more information. Second, using the generated chain model, several crystal models will be built by placing two chains in a simulation box and translating and rotating one while fixing the other. The SMILES string of a polymer repeating unit is the minimum requirement for building crystal models.The following is an example of crystal models for poly(vinyl chloride). "
      ]
    },
    {
      "cell_type": "code",
      "metadata": {
        "colab": {
          "base_uri": "https://localhost:8080/"
        },
        "id": "OtHc4MF5veqC",
        "outputId": "73b88838-094a-45bc-a110-1e1724fadfce"
      },
      "source": [
        "# Input SMILES string\n",
        "repeating_unit = 'C(C(CC([*])Cl)Cl)[*]'\n",
        "\n",
        "# Create a pandas DataFrame\n",
        "import pandas as pd\n",
        "input_data = [['PVC',repeating_unit]]\n",
        "df_smiles = pd.DataFrame(input_data, columns = ['ID', 'smiles'])\n",
        "\n",
        "# Build chain models\n",
        "import psp.ChainBuilder as ChB\n",
        "chain_builder = ChB.Builder(Dataframe=df_smiles, Inter_Chain_Dis=0.0)\n",
        "results = chain_builder.BuildChain()\n",
        "\n",
        "# Build crystal models\n",
        "import psp.CrystalBuilder as CrB\n",
        "vasp_input_list = ['chains/PVC/PVC.vasp']\n",
        "crystal_builder = CrB.Builder(VaspInp_list=vasp_input_list, NSamples=3, Polymer=True)\n",
        "results = crystal_builder.BuildCrystal()"
      ],
      "execution_count": null,
      "outputs": [
        {
          "output_type": "stream",
          "name": "stdout",
          "text": [
            "\n",
            "                        ---------  PPPPPP       SSSSSS    PPPPPP    ---------                        \n",
            "                -----------------  PP    PP   SS          PP    PP  -----------------                \n",
            "        -------------------------  PP    PP   SS          PP    PP  -------------------------        \n",
            " --------------------------------  PPPPPP       SSSSS     PPPPPP    -------------------------------- \n",
            "        -------------------------  PP                SS   PP        -------------------------        \n",
            "                -----------------  PP                SS   PP        -----------------                \n",
            "                        ---------  PP          SSSSSS     PP        ---------                        \n",
            " --------------------------------------------------------------------------------------------------- \n",
            "          ** ** ** ** ** ** ** ** ** ** ** ** ** ** ** ** ** ** ** ** ** ** ** ** ** ** **          \n",
            "                        Polymer Structure Predictor (PSP) version =  1.0.0                     \n",
            "                                   Developed at Ramprasad Group                                      \n",
            "           Materials Science and Engineering, Georgia Institute of Technology, Atlanta, US           \n",
            "\n",
            "           Cite this work as:                                                                \n",
            "           H. Sahu, K-H. Shen, J. H. Montoya, H. Tran, R. Ramprasad, PSP: A python toolkit           \n",
            "           for predicting 3D models of polymers, journal name, volume, page, 2022.                   \n",
            "          ** ** ** ** ** ** ** ** ** ** ** ** ** ** ** ** ** ** ** ** ** ** ** ** ** ** **          \n",
            " --------------------------------------------------------------------------------------------------- \n",
            "  ChainBuilder  started...\n",
            " ----------------------------------------------- INPUT --------------------------------------------- \n",
            "|    | ID   | smiles               |\n",
            "|---:|:-----|:---------------------|\n",
            "|  1 | PVC  | C(C(CC([*])Cl)Cl)[*] |\n",
            "\n",
            " Additional information:  \n",
            " Length of oligomers:  ['n'] \n",
            " Method:  SA | Steps:  20 | Substeps:  10 \n",
            " Intrachain correction:  1 \n",
            " Tolerance for intrachain correction:  50 \n",
            " Number of cores:  All \n",
            " Output directory:  chains \n",
            "\n",
            "\n",
            " Polymer chain building started...\n",
            "\n"
          ]
        },
        {
          "output_type": "stream",
          "name": "stderr",
          "text": [
            "\rBuilding models ...:   0%|          | 0/1 [00:00<?, ?it/s]"
          ]
        },
        {
          "output_type": "stream",
          "name": "stdout",
          "text": [
            " Chain model building started for PVC ...\n"
          ]
        },
        {
          "output_type": "stream",
          "name": "stderr",
          "text": [
            "Building models ...: 100%|██████████| 1/1 [00:00<00:00,  2.08it/s]\n"
          ]
        },
        {
          "output_type": "stream",
          "name": "stdout",
          "text": [
            " Chain model building completed for PVC .\n",
            "\n",
            " Polymer chain building completed.\n",
            "\n",
            " ----------------------------------------------- OUTPUT -------------------------------------------- \n",
            "|    | ID   | Result   |\n",
            "|---:|:-----|:---------|\n",
            "|  1 | PVC  | SUCCESS  |\n",
            "\n",
            " Total run time (minutes):  0.01\n",
            " ------------------------------------- PSP TERMINATED NORMALLY ------------------------------------- \n",
            "\n",
            "                        ---------  PPPPPP       SSSSSS    PPPPPP    ---------                        \n",
            "                -----------------  PP    PP   SS          PP    PP  -----------------                \n",
            "        -------------------------  PP    PP   SS          PP    PP  -------------------------        \n",
            " --------------------------------  PPPPPP       SSSSS     PPPPPP    -------------------------------- \n",
            "        -------------------------  PP                SS   PP        -------------------------        \n",
            "                -----------------  PP                SS   PP        -----------------                \n",
            "                        ---------  PP          SSSSSS     PP        ---------                        \n",
            " --------------------------------------------------------------------------------------------------- \n",
            "          ** ** ** ** ** ** ** ** ** ** ** ** ** ** ** ** ** ** ** ** ** ** ** ** ** ** **          \n",
            "                        Polymer Structure Predictor (PSP) version =  1.0.0                     \n",
            "                                   Developed at Ramprasad Group                                      \n",
            "           Materials Science and Engineering, Georgia Institute of Technology, Atlanta, US           \n",
            "\n",
            "           Cite this work as:                                                                \n",
            "           H. Sahu, K-H. Shen, J. H. Montoya, H. Tran, R. Ramprasad, PSP: A python toolkit           \n",
            "           for predicting 3D models of polymers, journal name, volume, page, 2022.                   \n",
            "          ** ** ** ** ** ** ** ** ** ** ** ** ** ** ** ** ** ** ** ** ** ** ** ** ** ** **          \n",
            " --------------------------------------------------------------------------------------------------- \n",
            "  CrystalBuilder  started...\n",
            " ----------------------------------------------- INPUT ---------------------------------------------  \n",
            " List of chain models (POSCAR):  ['chains/PVC/PVC.vasp'] \n",
            " Are they infinite polymer chains?:  True \n",
            " Number of samples:  3 \n",
            " Optimize models:  False \n",
            " Number of models to be selected:  50 \n",
            " Minimum atomic distance (angstrom):  2.0 \n",
            " Number of cores:  All \n",
            " Output directory:  crystals/ \n",
            "\n",
            " maximum number of possible crustals for each polymer chain:  27 \n",
            "\n"
          ]
        },
        {
          "output_type": "stream",
          "name": "stderr",
          "text": [
            "\rBuilding models ...:   0%|          | 0/1 [00:00<?, ?it/s]"
          ]
        },
        {
          "output_type": "stream",
          "name": "stdout",
          "text": [
            " Crystal model building started for PVC ...\n"
          ]
        },
        {
          "output_type": "stream",
          "name": "stderr",
          "text": [
            "\n",
            "PVC:   0%|          | 0/3 [00:00<?, ?it/s]\u001b[A\n",
            "PVC:  33%|███▎      | 1/3 [00:00<00:00,  5.34it/s]\u001b[A\n",
            "PVC:  67%|██████▋   | 2/3 [00:00<00:00,  5.94it/s]\u001b[A\n",
            "PVC: 100%|██████████| 3/3 [00:00<00:00,  5.50it/s]\n",
            "Building models ...: 100%|██████████| 1/1 [00:00<00:00,  1.75it/s]"
          ]
        },
        {
          "output_type": "stream",
          "name": "stdout",
          "text": [
            " Crystal model building completed for PVC\n",
            "\n",
            " Crystal model building completed.\n",
            "\n",
            " ----------------------------------------------- OUTPUT -------------------------------------------- \n",
            "|    | ID   |   Count |   radius |\n",
            "|---:|:-----|--------:|---------:|\n",
            "|  1 | PVC  |      27 |  7.04485 |\n",
            "\n",
            " Total run time (minutes):  0.01\n",
            " ------------------------------------- PSP TERMINATED NORMALLY ------------------------------------- \n"
          ]
        },
        {
          "output_type": "stream",
          "name": "stderr",
          "text": [
            "\n"
          ]
        }
      ]
    },
    {
      "cell_type": "markdown",
      "metadata": {
        "id": "JNcB2WUlfegL"
      },
      "source": [
        "PSP terminated normally. We created 27 crystal models for Poly(vinyl chloride). Models are stored in *crystals/PVC/* directory and follow the following naming convention: *cryst_out-$N.vasp*, where *N* is an integer, indicating the model's serial number.\n",
        "\n",
        "**NOTE** : While rotating and translating polymer chains, identical crystal structures can be generated. Before proceeding with downstream ab-initio simulations, it is strongly advised to filter out identical models and keep only unique ones. "
      ]
    },
    {
      "cell_type": "code",
      "metadata": {
        "colab": {
          "base_uri": "https://localhost:8080/"
        },
        "id": "OrDlOyw_PfiF",
        "outputId": "84e952d8-99c4-4348-d017-302bd45f1a9e"
      },
      "source": [
        "ls crystals/PVC"
      ],
      "execution_count": null,
      "outputs": [
        {
          "output_type": "stream",
          "name": "stdout",
          "text": [
            "cryst_out-01.vasp  cryst_out-08.vasp  cryst_out-15.vasp  cryst_out-22.vasp\n",
            "cryst_out-02.vasp  cryst_out-09.vasp  cryst_out-16.vasp  cryst_out-23.vasp\n",
            "cryst_out-03.vasp  cryst_out-10.vasp  cryst_out-17.vasp  cryst_out-24.vasp\n",
            "cryst_out-04.vasp  cryst_out-11.vasp  cryst_out-18.vasp  cryst_out-25.vasp\n",
            "cryst_out-05.vasp  cryst_out-12.vasp  cryst_out-19.vasp  cryst_out-26.vasp\n",
            "cryst_out-06.vasp  cryst_out-13.vasp  cryst_out-20.vasp  cryst_out-27.vasp\n",
            "cryst_out-07.vasp  cryst_out-14.vasp  cryst_out-21.vasp\n"
          ]
        }
      ]
    },
    {
      "cell_type": "markdown",
      "metadata": {
        "id": "AEVzen_5gbDq"
      },
      "source": [
        "Let's visualize a crystal model for poly(vinyl chloride):"
      ]
    },
    {
      "cell_type": "code",
      "metadata": {
        "colab": {
          "base_uri": "https://localhost:8080/",
          "height": 352
        },
        "id": "ANNTYFR-M-0Y",
        "outputId": "5b1fb232-ae92-4156-e6e0-3fcfa7dc10a2"
      },
      "source": [
        "visualize3D(\"crystals/PVC/cryst_out-06.vasp\")"
      ],
      "execution_count": null,
      "outputs": [
        {
          "output_type": "stream",
          "name": "stdout",
          "text": [
            "1 molecule converted\n",
            "model_wCell.cif\n"
          ]
        },
        {
          "output_type": "display_data",
          "data": {
            "application/3dmoljs_load.v0": "<div id=\"3dmolviewer_16463356894820945\"  style=\"position: relative; width: 400px; height: 300px\">\n        <p id=\"3dmolwarning_16463356894820945\" style=\"background-color:#ffcccc;color:black\">You appear to be running in JupyterLab (or JavaScript failed to load for some other reason).  You need to install the 3dmol extension: <br>\n        <tt>jupyter labextension install jupyterlab_3dmol</tt></p>\n        </div>\n<script>\n\nvar loadScriptAsync = function(uri){\n  return new Promise((resolve, reject) => {\n    var tag = document.createElement('script');\n    tag.src = uri;\n    tag.async = true;\n    tag.onload = () => {\n      resolve();\n    };\n  var firstScriptTag = document.getElementsByTagName('script')[0];\n  firstScriptTag.parentNode.insertBefore(tag, firstScriptTag);\n});\n};\n\nif(typeof $3Dmolpromise === 'undefined') {\n$3Dmolpromise = null;\n  $3Dmolpromise = loadScriptAsync('https://3dmol.org/build/3Dmol.js');\n}\n\nvar viewer_16463356894820945 = null;\nvar warn = document.getElementById(\"3dmolwarning_16463356894820945\");\nif(warn) {\n    warn.parentNode.removeChild(warn);\n}\n$3Dmolpromise.then(function() {\nviewer_16463356894820945 = $3Dmol.createViewer($(\"#3dmolviewer_16463356894820945\"),{backgroundColor:\"white\"});\nviewer_16463356894820945.zoomTo();\n\tviewer_16463356894820945.addModelsAsFrames(\"# CIF file generated by openbabel 3.1.0, see https://openbabel.org\\ndata_I\\n_chemical_name_common '### PVC ### (CrystalBuilder Info:: Translation: 0.0; Rotation 1 180.0; Rotation 2 180.0)'\\n_cell_length_a 10.5373\\n_cell_length_b 6.15967\\n_cell_length_c 3.77671\\n_cell_angle_alpha 90\\n_cell_angle_beta 90\\n_cell_angle_gamma 90\\n_space_group_name_H-M_alt 'P 1'\\n_space_group_name_Hall 'P 1'\\nloop_\\n    _symmetry_equiv_pos_as_xyz\\n    x,y,z\\nloop_\\n    _atom_site_label\\n    _atom_site_type_symbol\\n    _atom_site_fract_x\\n    _atom_site_fract_y\\n    _atom_site_fract_z\\n    _atom_site_occupancy\\n    C0       C        0.77734    0.35505    0.94818    1.000\\n    C1       C        0.66194    0.46399    0.19991    1.000\\n    C2       C        0.72685    0.62925    0.44642    1.000\\n    C3       C        0.82811    0.52909    0.69346    1.000\\n    C4       C        0.22264    0.64500    0.94818    1.000\\n    C5       C        0.33804    0.53607    0.19991    1.000\\n    C6       C        0.27313    0.37080    0.44642    1.000\\n    C7       C        0.17187    0.47097    0.69346    1.000\\n    Cl8      Cl       0.90507    0.24985    0.20528    1.000\\n    Cl9      Cl       0.79935    0.83771    0.18641    1.000\\n    Cl10     Cl       0.09490    0.75020    0.20528    1.000\\n    Cl11     Cl       0.20062    0.16235    0.18641    1.000\\n    H12      H        0.60832    0.34255    0.35666    1.000\\n    H13      H        0.59247    0.54938    0.02807    1.000\\n    H14      H        0.65235    0.70864    0.60953    1.000\\n    H15      H        0.90469    0.45636    0.52956    1.000\\n    H16      H        0.87110    0.66140    0.85365    1.000\\n    H17      H        0.73529    0.21738    0.79990    1.000\\n    H18      H        0.39166    0.65750    0.35666    1.000\\n    H19      H        0.40751    0.45067    0.02807    1.000\\n    H20      H        0.34762    0.29141    0.60953    1.000\\n    H21      H        0.09528    0.54370    0.52956    1.000\\n    H22      H        0.12888    0.33865    0.85365    1.000\\n    H23      H        0.26468    0.78267    0.79990    1.000\\n\");\n\tviewer_16463356894820945.setStyle({\"stick\": {}});\n\tviewer_16463356894820945.addUnitCell();\n\tviewer_16463356894820945.replicateUnitCell(1,1,1);\n\tviewer_16463356894820945.zoomTo();\nviewer_16463356894820945.render();\n});\n</script>",
            "text/html": [
              "<div id=\"3dmolviewer_16463356894820945\"  style=\"position: relative; width: 400px; height: 300px\">\n",
              "        <p id=\"3dmolwarning_16463356894820945\" style=\"background-color:#ffcccc;color:black\">You appear to be running in JupyterLab (or JavaScript failed to load for some other reason).  You need to install the 3dmol extension: <br>\n",
              "        <tt>jupyter labextension install jupyterlab_3dmol</tt></p>\n",
              "        </div>\n",
              "<script>\n",
              "\n",
              "var loadScriptAsync = function(uri){\n",
              "  return new Promise((resolve, reject) => {\n",
              "    var tag = document.createElement('script');\n",
              "    tag.src = uri;\n",
              "    tag.async = true;\n",
              "    tag.onload = () => {\n",
              "      resolve();\n",
              "    };\n",
              "  var firstScriptTag = document.getElementsByTagName('script')[0];\n",
              "  firstScriptTag.parentNode.insertBefore(tag, firstScriptTag);\n",
              "});\n",
              "};\n",
              "\n",
              "if(typeof $3Dmolpromise === 'undefined') {\n",
              "$3Dmolpromise = null;\n",
              "  $3Dmolpromise = loadScriptAsync('https://3dmol.org/build/3Dmol.js');\n",
              "}\n",
              "\n",
              "var viewer_16463356894820945 = null;\n",
              "var warn = document.getElementById(\"3dmolwarning_16463356894820945\");\n",
              "if(warn) {\n",
              "    warn.parentNode.removeChild(warn);\n",
              "}\n",
              "$3Dmolpromise.then(function() {\n",
              "viewer_16463356894820945 = $3Dmol.createViewer($(\"#3dmolviewer_16463356894820945\"),{backgroundColor:\"white\"});\n",
              "viewer_16463356894820945.zoomTo();\n",
              "\tviewer_16463356894820945.addModelsAsFrames(\"# CIF file generated by openbabel 3.1.0, see https://openbabel.org\\ndata_I\\n_chemical_name_common '### PVC ### (CrystalBuilder Info:: Translation: 0.0; Rotation 1 180.0; Rotation 2 180.0)'\\n_cell_length_a 10.5373\\n_cell_length_b 6.15967\\n_cell_length_c 3.77671\\n_cell_angle_alpha 90\\n_cell_angle_beta 90\\n_cell_angle_gamma 90\\n_space_group_name_H-M_alt 'P 1'\\n_space_group_name_Hall 'P 1'\\nloop_\\n    _symmetry_equiv_pos_as_xyz\\n    x,y,z\\nloop_\\n    _atom_site_label\\n    _atom_site_type_symbol\\n    _atom_site_fract_x\\n    _atom_site_fract_y\\n    _atom_site_fract_z\\n    _atom_site_occupancy\\n    C0       C        0.77734    0.35505    0.94818    1.000\\n    C1       C        0.66194    0.46399    0.19991    1.000\\n    C2       C        0.72685    0.62925    0.44642    1.000\\n    C3       C        0.82811    0.52909    0.69346    1.000\\n    C4       C        0.22264    0.64500    0.94818    1.000\\n    C5       C        0.33804    0.53607    0.19991    1.000\\n    C6       C        0.27313    0.37080    0.44642    1.000\\n    C7       C        0.17187    0.47097    0.69346    1.000\\n    Cl8      Cl       0.90507    0.24985    0.20528    1.000\\n    Cl9      Cl       0.79935    0.83771    0.18641    1.000\\n    Cl10     Cl       0.09490    0.75020    0.20528    1.000\\n    Cl11     Cl       0.20062    0.16235    0.18641    1.000\\n    H12      H        0.60832    0.34255    0.35666    1.000\\n    H13      H        0.59247    0.54938    0.02807    1.000\\n    H14      H        0.65235    0.70864    0.60953    1.000\\n    H15      H        0.90469    0.45636    0.52956    1.000\\n    H16      H        0.87110    0.66140    0.85365    1.000\\n    H17      H        0.73529    0.21738    0.79990    1.000\\n    H18      H        0.39166    0.65750    0.35666    1.000\\n    H19      H        0.40751    0.45067    0.02807    1.000\\n    H20      H        0.34762    0.29141    0.60953    1.000\\n    H21      H        0.09528    0.54370    0.52956    1.000\\n    H22      H        0.12888    0.33865    0.85365    1.000\\n    H23      H        0.26468    0.78267    0.79990    1.000\\n\");\n",
              "\tviewer_16463356894820945.setStyle({\"stick\": {}});\n",
              "\tviewer_16463356894820945.addUnitCell();\n",
              "\tviewer_16463356894820945.replicateUnitCell(1,1,1);\n",
              "\tviewer_16463356894820945.zoomTo();\n",
              "viewer_16463356894820945.render();\n",
              "});\n",
              "</script>"
            ]
          },
          "metadata": {}
        }
      ]
    },
    {
      "cell_type": "markdown",
      "metadata": {
        "id": "RVd-dXLS-5rm"
      },
      "source": [
        "###**Example 2**: User defined configurations\n",
        "$CrystalBuilder$ allows us to construct a specific set of desired crystal models by providing translational distance and rotational angles. Let's build a T-shape crystal model for penta(vinyl chloride), including a few models close to it. To get a T-shape model, we need to rotate molecule B around its Y-axis (See Figure below)."
      ]
    },
    {
      "cell_type": "markdown",
      "metadata": {
        "id": "7dJbP7SP7XMF"
      },
      "source": [
        "![Crystal5.png](data:image/png;base64,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)"
      ]
    },
    {
      "cell_type": "markdown",
      "metadata": {
        "id": "OEDhEjaOBIDI"
      },
      "source": [
        "![Crystal1.png](data:image/png;base64,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)"
      ]
    },
    {
      "cell_type": "markdown",
      "metadata": {
        "id": "0MmDFfoq-b1g"
      },
      "source": [
        "First, the user will generate a pentamer model using $ChainBuilder$. Second, two pentamer chains will be placed in a simulation box and translated/rotated as specified by the user. As  INPUT, the user must provide the repeating unit SMILES, length of an oligomer, and transitional distance or rotational angles in a list of lists format, as shown below."
      ]
    },
    {
      "cell_type": "code",
      "metadata": {
        "colab": {
          "base_uri": "https://localhost:8080/"
        },
        "id": "OzV0JKplFGhc",
        "outputId": "485abd8e-2b8c-467b-deb7-970d2355c1a1"
      },
      "source": [
        "# Input SMILES string\n",
        "repeating_unit = 'C(C([*])Cl)[*]'\n",
        "length_oligomer = 5\n",
        "samples = [[0],[0],[0],[0],[60,80,90,100,120],[0],[0],[0]]\n",
        "\n",
        "# Create a pandas DataFrame\n",
        "import pandas as pd\n",
        "input_data = [['pvc',repeating_unit]]\n",
        "df_smiles = pd.DataFrame(input_data, columns = ['ID', 'smiles'])\n",
        "\n",
        "# Build chain models\n",
        "import psp.ChainBuilder as ChB\n",
        "chain_builder = ChB.Builder(Dataframe=df_smiles, Length=[length_oligomer], Inter_Chain_Dis=0.0)\n",
        "results = chain_builder.BuildChain()\n",
        "\n",
        "# Build crystal models\n",
        "import psp.CrystalBuilder as CrB\n",
        "vasp_input_list = ['chains/pvc/pvc_N5.vasp']\n",
        "crystal_builder = CrB.Builder(\n",
        "    VaspInp_list=vasp_input_list,\n",
        "    NSamples=samples,\n",
        "    Polymer=False,\n",
        "    OutDir='selective_models'\n",
        ")\n",
        "results = crystal_builder.BuildCrystal()"
      ],
      "execution_count": null,
      "outputs": [
        {
          "output_type": "stream",
          "name": "stdout",
          "text": [
            "\n",
            "                        ---------  PPPPPP       SSSSSS    PPPPPP    ---------                        \n",
            "                -----------------  PP    PP   SS          PP    PP  -----------------                \n",
            "        -------------------------  PP    PP   SS          PP    PP  -------------------------        \n",
            " --------------------------------  PPPPPP       SSSSS     PPPPPP    -------------------------------- \n",
            "        -------------------------  PP                SS   PP        -------------------------        \n",
            "                -----------------  PP                SS   PP        -----------------                \n",
            "                        ---------  PP          SSSSSS     PP        ---------                        \n",
            " --------------------------------------------------------------------------------------------------- \n",
            "          ** ** ** ** ** ** ** ** ** ** ** ** ** ** ** ** ** ** ** ** ** ** ** ** ** ** **          \n",
            "                        Polymer Structure Predictor (PSP) version =  1.0.0                     \n",
            "                                   Developed at Ramprasad Group                                      \n",
            "           Materials Science and Engineering, Georgia Institute of Technology, Atlanta, US           \n",
            "\n",
            "           Cite this work as:                                                                \n",
            "           H. Sahu, K-H. Shen, J. H. Montoya, H. Tran, R. Ramprasad, PSP: A python toolkit           \n",
            "           for predicting 3D models of polymers, journal name, volume, page, 2022.                   \n",
            "          ** ** ** ** ** ** ** ** ** ** ** ** ** ** ** ** ** ** ** ** ** ** ** ** ** ** **          \n",
            " --------------------------------------------------------------------------------------------------- \n",
            "  ChainBuilder  started...\n",
            " ----------------------------------------------- INPUT --------------------------------------------- \n",
            "|    | ID   | smiles         |\n",
            "|---:|:-----|:---------------|\n",
            "|  1 | pvc  | C(C([*])Cl)[*] |\n",
            "\n",
            " Additional information:  \n",
            " Length of oligomers:  [5] \n",
            " Method:  SA | Steps:  20 | Substeps:  10 \n",
            " Intrachain correction:  1 \n",
            " Tolerance for intrachain correction:  50 \n",
            " Number of cores:  All \n",
            " Output directory:  chains \n",
            "\n",
            "\n",
            " Polymer chain building started...\n",
            "\n"
          ]
        },
        {
          "output_type": "stream",
          "name": "stderr",
          "text": [
            "\rBuilding models ...:   0%|          | 0/1 [00:00<?, ?it/s]"
          ]
        },
        {
          "output_type": "stream",
          "name": "stdout",
          "text": [
            " Chain model building started for pvc ...\n"
          ]
        },
        {
          "output_type": "stream",
          "name": "stderr",
          "text": [
            "Building models ...: 100%|██████████| 1/1 [00:00<00:00,  4.75it/s]\n"
          ]
        },
        {
          "output_type": "stream",
          "name": "stdout",
          "text": [
            " Chain model building completed for pvc .\n",
            "\n",
            " Polymer chain building completed.\n",
            "\n",
            " ----------------------------------------------- OUTPUT -------------------------------------------- \n",
            "|    | ID   | Result   |\n",
            "|---:|:-----|:---------|\n",
            "|  1 | pvc  | SUCCESS  |\n",
            "\n",
            " Total run time (minutes):  0.0\n",
            " ------------------------------------- PSP TERMINATED NORMALLY ------------------------------------- \n",
            "\n",
            "                        ---------  PPPPPP       SSSSSS    PPPPPP    ---------                        \n",
            "                -----------------  PP    PP   SS          PP    PP  -----------------                \n",
            "        -------------------------  PP    PP   SS          PP    PP  -------------------------        \n",
            " --------------------------------  PPPPPP       SSSSS     PPPPPP    -------------------------------- \n",
            "        -------------------------  PP                SS   PP        -------------------------        \n",
            "                -----------------  PP                SS   PP        -----------------                \n",
            "                        ---------  PP          SSSSSS     PP        ---------                        \n",
            " --------------------------------------------------------------------------------------------------- \n",
            "          ** ** ** ** ** ** ** ** ** ** ** ** ** ** ** ** ** ** ** ** ** ** ** ** ** ** **          \n",
            "                        Polymer Structure Predictor (PSP) version =  1.0.0                     \n",
            "                                   Developed at Ramprasad Group                                      \n",
            "           Materials Science and Engineering, Georgia Institute of Technology, Atlanta, US           \n",
            "\n",
            "           Cite this work as:                                                                \n",
            "           H. Sahu, K-H. Shen, J. H. Montoya, H. Tran, R. Ramprasad, PSP: A python toolkit           \n",
            "           for predicting 3D models of polymers, journal name, volume, page, 2022.                   \n",
            "          ** ** ** ** ** ** ** ** ** ** ** ** ** ** ** ** ** ** ** ** ** ** ** ** ** ** **          \n",
            " --------------------------------------------------------------------------------------------------- \n",
            "  CrystalBuilder  started...\n",
            " ----------------------------------------------- INPUT ---------------------------------------------  \n",
            " List of chain models (POSCAR):  ['chains/pvc/pvc_N5.vasp'] \n",
            " Are they infinite polymer chains?:  False \n",
            " Number of samples:  [[0], [0], [0], [0], [60, 80, 90, 100, 120], [0], [0], [0]] \n",
            " Optimize models:  False \n",
            " Number of models to be selected:  50 \n",
            " Minimum atomic distance (angstrom):  2.0 \n",
            " Number of cores:  All \n",
            " Output directory:  selective_models/ \n",
            "\n",
            " maximum number of possible crustals for each polymer chain:  5 \n",
            "\n"
          ]
        },
        {
          "output_type": "stream",
          "name": "stderr",
          "text": [
            "\rBuilding models ...:   0%|          | 0/1 [00:00<?, ?it/s]"
          ]
        },
        {
          "output_type": "stream",
          "name": "stdout",
          "text": [
            " Crystal model building started for pvc_N5 ...\n"
          ]
        },
        {
          "output_type": "stream",
          "name": "stderr",
          "text": [
            "\n",
            "pvc_N5 Generating models:   0%|          | 0/1 [00:00<?, ?it/s]\u001b[A\n",
            "pvc_N5 Generating models: 100%|██████████| 1/1 [00:00<00:00,  2.92it/s]\n",
            "Building models ...: 100%|██████████| 1/1 [00:00<00:00,  2.67it/s]"
          ]
        },
        {
          "output_type": "stream",
          "name": "stdout",
          "text": [
            " Crystal model building completed for pvc_N5\n",
            "\n",
            " Crystal model building completed.\n",
            "\n",
            " ----------------------------------------------- OUTPUT -------------------------------------------- \n",
            "|    | ID     |   Count |   radius |\n",
            "|---:|:-------|--------:|---------:|\n",
            "|  1 | pvc_N5 |       5 |  6.54381 |\n",
            "\n",
            " Total run time (minutes):  0.01\n",
            " ------------------------------------- PSP TERMINATED NORMALLY ------------------------------------- \n"
          ]
        },
        {
          "output_type": "stream",
          "name": "stderr",
          "text": [
            "\n"
          ]
        }
      ]
    },
    {
      "cell_type": "markdown",
      "metadata": {
        "id": "jx78fuC-_PnX"
      },
      "source": [
        "Crystal models are stored at *selective_models/PVC_N5/*. As can be seen, there are only five models generated, including a T-shape model (*cryst_out-3.vasp*)."
      ]
    },
    {
      "cell_type": "code",
      "metadata": {
        "colab": {
          "base_uri": "https://localhost:8080/",
          "height": 406
        },
        "id": "PhkIdWV8B-Pn",
        "outputId": "33d5fd02-c4e4-4312-e584-0264c5f7ffbc"
      },
      "source": [
        "!ls selective_models/pvc_N5/\n",
        "visualize3D(\"selective_models/pvc_N5/cryst_out-3.vasp\")"
      ],
      "execution_count": null,
      "outputs": [
        {
          "output_type": "stream",
          "name": "stdout",
          "text": [
            "cryst_out-1.vasp  cryst_out-3.vasp  cryst_out-5.vasp\n",
            "cryst_out-2.vasp  cryst_out-4.vasp\n",
            "1 molecule converted\n",
            "model_wCell.cif\n"
          ]
        },
        {
          "output_type": "display_data",
          "data": {
            "application/3dmoljs_load.v0": "<div id=\"3dmolviewer_16463356907050006\"  style=\"position: relative; width: 400px; height: 300px\">\n        <p id=\"3dmolwarning_16463356907050006\" style=\"background-color:#ffcccc;color:black\">You appear to be running in JupyterLab (or JavaScript failed to load for some other reason).  You need to install the 3dmol extension: <br>\n        <tt>jupyter labextension install jupyterlab_3dmol</tt></p>\n        </div>\n<script>\n\nvar loadScriptAsync = function(uri){\n  return new Promise((resolve, reject) => {\n    var tag = document.createElement('script');\n    tag.src = uri;\n    tag.async = true;\n    tag.onload = () => {\n      resolve();\n    };\n  var firstScriptTag = document.getElementsByTagName('script')[0];\n  firstScriptTag.parentNode.insertBefore(tag, firstScriptTag);\n});\n};\n\nif(typeof $3Dmolpromise === 'undefined') {\n$3Dmolpromise = null;\n  $3Dmolpromise = loadScriptAsync('https://3dmol.org/build/3Dmol.js');\n}\n\nvar viewer_16463356907050006 = null;\nvar warn = document.getElementById(\"3dmolwarning_16463356907050006\");\nif(warn) {\n    warn.parentNode.removeChild(warn);\n}\n$3Dmolpromise.then(function() {\nviewer_16463356907050006 = $3Dmol.createViewer($(\"#3dmolviewer_16463356907050006\"),{backgroundColor:\"white\"});\nviewer_16463356907050006.zoomTo();\n\tviewer_16463356907050006.addModelsAsFrames(\"# CIF file generated by openbabel 3.1.0, see https://openbabel.org\\ndata_I\\n_chemical_name_common '### pvc ### (CrystalBuilder Info:: Translation: 0; Rotation 1 0; Rotation 2 0)'\\n_cell_length_a 20.0234\\n_cell_length_b 5.53\\n_cell_length_c 15.22\\n_cell_angle_alpha 90\\n_cell_angle_beta 90\\n_cell_angle_gamma 90\\n_space_group_name_H-M_alt 'P 1'\\n_space_group_name_Hall 'P 1'\\nloop_\\n    _symmetry_equiv_pos_as_xyz\\n    x,y,z\\nloop_\\n    _atom_site_label\\n    _atom_site_type_symbol\\n    _atom_site_fract_x\\n    _atom_site_fract_y\\n    _atom_site_fract_z\\n    _atom_site_occupancy\\n    C0       C        0.13884    0.50163    0.84803    1.000\\n    C1       C        0.10488    0.61646    0.76846    1.000\\n    C2       C        0.13789    0.50380    0.34625    1.000\\n    C3       C        0.13754    0.50452    0.17898    1.000\\n    C4       C        0.10423    0.61790    0.43397    1.000\\n    C5       C        0.13854    0.50235    0.68075    1.000\\n    C6       C        0.10458    0.61718    0.60125    1.000\\n    C7       C        0.13819    0.50307    0.51353    1.000\\n    C8       C        0.10393    0.61863    0.26669    1.000\\n    C9       C        0.10358    0.61935    0.09941    1.000\\n    C10      C        0.33526    0.50163    0.49796    1.000\\n    C11      C        0.39574    0.61646    0.45329    1.000\\n    C12      C        0.71666    0.50380    0.49671    1.000\\n    C13      C        0.84381    0.50452    0.49625    1.000\\n    C14      C        0.64999    0.61790    0.45243    1.000\\n    C15      C        0.46241    0.50235    0.49757    1.000\\n    C16      C        0.52284    0.61718    0.45289    1.000\\n    C17      C        0.58951    0.50307    0.49711    1.000\\n    C18      C        0.77714    0.61863    0.45204    1.000\\n    C19      C        0.90429    0.61935    0.45158    1.000\\n    Cl20     Cl       0.12900    0.18228    0.51242    1.000\\n    Cl21     Cl       0.12835    0.18373    0.17786    1.000\\n    Cl22     Cl       0.12930    0.18156    0.67970    1.000\\n    Cl23     Cl       0.12965    0.18083    0.84698    1.000\\n    Cl24     Cl       0.12865    0.18300    0.34514    1.000\\n    Cl25     Cl       0.59036    0.18228    0.48502    1.000\\n    Cl26     Cl       0.84466    0.18373    0.48417    1.000\\n    Cl27     Cl       0.46321    0.18156    0.48541    1.000\\n    Cl28     Cl       0.33606    0.18083    0.48587    1.000\\n    Cl29     Cl       0.71751    0.18300    0.48456    1.000\\n    H30      H        0.04994    0.56854    0.09704    1.000\\n    H31      H        0.10737    0.81917    0.10427    1.000\\n    H32      H        0.19153    0.55063    0.17878    1.000\\n    H33      H        0.19183    0.54991    0.34599    1.000\\n    H34      H        0.10772    0.81844    0.27155    1.000\\n    H35      H        0.05059    0.56709    0.43154    1.000\\n    H36      H        0.19218    0.54919    0.51327    1.000\\n    H37      H        0.10807    0.81790    0.43883    1.000\\n    H38      H        0.11746    0.57306    0.90782    1.000\\n    H39      H        0.19252    0.54864    0.68055    1.000\\n    H40      H        0.10837    0.81718    0.60611    1.000\\n    H41      H        0.05094    0.56637    0.59882    1.000\\n    H42      H        0.19282    0.54792    0.84783    1.000\\n    H43      H        0.10872    0.81646    0.77339    1.000\\n    H44      H        0.05124    0.56564    0.76610    1.000\\n    H45      H        0.05029    0.56781    0.26426    1.000\\n    H46      H        0.12815    0.56637    0.03922    1.000\\n    H47      H        0.90609    0.56854    0.38101    1.000\\n    H48      H        0.90060    0.81917    0.45657    1.000\\n    H49      H        0.84396    0.55063    0.56728    1.000\\n    H50      H        0.71686    0.54991    0.56767    1.000\\n    H51      H        0.77345    0.81844    0.45703    1.000\\n    H52      H        0.65184    0.56709    0.38187    1.000\\n    H53      H        0.58971    0.54919    0.56813    1.000\\n    H54      H        0.64629    0.81790    0.45749    1.000\\n    H55      H        0.28981    0.57306    0.46984    1.000\\n    H56      H        0.46256    0.54864    0.56859    1.000\\n    H57      H        0.51914    0.81718    0.45788    1.000\\n    H58      H        0.52469    0.56637    0.38233    1.000\\n    H59      H        0.33541    0.54792    0.56899    1.000\\n    H60      H        0.39199    0.81646    0.45834    1.000\\n    H61      H        0.39754    0.56564    0.38272    1.000\\n    H62      H        0.77899    0.56781    0.38147    1.000\\n    H63      H        0.95004    0.56637    0.48390    1.000\\n\");\n\tviewer_16463356907050006.setStyle({\"stick\": {}});\n\tviewer_16463356907050006.addUnitCell();\n\tviewer_16463356907050006.replicateUnitCell(1,1,1);\n\tviewer_16463356907050006.zoomTo();\nviewer_16463356907050006.render();\n});\n</script>",
            "text/html": [
              "<div id=\"3dmolviewer_16463356907050006\"  style=\"position: relative; width: 400px; height: 300px\">\n",
              "        <p id=\"3dmolwarning_16463356907050006\" style=\"background-color:#ffcccc;color:black\">You appear to be running in JupyterLab (or JavaScript failed to load for some other reason).  You need to install the 3dmol extension: <br>\n",
              "        <tt>jupyter labextension install jupyterlab_3dmol</tt></p>\n",
              "        </div>\n",
              "<script>\n",
              "\n",
              "var loadScriptAsync = function(uri){\n",
              "  return new Promise((resolve, reject) => {\n",
              "    var tag = document.createElement('script');\n",
              "    tag.src = uri;\n",
              "    tag.async = true;\n",
              "    tag.onload = () => {\n",
              "      resolve();\n",
              "    };\n",
              "  var firstScriptTag = document.getElementsByTagName('script')[0];\n",
              "  firstScriptTag.parentNode.insertBefore(tag, firstScriptTag);\n",
              "});\n",
              "};\n",
              "\n",
              "if(typeof $3Dmolpromise === 'undefined') {\n",
              "$3Dmolpromise = null;\n",
              "  $3Dmolpromise = loadScriptAsync('https://3dmol.org/build/3Dmol.js');\n",
              "}\n",
              "\n",
              "var viewer_16463356907050006 = null;\n",
              "var warn = document.getElementById(\"3dmolwarning_16463356907050006\");\n",
              "if(warn) {\n",
              "    warn.parentNode.removeChild(warn);\n",
              "}\n",
              "$3Dmolpromise.then(function() {\n",
              "viewer_16463356907050006 = $3Dmol.createViewer($(\"#3dmolviewer_16463356907050006\"),{backgroundColor:\"white\"});\n",
              "viewer_16463356907050006.zoomTo();\n",
              "\tviewer_16463356907050006.addModelsAsFrames(\"# CIF file generated by openbabel 3.1.0, see https://openbabel.org\\ndata_I\\n_chemical_name_common '### pvc ### (CrystalBuilder Info:: Translation: 0; Rotation 1 0; Rotation 2 0)'\\n_cell_length_a 20.0234\\n_cell_length_b 5.53\\n_cell_length_c 15.22\\n_cell_angle_alpha 90\\n_cell_angle_beta 90\\n_cell_angle_gamma 90\\n_space_group_name_H-M_alt 'P 1'\\n_space_group_name_Hall 'P 1'\\nloop_\\n    _symmetry_equiv_pos_as_xyz\\n    x,y,z\\nloop_\\n    _atom_site_label\\n    _atom_site_type_symbol\\n    _atom_site_fract_x\\n    _atom_site_fract_y\\n    _atom_site_fract_z\\n    _atom_site_occupancy\\n    C0       C        0.13884    0.50163    0.84803    1.000\\n    C1       C        0.10488    0.61646    0.76846    1.000\\n    C2       C        0.13789    0.50380    0.34625    1.000\\n    C3       C        0.13754    0.50452    0.17898    1.000\\n    C4       C        0.10423    0.61790    0.43397    1.000\\n    C5       C        0.13854    0.50235    0.68075    1.000\\n    C6       C        0.10458    0.61718    0.60125    1.000\\n    C7       C        0.13819    0.50307    0.51353    1.000\\n    C8       C        0.10393    0.61863    0.26669    1.000\\n    C9       C        0.10358    0.61935    0.09941    1.000\\n    C10      C        0.33526    0.50163    0.49796    1.000\\n    C11      C        0.39574    0.61646    0.45329    1.000\\n    C12      C        0.71666    0.50380    0.49671    1.000\\n    C13      C        0.84381    0.50452    0.49625    1.000\\n    C14      C        0.64999    0.61790    0.45243    1.000\\n    C15      C        0.46241    0.50235    0.49757    1.000\\n    C16      C        0.52284    0.61718    0.45289    1.000\\n    C17      C        0.58951    0.50307    0.49711    1.000\\n    C18      C        0.77714    0.61863    0.45204    1.000\\n    C19      C        0.90429    0.61935    0.45158    1.000\\n    Cl20     Cl       0.12900    0.18228    0.51242    1.000\\n    Cl21     Cl       0.12835    0.18373    0.17786    1.000\\n    Cl22     Cl       0.12930    0.18156    0.67970    1.000\\n    Cl23     Cl       0.12965    0.18083    0.84698    1.000\\n    Cl24     Cl       0.12865    0.18300    0.34514    1.000\\n    Cl25     Cl       0.59036    0.18228    0.48502    1.000\\n    Cl26     Cl       0.84466    0.18373    0.48417    1.000\\n    Cl27     Cl       0.46321    0.18156    0.48541    1.000\\n    Cl28     Cl       0.33606    0.18083    0.48587    1.000\\n    Cl29     Cl       0.71751    0.18300    0.48456    1.000\\n    H30      H        0.04994    0.56854    0.09704    1.000\\n    H31      H        0.10737    0.81917    0.10427    1.000\\n    H32      H        0.19153    0.55063    0.17878    1.000\\n    H33      H        0.19183    0.54991    0.34599    1.000\\n    H34      H        0.10772    0.81844    0.27155    1.000\\n    H35      H        0.05059    0.56709    0.43154    1.000\\n    H36      H        0.19218    0.54919    0.51327    1.000\\n    H37      H        0.10807    0.81790    0.43883    1.000\\n    H38      H        0.11746    0.57306    0.90782    1.000\\n    H39      H        0.19252    0.54864    0.68055    1.000\\n    H40      H        0.10837    0.81718    0.60611    1.000\\n    H41      H        0.05094    0.56637    0.59882    1.000\\n    H42      H        0.19282    0.54792    0.84783    1.000\\n    H43      H        0.10872    0.81646    0.77339    1.000\\n    H44      H        0.05124    0.56564    0.76610    1.000\\n    H45      H        0.05029    0.56781    0.26426    1.000\\n    H46      H        0.12815    0.56637    0.03922    1.000\\n    H47      H        0.90609    0.56854    0.38101    1.000\\n    H48      H        0.90060    0.81917    0.45657    1.000\\n    H49      H        0.84396    0.55063    0.56728    1.000\\n    H50      H        0.71686    0.54991    0.56767    1.000\\n    H51      H        0.77345    0.81844    0.45703    1.000\\n    H52      H        0.65184    0.56709    0.38187    1.000\\n    H53      H        0.58971    0.54919    0.56813    1.000\\n    H54      H        0.64629    0.81790    0.45749    1.000\\n    H55      H        0.28981    0.57306    0.46984    1.000\\n    H56      H        0.46256    0.54864    0.56859    1.000\\n    H57      H        0.51914    0.81718    0.45788    1.000\\n    H58      H        0.52469    0.56637    0.38233    1.000\\n    H59      H        0.33541    0.54792    0.56899    1.000\\n    H60      H        0.39199    0.81646    0.45834    1.000\\n    H61      H        0.39754    0.56564    0.38272    1.000\\n    H62      H        0.77899    0.56781    0.38147    1.000\\n    H63      H        0.95004    0.56637    0.48390    1.000\\n\");\n",
              "\tviewer_16463356907050006.setStyle({\"stick\": {}});\n",
              "\tviewer_16463356907050006.addUnitCell();\n",
              "\tviewer_16463356907050006.replicateUnitCell(1,1,1);\n",
              "\tviewer_16463356907050006.zoomTo();\n",
              "viewer_16463356907050006.render();\n",
              "});\n",
              "</script>"
            ]
          },
          "metadata": {}
        }
      ]
    },
    {
      "cell_type": "markdown",
      "metadata": {
        "id": "GoZLAK6rbJhl"
      },
      "source": [
        "### Additional information\n",
        "$CrystalBuilder$ allows users to modify a number of parameters/keywords in order to create desired crystal models. It can build crystal models of multiple molecules/polymers at the same time by providing $CrystalBuilder$ with a list of chain models."
      ]
    },
    {
      "cell_type": "markdown",
      "metadata": {
        "id": "UOG1VYcztPms"
      },
      "source": [
        " $CrystalBuilder$ supports the following **parameters** or **keywords**:\n",
        "- $\\verb=VASPInp_list=$ **:** A list of names of oligomer or polymer chains with their PATH. Make sure that $CrystalBuilder$ can find them in the specified locations.\n",
        "- $\\verb=NSamples=$ [*default value=5*] **:** It determines the number of crystal models to be generated.  It can be an integer or a list of lists. If it is an integer, it will be considered as the number of samples for each degree of freedom. For polymer and small molecules, the total number of crystal models will be $\\verb=NSamples=^3$ and $\\verb=NSamples=^8$, respectively. A specific set of crystal models can be generated by specifying translation distance and rotation angles in a list of lists.\n",
        "- $\\verb=InputRadius=$ [*default option=`auto'*] **:** This key defines the distance between $z$-axes of two chains, which is used to rotate one chain with respect to another fixed one. If $\\verb=InputRadius=$=`auto', $CrystalBuilder$ will calculate an approximate distance by considering $x$ and $y$ coordinates of the input geometry and the minimum atomic distance defined by $\\verb=MinAtomicDis=$. To define your own value, change this to a float or an integer (in $Å$).\n",
        "- $\\verb=MinAtomicDis=$ [*default value=2.0*] **:** This key defines the minimum distance between any two atoms of two chains in $Å$. Note that this key works if $\\verb=InputRadius=$=`auto'.\n",
        "- $\\verb=Polymer=$ [*default option=`True'*]: In the case of polymers, fixing the position of the first polymer, the second one is moved in three distinct ways, i.e., (1) translated along the $z$-axis, (2) rotated around its own axis, (3) rotated around the first polymer chain. However, for oligomers, more degrees of freedom must be considered to capture every possible crystal models, which can be activated by setting $\\verb=Polymer=$=`False'.\n",
        "- $\\verb=Optimize=$ [*default option=`False'*] **:** PSP generated crystal models can be further optimized using UFF and conjugate gradient method by setting $\\verb=Optimize=$=`True'.\n",
        "- $\\verb=NumCandidate=$ [*default value=50*] **:** This keyword is activated when $\\verb=Optimize=$=`True', determining the number of crystal models selected based on the total energy computed by UFF. Note that high-energy models are discarded.\n",
        "- $\\verb=OutDir=$ [*default option=`crystals'*]: This key allows users to define a directory where they want to store output files."
      ]
    },
    {
      "cell_type": "markdown",
      "metadata": {
        "id": "hSQOQ9k1xwQI"
      },
      "source": [
        "The code snippet below demonstrates how to build crystal models from a set of repeated unit SMILES strings (provided as a CSV file)."
      ]
    },
    {
      "cell_type": "code",
      "metadata": {
        "colab": {
          "base_uri": "https://localhost:8080/"
        },
        "id": "86ZatLT1vPxS",
        "outputId": "8676c3ee-b235-4d7e-ddb3-2a711b1dbb0e"
      },
      "source": [
        "cat crystal_model.py"
      ],
      "execution_count": null,
      "outputs": [
        {
          "output_type": "stream",
          "name": "stdout",
          "text": [
            "import pandas as pd\n",
            "import glob\n",
            "import psp.ChainBuilder as ChB\n",
            "import psp.CrystalBuilder as CrB\n",
            "\n",
            "df_smiles = pd.read_csv(\"input_chain.csv\")\n",
            "\n",
            "chain_builder = ChB.Builder(\n",
            "    Dataframe=df_smiles,\n",
            "    ID_col=\"PID\",\n",
            "    SMILES_col=\"smiles_polymer\",\n",
            "    NumConf=1,\n",
            "    Length=['n',5],\n",
            "    Steps=20,\n",
            "    Substeps=20,\n",
            "    Method=\"SA\",\n",
            "    NCores=1,\n",
            "    OutDir='chains',\n",
            "    Tol_ChainCorr=50,\n",
            ")\n",
            "results = chain_builder.BuildChain()\n",
            "\n",
            "ID = \"PVC\"\n",
            "vasp_input_list = glob.glob(\"chains/\" + ID + \"/\" + \"*.vasp\")\n",
            "crystal_builder = CrB.Builder(\n",
            "    VaspInp_list=vasp_input_list,\n",
            "    NSamples=10,\n",
            "    InputRadius=\"auto\",\n",
            "    MinAtomicDis=2.0,\n",
            "    Polymer=True,\n",
            "    Optimize=False,\n",
            "    NCores=1,\n",
            ")\n",
            "results = crystal_builder.BuildCrystal()\n"
          ]
        }
      ]
    },
    {
      "cell_type": "markdown",
      "metadata": {
        "id": "mgls2QVkqA2a"
      },
      "source": [
        "## AmorphousBuilder\n",
        "$AmorphousBuilder$ builds models of amorphous organic materials. It accepts SMILES strings for both molecules and polymers. In this section, we'll show you how to build a variety of amorphous structures using SMILES strings as INPUT.\n"
      ]
    },
    {
      "cell_type": "markdown",
      "metadata": {
        "id": "boiVmbS81rce"
      },
      "source": [
        "Let's go to the *polymer_models/AmorphousBuilder* directory."
      ]
    },
    {
      "cell_type": "code",
      "metadata": {
        "colab": {
          "base_uri": "https://localhost:8080/"
        },
        "id": "1Cj9vuQYqElr",
        "outputId": "3b64c747-ce95-4302-c2f8-1d63320d6bd8"
      },
      "source": [
        "%cd /content/polymer_models/AmorphousBuilder/\n"
      ],
      "execution_count": null,
      "outputs": [
        {
          "output_type": "stream",
          "name": "stdout",
          "text": [
            "/content/polymer_models/AmorphousBuilder\n"
          ]
        }
      ]
    },
    {
      "cell_type": "markdown",
      "metadata": {
        "id": "jedCvYl_djvG"
      },
      "source": [
        "###**Example 1**: Amorphous structure of a polymer\n",
        "Users can build an amorphous model for polymers by providing repeated unit SMILES, length of an oligomer, and number molecules to be included in the simulation box. The below example shows a toy amorphous model for polyethylene, where 10 pentaethylene molecules are packed in a cubic box."
      ]
    },
    {
      "cell_type": "code",
      "metadata": {
        "colab": {
          "base_uri": "https://localhost:8080/"
        },
        "id": "PhhDv6dY0Uo_",
        "outputId": "096d1447-b2a1-4b15-df0f-5dda4a322fde"
      },
      "source": [
        "# Input SMILES string\n",
        "repeating_unit_PE = '[*]CC[*]'\n",
        "Length_PE = 5\n",
        "Number_molecule_PE = 10\n",
        "\n",
        "# Create a pandas DataFrame\n",
        "import pandas as pd\n",
        "input_data = [['PE', repeating_unit_PE, Length_PE, Number_molecule_PE, 1, False]]\n",
        "input_df = pd.DataFrame(input_data, columns = ['ID', 'smiles', 'Len', 'Num', 'NumConf', 'Loop'])\n",
        "\n",
        "import psp.AmorphousBuilder as ab\n",
        "amor = ab.Builder(input_df, density=0.65, box_type='c', OutDir='amor_model')\n",
        "amor.Build()"
      ],
      "execution_count": null,
      "outputs": [
        {
          "output_type": "stream",
          "name": "stdout",
          "text": [
            "\n",
            "                        ---------  PPPPPP       SSSSSS    PPPPPP    ---------                        \n",
            "                -----------------  PP    PP   SS          PP    PP  -----------------                \n",
            "        -------------------------  PP    PP   SS          PP    PP  -------------------------        \n",
            " --------------------------------  PPPPPP       SSSSS     PPPPPP    -------------------------------- \n",
            "        -------------------------  PP                SS   PP        -------------------------        \n",
            "                -----------------  PP                SS   PP        -----------------                \n",
            "                        ---------  PP          SSSSSS     PP        ---------                        \n",
            " --------------------------------------------------------------------------------------------------- \n",
            "          ** ** ** ** ** ** ** ** ** ** ** ** ** ** ** ** ** ** ** ** ** ** ** ** ** ** **          \n",
            "                        Polymer Structure Predictor (PSP) version =  1.0.0                     \n",
            "                                   Developed at Ramprasad Group                                      \n",
            "           Materials Science and Engineering, Georgia Institute of Technology, Atlanta, US           \n",
            "\n",
            "           Cite this work as:                                                                \n",
            "           H. Sahu, K-H. Shen, J. H. Montoya, H. Tran, R. Ramprasad, PSP: A python toolkit           \n",
            "           for predicting 3D models of polymers, journal name, volume, page, 2022.                   \n",
            "          ** ** ** ** ** ** ** ** ** ** ** ** ** ** ** ** ** ** ** ** ** ** ** ** ** ** **          \n",
            " --------------------------------------------------------------------------------------------------- \n",
            "  AmorphousBuilder  started...\n",
            " ----------------------------------------------- INPUT --------------------------------------------- \n",
            "|    | ID   | smiles   |   Len |   Num |   NumConf | Loop   |\n",
            "|---:|:-----|:---------|------:|------:|----------:|:-------|\n",
            "|  1 | PE   | [*]CC[*] |     5 |    10 |         1 | False  |\n",
            "\n",
            " Additional information:  \n",
            " Number of models:  1 \n",
            " Density (g/cm3):  0.65 \n",
            " Tolerance distance (angstrom):  2.0 \n",
            " Box type:  Cubic \n",
            " Output directory:  amor_model/ \n",
            "\n",
            "  MoleculeBuilder  started...\n",
            " ----------------------------------------------- INPUT --------------------------------------------- \n",
            "|    | ID   | smiles   |   Len |   Num |   NumConf |   Loop |\n",
            "|---:|:-----|:---------|------:|------:|----------:|-------:|\n",
            "|  1 | PE   | [*]CC[*] |     5 |    10 |         1 |      0 |\n",
            "\n",
            " Additional information:  \n",
            " Length of oligomers:  [5] \n",
            " Number of conformers:  1 \n",
            " Loop model:  False \n",
            " Run short MD simulation:  False \n",
            " Generate OPLS parameter file:  False \n",
            " Intermolecular distance in POSCAR:  6 \n",
            " Number of cores:  All \n",
            " Output Directory:  amor_model/molecules/ \n",
            "\n",
            "\n",
            " 3D model building started...\n",
            "\n"
          ]
        },
        {
          "output_type": "stream",
          "name": "stderr",
          "text": [
            "Building models ...: 100%|██████████| 1/1 [00:00<00:00,  4.11it/s]\n"
          ]
        },
        {
          "output_type": "stream",
          "name": "stdout",
          "text": [
            "\n",
            " 3D model building completed.\n",
            "\n",
            "|    | ID   | Result   | SMILES         |\n",
            "|---:|:-----|:---------|:---------------|\n",
            "|  1 | PE   | SUCCESS  | ['CCCCCCCCCC'] |\n",
            "\n",
            " 3D model building time (minutes):  0.0\n",
            "\n"
          ]
        },
        {
          "output_type": "stream",
          "name": "stderr",
          "text": [
            "Building models ...: 100%|██████████| 1/1 [00:22<00:00, 22.24s/it]"
          ]
        },
        {
          "output_type": "stream",
          "name": "stdout",
          "text": [
            "\n",
            " Amorphous model building completed.\n",
            "\n",
            " Total run time (minutes):  0.38\n",
            " ------------------------------------- PSP TERMINATED NORMALLY ------------------------------------- \n"
          ]
        },
        {
          "output_type": "stream",
          "name": "stderr",
          "text": [
            "\n"
          ]
        }
      ]
    },
    {
      "cell_type": "markdown",
      "metadata": {
        "id": "R4hzSNsOd2gK"
      },
      "source": [
        "PSP terminated normally. All models are stored in *amor_model/* directory. Output files are in POSCAR ($.vasp$) and LAMMPS data ($.data$) formats. Individual models are stored in *amor_model/molecules/* and PACKMOL output files are saved in *amor_model/packmol/* directory."
      ]
    },
    {
      "cell_type": "code",
      "metadata": {
        "colab": {
          "base_uri": "https://localhost:8080/"
        },
        "id": "WLzCx6rzwHeH",
        "outputId": "9de2ca86-1355-474e-a9f7-1fea4a5fc944"
      },
      "source": [
        "ls amor_model"
      ],
      "execution_count": null,
      "outputs": [
        {
          "output_type": "stream",
          "name": "stdout",
          "text": [
            "amor_model.data  amor_model.vasp  \u001b[0m\u001b[01;34mmolecules\u001b[0m/  \u001b[01;34mpackmol\u001b[0m/\n"
          ]
        }
      ]
    },
    {
      "cell_type": "markdown",
      "metadata": {
        "id": "Gm3QFM1C4KRc"
      },
      "source": [
        "Let's take a look at the amorphous model."
      ]
    },
    {
      "cell_type": "code",
      "metadata": {
        "id": "AaSBhJnIP9fi",
        "colab": {
          "base_uri": "https://localhost:8080/",
          "height": 352
        },
        "outputId": "d9542bd2-4317-402b-de01-6bd799e02756"
      },
      "source": [
        "visualize3D(\"amor_model/amor_model.vasp\")"
      ],
      "execution_count": null,
      "outputs": [
        {
          "output_type": "stream",
          "name": "stdout",
          "text": [
            "1 molecule converted\n",
            "model_wCell.cif\n"
          ]
        },
        {
          "output_type": "display_data",
          "data": {
            "application/3dmoljs_load.v0": "<div id=\"3dmolviewer_16687045006840155\"  style=\"position: relative; width: 400px; height: 300px\">\n        <p id=\"3dmolwarning_16687045006840155\" style=\"background-color:#ffcccc;color:black\">You appear to be running in JupyterLab (or JavaScript failed to load for some other reason).  You need to install the 3dmol extension: <br>\n        <tt>jupyter labextension install jupyterlab_3dmol</tt></p>\n        </div>\n<script>\n\nvar loadScriptAsync = function(uri){\n  return new Promise((resolve, reject) => {\n    var tag = document.createElement('script');\n    tag.src = uri;\n    tag.async = true;\n    tag.onload = () => {\n      resolve();\n    };\n  var firstScriptTag = document.getElementsByTagName('script')[0];\n  firstScriptTag.parentNode.insertBefore(tag, firstScriptTag);\n});\n};\n\nif(typeof $3Dmolpromise === 'undefined') {\n$3Dmolpromise = null;\n  $3Dmolpromise = loadScriptAsync('https://cdn.jsdelivr.net/npm/3dmol@latest/build/3Dmol-min.min.js');\n}\n\nvar viewer_16687045006840155 = null;\nvar warn = document.getElementById(\"3dmolwarning_16687045006840155\");\nif(warn) {\n    warn.parentNode.removeChild(warn);\n}\n$3Dmolpromise.then(function() {\nviewer_16687045006840155 = $3Dmol.createViewer($(\"#3dmolviewer_16687045006840155\"),{backgroundColor:\"white\"});\nviewer_16687045006840155.zoomTo();\n\tviewer_16687045006840155.addModelsAsFrames(\"# CIF file generated by openbabel 3.1.0, see https://openbabel.org\\ndata_I\\n_chemical_name_common '### POSCAR ###'\\n_cell_length_a 15.7715\\n_cell_length_b 15.7715\\n_cell_length_c 15.7715\\n_cell_angle_alpha 90\\n_cell_angle_beta 90\\n_cell_angle_gamma 90\\n_space_group_name_H-M_alt 'P 1'\\n_space_group_name_Hall 'P 1'\\nloop_\\n    _symmetry_equiv_pos_as_xyz\\n    x,y,z\\nloop_\\n    _atom_site_label\\n    _atom_site_type_symbol\\n    _atom_site_fract_x\\n    _atom_site_fract_y\\n    _atom_site_fract_z\\n    _atom_site_occupancy\\n    C0       C        0.84405    0.12072    0.56697    1.000\\n    C1       C        0.11679    0.11787    0.60812    1.000\\n    C2       C        0.16917    0.56114    0.46781    1.000\\n    C3       C        0.16409    0.65079    0.43166    1.000\\n    C4       C        0.12599    0.65041    0.34207    1.000\\n    C5       C        0.10887    0.74013    0.30764    1.000\\n    C6       C        0.18806    0.79650    0.29845    1.000\\n    C7       C        0.25324    0.76036    0.23574    1.000\\n    C8       C        0.32508    0.82395    0.21970    1.000\\n    C9       C        0.39121    0.78712    0.15845    1.000\\n    C10      C        0.46026    0.85154    0.13467    1.000\\n    C11      C        0.52031    0.87106    0.20822    1.000\\n    C12      C        0.25191    0.78800    0.77627    1.000\\n    C13      C        0.21773    0.83721    0.70000    1.000\\n    C14      C        0.28830    0.86783    0.64027    1.000\\n    C15      C        0.32990    0.79498    0.59100    1.000\\n    C16      C        0.39445    0.82884    0.52658    1.000\\n    C17      C        0.43743    0.75579    0.47858    1.000\\n    C18      C        0.49399    0.78661    0.40522    1.000\\n    C19      C        0.56887    0.84323    0.43192    1.000\\n    C20      C        0.63139    0.79796    0.49127    1.000\\n    C21      C        0.71014    0.85204    0.50674    1.000\\n    C22      C        0.44897    0.52183    0.52741    1.000\\n    C23      C        0.60679    0.70298    0.12992    1.000\\n    C24      C        0.12168    0.19206    0.54617    1.000\\n    C25      C        0.66798    0.75180    0.18679    1.000\\n    C26      C        0.18337    0.17291    0.47332    1.000\\n    C27      C        0.53330    0.28063    0.56849    1.000\\n    C28      C        0.41683    0.43046    0.51701    1.000\\n    C29      C        0.32603    0.42653    0.48207    1.000\\n    C30      C        0.16904    0.11172    0.12865    1.000\\n    C31      C        0.16365    0.19675    0.17462    1.000\\n    C32      C        0.12985    0.26643    0.11559    1.000\\n    C33      C        0.11229    0.35044    0.16206    1.000\\n    C34      C        0.19053    0.39172    0.20347    1.000\\n    C35      C        0.25946    0.41556    0.13892    1.000\\n    C36      C        0.33047    0.46685    0.18121    1.000\\n    C37      C        0.40028    0.48917    0.11717    1.000\\n    C38      C        0.46882    0.54700    0.15503    1.000\\n    C39      C        0.52487    0.50141    0.21970    1.000\\n    C40      C        0.29915    0.33453    0.46533    1.000\\n    C41      C        0.20772    0.33041    0.43211    1.000\\n    C42      C        0.18172    0.24088    0.40326    1.000\\n    C43      C        0.81749    0.51377    0.26814    1.000\\n    C44      C        0.84323    0.42171    0.25178    1.000\\n    C45      C        0.81045    0.36078    0.32039    1.000\\n    C46      C        0.71401    0.34810    0.31627    1.000\\n    C47      C        0.68491    0.28108    0.38043    1.000\\n    C48      C        0.58821    0.26973    0.37764    1.000\\n    C49      C        0.55708    0.19516    0.43236    1.000\\n    C50      C        0.57610    0.20321    0.52772    1.000\\n    C51      C        0.54415    0.27974    0.66468    1.000\\n    C52      C        0.76010    0.72504    0.17031    1.000\\n    C53      C        0.40522    0.56894    0.60001    1.000\\n    C54      C        0.81768    0.77837    0.31500    1.000\\n    C55      C        0.43230    0.61040    0.78826    1.000\\n    C56      C        0.46616    0.53641    0.84177    1.000\\n    C57      C        0.82490    0.78052    0.21767    1.000\\n    C58      C        0.38544    0.13074    0.71737    1.000\\n    C59      C        0.37041    0.12294    0.62188    1.000\\n    C60      C        0.84970    0.60381    0.48664    1.000\\n    C61      C        0.86168    0.60508    0.58327    1.000\\n    C62      C        0.78008    0.62708    0.63088    1.000\\n    C63      C        0.84405    0.21406    0.19415    1.000\\n    C64      C        0.81698    0.15249    0.12427    1.000\\n    C65      C        0.72821    0.11533    0.13905    1.000\\n    C66      C        0.65751    0.18115    0.12637    1.000\\n    C67      C        0.56976    0.13987    0.13404    1.000\\n    C68      C        0.49906    0.20600    0.12320    1.000\\n    C69      C        0.41011    0.16612    0.11869    1.000\\n    C70      C        0.38291    0.11692    0.19846    1.000\\n    C71      C        0.37859    0.17291    0.27797    1.000\\n    C72      C        0.34042    0.12459    0.35260    1.000\\n    C73      C        0.87994    0.57769    0.84386    1.000\\n    C74      C        0.78369    0.56615    0.84627    1.000\\n    C75      C        0.75345    0.49095    0.79238    1.000\\n    C76      C        0.77767    0.40491    0.83112    1.000\\n    C77      C        0.73969    0.33161    0.77963    1.000\\n    C78      C        0.76549    0.24557    0.81730    1.000\\n    C79      C        0.71965    0.17037    0.77519    1.000\\n    C80      C        0.73734    0.15953    0.67983    1.000\\n    C81      C        0.83125    0.14260    0.66037    1.000\\n    C82      C        0.42824    0.69442    0.83778    1.000\\n    C83      C        0.51422    0.72732    0.87024    1.000\\n    C84      C        0.45823    0.45252    0.79422    1.000\\n    C85      C        0.65701    0.79010    0.83277    1.000\\n    C86      C        0.83264    0.68960    0.35222    1.000\\n    C87      C        0.83657    0.69283    0.44935    1.000\\n    C88      C        0.17436    0.61554    0.69689    1.000\\n    C89      C        0.14292    0.52747    0.72168    1.000\\n    C90      C        0.17018    0.50471    0.81235    1.000\\n    C91      C        0.13036    0.42158    0.84431    1.000\\n    C92      C        0.15401    0.34207    0.79288    1.000\\n    C93      C        0.24950    0.32311    0.79403    1.000\\n    C94      C        0.26852    0.23739    0.75224    1.000\\n    C95      C        0.36420    0.21932    0.75173    1.000\\n    C96      C        0.57712    0.74654    0.79834    1.000\\n    C97      C        0.79821    0.85800    0.79155    1.000\\n    C98      C        0.72067    0.80760    0.76118    1.000\\n    C99      C        0.85692    0.80582    0.84843    1.000\\n    H100     H        0.37923    0.06765    0.36731    1.000\\n    H101     H        0.83860    0.18350    0.25736    1.000\\n    H102     H        0.80462    0.27226    0.19263    1.000\\n    H103     H        0.42615    0.06245    0.20955    1.000\\n    H104     H        0.36319    0.21735    0.10646    1.000\\n    H105     H        0.40744    0.12244    0.06341    1.000\\n    H106     H        0.50211    0.25337    0.17519    1.000\\n    H107     H        0.81964    0.18502    0.06182    1.000\\n    H108     H        0.56304    0.09004    0.08471    1.000\\n    H109     H        0.56437    0.10982    0.19751    1.000\\n    H110     H        0.27448    0.10462    0.33770    1.000\\n    H111     H        0.79073    0.61953    0.70006    1.000\\n    H112     H        0.72422    0.08807    0.20404    1.000\\n    H113     H        0.71876    0.06271    0.09314    1.000\\n    H114     H        0.91114    0.23276    0.18407    1.000\\n    H115     H        0.66316    0.23175    0.17506    1.000\\n    H116     H        0.66405    0.21044    0.06258    1.000\\n    H117     H        0.31880    0.09010    0.18603    1.000\\n    H118     H        0.44339    0.19383    0.29610    1.000\\n    H119     H        0.33922    0.22984    0.26510    1.000\\n    H120     H        0.33897    0.16619    0.40935    1.000\\n    H121     H        0.86333    0.09936    0.12256    1.000\\n    H122     H        0.50972    0.24100    0.06290    1.000\\n    H123     H        0.33738    0.58010    0.58511    1.000\\n    H124     H        0.09295    0.06017    0.57534    1.000\\n    H125     H        0.29820    0.88311    0.19231    1.000\\n    H126     H        0.35577    0.83955    0.28120    1.000\\n    H127     H        0.35875    0.76721    0.09917    1.000\\n    H128     H        0.42089    0.72973    0.18686    1.000\\n    H129     H        0.49830    0.82490    0.08160    1.000\\n    H130     H        0.43084    0.91139    0.11172    1.000\\n    H131     H        0.48664    0.90562    0.25939    1.000\\n    H132     H        0.54782    0.81165    0.23409    1.000\\n    H133     H        0.57293    0.91183    0.18521    1.000\\n    H134     H        0.24462    0.61839    0.70050    1.000\\n    H135     H        0.14678    0.66430    0.73975    1.000\\n    H136     H        0.15458    0.62993    0.63088    1.000\\n    H137     H        0.07266    0.52601    0.71674    1.000\\n    H138     H        0.16974    0.48093    0.67616    1.000\\n    H139     H        0.14964    0.55626    0.85591    1.000\\n    H140     H        0.24043    0.50128    0.81628    1.000\\n    H141     H        0.06017    0.42837    0.84399    1.000\\n    H142     H        0.14957    0.41182    0.91145    1.000\\n    H143     H        0.13138    0.34822    0.72650    1.000\\n    H144     H        0.11958    0.28742    0.82129    1.000\\n    H145     H        0.27245    0.32216    0.86067    1.000\\n    H146     H        0.28399    0.37352    0.75896    1.000\\n    H147     H        0.23530    0.18629    0.78756    1.000\\n    H148     H        0.24424    0.23853    0.68605    1.000\\n    H149     H        0.38849    0.22338    0.81780    1.000\\n    H150     H        0.39774    0.26840    0.71363    1.000\\n    H151     H        0.45354    0.11762    0.73011    1.000\\n    H152     H        0.34765    0.08179    0.75123    1.000\\n    H153     H        0.30181    0.12713    0.60704    1.000\\n    H154     H        0.28095    0.70120    0.26205    1.000\\n    H155     H        0.18033    0.10456    0.63545    1.000\\n    H156     H        0.22135    0.74539    0.17475    1.000\\n    H157     H        0.21811    0.80702    0.36122    1.000\\n    H158     H        0.07254    0.13372    0.66049    1.000\\n    H159     H        0.05732    0.20455    0.52043    1.000\\n    H160     H        0.14330    0.24893    0.58162    1.000\\n    H161     H        0.16523    0.11147    0.44371    1.000\\n    H162     H        0.24874    0.16517    0.49837    1.000\\n    H163     H        0.11667    0.24405    0.37618    1.000\\n    H164     H        0.22452    0.22040    0.35114    1.000\\n    H165     H        0.16314    0.35431    0.48106    1.000\\n    H166     H        0.20176    0.37320    0.37631    1.000\\n    H167     H        0.34271    0.30580    0.41791    1.000\\n    H168     H        0.30403    0.29826    0.52550    1.000\\n    H169     H        0.32248    0.46318    0.42196    1.000\\n    H170     H        0.28139    0.45512    0.52855    1.000\\n    H171     H        0.45994    0.39730    0.47224    1.000\\n    H172     H        0.42025    0.39679    0.57896    1.000\\n    H173     H        0.51815    0.51967    0.54110    1.000\\n    H174     H        0.44029    0.55765    0.46736    1.000\\n    H175     H        0.72783    0.58403    0.61155    1.000\\n    H176     H        0.41042    0.53235    0.65992    1.000\\n    H177     H        0.43617    0.63152    0.60920    1.000\\n    H178     H        0.20917    0.52037    0.42653    1.000\\n    H179     H        0.10468    0.53311    0.47275    1.000\\n    H180     H        0.19776    0.56323    0.53210    1.000\\n    H181     H        0.12453    0.69042    0.47440    1.000\\n    H182     H        0.22927    0.67749    0.42995    1.000\\n    H183     H        0.06429    0.61624    0.34378    1.000\\n    H184     H        0.16796    0.61491    0.29807    1.000\\n    H185     H        0.06322    0.77260    0.35044    1.000\\n    H186     H        0.07754    0.73443    0.24481    1.000\\n    H187     H        0.16663    0.85952    0.27518    1.000\\n    H188     H        0.76137    0.69372    0.61871    1.000\\n    H189     H        0.57756    0.54396    0.23904    1.000\\n    H190     H        0.88267    0.54098    0.60394    1.000\\n    H191     H        0.54630    0.78857    0.75085    1.000\\n    H192     H        0.59588    0.68649    0.76676    1.000\\n    H193     H        0.63906    0.85090    0.86352    1.000\\n    H194     H        0.68662    0.74825    0.88108    1.000\\n    H195     H        0.68865    0.84532    0.71097    1.000\\n    H196     H        0.74159    0.74679    0.73214    1.000\\n    H197     H        0.83499    0.87861    0.73500    1.000\\n    H198     H        0.77767    0.91608    0.82586    1.000\\n    H199     H        0.82560    0.79105    0.90961    1.000\\n    H200     H        0.87550    0.74596    0.81641    1.000\\n    H201     H        0.91519    0.84291    0.86206    1.000\\n    H202     H        0.69220    0.91367    0.53584    1.000\\n    H203     H        0.74400    0.86390    0.44606    1.000\\n    H204     H        0.50192    0.78673    0.90625    1.000\\n    H205     H        0.75370    0.81825    0.55049    1.000\\n    H206     H        0.60070    0.78547    0.55347    1.000\\n    H207     H        0.60305    0.86238    0.37320    1.000\\n    H208     H        0.54529    0.90232    0.46216    1.000\\n    H209     H        0.51916    0.73024    0.37111    1.000\\n    H210     H        0.45424    0.82231    0.35919    1.000\\n    H211     H        0.47465    0.71616    0.52322    1.000\\n    H212     H        0.38760    0.71433    0.45088    1.000\\n    H213     H        0.36154    0.87100    0.48061    1.000\\n    H214     H        0.44314    0.86631    0.56095    1.000\\n    H215     H        0.28019    0.75827    0.55708    1.000\\n    H216     H        0.36306    0.75186    0.63583    1.000\\n    H217     H        0.25971    0.91304    0.59430    1.000\\n    H218     H        0.33719    0.90296    0.67711    1.000\\n    H219     H        0.65111    0.73652    0.46305    1.000\\n    H220     H        0.54250    0.68142    0.91545    1.000\\n    H221     H        0.39926    0.74349    0.79625    1.000\\n    H222     H        0.38512    0.68624    0.89294    1.000\\n    H223     H        0.82186    0.17373    0.52614    1.000\\n    H224     H        0.80855    0.06214    0.55042    1.000\\n    H225     H        0.91247    0.10975    0.55448    1.000\\n    H226     H        0.85464    0.08908    0.69974    1.000\\n    H227     H        0.86948    0.19985    0.67501    1.000\\n    H228     H        0.69917    0.10462    0.65726    1.000\\n    H229     H        0.71509    0.21602    0.64420    1.000\\n    H230     H        0.73836    0.11121    0.80867    1.000\\n    H231     H        0.65016    0.17798    0.78439    1.000\\n    H232     H        0.83524    0.23726    0.81298    1.000\\n    H233     H        0.74888    0.24481    0.88584    1.000\\n    H234     H        0.66943    0.33713    0.77963    1.000\\n    H235     H        0.76283    0.33624    0.71331    1.000\\n    H236     H        0.75402    0.40161    0.89738    1.000\\n    H237     H        0.84779    0.39819    0.83188    1.000\\n    H238     H        0.68319    0.49469    0.78743    1.000\\n    H239     H        0.77976    0.49615    0.72713    1.000\\n    H240     H        0.75383    0.62492    0.82129    1.000\\n    H241     H        0.76258    0.55828    0.91304    1.000\\n    H242     H        0.91228    0.52411    0.87601    1.000\\n    H243     H        0.90258    0.58232    0.77735    1.000\\n    H244     H        0.89719    0.63703    0.87753    1.000\\n    H245     H        0.49456    0.45506    0.73392    1.000\\n    H246     H        0.39058    0.43870    0.78008    1.000\\n    H247     H        0.48391    0.40041    0.83391    1.000\\n    H248     H        0.43002    0.53197    0.90207    1.000\\n    H249     H        0.53413    0.54681    0.85686    1.000\\n    H250     H        0.36680    0.59506    0.76708    1.000\\n    H251     H        0.47142    0.61808    0.73018    1.000\\n    H252     H        0.18280    0.89357    0.72403    1.000\\n    H253     H        0.17170    0.79713    0.66474    1.000\\n    H254     H        0.27987    0.72682    0.75586    1.000\\n    H255     H        0.30041    0.82592    0.81038    1.000\\n    H256     H        0.16872    0.45024    0.23625    1.000\\n    H257     H        0.23080    0.45379    0.08712    1.000\\n    H258     H        0.28723    0.35704    0.11134    1.000\\n    H259     H        0.30359    0.52620    0.20816    1.000\\n    H260     H        0.35780    0.42868    0.23384    1.000\\n    H261     H        0.37111    0.52297    0.06258    1.000\\n    H262     H        0.42989    0.43008    0.09238    1.000\\n    H263     H        0.50997    0.57008    0.10259    1.000\\n    H264     H        0.43915    0.60343    0.18514    1.000\\n    H265     H        0.48797    0.48467    0.27721    1.000\\n    H266     H        0.55245    0.44301    0.19161    1.000\\n    H267     H        0.40510    0.17348    0.58726    1.000\\n    H268     H        0.61243    0.63374    0.14171    1.000\\n    H269     H        0.62049    0.71629    0.06207    1.000\\n    H270     H        0.54072    0.72289    0.14380    1.000\\n    H271     H        0.66049    0.82078    0.17449    1.000\\n    H272     H        0.65079    0.73880    0.25388    1.000\\n    H273     H        0.77355    0.73094    0.10132    1.000\\n    H274     H        0.76898    0.65720    0.18724    1.000\\n    H275     H        0.81768    0.84729    0.19618    1.000\\n    H276     H        0.88977    0.76004    0.19916    1.000\\n    H277     H        0.75497    0.80290    0.33548    1.000\\n    H278     H        0.86637    0.82243    0.34087    1.000\\n    H279     H        0.89326    0.66366    0.32730    1.000\\n    H280     H        0.78001    0.64693    0.33313    1.000\\n    H281     H        0.88977    0.73455    0.46920    1.000\\n    H282     H        0.77634    0.72010    0.47364    1.000\\n    H283     H        0.90746    0.57540    0.45798    1.000\\n    H284     H        0.79498    0.56247    0.46990    1.000\\n    H285     H        0.21729    0.34930    0.25286    1.000\\n    H286     H        0.91234    0.65079    0.60089    1.000\\n    H287     H        0.08414    0.39597    0.11622    1.000\\n    H288     H        0.17468    0.27683    0.06233    1.000\\n    H289     H        0.19903    0.77424    0.82066    1.000\\n    H290     H        0.61250    0.28038    0.68161    1.000\\n    H291     H        0.51384    0.22236    0.69220    1.000\\n    H292     H        0.51352    0.33675    0.69232    1.000\\n    H293     H        0.46457    0.28082    0.55328    1.000\\n    H294     H        0.56215    0.33985    0.54364    1.000\\n    H295     H        0.55213    0.14482    0.55917    1.000\\n    H296     H        0.64559    0.20543    0.53869    1.000\\n    H297     H        0.48746    0.18844    0.42348    1.000\\n    H298     H        0.58650    0.13562    0.40858    1.000\\n    H299     H        0.55632    0.32939    0.39711    1.000\\n    H300     H        0.56875    0.25686    0.31107    1.000\\n    H301     H        0.71616    0.21964    0.36579    1.000\\n    H302     H        0.70437    0.30162    0.44498    1.000\\n    H303     H        0.69587    0.32762    0.25128    1.000\\n    H304     H        0.68148    0.40897    0.33060    1.000\\n    H305     H        0.84202    0.29845    0.31081    1.000\\n    H306     H        0.82890    0.38449    0.38417    1.000\\n    H307     H        0.91367    0.41835    0.25083    1.000\\n    H308     H        0.82009    0.40161    0.18831    1.000\\n    H309     H        0.74793    0.52176    0.26123    1.000\\n    H310     H        0.83727    0.53387    0.33262    1.000\\n    H311     H        0.84913    0.55550    0.22103    1.000\\n    H312     H        0.21190    0.11673    0.07298    1.000\\n    H313     H        0.10506    0.09149    0.10709    1.000\\n    H314     H        0.19446    0.06283    0.17246    1.000\\n    H315     H        0.12117    0.18990    0.23042    1.000\\n    H316     H        0.22813    0.21368    0.19725    1.000\\n    H317     H        0.06892    0.24474    0.08731    1.000\\n    H318     H        0.06391    0.33909    0.21203    1.000\\n    H319     H        0.39387    0.06043    0.59963    1.000\\n\");\n\tviewer_16687045006840155.setStyle({\"stick\": {}});\n\tviewer_16687045006840155.addUnitCell();\n\tviewer_16687045006840155.replicateUnitCell(1,1,1);\n\tviewer_16687045006840155.zoomTo();\nviewer_16687045006840155.render();\n});\n</script>",
            "text/html": [
              "<div id=\"3dmolviewer_16687045006840155\"  style=\"position: relative; width: 400px; height: 300px\">\n",
              "        <p id=\"3dmolwarning_16687045006840155\" style=\"background-color:#ffcccc;color:black\">You appear to be running in JupyterLab (or JavaScript failed to load for some other reason).  You need to install the 3dmol extension: <br>\n",
              "        <tt>jupyter labextension install jupyterlab_3dmol</tt></p>\n",
              "        </div>\n",
              "<script>\n",
              "\n",
              "var loadScriptAsync = function(uri){\n",
              "  return new Promise((resolve, reject) => {\n",
              "    var tag = document.createElement('script');\n",
              "    tag.src = uri;\n",
              "    tag.async = true;\n",
              "    tag.onload = () => {\n",
              "      resolve();\n",
              "    };\n",
              "  var firstScriptTag = document.getElementsByTagName('script')[0];\n",
              "  firstScriptTag.parentNode.insertBefore(tag, firstScriptTag);\n",
              "});\n",
              "};\n",
              "\n",
              "if(typeof $3Dmolpromise === 'undefined') {\n",
              "$3Dmolpromise = null;\n",
              "  $3Dmolpromise = loadScriptAsync('https://cdn.jsdelivr.net/npm/3dmol@latest/build/3Dmol-min.min.js');\n",
              "}\n",
              "\n",
              "var viewer_16687045006840155 = null;\n",
              "var warn = document.getElementById(\"3dmolwarning_16687045006840155\");\n",
              "if(warn) {\n",
              "    warn.parentNode.removeChild(warn);\n",
              "}\n",
              "$3Dmolpromise.then(function() {\n",
              "viewer_16687045006840155 = $3Dmol.createViewer($(\"#3dmolviewer_16687045006840155\"),{backgroundColor:\"white\"});\n",
              "viewer_16687045006840155.zoomTo();\n",
              "\tviewer_16687045006840155.addModelsAsFrames(\"# CIF file generated by openbabel 3.1.0, see https://openbabel.org\\ndata_I\\n_chemical_name_common '### POSCAR ###'\\n_cell_length_a 15.7715\\n_cell_length_b 15.7715\\n_cell_length_c 15.7715\\n_cell_angle_alpha 90\\n_cell_angle_beta 90\\n_cell_angle_gamma 90\\n_space_group_name_H-M_alt 'P 1'\\n_space_group_name_Hall 'P 1'\\nloop_\\n    _symmetry_equiv_pos_as_xyz\\n    x,y,z\\nloop_\\n    _atom_site_label\\n    _atom_site_type_symbol\\n    _atom_site_fract_x\\n    _atom_site_fract_y\\n    _atom_site_fract_z\\n    _atom_site_occupancy\\n    C0       C        0.84405    0.12072    0.56697    1.000\\n    C1       C        0.11679    0.11787    0.60812    1.000\\n    C2       C        0.16917    0.56114    0.46781    1.000\\n    C3       C        0.16409    0.65079    0.43166    1.000\\n    C4       C        0.12599    0.65041    0.34207    1.000\\n    C5       C        0.10887    0.74013    0.30764    1.000\\n    C6       C        0.18806    0.79650    0.29845    1.000\\n    C7       C        0.25324    0.76036    0.23574    1.000\\n    C8       C        0.32508    0.82395    0.21970    1.000\\n    C9       C        0.39121    0.78712    0.15845    1.000\\n    C10      C        0.46026    0.85154    0.13467    1.000\\n    C11      C        0.52031    0.87106    0.20822    1.000\\n    C12      C        0.25191    0.78800    0.77627    1.000\\n    C13      C        0.21773    0.83721    0.70000    1.000\\n    C14      C        0.28830    0.86783    0.64027    1.000\\n    C15      C        0.32990    0.79498    0.59100    1.000\\n    C16      C        0.39445    0.82884    0.52658    1.000\\n    C17      C        0.43743    0.75579    0.47858    1.000\\n    C18      C        0.49399    0.78661    0.40522    1.000\\n    C19      C        0.56887    0.84323    0.43192    1.000\\n    C20      C        0.63139    0.79796    0.49127    1.000\\n    C21      C        0.71014    0.85204    0.50674    1.000\\n    C22      C        0.44897    0.52183    0.52741    1.000\\n    C23      C        0.60679    0.70298    0.12992    1.000\\n    C24      C        0.12168    0.19206    0.54617    1.000\\n    C25      C        0.66798    0.75180    0.18679    1.000\\n    C26      C        0.18337    0.17291    0.47332    1.000\\n    C27      C        0.53330    0.28063    0.56849    1.000\\n    C28      C        0.41683    0.43046    0.51701    1.000\\n    C29      C        0.32603    0.42653    0.48207    1.000\\n    C30      C        0.16904    0.11172    0.12865    1.000\\n    C31      C        0.16365    0.19675    0.17462    1.000\\n    C32      C        0.12985    0.26643    0.11559    1.000\\n    C33      C        0.11229    0.35044    0.16206    1.000\\n    C34      C        0.19053    0.39172    0.20347    1.000\\n    C35      C        0.25946    0.41556    0.13892    1.000\\n    C36      C        0.33047    0.46685    0.18121    1.000\\n    C37      C        0.40028    0.48917    0.11717    1.000\\n    C38      C        0.46882    0.54700    0.15503    1.000\\n    C39      C        0.52487    0.50141    0.21970    1.000\\n    C40      C        0.29915    0.33453    0.46533    1.000\\n    C41      C        0.20772    0.33041    0.43211    1.000\\n    C42      C        0.18172    0.24088    0.40326    1.000\\n    C43      C        0.81749    0.51377    0.26814    1.000\\n    C44      C        0.84323    0.42171    0.25178    1.000\\n    C45      C        0.81045    0.36078    0.32039    1.000\\n    C46      C        0.71401    0.34810    0.31627    1.000\\n    C47      C        0.68491    0.28108    0.38043    1.000\\n    C48      C        0.58821    0.26973    0.37764    1.000\\n    C49      C        0.55708    0.19516    0.43236    1.000\\n    C50      C        0.57610    0.20321    0.52772    1.000\\n    C51      C        0.54415    0.27974    0.66468    1.000\\n    C52      C        0.76010    0.72504    0.17031    1.000\\n    C53      C        0.40522    0.56894    0.60001    1.000\\n    C54      C        0.81768    0.77837    0.31500    1.000\\n    C55      C        0.43230    0.61040    0.78826    1.000\\n    C56      C        0.46616    0.53641    0.84177    1.000\\n    C57      C        0.82490    0.78052    0.21767    1.000\\n    C58      C        0.38544    0.13074    0.71737    1.000\\n    C59      C        0.37041    0.12294    0.62188    1.000\\n    C60      C        0.84970    0.60381    0.48664    1.000\\n    C61      C        0.86168    0.60508    0.58327    1.000\\n    C62      C        0.78008    0.62708    0.63088    1.000\\n    C63      C        0.84405    0.21406    0.19415    1.000\\n    C64      C        0.81698    0.15249    0.12427    1.000\\n    C65      C        0.72821    0.11533    0.13905    1.000\\n    C66      C        0.65751    0.18115    0.12637    1.000\\n    C67      C        0.56976    0.13987    0.13404    1.000\\n    C68      C        0.49906    0.20600    0.12320    1.000\\n    C69      C        0.41011    0.16612    0.11869    1.000\\n    C70      C        0.38291    0.11692    0.19846    1.000\\n    C71      C        0.37859    0.17291    0.27797    1.000\\n    C72      C        0.34042    0.12459    0.35260    1.000\\n    C73      C        0.87994    0.57769    0.84386    1.000\\n    C74      C        0.78369    0.56615    0.84627    1.000\\n    C75      C        0.75345    0.49095    0.79238    1.000\\n    C76      C        0.77767    0.40491    0.83112    1.000\\n    C77      C        0.73969    0.33161    0.77963    1.000\\n    C78      C        0.76549    0.24557    0.81730    1.000\\n    C79      C        0.71965    0.17037    0.77519    1.000\\n    C80      C        0.73734    0.15953    0.67983    1.000\\n    C81      C        0.83125    0.14260    0.66037    1.000\\n    C82      C        0.42824    0.69442    0.83778    1.000\\n    C83      C        0.51422    0.72732    0.87024    1.000\\n    C84      C        0.45823    0.45252    0.79422    1.000\\n    C85      C        0.65701    0.79010    0.83277    1.000\\n    C86      C        0.83264    0.68960    0.35222    1.000\\n    C87      C        0.83657    0.69283    0.44935    1.000\\n    C88      C        0.17436    0.61554    0.69689    1.000\\n    C89      C        0.14292    0.52747    0.72168    1.000\\n    C90      C        0.17018    0.50471    0.81235    1.000\\n    C91      C        0.13036    0.42158    0.84431    1.000\\n    C92      C        0.15401    0.34207    0.79288    1.000\\n    C93      C        0.24950    0.32311    0.79403    1.000\\n    C94      C        0.26852    0.23739    0.75224    1.000\\n    C95      C        0.36420    0.21932    0.75173    1.000\\n    C96      C        0.57712    0.74654    0.79834    1.000\\n    C97      C        0.79821    0.85800    0.79155    1.000\\n    C98      C        0.72067    0.80760    0.76118    1.000\\n    C99      C        0.85692    0.80582    0.84843    1.000\\n    H100     H        0.37923    0.06765    0.36731    1.000\\n    H101     H        0.83860    0.18350    0.25736    1.000\\n    H102     H        0.80462    0.27226    0.19263    1.000\\n    H103     H        0.42615    0.06245    0.20955    1.000\\n    H104     H        0.36319    0.21735    0.10646    1.000\\n    H105     H        0.40744    0.12244    0.06341    1.000\\n    H106     H        0.50211    0.25337    0.17519    1.000\\n    H107     H        0.81964    0.18502    0.06182    1.000\\n    H108     H        0.56304    0.09004    0.08471    1.000\\n    H109     H        0.56437    0.10982    0.19751    1.000\\n    H110     H        0.27448    0.10462    0.33770    1.000\\n    H111     H        0.79073    0.61953    0.70006    1.000\\n    H112     H        0.72422    0.08807    0.20404    1.000\\n    H113     H        0.71876    0.06271    0.09314    1.000\\n    H114     H        0.91114    0.23276    0.18407    1.000\\n    H115     H        0.66316    0.23175    0.17506    1.000\\n    H116     H        0.66405    0.21044    0.06258    1.000\\n    H117     H        0.31880    0.09010    0.18603    1.000\\n    H118     H        0.44339    0.19383    0.29610    1.000\\n    H119     H        0.33922    0.22984    0.26510    1.000\\n    H120     H        0.33897    0.16619    0.40935    1.000\\n    H121     H        0.86333    0.09936    0.12256    1.000\\n    H122     H        0.50972    0.24100    0.06290    1.000\\n    H123     H        0.33738    0.58010    0.58511    1.000\\n    H124     H        0.09295    0.06017    0.57534    1.000\\n    H125     H        0.29820    0.88311    0.19231    1.000\\n    H126     H        0.35577    0.83955    0.28120    1.000\\n    H127     H        0.35875    0.76721    0.09917    1.000\\n    H128     H        0.42089    0.72973    0.18686    1.000\\n    H129     H        0.49830    0.82490    0.08160    1.000\\n    H130     H        0.43084    0.91139    0.11172    1.000\\n    H131     H        0.48664    0.90562    0.25939    1.000\\n    H132     H        0.54782    0.81165    0.23409    1.000\\n    H133     H        0.57293    0.91183    0.18521    1.000\\n    H134     H        0.24462    0.61839    0.70050    1.000\\n    H135     H        0.14678    0.66430    0.73975    1.000\\n    H136     H        0.15458    0.62993    0.63088    1.000\\n    H137     H        0.07266    0.52601    0.71674    1.000\\n    H138     H        0.16974    0.48093    0.67616    1.000\\n    H139     H        0.14964    0.55626    0.85591    1.000\\n    H140     H        0.24043    0.50128    0.81628    1.000\\n    H141     H        0.06017    0.42837    0.84399    1.000\\n    H142     H        0.14957    0.41182    0.91145    1.000\\n    H143     H        0.13138    0.34822    0.72650    1.000\\n    H144     H        0.11958    0.28742    0.82129    1.000\\n    H145     H        0.27245    0.32216    0.86067    1.000\\n    H146     H        0.28399    0.37352    0.75896    1.000\\n    H147     H        0.23530    0.18629    0.78756    1.000\\n    H148     H        0.24424    0.23853    0.68605    1.000\\n    H149     H        0.38849    0.22338    0.81780    1.000\\n    H150     H        0.39774    0.26840    0.71363    1.000\\n    H151     H        0.45354    0.11762    0.73011    1.000\\n    H152     H        0.34765    0.08179    0.75123    1.000\\n    H153     H        0.30181    0.12713    0.60704    1.000\\n    H154     H        0.28095    0.70120    0.26205    1.000\\n    H155     H        0.18033    0.10456    0.63545    1.000\\n    H156     H        0.22135    0.74539    0.17475    1.000\\n    H157     H        0.21811    0.80702    0.36122    1.000\\n    H158     H        0.07254    0.13372    0.66049    1.000\\n    H159     H        0.05732    0.20455    0.52043    1.000\\n    H160     H        0.14330    0.24893    0.58162    1.000\\n    H161     H        0.16523    0.11147    0.44371    1.000\\n    H162     H        0.24874    0.16517    0.49837    1.000\\n    H163     H        0.11667    0.24405    0.37618    1.000\\n    H164     H        0.22452    0.22040    0.35114    1.000\\n    H165     H        0.16314    0.35431    0.48106    1.000\\n    H166     H        0.20176    0.37320    0.37631    1.000\\n    H167     H        0.34271    0.30580    0.41791    1.000\\n    H168     H        0.30403    0.29826    0.52550    1.000\\n    H169     H        0.32248    0.46318    0.42196    1.000\\n    H170     H        0.28139    0.45512    0.52855    1.000\\n    H171     H        0.45994    0.39730    0.47224    1.000\\n    H172     H        0.42025    0.39679    0.57896    1.000\\n    H173     H        0.51815    0.51967    0.54110    1.000\\n    H174     H        0.44029    0.55765    0.46736    1.000\\n    H175     H        0.72783    0.58403    0.61155    1.000\\n    H176     H        0.41042    0.53235    0.65992    1.000\\n    H177     H        0.43617    0.63152    0.60920    1.000\\n    H178     H        0.20917    0.52037    0.42653    1.000\\n    H179     H        0.10468    0.53311    0.47275    1.000\\n    H180     H        0.19776    0.56323    0.53210    1.000\\n    H181     H        0.12453    0.69042    0.47440    1.000\\n    H182     H        0.22927    0.67749    0.42995    1.000\\n    H183     H        0.06429    0.61624    0.34378    1.000\\n    H184     H        0.16796    0.61491    0.29807    1.000\\n    H185     H        0.06322    0.77260    0.35044    1.000\\n    H186     H        0.07754    0.73443    0.24481    1.000\\n    H187     H        0.16663    0.85952    0.27518    1.000\\n    H188     H        0.76137    0.69372    0.61871    1.000\\n    H189     H        0.57756    0.54396    0.23904    1.000\\n    H190     H        0.88267    0.54098    0.60394    1.000\\n    H191     H        0.54630    0.78857    0.75085    1.000\\n    H192     H        0.59588    0.68649    0.76676    1.000\\n    H193     H        0.63906    0.85090    0.86352    1.000\\n    H194     H        0.68662    0.74825    0.88108    1.000\\n    H195     H        0.68865    0.84532    0.71097    1.000\\n    H196     H        0.74159    0.74679    0.73214    1.000\\n    H197     H        0.83499    0.87861    0.73500    1.000\\n    H198     H        0.77767    0.91608    0.82586    1.000\\n    H199     H        0.82560    0.79105    0.90961    1.000\\n    H200     H        0.87550    0.74596    0.81641    1.000\\n    H201     H        0.91519    0.84291    0.86206    1.000\\n    H202     H        0.69220    0.91367    0.53584    1.000\\n    H203     H        0.74400    0.86390    0.44606    1.000\\n    H204     H        0.50192    0.78673    0.90625    1.000\\n    H205     H        0.75370    0.81825    0.55049    1.000\\n    H206     H        0.60070    0.78547    0.55347    1.000\\n    H207     H        0.60305    0.86238    0.37320    1.000\\n    H208     H        0.54529    0.90232    0.46216    1.000\\n    H209     H        0.51916    0.73024    0.37111    1.000\\n    H210     H        0.45424    0.82231    0.35919    1.000\\n    H211     H        0.47465    0.71616    0.52322    1.000\\n    H212     H        0.38760    0.71433    0.45088    1.000\\n    H213     H        0.36154    0.87100    0.48061    1.000\\n    H214     H        0.44314    0.86631    0.56095    1.000\\n    H215     H        0.28019    0.75827    0.55708    1.000\\n    H216     H        0.36306    0.75186    0.63583    1.000\\n    H217     H        0.25971    0.91304    0.59430    1.000\\n    H218     H        0.33719    0.90296    0.67711    1.000\\n    H219     H        0.65111    0.73652    0.46305    1.000\\n    H220     H        0.54250    0.68142    0.91545    1.000\\n    H221     H        0.39926    0.74349    0.79625    1.000\\n    H222     H        0.38512    0.68624    0.89294    1.000\\n    H223     H        0.82186    0.17373    0.52614    1.000\\n    H224     H        0.80855    0.06214    0.55042    1.000\\n    H225     H        0.91247    0.10975    0.55448    1.000\\n    H226     H        0.85464    0.08908    0.69974    1.000\\n    H227     H        0.86948    0.19985    0.67501    1.000\\n    H228     H        0.69917    0.10462    0.65726    1.000\\n    H229     H        0.71509    0.21602    0.64420    1.000\\n    H230     H        0.73836    0.11121    0.80867    1.000\\n    H231     H        0.65016    0.17798    0.78439    1.000\\n    H232     H        0.83524    0.23726    0.81298    1.000\\n    H233     H        0.74888    0.24481    0.88584    1.000\\n    H234     H        0.66943    0.33713    0.77963    1.000\\n    H235     H        0.76283    0.33624    0.71331    1.000\\n    H236     H        0.75402    0.40161    0.89738    1.000\\n    H237     H        0.84779    0.39819    0.83188    1.000\\n    H238     H        0.68319    0.49469    0.78743    1.000\\n    H239     H        0.77976    0.49615    0.72713    1.000\\n    H240     H        0.75383    0.62492    0.82129    1.000\\n    H241     H        0.76258    0.55828    0.91304    1.000\\n    H242     H        0.91228    0.52411    0.87601    1.000\\n    H243     H        0.90258    0.58232    0.77735    1.000\\n    H244     H        0.89719    0.63703    0.87753    1.000\\n    H245     H        0.49456    0.45506    0.73392    1.000\\n    H246     H        0.39058    0.43870    0.78008    1.000\\n    H247     H        0.48391    0.40041    0.83391    1.000\\n    H248     H        0.43002    0.53197    0.90207    1.000\\n    H249     H        0.53413    0.54681    0.85686    1.000\\n    H250     H        0.36680    0.59506    0.76708    1.000\\n    H251     H        0.47142    0.61808    0.73018    1.000\\n    H252     H        0.18280    0.89357    0.72403    1.000\\n    H253     H        0.17170    0.79713    0.66474    1.000\\n    H254     H        0.27987    0.72682    0.75586    1.000\\n    H255     H        0.30041    0.82592    0.81038    1.000\\n    H256     H        0.16872    0.45024    0.23625    1.000\\n    H257     H        0.23080    0.45379    0.08712    1.000\\n    H258     H        0.28723    0.35704    0.11134    1.000\\n    H259     H        0.30359    0.52620    0.20816    1.000\\n    H260     H        0.35780    0.42868    0.23384    1.000\\n    H261     H        0.37111    0.52297    0.06258    1.000\\n    H262     H        0.42989    0.43008    0.09238    1.000\\n    H263     H        0.50997    0.57008    0.10259    1.000\\n    H264     H        0.43915    0.60343    0.18514    1.000\\n    H265     H        0.48797    0.48467    0.27721    1.000\\n    H266     H        0.55245    0.44301    0.19161    1.000\\n    H267     H        0.40510    0.17348    0.58726    1.000\\n    H268     H        0.61243    0.63374    0.14171    1.000\\n    H269     H        0.62049    0.71629    0.06207    1.000\\n    H270     H        0.54072    0.72289    0.14380    1.000\\n    H271     H        0.66049    0.82078    0.17449    1.000\\n    H272     H        0.65079    0.73880    0.25388    1.000\\n    H273     H        0.77355    0.73094    0.10132    1.000\\n    H274     H        0.76898    0.65720    0.18724    1.000\\n    H275     H        0.81768    0.84729    0.19618    1.000\\n    H276     H        0.88977    0.76004    0.19916    1.000\\n    H277     H        0.75497    0.80290    0.33548    1.000\\n    H278     H        0.86637    0.82243    0.34087    1.000\\n    H279     H        0.89326    0.66366    0.32730    1.000\\n    H280     H        0.78001    0.64693    0.33313    1.000\\n    H281     H        0.88977    0.73455    0.46920    1.000\\n    H282     H        0.77634    0.72010    0.47364    1.000\\n    H283     H        0.90746    0.57540    0.45798    1.000\\n    H284     H        0.79498    0.56247    0.46990    1.000\\n    H285     H        0.21729    0.34930    0.25286    1.000\\n    H286     H        0.91234    0.65079    0.60089    1.000\\n    H287     H        0.08414    0.39597    0.11622    1.000\\n    H288     H        0.17468    0.27683    0.06233    1.000\\n    H289     H        0.19903    0.77424    0.82066    1.000\\n    H290     H        0.61250    0.28038    0.68161    1.000\\n    H291     H        0.51384    0.22236    0.69220    1.000\\n    H292     H        0.51352    0.33675    0.69232    1.000\\n    H293     H        0.46457    0.28082    0.55328    1.000\\n    H294     H        0.56215    0.33985    0.54364    1.000\\n    H295     H        0.55213    0.14482    0.55917    1.000\\n    H296     H        0.64559    0.20543    0.53869    1.000\\n    H297     H        0.48746    0.18844    0.42348    1.000\\n    H298     H        0.58650    0.13562    0.40858    1.000\\n    H299     H        0.55632    0.32939    0.39711    1.000\\n    H300     H        0.56875    0.25686    0.31107    1.000\\n    H301     H        0.71616    0.21964    0.36579    1.000\\n    H302     H        0.70437    0.30162    0.44498    1.000\\n    H303     H        0.69587    0.32762    0.25128    1.000\\n    H304     H        0.68148    0.40897    0.33060    1.000\\n    H305     H        0.84202    0.29845    0.31081    1.000\\n    H306     H        0.82890    0.38449    0.38417    1.000\\n    H307     H        0.91367    0.41835    0.25083    1.000\\n    H308     H        0.82009    0.40161    0.18831    1.000\\n    H309     H        0.74793    0.52176    0.26123    1.000\\n    H310     H        0.83727    0.53387    0.33262    1.000\\n    H311     H        0.84913    0.55550    0.22103    1.000\\n    H312     H        0.21190    0.11673    0.07298    1.000\\n    H313     H        0.10506    0.09149    0.10709    1.000\\n    H314     H        0.19446    0.06283    0.17246    1.000\\n    H315     H        0.12117    0.18990    0.23042    1.000\\n    H316     H        0.22813    0.21368    0.19725    1.000\\n    H317     H        0.06892    0.24474    0.08731    1.000\\n    H318     H        0.06391    0.33909    0.21203    1.000\\n    H319     H        0.39387    0.06043    0.59963    1.000\\n\");\n",
              "\tviewer_16687045006840155.setStyle({\"stick\": {}});\n",
              "\tviewer_16687045006840155.addUnitCell();\n",
              "\tviewer_16687045006840155.replicateUnitCell(1,1,1);\n",
              "\tviewer_16687045006840155.zoomTo();\n",
              "viewer_16687045006840155.render();\n",
              "});\n",
              "</script>"
            ]
          },
          "metadata": {}
        }
      ]
    },
    {
      "cell_type": "markdown",
      "metadata": {
        "id": "OrQaphzOp3fF"
      },
      "source": [
        "#### Force field parameter file\n",
        "PSP also allows generating a GAFF2 FF parameter file for the amorphous model. It can use either AmberTools (antechamber) or PySIMM for atom typing."
      ]
    },
    {
      "cell_type": "code",
      "metadata": {
        "id": "BLc7sEqR_UaK",
        "colab": {
          "base_uri": "https://localhost:8080/"
        },
        "outputId": "0454cf4e-13b1-4721-906b-8dd0a8f0ca5f"
      },
      "source": [
        "amor.get_gaff2(output_fname='amor_gaff2.lmps', atom_typing='antechamber')"
      ],
      "execution_count": null,
      "outputs": [
        {
          "output_type": "stream",
          "name": "stdout",
          "text": [
            "\n",
            "Generating GAFF2 parameter file ...\n",
            "\n",
            "Pysimm working on amor_model/molecules/PE_N5_C1.cml\n",
            "(debug) PySIMM: reading file\n",
            "Antechamber working on amor_model/molecules/PE_N5_C1.mol2\n",
            "adding gasteiger charges\n",
            "charges converged after 14 iterations\n",
            "\n",
            "GAFF2 parameter file generated.\n"
          ]
        }
      ]
    },
    {
      "cell_type": "markdown",
      "metadata": {
        "id": "Rj3d68jfgdZv"
      },
      "source": [
        "For the amorphous model, a GAFF2 parameter file is now generated: *amor_gaff2.lmps*"
      ]
    },
    {
      "cell_type": "code",
      "metadata": {
        "id": "tYJnT6ndZHjN",
        "colab": {
          "base_uri": "https://localhost:8080/"
        },
        "outputId": "50ea9ca1-ad8b-4b81-94ab-ee79d91cf848"
      },
      "source": [
        "ls amor_model"
      ],
      "execution_count": null,
      "outputs": [
        {
          "output_type": "stream",
          "name": "stdout",
          "text": [
            "amor_gaff2.lmps  amor_model.vasp  \u001b[0m\u001b[01;34mpackmol\u001b[0m/\n",
            "amor_model.data  \u001b[01;34mmolecules\u001b[0m/       \u001b[01;34mpysimm\u001b[0m/\n"
          ]
        }
      ]
    },
    {
      "cell_type": "markdown",
      "metadata": {
        "id": "ZW5XLyYI7cQ1"
      },
      "source": [
        "###**Example 2**: Build amorphous models with O2 gas\n",
        "Next, we'll learn how to incorporate multiple types of oligomers/molecules into an amorphous model. For example, oxygen molecules can be incorporated into the polyethylene system. As shown in the code snippet below, we must supply the SMILES strings and the number of molecules for both polyethylene and oxygen to be included in an amorphous model. "
      ]
    },
    {
      "cell_type": "code",
      "metadata": {
        "id": "9fy2fES47kEE",
        "colab": {
          "base_uri": "https://localhost:8080/"
        },
        "outputId": "137633a1-c307-4f42-ad72-87e6a1e45cf8"
      },
      "source": [
        "# Input SMILES string\n",
        "repeating_unit_PE = '[*]CC[*]'\n",
        "Length_PE = 5\n",
        "Number_molecule_PE = 4\n",
        "\n",
        "Oxygen = 'O=O'\n",
        "Number_molecule_Oxy = 10\n",
        "\n",
        "\n",
        "# Create a pandas DataFrame\n",
        "import pandas as pd\n",
        "input_data = [['PE', repeating_unit_PE, Length_PE, Number_molecule_PE, 1, False], ['O2', Oxygen, 1, Number_molecule_Oxy, 1, False]]\n",
        "input_df = pd.DataFrame(input_data, columns = ['ID', 'smiles', 'Len', 'Num', 'NumConf', 'Loop'])\n",
        "\n",
        "import psp.AmorphousBuilder as ab\n",
        "amor = ab.Builder(input_df, density=0.85, box_type='c', OutDir='amor_model2')\n",
        "amor.Build()"
      ],
      "execution_count": null,
      "outputs": [
        {
          "output_type": "stream",
          "name": "stdout",
          "text": [
            "\n",
            "                        ---------  PPPPPP       SSSSSS    PPPPPP    ---------                        \n",
            "                -----------------  PP    PP   SS          PP    PP  -----------------                \n",
            "        -------------------------  PP    PP   SS          PP    PP  -------------------------        \n",
            " --------------------------------  PPPPPP       SSSSS     PPPPPP    -------------------------------- \n",
            "        -------------------------  PP                SS   PP        -------------------------        \n",
            "                -----------------  PP                SS   PP        -----------------                \n",
            "                        ---------  PP          SSSSSS     PP        ---------                        \n",
            " --------------------------------------------------------------------------------------------------- \n",
            "          ** ** ** ** ** ** ** ** ** ** ** ** ** ** ** ** ** ** ** ** ** ** ** ** ** ** **          \n",
            "                        Polymer Structure Predictor (PSP) version =  1.0.0                     \n",
            "                                   Developed at Ramprasad Group                                      \n",
            "           Materials Science and Engineering, Georgia Institute of Technology, Atlanta, US           \n",
            "\n",
            "           Cite this work as:                                                                \n",
            "           H. Sahu, K-H. Shen, J. H. Montoya, H. Tran, R. Ramprasad, PSP: A python toolkit           \n",
            "           for predicting 3D models of polymers, journal name, volume, page, 2022.                   \n",
            "          ** ** ** ** ** ** ** ** ** ** ** ** ** ** ** ** ** ** ** ** ** ** ** ** ** ** **          \n",
            " --------------------------------------------------------------------------------------------------- \n",
            "  AmorphousBuilder  started...\n",
            " ----------------------------------------------- INPUT --------------------------------------------- \n",
            "|    | ID   | smiles   |   Len |   Num |   NumConf | Loop   |\n",
            "|---:|:-----|:---------|------:|------:|----------:|:-------|\n",
            "|  1 | PE   | [*]CC[*] |     5 |     4 |         1 | False  |\n",
            "|  2 | O2   | O=O      |     1 |    10 |         1 | False  |\n",
            "\n",
            " Additional information:  \n",
            " Number of models:  1 \n",
            " Density (g/cm3):  0.85 \n",
            " Tolerance distance (angstrom):  2.0 \n",
            " Box type:  Cubic \n",
            " Output directory:  amor_model2/ \n",
            "\n",
            "  MoleculeBuilder  started...\n",
            " ----------------------------------------------- INPUT --------------------------------------------- \n",
            "|    | ID   | smiles   |   Len |   Num |   NumConf |   Loop |\n",
            "|---:|:-----|:---------|------:|------:|----------:|-------:|\n",
            "|  1 | PE   | [*]CC[*] |     5 |     4 |         1 |      0 |\n",
            "\n",
            " Additional information:  \n",
            " Length of oligomers:  [5] \n",
            " Number of conformers:  1 \n",
            " Loop model:  False \n",
            " Run short MD simulation:  False \n",
            " Generate OPLS parameter file:  False \n",
            " Intermolecular distance in POSCAR:  6 \n",
            " Number of cores:  All \n",
            " Output Directory:  amor_model2/molecules/ \n",
            "\n",
            "\n",
            " 3D model building started...\n",
            "\n"
          ]
        },
        {
          "output_type": "stream",
          "name": "stderr",
          "text": [
            "Building models ...: 100%|██████████| 1/1 [00:00<00:00,  4.39it/s]\n"
          ]
        },
        {
          "output_type": "stream",
          "name": "stdout",
          "text": [
            "\n",
            " 3D model building completed.\n",
            "\n",
            "|    | ID   | Result   | SMILES         |\n",
            "|---:|:-----|:---------|:---------------|\n",
            "|  1 | PE   | SUCCESS  | ['CCCCCCCCCC'] |\n",
            "\n",
            " 3D model building time (minutes):  0.0\n",
            "\n",
            "  MoleculeBuilder  started...\n",
            " ----------------------------------------------- INPUT --------------------------------------------- \n",
            "|    | ID   | smiles   |   Len |   Num |   NumConf |   Loop |\n",
            "|---:|:-----|:---------|------:|------:|----------:|-------:|\n",
            "|  1 | O2   | O=O      |     1 |    10 |         1 |      0 |\n",
            "\n",
            " Additional information:  \n",
            " Length of oligomers:  [1] \n",
            " Number of conformers:  1 \n",
            " Loop model:  False \n",
            " Run short MD simulation:  False \n",
            " Generate OPLS parameter file:  False \n",
            " Intermolecular distance in POSCAR:  6 \n",
            " Number of cores:  All \n",
            " Output Directory:  amor_model2/molecules/ \n",
            "\n",
            "\n",
            " 3D model building started...\n",
            "\n"
          ]
        },
        {
          "output_type": "stream",
          "name": "stderr",
          "text": [
            "Building models ...: 100%|██████████| 1/1 [00:00<00:00, 43.36it/s]\n"
          ]
        },
        {
          "output_type": "stream",
          "name": "stdout",
          "text": [
            "\n",
            " 3D model building completed.\n",
            "\n",
            "|    | ID   | Result   | SMILES   |\n",
            "|---:|:-----|:---------|:---------|\n",
            "|  1 | O2   | SUCCESS  | ['O=O']  |\n",
            "\n",
            " 3D model building time (minutes):  0.0\n",
            "\n"
          ]
        },
        {
          "output_type": "stream",
          "name": "stderr",
          "text": [
            "Building models ...: 100%|██████████| 1/1 [00:01<00:00,  1.07s/it]"
          ]
        },
        {
          "output_type": "stream",
          "name": "stdout",
          "text": [
            "\n",
            " Amorphous model building completed.\n",
            "\n",
            " Total run time (minutes):  0.02\n",
            " ------------------------------------- PSP TERMINATED NORMALLY ------------------------------------- \n"
          ]
        },
        {
          "output_type": "stream",
          "name": "stderr",
          "text": [
            "\n"
          ]
        }
      ]
    },
    {
      "cell_type": "markdown",
      "metadata": {
        "id": "yqLgN3JOfrU3"
      },
      "source": [
        "PSP normally terminated. Let's take a look at the amorphous model we created."
      ]
    },
    {
      "cell_type": "code",
      "metadata": {
        "id": "IwWgLdU1dsVo",
        "colab": {
          "base_uri": "https://localhost:8080/",
          "height": 352
        },
        "outputId": "84415235-927d-43a0-9f42-b90d20435f8b"
      },
      "source": [
        "visualize3D(\"amor_model2/amor_model.vasp\")"
      ],
      "execution_count": null,
      "outputs": [
        {
          "output_type": "stream",
          "name": "stdout",
          "text": [
            "1 molecule converted\n",
            "model_wCell.cif\n"
          ]
        },
        {
          "output_type": "display_data",
          "data": {
            "application/3dmoljs_load.v0": "<div id=\"3dmolviewer_16687045264030325\"  style=\"position: relative; width: 400px; height: 300px\">\n        <p id=\"3dmolwarning_16687045264030325\" style=\"background-color:#ffcccc;color:black\">You appear to be running in JupyterLab (or JavaScript failed to load for some other reason).  You need to install the 3dmol extension: <br>\n        <tt>jupyter labextension install jupyterlab_3dmol</tt></p>\n        </div>\n<script>\n\nvar loadScriptAsync = function(uri){\n  return new Promise((resolve, reject) => {\n    var tag = document.createElement('script');\n    tag.src = uri;\n    tag.async = true;\n    tag.onload = () => {\n      resolve();\n    };\n  var firstScriptTag = document.getElementsByTagName('script')[0];\n  firstScriptTag.parentNode.insertBefore(tag, firstScriptTag);\n});\n};\n\nif(typeof $3Dmolpromise === 'undefined') {\n$3Dmolpromise = null;\n  $3Dmolpromise = loadScriptAsync('https://cdn.jsdelivr.net/npm/3dmol@latest/build/3Dmol-min.min.js');\n}\n\nvar viewer_16687045264030325 = null;\nvar warn = document.getElementById(\"3dmolwarning_16687045264030325\");\nif(warn) {\n    warn.parentNode.removeChild(warn);\n}\n$3Dmolpromise.then(function() {\nviewer_16687045264030325 = $3Dmol.createViewer($(\"#3dmolviewer_16687045264030325\"),{backgroundColor:\"white\"});\nviewer_16687045264030325.zoomTo();\n\tviewer_16687045264030325.addModelsAsFrames(\"# CIF file generated by openbabel 3.1.0, see https://openbabel.org\\ndata_I\\n_chemical_name_common '### POSCAR ###'\\n_cell_length_a 12.4183\\n_cell_length_b 12.4183\\n_cell_length_c 12.4183\\n_cell_angle_alpha 90\\n_cell_angle_beta 90\\n_cell_angle_gamma 90\\n_space_group_name_H-M_alt 'P 1'\\n_space_group_name_Hall 'P 1'\\nloop_\\n    _symmetry_equiv_pos_as_xyz\\n    x,y,z\\nloop_\\n    _atom_site_label\\n    _atom_site_type_symbol\\n    _atom_site_fract_x\\n    _atom_site_fract_y\\n    _atom_site_fract_z\\n    _atom_site_occupancy\\n    C0       C        0.16886    0.46576    0.17192    1.000\\n    C1       C        0.13979    0.68544    0.73641    1.000\\n    C2       C        0.18513    0.79753    0.70919    1.000\\n    C3       C        0.24424    0.80502    0.60040    1.000\\n    C4       C        0.17112    0.77949    0.50401    1.000\\n    C5       C        0.22894    0.80252    0.39732    1.000\\n    C6       C        0.15670    0.77474    0.30085    1.000\\n    C7       C        0.20784    0.80575    0.19262    1.000\\n    C8       C        0.30334    0.73392    0.16274    1.000\\n    C9       C        0.69897    0.49870    0.29867    1.000\\n    C10      C        0.58478    0.52648    0.33459    1.000\\n    C11      C        0.58494    0.58027    0.44587    1.000\\n    C12      C        0.47341    0.62303    0.47905    1.000\\n    C13      C        0.38508    0.53655    0.48896    1.000\\n    C14      C        0.41012    0.45175    0.57544    1.000\\n    C15      C        0.31373    0.37646    0.59283    1.000\\n    C16      C        0.33966    0.29022    0.67763    1.000\\n    C17      C        0.24206    0.21919    0.70452    1.000\\n    C18      C        0.81686    0.80816    0.57834    1.000\\n    C19      C        0.71556    0.75590    0.62424    1.000\\n    C20      C        0.72160    0.74777    0.74753    1.000\\n    C21      C        0.61546    0.70928    0.79866    1.000\\n    C22      C        0.57882    0.59597    0.76403    1.000\\n    C23      C        0.65943    0.50756    0.79536    1.000\\n    C24      C        0.61289    0.39538    0.77297    1.000\\n    C25      C        0.69438    0.30697    0.80204    1.000\\n    C26      C        0.64751    0.19318    0.79004    1.000\\n    C27      C        0.62996    0.16113    0.67247    1.000\\n    C28      C        0.22765    0.59879    0.74535    1.000\\n    C29      C        0.18126    0.49282    0.78682    1.000\\n    C30      C        0.21170    0.14310    0.61264    1.000\\n    C31      C        0.20486    0.30286    0.28820    1.000\\n    C32      C        0.35762    0.16226    0.26372    1.000\\n    C33      C        0.43645    0.21710    0.34167    1.000\\n    C34      C        0.55265    0.18135    0.31945    1.000\\n    C35      C        0.63173    0.23796    0.39587    1.000\\n    C36      C        0.74777    0.19721    0.38290    1.000\\n    C37      C        0.79914    0.23288    0.27685    1.000\\n    C38      C        0.23884    0.18376    0.29215    1.000\\n    C39      C        0.21702    0.35279    0.17571    1.000\\n    H40      H        0.40754    0.23908    0.64936    1.000\\n    H41      H        0.26203    0.16975    0.77643    1.000\\n    H42      H        0.29352    0.33708    0.51505    1.000\\n    H43      H        0.18070    0.18891    0.54251    1.000\\n    H44      H        0.28241    0.09438    0.58768    1.000\\n    H45      H        0.14728    0.08753    0.64018    1.000\\n    H46      H        0.20969    0.51891    0.23127    1.000\\n    H47      H        0.24311    0.42445    0.61981    1.000\\n    H48      H        0.48050    0.40279    0.54991    1.000\\n    H49      H        0.42993    0.49274    0.65250    1.000\\n    H50      H        0.30882    0.57826    0.51062    1.000\\n    H51      H        0.37147    0.49677    0.41004    1.000\\n    H52      H        0.48131    0.66539    0.55748    1.000\\n    H53      H        0.79391    0.32170    0.26767    1.000\\n    H54      H        0.17152    0.27025    0.72570    1.000\\n    H55      H        0.88547    0.20945    0.27637    1.000\\n    H56      H        0.88917    0.76025    0.60016    1.000\\n    H57      H        0.60532    0.07521    0.66853    1.000\\n    H58      H        0.70549    0.17104    0.62569    1.000\\n    H59      H        0.56521    0.21033    0.63551    1.000\\n    H60      H        0.57021    0.18674    0.83474    1.000\\n    H61      H        0.70477    0.13496    0.82676    1.000\\n    H62      H        0.76766    0.31510    0.75115    1.000\\n    H63      H        0.71934    0.31768    0.88740    1.000\\n    H64      H        0.59195    0.38959    0.68608    1.000\\n    H65      H        0.53832    0.38403    0.82113    1.000\\n    H66      H        0.73464    0.51746    0.74801    1.000\\n    H67      H        0.67900    0.51464    0.88241    1.000\\n    H68      H        0.50055    0.57947    0.80446    1.000\\n    H69      H        0.56352    0.59380    0.67602    1.000\\n    H70      H        0.62456    0.71081    0.88772    1.000\\n    H71      H        0.55072    0.76758    0.77821    1.000\\n    H72      H        0.78900    0.69398    0.77144    1.000\\n    H73      H        0.73979    0.82894    0.78094    1.000\\n    H74      H        0.70766    0.67425    0.58865    1.000\\n    H75      H        0.64445    0.80462    0.60040    1.000\\n    H76      H        0.81082    0.81195    0.48920    1.000\\n    H77      H        0.82588    0.89143    0.60983    1.000\\n    H78      H        0.44684    0.68399    0.41914    1.000\\n    H79      H        0.61595    0.52334    0.50748    1.000\\n    H80      H        0.36583    0.33080    0.75300    1.000\\n    H81      H        0.53719    0.45079    0.33741    1.000\\n    H82      H        0.27476    0.88885    0.59219    1.000\\n    H83      H        0.31558    0.75115    0.60000    1.000\\n    H84      H        0.11765    0.85640    0.70960    1.000\\n    H85      H        0.24166    0.82241    0.77402    1.000\\n    H86      H        0.07867    0.66104    0.67586    1.000\\n    H87      H        0.09752    0.69188    0.81517    1.000\\n    H88      H        0.26405    0.58390    0.66507    1.000\\n    H89      H        0.64107    0.65009    0.44410    1.000\\n    H90      H        0.24617    0.43146    0.79133    1.000\\n    H91      H        0.14672    0.50385    0.86864    1.000\\n    H92      H        0.11749    0.46311    0.73150    1.000\\n    H93      H        0.37050    0.07368    0.26711    1.000\\n    H94      H        0.41463    0.19600    0.42590    1.000\\n    H95      H        0.43138    0.30584    0.33193    1.000\\n    H96      H        0.55901    0.09277    0.33048    1.000\\n    H97      H        0.57319    0.20124    0.23465    1.000\\n    H98      H        0.60636    0.22257    0.48034    1.000\\n    H99      H        0.62899    0.32653    0.38242    1.000\\n    H100     H        0.79689    0.22998    0.45022    1.000\\n    H101     H        0.75002    0.10791    0.38878    1.000\\n    H102     H        0.75928    0.19326    0.20744    1.000\\n    H103     H        0.09687    0.82934    0.50876    1.000\\n    H104     H        0.14793    0.69309    0.50603    1.000\\n    H105     H        0.29183    0.62617    0.80132    1.000\\n    H106     H        0.30383    0.75365    0.39393    1.000\\n    H107     H        0.54790    0.58132    0.27427    1.000\\n    H108     H        0.25124    0.88917    0.39377    1.000\\n    H109     H        0.74833    0.57311    0.29191    1.000\\n    H110     H        0.73730    0.44297    0.35721    1.000\\n    H111     H        0.08125    0.46286    0.19012    1.000\\n    H112     H        0.17990    0.50031    0.09019    1.000\\n    H113     H        0.17571    0.30165    0.11507    1.000\\n    H114     H        0.30366    0.35858    0.15413    1.000\\n    H115     H        0.11870    0.30713    0.31252    1.000\\n    H116     H        0.25124    0.35045    0.34803    1.000\\n    H117     H        0.69639    0.45892    0.21863    1.000\\n    H118     H        0.22257    0.15219    0.37429    1.000\\n    H119     H        0.18722    0.13714    0.23570    1.000\\n    H120     H        0.13746    0.68721    0.30133    1.000\\n    H121     H        0.14567    0.79777    0.12860    1.000\\n    H122     H        0.23409    0.89135    0.19423    1.000\\n    H123     H        0.07956    0.81952    0.30866    1.000\\n    H124     H        0.37171    0.74736    0.21855    1.000\\n    H125     H        0.27951    0.64775    0.16476    1.000\\n    H126     H        0.33056    0.75381    0.07988    1.000\\n    H127     H        0.37469    0.18779    0.17982    1.000\\n    O128     O        0.18360    0.26042    0.88724    1.000\\n    O129     O        0.88764    0.42131    0.76725    1.000\\n    O130     O        0.48606    0.38653    0.19036    1.000\\n    O131     O        0.46238    0.47599    0.18755    1.000\\n    O132     O        0.14487    0.14213    0.08037    1.000\\n    O133     O        0.23659    0.15469    0.08270    1.000\\n    O134     O        0.26791    0.29754    0.87806    1.000\\n    O135     O        0.88740    0.36954    0.84400    1.000\\n    O136     O        0.49218    0.88724    0.09510    1.000\\n    O137     O        0.88716    0.08600    0.13416    1.000\\n    O138     O        0.58760    0.45062    0.08181    1.000\\n    O139     O        0.60056    0.35899    0.08053    1.000\\n    O140     O        0.88490    0.17176    0.09929    1.000\\n    O141     O        0.38596    0.15155    0.88055    1.000\\n    O142     O        0.44499    0.08053    0.87387    1.000\\n    O143     O        0.33942    0.61997    0.31164    1.000\\n    O144     O        0.26163    0.60242    0.35858    1.000\\n    O145     O        0.83997    0.51722    0.88756    1.000\\n    O146     O        0.58357    0.88611    0.08053    1.000\\n    O147     O        0.86783    0.60524    0.88015    1.000\\n\");\n\tviewer_16687045264030325.setStyle({\"stick\": {}});\n\tviewer_16687045264030325.addUnitCell();\n\tviewer_16687045264030325.replicateUnitCell(1,1,1);\n\tviewer_16687045264030325.zoomTo();\nviewer_16687045264030325.render();\n});\n</script>",
            "text/html": [
              "<div id=\"3dmolviewer_16687045264030325\"  style=\"position: relative; width: 400px; height: 300px\">\n",
              "        <p id=\"3dmolwarning_16687045264030325\" style=\"background-color:#ffcccc;color:black\">You appear to be running in JupyterLab (or JavaScript failed to load for some other reason).  You need to install the 3dmol extension: <br>\n",
              "        <tt>jupyter labextension install jupyterlab_3dmol</tt></p>\n",
              "        </div>\n",
              "<script>\n",
              "\n",
              "var loadScriptAsync = function(uri){\n",
              "  return new Promise((resolve, reject) => {\n",
              "    var tag = document.createElement('script');\n",
              "    tag.src = uri;\n",
              "    tag.async = true;\n",
              "    tag.onload = () => {\n",
              "      resolve();\n",
              "    };\n",
              "  var firstScriptTag = document.getElementsByTagName('script')[0];\n",
              "  firstScriptTag.parentNode.insertBefore(tag, firstScriptTag);\n",
              "});\n",
              "};\n",
              "\n",
              "if(typeof $3Dmolpromise === 'undefined') {\n",
              "$3Dmolpromise = null;\n",
              "  $3Dmolpromise = loadScriptAsync('https://cdn.jsdelivr.net/npm/3dmol@latest/build/3Dmol-min.min.js');\n",
              "}\n",
              "\n",
              "var viewer_16687045264030325 = null;\n",
              "var warn = document.getElementById(\"3dmolwarning_16687045264030325\");\n",
              "if(warn) {\n",
              "    warn.parentNode.removeChild(warn);\n",
              "}\n",
              "$3Dmolpromise.then(function() {\n",
              "viewer_16687045264030325 = $3Dmol.createViewer($(\"#3dmolviewer_16687045264030325\"),{backgroundColor:\"white\"});\n",
              "viewer_16687045264030325.zoomTo();\n",
              "\tviewer_16687045264030325.addModelsAsFrames(\"# CIF file generated by openbabel 3.1.0, see https://openbabel.org\\ndata_I\\n_chemical_name_common '### POSCAR ###'\\n_cell_length_a 12.4183\\n_cell_length_b 12.4183\\n_cell_length_c 12.4183\\n_cell_angle_alpha 90\\n_cell_angle_beta 90\\n_cell_angle_gamma 90\\n_space_group_name_H-M_alt 'P 1'\\n_space_group_name_Hall 'P 1'\\nloop_\\n    _symmetry_equiv_pos_as_xyz\\n    x,y,z\\nloop_\\n    _atom_site_label\\n    _atom_site_type_symbol\\n    _atom_site_fract_x\\n    _atom_site_fract_y\\n    _atom_site_fract_z\\n    _atom_site_occupancy\\n    C0       C        0.16886    0.46576    0.17192    1.000\\n    C1       C        0.13979    0.68544    0.73641    1.000\\n    C2       C        0.18513    0.79753    0.70919    1.000\\n    C3       C        0.24424    0.80502    0.60040    1.000\\n    C4       C        0.17112    0.77949    0.50401    1.000\\n    C5       C        0.22894    0.80252    0.39732    1.000\\n    C6       C        0.15670    0.77474    0.30085    1.000\\n    C7       C        0.20784    0.80575    0.19262    1.000\\n    C8       C        0.30334    0.73392    0.16274    1.000\\n    C9       C        0.69897    0.49870    0.29867    1.000\\n    C10      C        0.58478    0.52648    0.33459    1.000\\n    C11      C        0.58494    0.58027    0.44587    1.000\\n    C12      C        0.47341    0.62303    0.47905    1.000\\n    C13      C        0.38508    0.53655    0.48896    1.000\\n    C14      C        0.41012    0.45175    0.57544    1.000\\n    C15      C        0.31373    0.37646    0.59283    1.000\\n    C16      C        0.33966    0.29022    0.67763    1.000\\n    C17      C        0.24206    0.21919    0.70452    1.000\\n    C18      C        0.81686    0.80816    0.57834    1.000\\n    C19      C        0.71556    0.75590    0.62424    1.000\\n    C20      C        0.72160    0.74777    0.74753    1.000\\n    C21      C        0.61546    0.70928    0.79866    1.000\\n    C22      C        0.57882    0.59597    0.76403    1.000\\n    C23      C        0.65943    0.50756    0.79536    1.000\\n    C24      C        0.61289    0.39538    0.77297    1.000\\n    C25      C        0.69438    0.30697    0.80204    1.000\\n    C26      C        0.64751    0.19318    0.79004    1.000\\n    C27      C        0.62996    0.16113    0.67247    1.000\\n    C28      C        0.22765    0.59879    0.74535    1.000\\n    C29      C        0.18126    0.49282    0.78682    1.000\\n    C30      C        0.21170    0.14310    0.61264    1.000\\n    C31      C        0.20486    0.30286    0.28820    1.000\\n    C32      C        0.35762    0.16226    0.26372    1.000\\n    C33      C        0.43645    0.21710    0.34167    1.000\\n    C34      C        0.55265    0.18135    0.31945    1.000\\n    C35      C        0.63173    0.23796    0.39587    1.000\\n    C36      C        0.74777    0.19721    0.38290    1.000\\n    C37      C        0.79914    0.23288    0.27685    1.000\\n    C38      C        0.23884    0.18376    0.29215    1.000\\n    C39      C        0.21702    0.35279    0.17571    1.000\\n    H40      H        0.40754    0.23908    0.64936    1.000\\n    H41      H        0.26203    0.16975    0.77643    1.000\\n    H42      H        0.29352    0.33708    0.51505    1.000\\n    H43      H        0.18070    0.18891    0.54251    1.000\\n    H44      H        0.28241    0.09438    0.58768    1.000\\n    H45      H        0.14728    0.08753    0.64018    1.000\\n    H46      H        0.20969    0.51891    0.23127    1.000\\n    H47      H        0.24311    0.42445    0.61981    1.000\\n    H48      H        0.48050    0.40279    0.54991    1.000\\n    H49      H        0.42993    0.49274    0.65250    1.000\\n    H50      H        0.30882    0.57826    0.51062    1.000\\n    H51      H        0.37147    0.49677    0.41004    1.000\\n    H52      H        0.48131    0.66539    0.55748    1.000\\n    H53      H        0.79391    0.32170    0.26767    1.000\\n    H54      H        0.17152    0.27025    0.72570    1.000\\n    H55      H        0.88547    0.20945    0.27637    1.000\\n    H56      H        0.88917    0.76025    0.60016    1.000\\n    H57      H        0.60532    0.07521    0.66853    1.000\\n    H58      H        0.70549    0.17104    0.62569    1.000\\n    H59      H        0.56521    0.21033    0.63551    1.000\\n    H60      H        0.57021    0.18674    0.83474    1.000\\n    H61      H        0.70477    0.13496    0.82676    1.000\\n    H62      H        0.76766    0.31510    0.75115    1.000\\n    H63      H        0.71934    0.31768    0.88740    1.000\\n    H64      H        0.59195    0.38959    0.68608    1.000\\n    H65      H        0.53832    0.38403    0.82113    1.000\\n    H66      H        0.73464    0.51746    0.74801    1.000\\n    H67      H        0.67900    0.51464    0.88241    1.000\\n    H68      H        0.50055    0.57947    0.80446    1.000\\n    H69      H        0.56352    0.59380    0.67602    1.000\\n    H70      H        0.62456    0.71081    0.88772    1.000\\n    H71      H        0.55072    0.76758    0.77821    1.000\\n    H72      H        0.78900    0.69398    0.77144    1.000\\n    H73      H        0.73979    0.82894    0.78094    1.000\\n    H74      H        0.70766    0.67425    0.58865    1.000\\n    H75      H        0.64445    0.80462    0.60040    1.000\\n    H76      H        0.81082    0.81195    0.48920    1.000\\n    H77      H        0.82588    0.89143    0.60983    1.000\\n    H78      H        0.44684    0.68399    0.41914    1.000\\n    H79      H        0.61595    0.52334    0.50748    1.000\\n    H80      H        0.36583    0.33080    0.75300    1.000\\n    H81      H        0.53719    0.45079    0.33741    1.000\\n    H82      H        0.27476    0.88885    0.59219    1.000\\n    H83      H        0.31558    0.75115    0.60000    1.000\\n    H84      H        0.11765    0.85640    0.70960    1.000\\n    H85      H        0.24166    0.82241    0.77402    1.000\\n    H86      H        0.07867    0.66104    0.67586    1.000\\n    H87      H        0.09752    0.69188    0.81517    1.000\\n    H88      H        0.26405    0.58390    0.66507    1.000\\n    H89      H        0.64107    0.65009    0.44410    1.000\\n    H90      H        0.24617    0.43146    0.79133    1.000\\n    H91      H        0.14672    0.50385    0.86864    1.000\\n    H92      H        0.11749    0.46311    0.73150    1.000\\n    H93      H        0.37050    0.07368    0.26711    1.000\\n    H94      H        0.41463    0.19600    0.42590    1.000\\n    H95      H        0.43138    0.30584    0.33193    1.000\\n    H96      H        0.55901    0.09277    0.33048    1.000\\n    H97      H        0.57319    0.20124    0.23465    1.000\\n    H98      H        0.60636    0.22257    0.48034    1.000\\n    H99      H        0.62899    0.32653    0.38242    1.000\\n    H100     H        0.79689    0.22998    0.45022    1.000\\n    H101     H        0.75002    0.10791    0.38878    1.000\\n    H102     H        0.75928    0.19326    0.20744    1.000\\n    H103     H        0.09687    0.82934    0.50876    1.000\\n    H104     H        0.14793    0.69309    0.50603    1.000\\n    H105     H        0.29183    0.62617    0.80132    1.000\\n    H106     H        0.30383    0.75365    0.39393    1.000\\n    H107     H        0.54790    0.58132    0.27427    1.000\\n    H108     H        0.25124    0.88917    0.39377    1.000\\n    H109     H        0.74833    0.57311    0.29191    1.000\\n    H110     H        0.73730    0.44297    0.35721    1.000\\n    H111     H        0.08125    0.46286    0.19012    1.000\\n    H112     H        0.17990    0.50031    0.09019    1.000\\n    H113     H        0.17571    0.30165    0.11507    1.000\\n    H114     H        0.30366    0.35858    0.15413    1.000\\n    H115     H        0.11870    0.30713    0.31252    1.000\\n    H116     H        0.25124    0.35045    0.34803    1.000\\n    H117     H        0.69639    0.45892    0.21863    1.000\\n    H118     H        0.22257    0.15219    0.37429    1.000\\n    H119     H        0.18722    0.13714    0.23570    1.000\\n    H120     H        0.13746    0.68721    0.30133    1.000\\n    H121     H        0.14567    0.79777    0.12860    1.000\\n    H122     H        0.23409    0.89135    0.19423    1.000\\n    H123     H        0.07956    0.81952    0.30866    1.000\\n    H124     H        0.37171    0.74736    0.21855    1.000\\n    H125     H        0.27951    0.64775    0.16476    1.000\\n    H126     H        0.33056    0.75381    0.07988    1.000\\n    H127     H        0.37469    0.18779    0.17982    1.000\\n    O128     O        0.18360    0.26042    0.88724    1.000\\n    O129     O        0.88764    0.42131    0.76725    1.000\\n    O130     O        0.48606    0.38653    0.19036    1.000\\n    O131     O        0.46238    0.47599    0.18755    1.000\\n    O132     O        0.14487    0.14213    0.08037    1.000\\n    O133     O        0.23659    0.15469    0.08270    1.000\\n    O134     O        0.26791    0.29754    0.87806    1.000\\n    O135     O        0.88740    0.36954    0.84400    1.000\\n    O136     O        0.49218    0.88724    0.09510    1.000\\n    O137     O        0.88716    0.08600    0.13416    1.000\\n    O138     O        0.58760    0.45062    0.08181    1.000\\n    O139     O        0.60056    0.35899    0.08053    1.000\\n    O140     O        0.88490    0.17176    0.09929    1.000\\n    O141     O        0.38596    0.15155    0.88055    1.000\\n    O142     O        0.44499    0.08053    0.87387    1.000\\n    O143     O        0.33942    0.61997    0.31164    1.000\\n    O144     O        0.26163    0.60242    0.35858    1.000\\n    O145     O        0.83997    0.51722    0.88756    1.000\\n    O146     O        0.58357    0.88611    0.08053    1.000\\n    O147     O        0.86783    0.60524    0.88015    1.000\\n\");\n",
              "\tviewer_16687045264030325.setStyle({\"stick\": {}});\n",
              "\tviewer_16687045264030325.addUnitCell();\n",
              "\tviewer_16687045264030325.replicateUnitCell(1,1,1);\n",
              "\tviewer_16687045264030325.zoomTo();\n",
              "viewer_16687045264030325.render();\n",
              "});\n",
              "</script>"
            ]
          },
          "metadata": {}
        }
      ]
    },
    {
      "cell_type": "markdown",
      "metadata": {
        "id": "lk4jN36lbGxf"
      },
      "source": [
        "### Additional information\n",
        "$AmorphousBuilder$ allows altering keywords or parameters to fine-tune an amorphous model. A CSV file may be used to supply SMILES strings and other information for all polymers/molecules that will be included in an amorphous model."
      ]
    },
    {
      "cell_type": "markdown",
      "metadata": {
        "id": "GLorlhMHvA5W"
      },
      "source": [
        "$AmorphousBuilder$ supports the following **parameters** or **keywords**:\n",
        "- $\\verb=Dataframe=$ **:** A pandas Dataframe that contains polymer IDs, SMILES strings representing repeating and endcap units, length of oligomers, number of oligomers/molecules, chain type (linear or loop), etc.\n",
        "- $\\verb=ID_col=$ [*default option=`ID'*] **:** Column name for molecule/oligomer IDs in the Dataframe.\n",
        "- $\\verb=SMILES_col=$ [*default option=`smiles'*] **:** Column name for polymer SMILES strings (repeating unit) in the Dataframe.\n",
        "- $\\verb=NumMole=$ [*default option=`Num'*] **:** Column name for the number of each molecule in the Dataframe.\n",
        "- $\\verb=Length=$ [*default option=`Len'*] **:** Column name for the length of each oligomer in the Dataframe.\n",
        "- $\\verb=LeftCap=$ [*default option=`LeftCap'*] **:** Column name for the SMILES string of left cap molecular fragment in the Dataframe.\n",
        "- $\\verb=RightCap=$ [*default option=`RightCap'*] **:** Column name for the SMILES string of right cap molecular fragment in the Dataframe.\n",
        "- $\\verb=Loop=$ [*default option=`Loop'*] **:** Column name for selecting linear or circular chains.\n",
        "- $\\verb=OutFile=$ [*default option=`amor_model'*]: The names of the output files exported in POSCAR and LAMMPS data formats. \n",
        "- $\\verb=OutDir=$ [*default option=`amorphous_models'*] **:** The output directory, which contains all files, including POSCAR and LAMMPS data files.\n",
        "- $\\verb=density=$ [*default value=0.65 g/cm$^3$*] **:** The density of a simulation box.\n",
        "- $\\verb=tol_dis=$ [*default value=2.0*] **:** The minimum distance between any two molecules in a simulation box.\n",
        "- $\\verb=box_type=$ [*default option=`c'*] **:** The shape of a simulation box. Here, *`c'* and *`r'* denote cubic and rectangular, respectively.\n",
        "- $\\verb=incr_per=$ [*default value=0.4*] **:** If the shape of a box is rectangular, $\\verb=incr_per=$ determines the length of z axis (l$_{z}$). l$_{z}$ = Volume$^{1/3}$ + $\\verb=incr_per=$ $\\times$ Volume$^{1/3}$.\n",
        "- $\\verb=box_size=$ [No default value]: It is a list of six numbers that offers an alternative method of explicitly defining the box size. [*xmin, xmax, ymin, ymax, zmin, zmax*]"
      ]
    },
    {
      "cell_type": "markdown",
      "metadata": {
        "id": "KWv1sNPlXcj7"
      },
      "source": [
        "A sample CSV file containing data for three oligomers is provided below. Users can add more molecules/oligomers to the amorphous model by appending new raws to the list."
      ]
    },
    {
      "cell_type": "code",
      "metadata": {
        "id": "TREI4i_ebJXy",
        "colab": {
          "base_uri": "https://localhost:8080/"
        },
        "outputId": "4d623463-4b9c-4eae-9d32-dbedf37f83a3"
      },
      "source": [
        "cat input_amor.csv"
      ],
      "execution_count": null,
      "outputs": [
        {
          "output_type": "stream",
          "name": "stdout",
          "text": [
            "ID,smiles,Len,Num,NumConf,Loop\n",
            "PVC3,C(C([*])Cl)[*],3,8,2,False\n",
            "PVC5,C(C([*])Cl)[*],5,4,2,False\n",
            "cc5,[*]CC[*],5,8,2,False\n"
          ]
        }
      ]
    },
    {
      "cell_type": "markdown",
      "metadata": {
        "id": "tPOA7LVNdAGv"
      },
      "source": [
        "Below is an example of a code snippet required for $AmorphousBuilder$. The definitions of keywords and parameters are provided above."
      ]
    },
    {
      "cell_type": "code",
      "metadata": {
        "id": "nVDcEuHmqKPd",
        "colab": {
          "base_uri": "https://localhost:8080/"
        },
        "outputId": "af3ff6bf-f97e-4ed8-efa2-6ebeab4b8b0e"
      },
      "source": [
        "cat amor_model.py"
      ],
      "execution_count": null,
      "outputs": [
        {
          "output_type": "stream",
          "name": "stdout",
          "text": [
            "import pandas as pd\n",
            "import psp.AmorphousBuilder as ab\n",
            "\n",
            "input_df = pd.read_csv(\"input_amor.csv\")\n",
            "amor = ab.Builder(\n",
            "    input_df,\n",
            "    ID_col=\"ID\",\n",
            "    SMILES_col=\"smiles\",\n",
            "    OutDir='amor_model',\n",
            "    Length='Len',\n",
            "    NumConf='NumConf',\n",
            "    NumModel=1,\n",
            "    LeftCap = \"LeftCap\",\n",
            "    RightCap = \"RightCap\",\n",
            "    Loop='Loop',\n",
            "    density=0.85,\n",
            "    box_type='c',\n",
            ")\n",
            "amor.Build()\n"
          ]
        }
      ]
    },
    {
      "cell_type": "markdown",
      "metadata": {
        "id": "Q8Ek7Andmu9r"
      },
      "source": [
        "###**Example 3**: Build an amorphous model that includes multiple polymers/molecules\n",
        "The code snippet below will read all of the relevant information about molecules/polymers from a CSV file (*input_amor.csv*) and then generate an amorphous model. "
      ]
    },
    {
      "cell_type": "code",
      "metadata": {
        "id": "LQD4AVsymuB-",
        "colab": {
          "base_uri": "https://localhost:8080/"
        },
        "outputId": "ee7545f1-299a-4139-f14d-93d2e2f04cb6"
      },
      "source": [
        "import pandas as pd\n",
        "import psp.AmorphousBuilder as ab\n",
        "\n",
        "input_df = pd.read_csv(\"input_amor.csv\")\n",
        "amor = ab.Builder(\n",
        "    input_df,\n",
        "    ID_col=\"ID\",\n",
        "    SMILES_col=\"smiles\",\n",
        "    OutDir='amor_model',\n",
        "    Length='Len',\n",
        "    NumConf='NumConf',\n",
        "    NumModel=1,\n",
        "    LeftCap = \"LeftCap\",\n",
        "    RightCap = \"RightCap\",\n",
        "    Loop='Loop',\n",
        "    density=0.85,\n",
        "    box_type='c',\n",
        ")\n",
        "amor.Build()"
      ],
      "execution_count": null,
      "outputs": [
        {
          "output_type": "stream",
          "name": "stdout",
          "text": [
            "\n",
            "                        ---------  PPPPPP       SSSSSS    PPPPPP    ---------                        \n",
            "                -----------------  PP    PP   SS          PP    PP  -----------------                \n",
            "        -------------------------  PP    PP   SS          PP    PP  -------------------------        \n",
            " --------------------------------  PPPPPP       SSSSS     PPPPPP    -------------------------------- \n",
            "        -------------------------  PP                SS   PP        -------------------------        \n",
            "                -----------------  PP                SS   PP        -----------------                \n",
            "                        ---------  PP          SSSSSS     PP        ---------                        \n",
            " --------------------------------------------------------------------------------------------------- \n",
            "          ** ** ** ** ** ** ** ** ** ** ** ** ** ** ** ** ** ** ** ** ** ** ** ** ** ** **          \n",
            "                        Polymer Structure Predictor (PSP) version =  1.0.0                     \n",
            "                                   Developed at Ramprasad Group                                      \n",
            "           Materials Science and Engineering, Georgia Institute of Technology, Atlanta, US           \n",
            "\n",
            "           Cite this work as:                                                                \n",
            "           H. Sahu, K-H. Shen, J. H. Montoya, H. Tran, R. Ramprasad, PSP: A python toolkit           \n",
            "           for predicting 3D models of polymers, journal name, volume, page, 2022.                   \n",
            "          ** ** ** ** ** ** ** ** ** ** ** ** ** ** ** ** ** ** ** ** ** ** ** ** ** ** **          \n",
            " --------------------------------------------------------------------------------------------------- \n",
            "  AmorphousBuilder  started...\n",
            " ----------------------------------------------- INPUT --------------------------------------------- \n",
            "|    | ID   | smiles         |   Len |   Num |   NumConf | Loop   |\n",
            "|---:|:-----|:---------------|------:|------:|----------:|:-------|\n",
            "|  1 | PVC3 | C(C([*])Cl)[*] |     3 |     8 |         2 | False  |\n",
            "|  2 | PVC5 | C(C([*])Cl)[*] |     5 |     4 |         2 | False  |\n",
            "|  3 | cc5  | [*]CC[*]       |     5 |     8 |         2 | False  |\n",
            "\n",
            " Additional information:  \n",
            " Number of models:  1 \n",
            " Density (g/cm3):  0.85 \n",
            " Tolerance distance (angstrom):  2.0 \n",
            " Box type:  Cubic \n",
            " Output directory:  amor_model/ \n",
            "\n",
            "  MoleculeBuilder  started...\n",
            " ----------------------------------------------- INPUT --------------------------------------------- \n",
            "|    | ID   | smiles         |   Len |   Num |   NumConf |   Loop |\n",
            "|---:|:-----|:---------------|------:|------:|----------:|-------:|\n",
            "|  1 | PVC3 | C(C([*])Cl)[*] |     3 |     8 |         2 |      0 |\n",
            "\n",
            " Additional information:  \n",
            " Length of oligomers:  [3] \n",
            " Number of conformers:  2 \n",
            " Loop model:  False \n",
            " Run short MD simulation:  False \n",
            " Generate OPLS parameter file:  False \n",
            " Intermolecular distance in POSCAR:  6 \n",
            " Number of cores:  All \n",
            " Output Directory:  amor_model/molecules/ \n",
            "\n",
            "\n",
            " 3D model building started...\n",
            "\n"
          ]
        },
        {
          "output_type": "stream",
          "name": "stderr",
          "text": [
            "Building models ...: 100%|██████████| 1/1 [00:00<00:00,  7.34it/s]\n"
          ]
        },
        {
          "output_type": "stream",
          "name": "stdout",
          "text": [
            "\n",
            " 3D model building completed.\n",
            "\n",
            "|    | ID   | Result   | SMILES               |\n",
            "|---:|:-----|:---------|:---------------------|\n",
            "|  1 | PVC3 | SUCCESS  | ['CC(Cl)CC(Cl)CCCl'] |\n",
            "\n",
            " 3D model building time (minutes):  0.0\n",
            "\n",
            "  MoleculeBuilder  started...\n",
            " ----------------------------------------------- INPUT --------------------------------------------- \n",
            "|    | ID   | smiles         |   Len |   Num |   NumConf |   Loop |\n",
            "|---:|:-----|:---------------|------:|------:|----------:|-------:|\n",
            "|  1 | PVC5 | C(C([*])Cl)[*] |     5 |     4 |         2 |      0 |\n",
            "\n",
            " Additional information:  \n",
            " Length of oligomers:  [5] \n",
            " Number of conformers:  2 \n",
            " Loop model:  False \n",
            " Run short MD simulation:  False \n",
            " Generate OPLS parameter file:  False \n",
            " Intermolecular distance in POSCAR:  6 \n",
            " Number of cores:  All \n",
            " Output Directory:  amor_model/molecules/ \n",
            "\n",
            "\n",
            " 3D model building started...\n",
            "\n"
          ]
        },
        {
          "output_type": "stream",
          "name": "stderr",
          "text": [
            "Building models ...: 100%|██████████| 1/1 [00:00<00:00,  3.66it/s]\n"
          ]
        },
        {
          "output_type": "stream",
          "name": "stdout",
          "text": [
            "\n",
            " 3D model building completed.\n",
            "\n",
            "|    | ID   | Result   | SMILES                           |\n",
            "|---:|:-----|:---------|:---------------------------------|\n",
            "|  1 | PVC5 | SUCCESS  | ['CC(Cl)CC(Cl)CC(Cl)CC(Cl)CCCl'] |\n",
            "\n",
            " 3D model building time (minutes):  0.0\n",
            "\n",
            "  MoleculeBuilder  started...\n",
            " ----------------------------------------------- INPUT --------------------------------------------- \n",
            "|    | ID   | smiles   |   Len |   Num |   NumConf |   Loop |\n",
            "|---:|:-----|:---------|------:|------:|----------:|-------:|\n",
            "|  1 | cc5  | [*]CC[*] |     5 |     8 |         2 |      0 |\n",
            "\n",
            " Additional information:  \n",
            " Length of oligomers:  [5] \n",
            " Number of conformers:  2 \n",
            " Loop model:  False \n",
            " Run short MD simulation:  False \n",
            " Generate OPLS parameter file:  False \n",
            " Intermolecular distance in POSCAR:  6 \n",
            " Number of cores:  All \n",
            " Output Directory:  amor_model/molecules/ \n",
            "\n",
            "\n",
            " 3D model building started...\n",
            "\n"
          ]
        },
        {
          "output_type": "stream",
          "name": "stderr",
          "text": [
            "Building models ...: 100%|██████████| 1/1 [00:00<00:00,  3.81it/s]\n"
          ]
        },
        {
          "output_type": "stream",
          "name": "stdout",
          "text": [
            "\n",
            " 3D model building completed.\n",
            "\n",
            "|    | ID   | Result   | SMILES         |\n",
            "|---:|:-----|:---------|:---------------|\n",
            "|  1 | cc5  | SUCCESS  | ['CCCCCCCCCC'] |\n",
            "\n",
            " 3D model building time (minutes):  0.0\n",
            "\n"
          ]
        },
        {
          "output_type": "stream",
          "name": "stderr",
          "text": [
            "Building models ...: 100%|██████████| 1/1 [00:01<00:00,  1.55s/it]"
          ]
        },
        {
          "output_type": "stream",
          "name": "stdout",
          "text": [
            "\n",
            " Amorphous model building completed.\n",
            "\n",
            " Total run time (minutes):  0.04\n",
            " ------------------------------------- PSP TERMINATED NORMALLY ------------------------------------- \n"
          ]
        },
        {
          "output_type": "stream",
          "name": "stderr",
          "text": [
            "\n"
          ]
        }
      ]
    },
    {
      "cell_type": "markdown",
      "metadata": {
        "id": "1j68ANeDoJsM"
      },
      "source": [
        "Let's take a look at the amorphous model."
      ]
    },
    {
      "cell_type": "code",
      "metadata": {
        "id": "igolNq0uoL66",
        "colab": {
          "base_uri": "https://localhost:8080/",
          "height": 372
        },
        "outputId": "eba4d6a5-2137-42eb-b8c6-1d2430599cbe"
      },
      "source": [
        "visualize3D(\"amor_model/amor_model.vasp\")"
      ],
      "execution_count": null,
      "outputs": [
        {
          "output_type": "stream",
          "name": "stdout",
          "text": [
            "1 molecule converted\n",
            "model_wCell.cif\n"
          ]
        },
        {
          "output_type": "display_data",
          "data": {
            "application/3dmoljs_load.v0": "<div id=\"3dmolviewer_1646335857011588\"  style=\"position: relative; width: 400px; height: 300px\">\n        <p id=\"3dmolwarning_1646335857011588\" style=\"background-color:#ffcccc;color:black\">You appear to be running in JupyterLab (or JavaScript failed to load for some other reason).  You need to install the 3dmol extension: <br>\n        <tt>jupyter labextension install jupyterlab_3dmol</tt></p>\n        </div>\n<script>\n\nvar loadScriptAsync = function(uri){\n  return new Promise((resolve, reject) => {\n    var tag = document.createElement('script');\n    tag.src = uri;\n    tag.async = true;\n    tag.onload = () => {\n      resolve();\n    };\n  var firstScriptTag = document.getElementsByTagName('script')[0];\n  firstScriptTag.parentNode.insertBefore(tag, firstScriptTag);\n});\n};\n\nif(typeof $3Dmolpromise === 'undefined') {\n$3Dmolpromise = null;\n  $3Dmolpromise = loadScriptAsync('https://3dmol.org/build/3Dmol.js');\n}\n\nvar viewer_1646335857011588 = null;\nvar warn = document.getElementById(\"3dmolwarning_1646335857011588\");\nif(warn) {\n    warn.parentNode.removeChild(warn);\n}\n$3Dmolpromise.then(function() {\nviewer_1646335857011588 = $3Dmol.createViewer($(\"#3dmolviewer_1646335857011588\"),{backgroundColor:\"white\"});\nviewer_1646335857011588.zoomTo();\n\tviewer_1646335857011588.addModelsAsFrames(\"# CIF file generated by openbabel 3.1.0, see https://openbabel.org\\ndata_I\\n_chemical_name_common '### POSCAR ###'\\n_cell_length_a 20.0591\\n_cell_length_b 20.0591\\n_cell_length_c 20.0591\\n_cell_angle_alpha 90\\n_cell_angle_beta 90\\n_cell_angle_gamma 90\\n_space_group_name_H-M_alt 'P 1'\\n_space_group_name_Hall 'P 1'\\nloop_\\n    _symmetry_equiv_pos_as_xyz\\n    x,y,z\\nloop_\\n    _atom_site_label\\n    _atom_site_type_symbol\\n    _atom_site_fract_x\\n    _atom_site_fract_y\\n    _atom_site_fract_z\\n    _atom_site_occupancy\\n    C0       C        0.72266    0.13196    0.78239    1.000\\n    C1       C        0.36926    0.09302    0.60347    1.000\\n    C2       C        0.36323    0.11720    0.67535    1.000\\n    C3       C        0.36412    0.53736    0.36223    1.000\\n    C4       C        0.31980    0.55910    0.42041    1.000\\n    C5       C        0.29951    0.63323    0.41667    1.000\\n    C6       C        0.35784    0.68338    0.41427    1.000\\n    C7       C        0.39987    0.68288    0.47893    1.000\\n    C8       C        0.46288    0.72690    0.47510    1.000\\n    C9       C        0.51907    0.69310    0.43457    1.000\\n    C10      C        0.57769    0.74066    0.41926    1.000\\n    C11      C        0.63811    0.70332    0.38980    1.000\\n    C12      C        0.39618    0.14841    0.55790    1.000\\n    C13      C        0.67864    0.66453    0.44174    1.000\\n    C14      C        0.26726    0.59998    0.15105    1.000\\n    C15      C        0.31198    0.64115    0.19762    1.000\\n    C16      C        0.30460    0.71653    0.18645    1.000\\n    C17      C        0.34528    0.75591    0.23790    1.000\\n    C18      C        0.33910    0.83129    0.22583    1.000\\n    C19      C        0.47101    0.86210    0.77436    1.000\\n    C20      C        0.47041    0.88688    0.70222    1.000\\n    C21      C        0.49823    0.83518    0.65247    1.000\\n    C22      C        0.57006    0.81125    0.66638    1.000\\n    C23      C        0.62191    0.86788    0.65925    1.000\\n    C24      C        0.69310    0.84734    0.68019    1.000\\n    C25      C        0.29074    0.60182    0.07852    1.000\\n    C26      C        0.41168    0.12378    0.48691    1.000\\n    C27      C        0.35131    0.09656    0.44812    1.000\\n    C28      C        0.29672    0.14911    0.43711    1.000\\n    C29      C        0.38262    0.09567    0.19582    1.000\\n    C30      C        0.42659    0.15529    0.21402    1.000\\n    C31      C        0.47938    0.17144    0.16053    1.000\\n    C32      C        0.53317    0.11675    0.15220    1.000\\n    C33      C        0.59973    0.14721    0.12842    1.000\\n    C34      C        0.65810    0.09761    0.12917    1.000\\n    C35      C        0.66783    0.30924    0.81703    1.000\\n    C36      C        0.71414    0.33077    0.76040    1.000\\n    C37      C        0.67665    0.34892    0.69584    1.000\\n    C38      C        0.64110    0.28910    0.66249    1.000\\n    C39      C        0.63637    0.29907    0.58632    1.000\\n    C40      C        0.61119    0.23720    0.54883    1.000\\n    C41      C        0.09033    0.09567    0.35550    1.000\\n    C42      C        0.13430    0.15240    0.32968    1.000\\n    C43      C        0.18685    0.17458    0.38072    1.000\\n    C44      C        0.24218    0.12259    0.39055    1.000\\n    C45      C        0.78832    0.33466    0.44279    1.000\\n    C46      C        0.86150    0.32240    0.46044    1.000\\n    C47      C        0.87122    0.29652    0.53228    1.000\\n    C48      C        0.84311    0.34179    0.58776    1.000\\n    C49      C        0.87935    0.40974    0.59165    1.000\\n    C50      C        0.84744    0.45894    0.64150    1.000\\n    C51      C        0.78343    0.49115    0.61304    1.000\\n    C52      C        0.74380    0.53063    0.66603    1.000\\n    C53      C        0.68727    0.57216    0.63452    1.000\\n    C54      C        0.70103    0.84545    0.75686    1.000\\n    C55      C        0.76728    0.81325    0.77925    1.000\\n    C56      C        0.77984    0.82267    0.85452    1.000\\n    C57      C        0.80377    0.89291    0.87317    1.000\\n    C58      C        0.29533    0.34992    0.61408    1.000\\n    C59      C        0.24926    0.30325    0.57455    1.000\\n    C60      C        0.26452    0.30305    0.49987    1.000\\n    C61      C        0.60277    0.50296    0.28172    1.000\\n    C62      C        0.63592    0.48033    0.34633    1.000\\n    C63      C        0.10005    0.87676    0.75781    1.000\\n    C64      C        0.15385    0.83359    0.72570    1.000\\n    C65      C        0.16177    0.85014    0.65142    1.000\\n    C66      C        0.22150    0.81449    0.61902    1.000\\n    C67      C        0.21781    0.73782    0.61997    1.000\\n    C68      C        0.15768    0.71035    0.58128    1.000\\n    C69      C        0.16122    0.63417    0.57565    1.000\\n    C70      C        0.10040    0.60661    0.53826    1.000\\n    C71      C        0.10494    0.53113    0.52629    1.000\\n    C72      C        0.09666    0.49055    0.59030    1.000\\n    C73      C        0.47180    0.74001    0.88812    1.000\\n    C74      C        0.47225    0.68542    0.83483    1.000\\n    C75      C        0.54294    0.66758    0.81135    1.000\\n    C76      C        0.58303    0.62999    0.86464    1.000\\n    C77      C        0.65088    0.60775    0.83722    1.000\\n    C78      C        0.69160    0.57151    0.89102    1.000\\n    C79      C        0.75611    0.54015    0.86360    1.000\\n    C80      C        0.80632    0.59001    0.83393    1.000\\n    C81      C        0.83164    0.64090    0.88518    1.000\\n    C82      C        0.88777    0.68333    0.85627    1.000\\n    C83      C        0.28092    0.42390    0.60057    1.000\\n    C84      C        0.18196    0.68737    0.87456    1.000\\n    C85      C        0.32369    0.46871    0.64539    1.000\\n    C86      C        0.34508    0.58971    0.68064    1.000\\n    C87      C        0.37140    0.87322    0.28142    1.000\\n    C88      C        0.44693    0.86275    0.29014    1.000\\n    C89      C        0.48706    0.88189    0.22783    1.000\\n    C90      C        0.56184    0.87955    0.24159    1.000\\n    C91      C        0.84645    0.79974    0.58203    1.000\\n    C92      C        0.88035    0.85866    0.54743    1.000\\n    C93      C        0.83822    0.88812    0.49010    1.000\\n    C94      C        0.81903    0.83867    0.43437    1.000\\n    C95      C        0.88035    0.81260    0.39563    1.000\\n    C96      C        0.86350    0.75741    0.34468    1.000\\n    C97      C        0.85228    0.68926    0.37893    1.000\\n    C98      C        0.82322    0.63627    0.33117    1.000\\n    C99      C        0.82376    0.56598    0.36243    1.000\\n    C100     C        0.89276    0.53297    0.36268    1.000\\n    C101     C        0.36268    0.29687    0.08375    1.000\\n    C102     C        0.31641    0.34922    0.11426    1.000\\n    C103     C        0.34942    0.38830    0.17119    1.000\\n    C104     C        0.40386    0.43611    0.14642    1.000\\n    C105     C        0.43127    0.47853    0.20380    1.000\\n    C106     C        0.48671    0.52535    0.17927    1.000\\n    C107     C        0.50949    0.57540    0.23281    1.000\\n    C108     C        0.53960    0.54379    0.29597    1.000\\n    C109     C        0.52904    0.60790    0.61967    1.000\\n    C110     C        0.45326    0.60406    0.61418    1.000\\n    C111     C        0.42165    0.58527    0.68134    1.000\\n    C112     C        0.31033    0.54270    0.63088    1.000\\n    C113     C        0.19143    0.61972    0.84111    1.000\\n    C114     C        0.71150    0.63597    0.60008    1.000\\n    C115     C        0.18072    0.49344    0.85756    1.000\\n    C116     C        0.10115    0.45107    0.32085    1.000\\n    C117     C        0.11551    0.38252    0.28944    1.000\\n    C118     C        0.18989    0.36507    0.28232    1.000\\n    C119     C        0.22633    0.36183    0.34957    1.000\\n    C120     C        0.29722    0.33561    0.34109    1.000\\n    C121     C        0.18077    0.56254    0.89092    1.000\\n    C122     C        0.71987    0.20833    0.31686    1.000\\n    C123     C        0.65905    0.23052    0.35829    1.000\\n    C124     C        0.59599    0.24453    0.31612    1.000\\n    C125     C        0.55167    0.29752    0.35006    1.000\\n    C126     C        0.49364    0.32160    0.30614    1.000\\n    C127     C        0.87885    0.55631    0.14572    1.000\\n    C128     C        0.83164    0.59684    0.10155    1.000\\n    C129     C        0.75801    0.59110    0.12274    1.000\\n    C130     C        0.72825    0.52046    0.11351    1.000\\n    C131     C        0.65252    0.52420    0.10035    1.000\\n    C132     C        0.62156    0.45700    0.08036    1.000\\n    C133     C        0.12912    0.50924    0.27962    1.000\\n    C134     C        0.10569    0.57640    0.30769    1.000\\n    C135     C        0.13485    0.63462    0.26736    1.000\\n    C136     C        0.79714    0.37654    0.24627    1.000\\n    C137     C        0.67027    0.10135    0.73617    1.000\\n    C138     C        0.60023    0.13161    0.74565    1.000\\n    C139     C        0.56862    0.11626    0.81434    1.000\\n    C140     C        0.49180    0.11451    0.80931    1.000\\n    C141     C        0.45750    0.08929    0.87302    1.000\\n    C142     C        0.84690    0.88493    0.22145    1.000\\n    C143     C        0.84959    0.82282    0.17723    1.000\\n    C144     C        0.79729    0.82351    0.12089    1.000\\n    C145     C        0.52086    0.45022    0.79605    1.000\\n    C146     C        0.72441    0.81948    0.14592    1.000\\n    C147     C        0.60875    0.77022    0.11920    1.000\\n    C148     C        0.13435    0.72346    0.35844    1.000\\n    C149     C        0.10788    0.70257    0.29004    1.000\\n    C150     C        0.89829    0.15649    0.09896    1.000\\n    C151     C        0.82337    0.16397    0.11117    1.000\\n    C152     C        0.79944    0.23695    0.10883    1.000\\n    C153     C        0.82710    0.28077    0.16601    1.000\\n    C154     C        0.77800    0.33750    0.18316    1.000\\n    C155     C        0.67939    0.78538    0.09362    1.000\\n    C156     C        0.48910    0.40764    0.85073    1.000\\n    C157     C        0.71040    0.14034    0.28356    1.000\\n    C158     C        0.30595    0.47101    0.87018    1.000\\n    C159     C        0.10599    0.27937    0.85243    1.000\\n    C160     C        0.27220    0.18406    0.87805    1.000\\n    C161     C        0.42779    0.44095    0.88229    1.000\\n    C162     C        0.31048    0.17478    0.81270    1.000\\n    C163     C        0.24622    0.47445    0.82232    1.000\\n    C164     C        0.36771    0.44304    0.83488    1.000\\n    C165     C        0.17618    0.25629    0.83084    1.000\\n    C166     C        0.08699    0.34862    0.82571    1.000\\n    C167     C        0.19637    0.19168    0.86793    1.000\\n    Cl168    Cl       0.88553    0.90886    0.84191    1.000\\n    Cl169    Cl       0.72057    0.71932    0.49793    1.000\\n    Cl170    Cl       0.17817    0.24228    0.74260    1.000\\n    Cl171    Cl       0.55356    0.83897    0.10723    1.000\\n    Cl172    Cl       0.49145    0.74280    0.55810    1.000\\n    Cl173    Cl       0.32344    0.76474    0.40116    1.000\\n    Cl174    Cl       0.24597    0.50924    0.42056    1.000\\n    Cl175    Cl       0.55132    0.80258    0.36063    1.000\\n    Cl176    Cl       0.76150    0.40126    0.78732    1.000\\n    Cl177    Cl       0.91973    0.51318    0.28022    1.000\\n    Cl178    Cl       0.50486    0.05529    0.09382    1.000\\n    Cl179    Cl       0.79136    0.20460    0.36986    1.000\\n    Cl180    Cl       0.75083    0.90602    0.64569    1.000\\n    Cl181    Cl       0.04970    0.34403    0.74505    1.000\\n    Cl182    Cl       0.58871    0.74574    0.60865    1.000\\n    Cl183    Cl       0.37464    0.22663    0.22608    1.000\\n    Cl184    Cl       0.93085    0.81664    0.14133    1.000\\n    Cl185    Cl       0.42160    0.27010    0.31502    1.000\\n    Cl186    Cl       0.52241    0.23510    0.54394    1.000\\n    Cl187    Cl       0.55002    0.16880    0.30455    1.000\\n    Cl188    Cl       0.55940    0.27937    0.69734    1.000\\n    Cl189    Cl       0.38666    0.90652    0.67919    1.000\\n    Cl190    Cl       0.76534    0.72575    0.76165    1.000\\n    Cl191    Cl       0.69405    0.90163    0.16382    1.000\\n    Cl192    Cl       0.28755    0.11376    0.93055    1.000\\n    Cl193    Cl       0.74440    0.47126    0.18635    1.000\\n    Cl194    Cl       0.44224    0.15514    0.93085    1.000\\n    Cl195    Cl       0.59674    0.40944    0.15130    1.000\\n    Cl196    Cl       0.76349    0.88065    0.37848    1.000\\n    Cl197    Cl       0.59414    0.17792    0.87372    1.000\\n    Cl198    Cl       0.85612    0.68243    0.10434    1.000\\n    Cl199    Cl       0.85278    0.44359    0.22827    1.000\\n    Cl200    Cl       0.89555    0.92257    0.60755    1.000\\n    Cl201    Cl       0.90697    0.52265    0.66045    1.000\\n    Cl202    Cl       0.74275    0.69495    0.65890    1.000\\n    Cl203    Cl       0.90632    0.31472    0.14238    1.000\\n    Cl204    Cl       0.85168    0.29847    0.66538    1.000\\n    Cl205    Cl       0.69594    0.11336    0.65172    1.000\\n    Cl206    Cl       0.89520    0.26252    0.40371    1.000\\n    Cl207    Cl       0.66359    0.05160    0.05324    1.000\\n    Cl208    Cl       0.73901    0.65751    0.31073    1.000\\n    Cl209    Cl       0.77945    0.11700    0.04950    1.000\\n    Cl210    Cl       0.93095    0.75083    0.28665    1.000\\n    Cl211    Cl       0.70786    0.47390    0.72481    1.000\\n    H212     H        0.55242    0.58502    0.33077    1.000\\n    H213     H        0.50192    0.51224    0.32150    1.000\\n    H214     H        0.29637    0.28416    0.32045    1.000\\n    H215     H        0.32260    0.33451    0.39025    1.000\\n    H216     H        0.63881    0.53352    0.25275    1.000\\n    H217     H        0.68094    0.45037    0.33451    1.000\\n    H218     H        0.65127    0.52420    0.37644    1.000\\n    H219     H        0.60107    0.44907    0.37589    1.000\\n    H220     H        0.09208    0.38057    0.23924    1.000\\n    H221     H        0.10165    0.19572    0.31816    1.000\\n    H222     H        0.09088    0.34353    0.32020    1.000\\n    H223     H        0.21501    0.40131    0.24881    1.000\\n    H224     H        0.19313    0.31542    0.25779    1.000\\n    H225     H        0.22912    0.41243    0.37195    1.000\\n    H226     H        0.32599    0.36851    0.30704    1.000\\n    H227     H        0.58986    0.45795    0.25215    1.000\\n    H228     H        0.19891    0.32853    0.38426    1.000\\n    H229     H        0.32898    0.16063    0.67824    1.000\\n    H230     H        0.49957    0.78453    0.87048    1.000\\n    H231     H        0.18445    0.50780    0.28072    1.000\\n    H232     H        0.05035    0.57874    0.30600    1.000\\n    H233     H        0.12199    0.58033    0.36048    1.000\\n    H234     H        0.12144    0.62789    0.21397    1.000\\n    H235     H        0.19019    0.63422    0.27095    1.000\\n    H236     H        0.12344    0.74081    0.25300    1.000\\n    H237     H        0.93085    0.65132    0.84231    1.000\\n    H238     H        0.87008    0.71070    0.81150    1.000\\n    H239     H        0.05244    0.70182    0.29099    1.000\\n    H240     H        0.11446    0.69041    0.39802    1.000\\n    H241     H        0.15878    0.13685    0.28246    1.000\\n    H242     H        0.11975    0.04920    0.36133    1.000\\n    H243     H        0.06745    0.10938    0.40401    1.000\\n    H244     H        0.04975    0.08590    0.31906    1.000\\n    H245     H        0.09442    0.43666    0.57769    1.000\\n    H246     H        0.04975    0.50451    0.61618    1.000\\n    H247     H        0.13959    0.49848    0.62420    1.000\\n    H248     H        0.11217    0.50441    0.22708    1.000\\n    H249     H        0.41956    0.75487    0.89869    1.000\\n    H250     H        0.04606    0.45655    0.32444    1.000\\n    H251     H        0.90463    0.72007    0.89406    1.000\\n    H252     H        0.54698    0.60945    0.21028    1.000\\n    H253     H        0.44658    0.64036    0.85427    1.000\\n    H254     H        0.44339    0.70362    0.79116    1.000\\n    H255     H        0.56991    0.71364    0.79635    1.000\\n    H256     H        0.53831    0.63542    0.76643    1.000\\n    H257     H        0.59140    0.66299    0.90841    1.000\\n    H258     H        0.55446    0.58552    0.88124    1.000\\n    H259     H        0.67864    0.65252    0.82003    1.000\\n    H260     H        0.64300    0.57390    0.79410    1.000\\n    H261     H        0.66085    0.53048    0.91215    1.000\\n    H262     H        0.70322    0.60606    0.93264    1.000\\n    H263     H        0.74280    0.50316    0.82446    1.000\\n    H264     H        0.78079    0.51209    0.90453    1.000\\n    H265     H        0.78403    0.61623    0.79051    1.000\\n    H266     H        0.84944    0.56089    0.81479    1.000\\n    H267     H        0.79041    0.67466    0.90024    1.000\\n    H268     H        0.85039    0.61458    0.93020    1.000\\n    H269     H        0.12094    0.45311    0.37245    1.000\\n    H270     H        0.49429    0.72162    0.93518    1.000\\n    H271     H        0.45142    0.44478    0.24278    1.000\\n    H272     H        0.16242    0.18560    0.42928    1.000\\n    H273     H        0.36497    0.62615    0.19089    1.000\\n    H274     H        0.29767    0.62929    0.24981    1.000\\n    H275     H        0.32245    0.72969    0.13570    1.000\\n    H276     H        0.25116    0.73059    0.19069    1.000\\n    H277     H        0.39842    0.74081    0.23386    1.000\\n    H278     H        0.32713    0.74380    0.28880    1.000\\n    H279     H        0.36043    0.19069    0.55626    1.000\\n    H280     H        0.16940    0.45525    0.89610    1.000\\n    H281     H        0.25689    0.50984    0.78114    1.000\\n    H282     H        0.23889    0.42454    0.79924    1.000\\n    H283     H        0.29318    0.43860    0.91330    1.000\\n    H284     H        0.31761    0.52181    0.88887    1.000\\n    H285     H        0.35684    0.39179    0.81669    1.000\\n    H286     H        0.37948    0.47515    0.79126    1.000\\n    H287     H        0.41398    0.41193    0.92746    1.000\\n    H288     H        0.26801    0.54723    0.16815    1.000\\n    H289     H        0.44070    0.49234    0.89869    1.000\\n    H290     H        0.21491    0.61782    0.15404    1.000\\n    H291     H        0.34378    0.58657    0.07488    1.000\\n    H292     H        0.21796    0.69335    0.91629    1.000\\n    H293     H        0.13031    0.69215    0.89411    1.000\\n    H294     H        0.19069    0.72770    0.83767    1.000\\n    H295     H        0.15539    0.61523    0.79924    1.000\\n    H296     H        0.24283    0.61757    0.82062    1.000\\n    H297     H        0.13146    0.56922    0.91549    1.000\\n    H298     H        0.21915    0.56468    0.93075    1.000\\n    H299     H        0.13959    0.49150    0.82047    1.000\\n    H300     H        0.41298    0.13176    0.69495    1.000\\n    H301     H        0.15330    0.51842    0.50236    1.000\\n    H302     H        0.34304    0.07652    0.70691    1.000\\n    H303     H        0.40321    0.04930    0.60197    1.000\\n    H304     H        0.31906    0.07717    0.58627    1.000\\n    H305     H        0.44339    0.16795    0.57949    1.000\\n    H306     H        0.26023    0.56662    0.04851    1.000\\n    H307     H        0.28451    0.65242    0.05718    1.000\\n    H308     H        0.46622    0.60666    0.24767    1.000\\n    H309     H        0.28536    0.84475    0.22389    1.000\\n    H310     H        0.34633    0.86155    0.32948    1.000\\n    H311     H        0.29907    0.38396    0.07473    1.000\\n    H312     H        0.27180    0.32324    0.13445    1.000\\n    H313     H        0.37080    0.35306    0.20833    1.000\\n    H314     H        0.31003    0.41776    0.19677    1.000\\n    H315     H        0.44548    0.40710    0.12418    1.000\\n    H316     H        0.38272    0.46941    0.10743    1.000\\n    H317     H        0.39015    0.50860    0.22568    1.000\\n    H318     H        0.46772    0.55456    0.13615    1.000\\n    H319     H        0.52978    0.49578    0.16092    1.000\\n    H320     H        0.36971    0.07917    0.39877    1.000\\n    H321     H        0.31921    0.19467    0.41492    1.000\\n    H322     H        0.27374    0.16242    0.48571    1.000\\n    H323     H        0.26452    0.10997    0.34144    1.000\\n    H324     H        0.22070    0.07652    0.41263    1.000\\n    H325     H        0.20963    0.22169    0.36233    1.000\\n    H326     H        0.40465    0.32100    0.05708    1.000\\n    H327     H        0.36078    0.84450    0.17668    1.000\\n    H328     H        0.38252    0.26327    0.12304    1.000\\n    H329     H        0.33022    0.05235    0.47390    1.000\\n    H330     H        0.36183    0.92676    0.27085    1.000\\n    H331     H        0.45760    0.81030    0.30425    1.000\\n    H332     H        0.46338    0.89460    0.33247    1.000\\n    H333     H        0.47594    0.84660    0.18665    1.000\\n    H334     H        0.47340    0.93304    0.21152    1.000\\n    H335     H        0.58961    0.89281    0.19557    1.000\\n    H336     H        0.57525    0.91574    0.28137    1.000\\n    H337     H        0.57689    0.82860    0.25734    1.000\\n    H338     H        0.52689    0.39937    0.89042    1.000\\n    H339     H        0.47544    0.35809    0.83010    1.000\\n    H340     H        0.48726    0.45421    0.75233    1.000\\n    H341     H        0.53253    0.50087    0.81514    1.000\\n    H342     H        0.56802    0.42644    0.77940    1.000\\n    H343     H        0.45017    0.08400    0.48980    1.000\\n    H344     H        0.43402    0.16566    0.45824    1.000\\n    H345     H        0.33431    0.26641    0.04726    1.000\\n    H346     H        0.06456    0.51652    0.49120    1.000\\n    H347     H        0.87511    0.78533    0.62720    1.000\\n    H348     H        0.09691    0.63153    0.48890    1.000\\n    H349     H        0.36093    0.10215    0.14527    1.000\\n    H350     H        0.41193    0.04881    0.19762    1.000\\n    H351     H        0.34139    0.09078    0.23246    1.000\\n    H352     H        0.13101    0.38217    0.82396    1.000\\n    H353     H        0.04965    0.37150    0.85966    1.000\\n    H354     H        0.06795    0.24193    0.83747    1.000\\n    H355     H        0.10484    0.28261    0.90777    1.000\\n    H356     H        0.21237    0.29647    0.84306    1.000\\n    H357     H        0.17613    0.14731    0.84146    1.000\\n    H358     H        0.45181    0.14497    0.26232    1.000\\n    H359     H        0.17349    0.19158    0.91843    1.000\\n    H360     H        0.28840    0.13370    0.78284    1.000\\n    H361     H        0.30993    0.22159    0.78323    1.000\\n    H362     H        0.36343    0.16257    0.82347    1.000\\n    H363     H        0.65656    0.42734    0.04940    1.000\\n    H364     H        0.57610    0.46632    0.05015    1.000\\n    H365     H        0.62630    0.54499    0.14447    1.000\\n    H366     H        0.64375    0.55915    0.05818    1.000\\n    H367     H        0.75243    0.49593    0.07009    1.000\\n    H368     H        0.75193    0.60765    0.17533    1.000\\n    H369     H        0.29189    0.22877    0.90423    1.000\\n    H370     H        0.50366    0.21885    0.17598    1.000\\n    H371     H        0.45471    0.18156    0.11187    1.000\\n    H372     H        0.54175    0.09188    0.20106    1.000\\n    H373     H        0.92546    0.28885    0.54115    1.000\\n    H374     H        0.84695    0.24682    0.53621    1.000\\n    H375     H        0.89012    0.36906    0.45271    1.000\\n    H376     H        0.75771    0.29004    0.45456    1.000\\n    H377     H        0.76873    0.37838    0.47056    1.000\\n    H378     H        0.78353    0.34588    0.38880    1.000\\n    H379     H        0.62964    0.19064    0.57246    1.000\\n    H380     H        0.63039    0.23844    0.49688    1.000\\n    H381     H        0.60451    0.34289    0.57455    1.000\\n    H382     H        0.68712    0.31013    0.56687    1.000\\n    H383     H        0.66997    0.24278    0.67236    1.000\\n    H384     H        0.64031    0.38970    0.70571    1.000\\n    H385     H        0.71439    0.36971    0.66085    1.000\\n    H386     H        0.75008    0.28979    0.74998    1.000\\n    H387     H        0.62799    0.34687    0.82501    1.000\\n    H388     H        0.64504    0.26013    0.80572    1.000\\n    H389     H        0.69669    0.30365    0.86395    1.000\\n    H390     H        0.65407    0.06261    0.17189    1.000\\n    H391     H        0.70556    0.12563    0.13475    1.000\\n    H392     H        0.59384    0.16915    0.07787    1.000\\n    H393     H        0.61334    0.18859    0.16277    1.000\\n    H394     H        0.72964    0.62715    0.09158    1.000\\n    H395     H        0.78897    0.34877    0.57969    1.000\\n    H396     H        0.83712    0.57984    0.04905    1.000\\n    H397     H        0.87127    0.50217    0.13749    1.000\\n    H398     H        0.67685    0.81604    0.04751    1.000\\n    H399     H        0.70227    0.73682    0.07976    1.000\\n    H400     H        0.72266    0.78962    0.19263    1.000\\n    H401     H        0.80412    0.86848    0.08909    1.000\\n    H402     H        0.80811    0.77974    0.08864    1.000\\n    H403     H        0.84206    0.77790    0.20888    1.000\\n    H404     H        0.84889    0.93090    0.19069    1.000\\n    H405     H        0.80078    0.88493    0.25195    1.000\\n    H406     H        0.88987    0.88503    0.25644    1.000\\n    H407     H        0.58801    0.72745    0.09073    1.000\\n    H408     H        0.48746    0.04965    0.89750    1.000\\n    H409     H        0.47225    0.16451    0.79555    1.000\\n    H410     H        0.47769    0.07961    0.76858    1.000\\n    H411     H        0.58612    0.06665    0.83194    1.000\\n    H412     H        0.60177    0.18640    0.73712    1.000\\n    H413     H        0.56827    0.11042    0.70556    1.000\\n    H414     H        0.66812    0.04666    0.74510    1.000\\n    H415     H        0.72226    0.18720    0.77850    1.000\\n    H416     H        0.71334    0.11690    0.83478    1.000\\n    H417     H        0.77301    0.11346    0.76863    1.000\\n    H418     H        0.40834    0.06750    0.85971    1.000\\n    H419     H        0.60950    0.75606    0.17274    1.000\\n    H420     H        0.91140    0.10290    0.09427    1.000\\n    H421     H        0.92691    0.17678    0.14173    1.000\\n    H422     H        0.93145    0.56787    0.13261    1.000\\n    H423     H        0.50850    0.32374    0.25285    1.000\\n    H424     H        0.47918    0.37275    0.32170    1.000\\n    H425     H        0.53243    0.27843    0.39842    1.000\\n    H426     H        0.58288    0.34199    0.36123    1.000\\n    H427     H        0.61109    0.26362    0.26631    1.000\\n    H428     H        0.64788    0.19283    0.39742    1.000\\n    H429     H        0.67401    0.27678    0.38491    1.000\\n    H430     H        0.73039    0.24622    0.27773    1.000\\n    H431     H        0.69460    0.10245    0.32070    1.000\\n    H432     H        0.67271    0.14373    0.24323    1.000\\n    H433     H        0.75796    0.12388    0.26043    1.000\\n    H434     H        0.81988    0.34324    0.28426    1.000\\n    H435     H        0.75148    0.39867    0.26846    1.000\\n    H436     H        0.77272    0.37205    0.14019    1.000\\n    H437     H        0.72805    0.31527    0.19258    1.000\\n    H438     H        0.83423    0.24946    0.21123    1.000\\n    H439     H        0.81190    0.25953    0.05967    1.000\\n    H440     H        0.74405    0.23565    0.11182    1.000\\n    H441     H        0.81090    0.14203    0.16058    1.000\\n    H442     H        0.91320    0.18266    0.05249    1.000\\n    H443     H        0.87073    0.56837    0.19916    1.000\\n    H444     H        0.88050    0.43407    0.54200    1.000\\n    H445     H        0.93194    0.40027    0.60636    1.000\\n    H446     H        0.83618    0.43267    0.68886    1.000\\n    H447     H        0.31208    0.45795    0.69848    1.000\\n    H448     H        0.25579    0.55212    0.63432    1.000\\n    H449     H        0.32554    0.55496    0.57904    1.000\\n    H450     H        0.32629    0.57874    0.73169    1.000\\n    H451     H        0.33027    0.64180    0.66892    1.000\\n    H452     H        0.43786    0.53452    0.69644    1.000\\n    H453     H        0.44005    0.62037    0.72017    1.000\\n    H454     H        0.44055    0.56593    0.57605    1.000\\n    H455     H        0.43397    0.65317    0.59733    1.000\\n    H456     H        0.37708    0.45735    0.63612    1.000\\n    H457     H        0.55052    0.62081    0.57031    1.000\\n    H458     H        0.54962    0.55910    0.63582    1.000\\n    H459     H        0.93060    0.56503    0.38711    1.000\\n    H460     H        0.88987    0.48566    0.39129    1.000\\n    H461     H        0.80477    0.56867    0.41442    1.000\\n    H462     H        0.78927    0.53292    0.33421    1.000\\n    H463     H        0.85183    0.63547    0.28376    1.000\\n    H464     H        0.81773    0.69450    0.42175    1.000\\n    H465     H        0.90074    0.67226    0.39947    1.000\\n    H466     H        0.81868    0.77187    0.31577    1.000\\n    H467     H        0.54374    0.64694    0.65611    1.000\\n    H468     H        0.22733    0.43422    0.61010    1.000\\n    H469     H        0.29209    0.43571    0.54758    1.000\\n    H470     H        0.28770    0.33975    0.66802    1.000\\n    H471     H        0.16312    0.61259    0.62670    1.000\\n    H472     H        0.20749    0.61987    0.54868    1.000\\n    H473     H        0.11092    0.72411    0.60750    1.000\\n    H474     H        0.15684    0.73243    0.53043    1.000\\n    H475     H        0.26437    0.71863    0.59669    1.000\\n    H476     H        0.21701    0.71917    0.67206    1.000\\n    H477     H        0.22588    0.83159    0.56647    1.000\\n    H478     H        0.26791    0.83020    0.64494    1.000\\n    H479     H        0.11511    0.83812    0.62415    1.000\\n    H480     H        0.17005    0.90472    0.64604    1.000\\n    H481     H        0.13929    0.78049    0.73179    1.000\\n    H482     H        0.20175    0.84206    0.75213    1.000\\n    H483     H        0.09487    0.86325    0.81125    1.000\\n    H484     H        0.11381    0.93035    0.75442    1.000\\n    H485     H        0.05135    0.86873    0.73268    1.000\\n    H486     H        0.23386    0.26422    0.47500    1.000\\n    H487     H        0.31796    0.29154    0.49100    1.000\\n    H488     H        0.25205    0.35191    0.47719    1.000\\n    H489     H        0.19627    0.31736    0.58263    1.000\\n    H490     H        0.25594    0.25166    0.59374    1.000\\n    H491     H        0.34832    0.33850    0.60212    1.000\\n    H492     H        0.90338    0.85552    0.36916    1.000\\n    H493     H        0.91843    0.79271    0.43043    1.000\\n    H494     H        0.79041    0.79689    0.45640    1.000\\n    H495     H        0.86614    0.93050    0.46767    1.000\\n    H496     H        0.67221    0.73966    0.36542    1.000\\n    H497     H        0.59320    0.76733    0.46527    1.000\\n    H498     H        0.49952    0.67396    0.38651    1.000\\n    H499     H        0.53681    0.64918    0.46318    1.000\\n    H500     H        0.45002    0.77581    0.45276    1.000\\n    H501     H        0.36766    0.70058    0.52041    1.000\\n    H502     H        0.41572    0.63143    0.49150    1.000\\n    H503     H        0.38925    0.67241    0.37026    1.000\\n    H504     H        0.26751    0.64504    0.46044    1.000\\n    H505     H        0.26836    0.64046    0.37140    1.000\\n    H506     H        0.34588    0.54858    0.46802    1.000\\n    H507     H        0.34119    0.55162    0.31387    1.000\\n    H508     H        0.41427    0.56034    0.36642    1.000\\n    H509     H        0.37095    0.48242    0.36323    1.000\\n    H510     H        0.75048    0.62525    0.56244    1.000\\n    H511     H        0.66877    0.65940    0.57370    1.000\\n    H512     H        0.65960    0.54110    0.59783    1.000\\n    H513     H        0.65102    0.58686    0.67386    1.000\\n    H514     H        0.77765    0.56413    0.69425    1.000\\n    H515     H        0.75003    0.45251    0.59190    1.000\\n    H516     H        0.79804    0.52420    0.57121    1.000\\n    H517     H        0.62086    0.66832    0.35036    1.000\\n    H518     H        0.05404    0.61837    0.56638    1.000\\n    H519     H        0.71708    0.63447    0.41562    1.000\\n    H520     H        0.44379    0.89780    0.80681    1.000\\n    H521     H        0.79171    0.90901    0.51184    1.000\\n    H522     H        0.92990    0.84266    0.52874    1.000\\n    H523     H        0.79485    0.81305    0.59713    1.000\\n    H524     H        0.84520    0.75567    0.54858    1.000\\n    H525     H        0.18969    0.72202    0.35909    1.000\\n    H526     H        0.76913    0.93174    0.85457    1.000\\n    H527     H        0.80557    0.89715    0.92831    1.000\\n    H528     H        0.73348    0.81120    0.88269    1.000\\n    H529     H        0.81843    0.78662    0.87147    1.000\\n    H530     H        0.80961    0.83468    0.75073    1.000\\n    H531     H        0.65950    0.81718    0.77999    1.000\\n    H532     H        0.69744    0.89735    0.77571    1.000\\n    H533     H        0.70531    0.79799    0.65850    1.000\\n    H534     H        0.62236    0.88409    0.60626    1.000\\n    H535     H        0.60720    0.91175    0.68951    1.000\\n    H536     H        0.57216    0.78882    0.71673    1.000\\n    H537     H        0.49613    0.85682    0.60142    1.000\\n    H538     H        0.46473    0.79101    0.65277    1.000\\n    H539     H        0.49902    0.93409    0.69903    1.000\\n    H540     H        0.44668    0.81245    0.77815    1.000\\n    H541     H        0.52285    0.85876    0.79335    1.000\\n    H542     H        0.64684    0.62964    0.47051    1.000\\n    H543     H        0.11800    0.77521    0.36936    1.000\\n\");\n\tviewer_1646335857011588.setStyle({\"stick\": {}});\n\tviewer_1646335857011588.addUnitCell();\n\tviewer_1646335857011588.replicateUnitCell(1,1,1);\n\tviewer_1646335857011588.zoomTo();\nviewer_1646335857011588.render();\n});\n</script>",
            "text/html": [
              "<div id=\"3dmolviewer_1646335857011588\"  style=\"position: relative; width: 400px; height: 300px\">\n",
              "        <p id=\"3dmolwarning_1646335857011588\" style=\"background-color:#ffcccc;color:black\">You appear to be running in JupyterLab (or JavaScript failed to load for some other reason).  You need to install the 3dmol extension: <br>\n",
              "        <tt>jupyter labextension install jupyterlab_3dmol</tt></p>\n",
              "        </div>\n",
              "<script>\n",
              "\n",
              "var loadScriptAsync = function(uri){\n",
              "  return new Promise((resolve, reject) => {\n",
              "    var tag = document.createElement('script');\n",
              "    tag.src = uri;\n",
              "    tag.async = true;\n",
              "    tag.onload = () => {\n",
              "      resolve();\n",
              "    };\n",
              "  var firstScriptTag = document.getElementsByTagName('script')[0];\n",
              "  firstScriptTag.parentNode.insertBefore(tag, firstScriptTag);\n",
              "});\n",
              "};\n",
              "\n",
              "if(typeof $3Dmolpromise === 'undefined') {\n",
              "$3Dmolpromise = null;\n",
              "  $3Dmolpromise = loadScriptAsync('https://3dmol.org/build/3Dmol.js');\n",
              "}\n",
              "\n",
              "var viewer_1646335857011588 = null;\n",
              "var warn = document.getElementById(\"3dmolwarning_1646335857011588\");\n",
              "if(warn) {\n",
              "    warn.parentNode.removeChild(warn);\n",
              "}\n",
              "$3Dmolpromise.then(function() {\n",
              "viewer_1646335857011588 = $3Dmol.createViewer($(\"#3dmolviewer_1646335857011588\"),{backgroundColor:\"white\"});\n",
              "viewer_1646335857011588.zoomTo();\n",
              "\tviewer_1646335857011588.addModelsAsFrames(\"# CIF file generated by openbabel 3.1.0, see https://openbabel.org\\ndata_I\\n_chemical_name_common '### POSCAR ###'\\n_cell_length_a 20.0591\\n_cell_length_b 20.0591\\n_cell_length_c 20.0591\\n_cell_angle_alpha 90\\n_cell_angle_beta 90\\n_cell_angle_gamma 90\\n_space_group_name_H-M_alt 'P 1'\\n_space_group_name_Hall 'P 1'\\nloop_\\n    _symmetry_equiv_pos_as_xyz\\n    x,y,z\\nloop_\\n    _atom_site_label\\n    _atom_site_type_symbol\\n    _atom_site_fract_x\\n    _atom_site_fract_y\\n    _atom_site_fract_z\\n    _atom_site_occupancy\\n    C0       C        0.72266    0.13196    0.78239    1.000\\n    C1       C        0.36926    0.09302    0.60347    1.000\\n    C2       C        0.36323    0.11720    0.67535    1.000\\n    C3       C        0.36412    0.53736    0.36223    1.000\\n    C4       C        0.31980    0.55910    0.42041    1.000\\n    C5       C        0.29951    0.63323    0.41667    1.000\\n    C6       C        0.35784    0.68338    0.41427    1.000\\n    C7       C        0.39987    0.68288    0.47893    1.000\\n    C8       C        0.46288    0.72690    0.47510    1.000\\n    C9       C        0.51907    0.69310    0.43457    1.000\\n    C10      C        0.57769    0.74066    0.41926    1.000\\n    C11      C        0.63811    0.70332    0.38980    1.000\\n    C12      C        0.39618    0.14841    0.55790    1.000\\n    C13      C        0.67864    0.66453    0.44174    1.000\\n    C14      C        0.26726    0.59998    0.15105    1.000\\n    C15      C        0.31198    0.64115    0.19762    1.000\\n    C16      C        0.30460    0.71653    0.18645    1.000\\n    C17      C        0.34528    0.75591    0.23790    1.000\\n    C18      C        0.33910    0.83129    0.22583    1.000\\n    C19      C        0.47101    0.86210    0.77436    1.000\\n    C20      C        0.47041    0.88688    0.70222    1.000\\n    C21      C        0.49823    0.83518    0.65247    1.000\\n    C22      C        0.57006    0.81125    0.66638    1.000\\n    C23      C        0.62191    0.86788    0.65925    1.000\\n    C24      C        0.69310    0.84734    0.68019    1.000\\n    C25      C        0.29074    0.60182    0.07852    1.000\\n    C26      C        0.41168    0.12378    0.48691    1.000\\n    C27      C        0.35131    0.09656    0.44812    1.000\\n    C28      C        0.29672    0.14911    0.43711    1.000\\n    C29      C        0.38262    0.09567    0.19582    1.000\\n    C30      C        0.42659    0.15529    0.21402    1.000\\n    C31      C        0.47938    0.17144    0.16053    1.000\\n    C32      C        0.53317    0.11675    0.15220    1.000\\n    C33      C        0.59973    0.14721    0.12842    1.000\\n    C34      C        0.65810    0.09761    0.12917    1.000\\n    C35      C        0.66783    0.30924    0.81703    1.000\\n    C36      C        0.71414    0.33077    0.76040    1.000\\n    C37      C        0.67665    0.34892    0.69584    1.000\\n    C38      C        0.64110    0.28910    0.66249    1.000\\n    C39      C        0.63637    0.29907    0.58632    1.000\\n    C40      C        0.61119    0.23720    0.54883    1.000\\n    C41      C        0.09033    0.09567    0.35550    1.000\\n    C42      C        0.13430    0.15240    0.32968    1.000\\n    C43      C        0.18685    0.17458    0.38072    1.000\\n    C44      C        0.24218    0.12259    0.39055    1.000\\n    C45      C        0.78832    0.33466    0.44279    1.000\\n    C46      C        0.86150    0.32240    0.46044    1.000\\n    C47      C        0.87122    0.29652    0.53228    1.000\\n    C48      C        0.84311    0.34179    0.58776    1.000\\n    C49      C        0.87935    0.40974    0.59165    1.000\\n    C50      C        0.84744    0.45894    0.64150    1.000\\n    C51      C        0.78343    0.49115    0.61304    1.000\\n    C52      C        0.74380    0.53063    0.66603    1.000\\n    C53      C        0.68727    0.57216    0.63452    1.000\\n    C54      C        0.70103    0.84545    0.75686    1.000\\n    C55      C        0.76728    0.81325    0.77925    1.000\\n    C56      C        0.77984    0.82267    0.85452    1.000\\n    C57      C        0.80377    0.89291    0.87317    1.000\\n    C58      C        0.29533    0.34992    0.61408    1.000\\n    C59      C        0.24926    0.30325    0.57455    1.000\\n    C60      C        0.26452    0.30305    0.49987    1.000\\n    C61      C        0.60277    0.50296    0.28172    1.000\\n    C62      C        0.63592    0.48033    0.34633    1.000\\n    C63      C        0.10005    0.87676    0.75781    1.000\\n    C64      C        0.15385    0.83359    0.72570    1.000\\n    C65      C        0.16177    0.85014    0.65142    1.000\\n    C66      C        0.22150    0.81449    0.61902    1.000\\n    C67      C        0.21781    0.73782    0.61997    1.000\\n    C68      C        0.15768    0.71035    0.58128    1.000\\n    C69      C        0.16122    0.63417    0.57565    1.000\\n    C70      C        0.10040    0.60661    0.53826    1.000\\n    C71      C        0.10494    0.53113    0.52629    1.000\\n    C72      C        0.09666    0.49055    0.59030    1.000\\n    C73      C        0.47180    0.74001    0.88812    1.000\\n    C74      C        0.47225    0.68542    0.83483    1.000\\n    C75      C        0.54294    0.66758    0.81135    1.000\\n    C76      C        0.58303    0.62999    0.86464    1.000\\n    C77      C        0.65088    0.60775    0.83722    1.000\\n    C78      C        0.69160    0.57151    0.89102    1.000\\n    C79      C        0.75611    0.54015    0.86360    1.000\\n    C80      C        0.80632    0.59001    0.83393    1.000\\n    C81      C        0.83164    0.64090    0.88518    1.000\\n    C82      C        0.88777    0.68333    0.85627    1.000\\n    C83      C        0.28092    0.42390    0.60057    1.000\\n    C84      C        0.18196    0.68737    0.87456    1.000\\n    C85      C        0.32369    0.46871    0.64539    1.000\\n    C86      C        0.34508    0.58971    0.68064    1.000\\n    C87      C        0.37140    0.87322    0.28142    1.000\\n    C88      C        0.44693    0.86275    0.29014    1.000\\n    C89      C        0.48706    0.88189    0.22783    1.000\\n    C90      C        0.56184    0.87955    0.24159    1.000\\n    C91      C        0.84645    0.79974    0.58203    1.000\\n    C92      C        0.88035    0.85866    0.54743    1.000\\n    C93      C        0.83822    0.88812    0.49010    1.000\\n    C94      C        0.81903    0.83867    0.43437    1.000\\n    C95      C        0.88035    0.81260    0.39563    1.000\\n    C96      C        0.86350    0.75741    0.34468    1.000\\n    C97      C        0.85228    0.68926    0.37893    1.000\\n    C98      C        0.82322    0.63627    0.33117    1.000\\n    C99      C        0.82376    0.56598    0.36243    1.000\\n    C100     C        0.89276    0.53297    0.36268    1.000\\n    C101     C        0.36268    0.29687    0.08375    1.000\\n    C102     C        0.31641    0.34922    0.11426    1.000\\n    C103     C        0.34942    0.38830    0.17119    1.000\\n    C104     C        0.40386    0.43611    0.14642    1.000\\n    C105     C        0.43127    0.47853    0.20380    1.000\\n    C106     C        0.48671    0.52535    0.17927    1.000\\n    C107     C        0.50949    0.57540    0.23281    1.000\\n    C108     C        0.53960    0.54379    0.29597    1.000\\n    C109     C        0.52904    0.60790    0.61967    1.000\\n    C110     C        0.45326    0.60406    0.61418    1.000\\n    C111     C        0.42165    0.58527    0.68134    1.000\\n    C112     C        0.31033    0.54270    0.63088    1.000\\n    C113     C        0.19143    0.61972    0.84111    1.000\\n    C114     C        0.71150    0.63597    0.60008    1.000\\n    C115     C        0.18072    0.49344    0.85756    1.000\\n    C116     C        0.10115    0.45107    0.32085    1.000\\n    C117     C        0.11551    0.38252    0.28944    1.000\\n    C118     C        0.18989    0.36507    0.28232    1.000\\n    C119     C        0.22633    0.36183    0.34957    1.000\\n    C120     C        0.29722    0.33561    0.34109    1.000\\n    C121     C        0.18077    0.56254    0.89092    1.000\\n    C122     C        0.71987    0.20833    0.31686    1.000\\n    C123     C        0.65905    0.23052    0.35829    1.000\\n    C124     C        0.59599    0.24453    0.31612    1.000\\n    C125     C        0.55167    0.29752    0.35006    1.000\\n    C126     C        0.49364    0.32160    0.30614    1.000\\n    C127     C        0.87885    0.55631    0.14572    1.000\\n    C128     C        0.83164    0.59684    0.10155    1.000\\n    C129     C        0.75801    0.59110    0.12274    1.000\\n    C130     C        0.72825    0.52046    0.11351    1.000\\n    C131     C        0.65252    0.52420    0.10035    1.000\\n    C132     C        0.62156    0.45700    0.08036    1.000\\n    C133     C        0.12912    0.50924    0.27962    1.000\\n    C134     C        0.10569    0.57640    0.30769    1.000\\n    C135     C        0.13485    0.63462    0.26736    1.000\\n    C136     C        0.79714    0.37654    0.24627    1.000\\n    C137     C        0.67027    0.10135    0.73617    1.000\\n    C138     C        0.60023    0.13161    0.74565    1.000\\n    C139     C        0.56862    0.11626    0.81434    1.000\\n    C140     C        0.49180    0.11451    0.80931    1.000\\n    C141     C        0.45750    0.08929    0.87302    1.000\\n    C142     C        0.84690    0.88493    0.22145    1.000\\n    C143     C        0.84959    0.82282    0.17723    1.000\\n    C144     C        0.79729    0.82351    0.12089    1.000\\n    C145     C        0.52086    0.45022    0.79605    1.000\\n    C146     C        0.72441    0.81948    0.14592    1.000\\n    C147     C        0.60875    0.77022    0.11920    1.000\\n    C148     C        0.13435    0.72346    0.35844    1.000\\n    C149     C        0.10788    0.70257    0.29004    1.000\\n    C150     C        0.89829    0.15649    0.09896    1.000\\n    C151     C        0.82337    0.16397    0.11117    1.000\\n    C152     C        0.79944    0.23695    0.10883    1.000\\n    C153     C        0.82710    0.28077    0.16601    1.000\\n    C154     C        0.77800    0.33750    0.18316    1.000\\n    C155     C        0.67939    0.78538    0.09362    1.000\\n    C156     C        0.48910    0.40764    0.85073    1.000\\n    C157     C        0.71040    0.14034    0.28356    1.000\\n    C158     C        0.30595    0.47101    0.87018    1.000\\n    C159     C        0.10599    0.27937    0.85243    1.000\\n    C160     C        0.27220    0.18406    0.87805    1.000\\n    C161     C        0.42779    0.44095    0.88229    1.000\\n    C162     C        0.31048    0.17478    0.81270    1.000\\n    C163     C        0.24622    0.47445    0.82232    1.000\\n    C164     C        0.36771    0.44304    0.83488    1.000\\n    C165     C        0.17618    0.25629    0.83084    1.000\\n    C166     C        0.08699    0.34862    0.82571    1.000\\n    C167     C        0.19637    0.19168    0.86793    1.000\\n    Cl168    Cl       0.88553    0.90886    0.84191    1.000\\n    Cl169    Cl       0.72057    0.71932    0.49793    1.000\\n    Cl170    Cl       0.17817    0.24228    0.74260    1.000\\n    Cl171    Cl       0.55356    0.83897    0.10723    1.000\\n    Cl172    Cl       0.49145    0.74280    0.55810    1.000\\n    Cl173    Cl       0.32344    0.76474    0.40116    1.000\\n    Cl174    Cl       0.24597    0.50924    0.42056    1.000\\n    Cl175    Cl       0.55132    0.80258    0.36063    1.000\\n    Cl176    Cl       0.76150    0.40126    0.78732    1.000\\n    Cl177    Cl       0.91973    0.51318    0.28022    1.000\\n    Cl178    Cl       0.50486    0.05529    0.09382    1.000\\n    Cl179    Cl       0.79136    0.20460    0.36986    1.000\\n    Cl180    Cl       0.75083    0.90602    0.64569    1.000\\n    Cl181    Cl       0.04970    0.34403    0.74505    1.000\\n    Cl182    Cl       0.58871    0.74574    0.60865    1.000\\n    Cl183    Cl       0.37464    0.22663    0.22608    1.000\\n    Cl184    Cl       0.93085    0.81664    0.14133    1.000\\n    Cl185    Cl       0.42160    0.27010    0.31502    1.000\\n    Cl186    Cl       0.52241    0.23510    0.54394    1.000\\n    Cl187    Cl       0.55002    0.16880    0.30455    1.000\\n    Cl188    Cl       0.55940    0.27937    0.69734    1.000\\n    Cl189    Cl       0.38666    0.90652    0.67919    1.000\\n    Cl190    Cl       0.76534    0.72575    0.76165    1.000\\n    Cl191    Cl       0.69405    0.90163    0.16382    1.000\\n    Cl192    Cl       0.28755    0.11376    0.93055    1.000\\n    Cl193    Cl       0.74440    0.47126    0.18635    1.000\\n    Cl194    Cl       0.44224    0.15514    0.93085    1.000\\n    Cl195    Cl       0.59674    0.40944    0.15130    1.000\\n    Cl196    Cl       0.76349    0.88065    0.37848    1.000\\n    Cl197    Cl       0.59414    0.17792    0.87372    1.000\\n    Cl198    Cl       0.85612    0.68243    0.10434    1.000\\n    Cl199    Cl       0.85278    0.44359    0.22827    1.000\\n    Cl200    Cl       0.89555    0.92257    0.60755    1.000\\n    Cl201    Cl       0.90697    0.52265    0.66045    1.000\\n    Cl202    Cl       0.74275    0.69495    0.65890    1.000\\n    Cl203    Cl       0.90632    0.31472    0.14238    1.000\\n    Cl204    Cl       0.85168    0.29847    0.66538    1.000\\n    Cl205    Cl       0.69594    0.11336    0.65172    1.000\\n    Cl206    Cl       0.89520    0.26252    0.40371    1.000\\n    Cl207    Cl       0.66359    0.05160    0.05324    1.000\\n    Cl208    Cl       0.73901    0.65751    0.31073    1.000\\n    Cl209    Cl       0.77945    0.11700    0.04950    1.000\\n    Cl210    Cl       0.93095    0.75083    0.28665    1.000\\n    Cl211    Cl       0.70786    0.47390    0.72481    1.000\\n    H212     H        0.55242    0.58502    0.33077    1.000\\n    H213     H        0.50192    0.51224    0.32150    1.000\\n    H214     H        0.29637    0.28416    0.32045    1.000\\n    H215     H        0.32260    0.33451    0.39025    1.000\\n    H216     H        0.63881    0.53352    0.25275    1.000\\n    H217     H        0.68094    0.45037    0.33451    1.000\\n    H218     H        0.65127    0.52420    0.37644    1.000\\n    H219     H        0.60107    0.44907    0.37589    1.000\\n    H220     H        0.09208    0.38057    0.23924    1.000\\n    H221     H        0.10165    0.19572    0.31816    1.000\\n    H222     H        0.09088    0.34353    0.32020    1.000\\n    H223     H        0.21501    0.40131    0.24881    1.000\\n    H224     H        0.19313    0.31542    0.25779    1.000\\n    H225     H        0.22912    0.41243    0.37195    1.000\\n    H226     H        0.32599    0.36851    0.30704    1.000\\n    H227     H        0.58986    0.45795    0.25215    1.000\\n    H228     H        0.19891    0.32853    0.38426    1.000\\n    H229     H        0.32898    0.16063    0.67824    1.000\\n    H230     H        0.49957    0.78453    0.87048    1.000\\n    H231     H        0.18445    0.50780    0.28072    1.000\\n    H232     H        0.05035    0.57874    0.30600    1.000\\n    H233     H        0.12199    0.58033    0.36048    1.000\\n    H234     H        0.12144    0.62789    0.21397    1.000\\n    H235     H        0.19019    0.63422    0.27095    1.000\\n    H236     H        0.12344    0.74081    0.25300    1.000\\n    H237     H        0.93085    0.65132    0.84231    1.000\\n    H238     H        0.87008    0.71070    0.81150    1.000\\n    H239     H        0.05244    0.70182    0.29099    1.000\\n    H240     H        0.11446    0.69041    0.39802    1.000\\n    H241     H        0.15878    0.13685    0.28246    1.000\\n    H242     H        0.11975    0.04920    0.36133    1.000\\n    H243     H        0.06745    0.10938    0.40401    1.000\\n    H244     H        0.04975    0.08590    0.31906    1.000\\n    H245     H        0.09442    0.43666    0.57769    1.000\\n    H246     H        0.04975    0.50451    0.61618    1.000\\n    H247     H        0.13959    0.49848    0.62420    1.000\\n    H248     H        0.11217    0.50441    0.22708    1.000\\n    H249     H        0.41956    0.75487    0.89869    1.000\\n    H250     H        0.04606    0.45655    0.32444    1.000\\n    H251     H        0.90463    0.72007    0.89406    1.000\\n    H252     H        0.54698    0.60945    0.21028    1.000\\n    H253     H        0.44658    0.64036    0.85427    1.000\\n    H254     H        0.44339    0.70362    0.79116    1.000\\n    H255     H        0.56991    0.71364    0.79635    1.000\\n    H256     H        0.53831    0.63542    0.76643    1.000\\n    H257     H        0.59140    0.66299    0.90841    1.000\\n    H258     H        0.55446    0.58552    0.88124    1.000\\n    H259     H        0.67864    0.65252    0.82003    1.000\\n    H260     H        0.64300    0.57390    0.79410    1.000\\n    H261     H        0.66085    0.53048    0.91215    1.000\\n    H262     H        0.70322    0.60606    0.93264    1.000\\n    H263     H        0.74280    0.50316    0.82446    1.000\\n    H264     H        0.78079    0.51209    0.90453    1.000\\n    H265     H        0.78403    0.61623    0.79051    1.000\\n    H266     H        0.84944    0.56089    0.81479    1.000\\n    H267     H        0.79041    0.67466    0.90024    1.000\\n    H268     H        0.85039    0.61458    0.93020    1.000\\n    H269     H        0.12094    0.45311    0.37245    1.000\\n    H270     H        0.49429    0.72162    0.93518    1.000\\n    H271     H        0.45142    0.44478    0.24278    1.000\\n    H272     H        0.16242    0.18560    0.42928    1.000\\n    H273     H        0.36497    0.62615    0.19089    1.000\\n    H274     H        0.29767    0.62929    0.24981    1.000\\n    H275     H        0.32245    0.72969    0.13570    1.000\\n    H276     H        0.25116    0.73059    0.19069    1.000\\n    H277     H        0.39842    0.74081    0.23386    1.000\\n    H278     H        0.32713    0.74380    0.28880    1.000\\n    H279     H        0.36043    0.19069    0.55626    1.000\\n    H280     H        0.16940    0.45525    0.89610    1.000\\n    H281     H        0.25689    0.50984    0.78114    1.000\\n    H282     H        0.23889    0.42454    0.79924    1.000\\n    H283     H        0.29318    0.43860    0.91330    1.000\\n    H284     H        0.31761    0.52181    0.88887    1.000\\n    H285     H        0.35684    0.39179    0.81669    1.000\\n    H286     H        0.37948    0.47515    0.79126    1.000\\n    H287     H        0.41398    0.41193    0.92746    1.000\\n    H288     H        0.26801    0.54723    0.16815    1.000\\n    H289     H        0.44070    0.49234    0.89869    1.000\\n    H290     H        0.21491    0.61782    0.15404    1.000\\n    H291     H        0.34378    0.58657    0.07488    1.000\\n    H292     H        0.21796    0.69335    0.91629    1.000\\n    H293     H        0.13031    0.69215    0.89411    1.000\\n    H294     H        0.19069    0.72770    0.83767    1.000\\n    H295     H        0.15539    0.61523    0.79924    1.000\\n    H296     H        0.24283    0.61757    0.82062    1.000\\n    H297     H        0.13146    0.56922    0.91549    1.000\\n    H298     H        0.21915    0.56468    0.93075    1.000\\n    H299     H        0.13959    0.49150    0.82047    1.000\\n    H300     H        0.41298    0.13176    0.69495    1.000\\n    H301     H        0.15330    0.51842    0.50236    1.000\\n    H302     H        0.34304    0.07652    0.70691    1.000\\n    H303     H        0.40321    0.04930    0.60197    1.000\\n    H304     H        0.31906    0.07717    0.58627    1.000\\n    H305     H        0.44339    0.16795    0.57949    1.000\\n    H306     H        0.26023    0.56662    0.04851    1.000\\n    H307     H        0.28451    0.65242    0.05718    1.000\\n    H308     H        0.46622    0.60666    0.24767    1.000\\n    H309     H        0.28536    0.84475    0.22389    1.000\\n    H310     H        0.34633    0.86155    0.32948    1.000\\n    H311     H        0.29907    0.38396    0.07473    1.000\\n    H312     H        0.27180    0.32324    0.13445    1.000\\n    H313     H        0.37080    0.35306    0.20833    1.000\\n    H314     H        0.31003    0.41776    0.19677    1.000\\n    H315     H        0.44548    0.40710    0.12418    1.000\\n    H316     H        0.38272    0.46941    0.10743    1.000\\n    H317     H        0.39015    0.50860    0.22568    1.000\\n    H318     H        0.46772    0.55456    0.13615    1.000\\n    H319     H        0.52978    0.49578    0.16092    1.000\\n    H320     H        0.36971    0.07917    0.39877    1.000\\n    H321     H        0.31921    0.19467    0.41492    1.000\\n    H322     H        0.27374    0.16242    0.48571    1.000\\n    H323     H        0.26452    0.10997    0.34144    1.000\\n    H324     H        0.22070    0.07652    0.41263    1.000\\n    H325     H        0.20963    0.22169    0.36233    1.000\\n    H326     H        0.40465    0.32100    0.05708    1.000\\n    H327     H        0.36078    0.84450    0.17668    1.000\\n    H328     H        0.38252    0.26327    0.12304    1.000\\n    H329     H        0.33022    0.05235    0.47390    1.000\\n    H330     H        0.36183    0.92676    0.27085    1.000\\n    H331     H        0.45760    0.81030    0.30425    1.000\\n    H332     H        0.46338    0.89460    0.33247    1.000\\n    H333     H        0.47594    0.84660    0.18665    1.000\\n    H334     H        0.47340    0.93304    0.21152    1.000\\n    H335     H        0.58961    0.89281    0.19557    1.000\\n    H336     H        0.57525    0.91574    0.28137    1.000\\n    H337     H        0.57689    0.82860    0.25734    1.000\\n    H338     H        0.52689    0.39937    0.89042    1.000\\n    H339     H        0.47544    0.35809    0.83010    1.000\\n    H340     H        0.48726    0.45421    0.75233    1.000\\n    H341     H        0.53253    0.50087    0.81514    1.000\\n    H342     H        0.56802    0.42644    0.77940    1.000\\n    H343     H        0.45017    0.08400    0.48980    1.000\\n    H344     H        0.43402    0.16566    0.45824    1.000\\n    H345     H        0.33431    0.26641    0.04726    1.000\\n    H346     H        0.06456    0.51652    0.49120    1.000\\n    H347     H        0.87511    0.78533    0.62720    1.000\\n    H348     H        0.09691    0.63153    0.48890    1.000\\n    H349     H        0.36093    0.10215    0.14527    1.000\\n    H350     H        0.41193    0.04881    0.19762    1.000\\n    H351     H        0.34139    0.09078    0.23246    1.000\\n    H352     H        0.13101    0.38217    0.82396    1.000\\n    H353     H        0.04965    0.37150    0.85966    1.000\\n    H354     H        0.06795    0.24193    0.83747    1.000\\n    H355     H        0.10484    0.28261    0.90777    1.000\\n    H356     H        0.21237    0.29647    0.84306    1.000\\n    H357     H        0.17613    0.14731    0.84146    1.000\\n    H358     H        0.45181    0.14497    0.26232    1.000\\n    H359     H        0.17349    0.19158    0.91843    1.000\\n    H360     H        0.28840    0.13370    0.78284    1.000\\n    H361     H        0.30993    0.22159    0.78323    1.000\\n    H362     H        0.36343    0.16257    0.82347    1.000\\n    H363     H        0.65656    0.42734    0.04940    1.000\\n    H364     H        0.57610    0.46632    0.05015    1.000\\n    H365     H        0.62630    0.54499    0.14447    1.000\\n    H366     H        0.64375    0.55915    0.05818    1.000\\n    H367     H        0.75243    0.49593    0.07009    1.000\\n    H368     H        0.75193    0.60765    0.17533    1.000\\n    H369     H        0.29189    0.22877    0.90423    1.000\\n    H370     H        0.50366    0.21885    0.17598    1.000\\n    H371     H        0.45471    0.18156    0.11187    1.000\\n    H372     H        0.54175    0.09188    0.20106    1.000\\n    H373     H        0.92546    0.28885    0.54115    1.000\\n    H374     H        0.84695    0.24682    0.53621    1.000\\n    H375     H        0.89012    0.36906    0.45271    1.000\\n    H376     H        0.75771    0.29004    0.45456    1.000\\n    H377     H        0.76873    0.37838    0.47056    1.000\\n    H378     H        0.78353    0.34588    0.38880    1.000\\n    H379     H        0.62964    0.19064    0.57246    1.000\\n    H380     H        0.63039    0.23844    0.49688    1.000\\n    H381     H        0.60451    0.34289    0.57455    1.000\\n    H382     H        0.68712    0.31013    0.56687    1.000\\n    H383     H        0.66997    0.24278    0.67236    1.000\\n    H384     H        0.64031    0.38970    0.70571    1.000\\n    H385     H        0.71439    0.36971    0.66085    1.000\\n    H386     H        0.75008    0.28979    0.74998    1.000\\n    H387     H        0.62799    0.34687    0.82501    1.000\\n    H388     H        0.64504    0.26013    0.80572    1.000\\n    H389     H        0.69669    0.30365    0.86395    1.000\\n    H390     H        0.65407    0.06261    0.17189    1.000\\n    H391     H        0.70556    0.12563    0.13475    1.000\\n    H392     H        0.59384    0.16915    0.07787    1.000\\n    H393     H        0.61334    0.18859    0.16277    1.000\\n    H394     H        0.72964    0.62715    0.09158    1.000\\n    H395     H        0.78897    0.34877    0.57969    1.000\\n    H396     H        0.83712    0.57984    0.04905    1.000\\n    H397     H        0.87127    0.50217    0.13749    1.000\\n    H398     H        0.67685    0.81604    0.04751    1.000\\n    H399     H        0.70227    0.73682    0.07976    1.000\\n    H400     H        0.72266    0.78962    0.19263    1.000\\n    H401     H        0.80412    0.86848    0.08909    1.000\\n    H402     H        0.80811    0.77974    0.08864    1.000\\n    H403     H        0.84206    0.77790    0.20888    1.000\\n    H404     H        0.84889    0.93090    0.19069    1.000\\n    H405     H        0.80078    0.88493    0.25195    1.000\\n    H406     H        0.88987    0.88503    0.25644    1.000\\n    H407     H        0.58801    0.72745    0.09073    1.000\\n    H408     H        0.48746    0.04965    0.89750    1.000\\n    H409     H        0.47225    0.16451    0.79555    1.000\\n    H410     H        0.47769    0.07961    0.76858    1.000\\n    H411     H        0.58612    0.06665    0.83194    1.000\\n    H412     H        0.60177    0.18640    0.73712    1.000\\n    H413     H        0.56827    0.11042    0.70556    1.000\\n    H414     H        0.66812    0.04666    0.74510    1.000\\n    H415     H        0.72226    0.18720    0.77850    1.000\\n    H416     H        0.71334    0.11690    0.83478    1.000\\n    H417     H        0.77301    0.11346    0.76863    1.000\\n    H418     H        0.40834    0.06750    0.85971    1.000\\n    H419     H        0.60950    0.75606    0.17274    1.000\\n    H420     H        0.91140    0.10290    0.09427    1.000\\n    H421     H        0.92691    0.17678    0.14173    1.000\\n    H422     H        0.93145    0.56787    0.13261    1.000\\n    H423     H        0.50850    0.32374    0.25285    1.000\\n    H424     H        0.47918    0.37275    0.32170    1.000\\n    H425     H        0.53243    0.27843    0.39842    1.000\\n    H426     H        0.58288    0.34199    0.36123    1.000\\n    H427     H        0.61109    0.26362    0.26631    1.000\\n    H428     H        0.64788    0.19283    0.39742    1.000\\n    H429     H        0.67401    0.27678    0.38491    1.000\\n    H430     H        0.73039    0.24622    0.27773    1.000\\n    H431     H        0.69460    0.10245    0.32070    1.000\\n    H432     H        0.67271    0.14373    0.24323    1.000\\n    H433     H        0.75796    0.12388    0.26043    1.000\\n    H434     H        0.81988    0.34324    0.28426    1.000\\n    H435     H        0.75148    0.39867    0.26846    1.000\\n    H436     H        0.77272    0.37205    0.14019    1.000\\n    H437     H        0.72805    0.31527    0.19258    1.000\\n    H438     H        0.83423    0.24946    0.21123    1.000\\n    H439     H        0.81190    0.25953    0.05967    1.000\\n    H440     H        0.74405    0.23565    0.11182    1.000\\n    H441     H        0.81090    0.14203    0.16058    1.000\\n    H442     H        0.91320    0.18266    0.05249    1.000\\n    H443     H        0.87073    0.56837    0.19916    1.000\\n    H444     H        0.88050    0.43407    0.54200    1.000\\n    H445     H        0.93194    0.40027    0.60636    1.000\\n    H446     H        0.83618    0.43267    0.68886    1.000\\n    H447     H        0.31208    0.45795    0.69848    1.000\\n    H448     H        0.25579    0.55212    0.63432    1.000\\n    H449     H        0.32554    0.55496    0.57904    1.000\\n    H450     H        0.32629    0.57874    0.73169    1.000\\n    H451     H        0.33027    0.64180    0.66892    1.000\\n    H452     H        0.43786    0.53452    0.69644    1.000\\n    H453     H        0.44005    0.62037    0.72017    1.000\\n    H454     H        0.44055    0.56593    0.57605    1.000\\n    H455     H        0.43397    0.65317    0.59733    1.000\\n    H456     H        0.37708    0.45735    0.63612    1.000\\n    H457     H        0.55052    0.62081    0.57031    1.000\\n    H458     H        0.54962    0.55910    0.63582    1.000\\n    H459     H        0.93060    0.56503    0.38711    1.000\\n    H460     H        0.88987    0.48566    0.39129    1.000\\n    H461     H        0.80477    0.56867    0.41442    1.000\\n    H462     H        0.78927    0.53292    0.33421    1.000\\n    H463     H        0.85183    0.63547    0.28376    1.000\\n    H464     H        0.81773    0.69450    0.42175    1.000\\n    H465     H        0.90074    0.67226    0.39947    1.000\\n    H466     H        0.81868    0.77187    0.31577    1.000\\n    H467     H        0.54374    0.64694    0.65611    1.000\\n    H468     H        0.22733    0.43422    0.61010    1.000\\n    H469     H        0.29209    0.43571    0.54758    1.000\\n    H470     H        0.28770    0.33975    0.66802    1.000\\n    H471     H        0.16312    0.61259    0.62670    1.000\\n    H472     H        0.20749    0.61987    0.54868    1.000\\n    H473     H        0.11092    0.72411    0.60750    1.000\\n    H474     H        0.15684    0.73243    0.53043    1.000\\n    H475     H        0.26437    0.71863    0.59669    1.000\\n    H476     H        0.21701    0.71917    0.67206    1.000\\n    H477     H        0.22588    0.83159    0.56647    1.000\\n    H478     H        0.26791    0.83020    0.64494    1.000\\n    H479     H        0.11511    0.83812    0.62415    1.000\\n    H480     H        0.17005    0.90472    0.64604    1.000\\n    H481     H        0.13929    0.78049    0.73179    1.000\\n    H482     H        0.20175    0.84206    0.75213    1.000\\n    H483     H        0.09487    0.86325    0.81125    1.000\\n    H484     H        0.11381    0.93035    0.75442    1.000\\n    H485     H        0.05135    0.86873    0.73268    1.000\\n    H486     H        0.23386    0.26422    0.47500    1.000\\n    H487     H        0.31796    0.29154    0.49100    1.000\\n    H488     H        0.25205    0.35191    0.47719    1.000\\n    H489     H        0.19627    0.31736    0.58263    1.000\\n    H490     H        0.25594    0.25166    0.59374    1.000\\n    H491     H        0.34832    0.33850    0.60212    1.000\\n    H492     H        0.90338    0.85552    0.36916    1.000\\n    H493     H        0.91843    0.79271    0.43043    1.000\\n    H494     H        0.79041    0.79689    0.45640    1.000\\n    H495     H        0.86614    0.93050    0.46767    1.000\\n    H496     H        0.67221    0.73966    0.36542    1.000\\n    H497     H        0.59320    0.76733    0.46527    1.000\\n    H498     H        0.49952    0.67396    0.38651    1.000\\n    H499     H        0.53681    0.64918    0.46318    1.000\\n    H500     H        0.45002    0.77581    0.45276    1.000\\n    H501     H        0.36766    0.70058    0.52041    1.000\\n    H502     H        0.41572    0.63143    0.49150    1.000\\n    H503     H        0.38925    0.67241    0.37026    1.000\\n    H504     H        0.26751    0.64504    0.46044    1.000\\n    H505     H        0.26836    0.64046    0.37140    1.000\\n    H506     H        0.34588    0.54858    0.46802    1.000\\n    H507     H        0.34119    0.55162    0.31387    1.000\\n    H508     H        0.41427    0.56034    0.36642    1.000\\n    H509     H        0.37095    0.48242    0.36323    1.000\\n    H510     H        0.75048    0.62525    0.56244    1.000\\n    H511     H        0.66877    0.65940    0.57370    1.000\\n    H512     H        0.65960    0.54110    0.59783    1.000\\n    H513     H        0.65102    0.58686    0.67386    1.000\\n    H514     H        0.77765    0.56413    0.69425    1.000\\n    H515     H        0.75003    0.45251    0.59190    1.000\\n    H516     H        0.79804    0.52420    0.57121    1.000\\n    H517     H        0.62086    0.66832    0.35036    1.000\\n    H518     H        0.05404    0.61837    0.56638    1.000\\n    H519     H        0.71708    0.63447    0.41562    1.000\\n    H520     H        0.44379    0.89780    0.80681    1.000\\n    H521     H        0.79171    0.90901    0.51184    1.000\\n    H522     H        0.92990    0.84266    0.52874    1.000\\n    H523     H        0.79485    0.81305    0.59713    1.000\\n    H524     H        0.84520    0.75567    0.54858    1.000\\n    H525     H        0.18969    0.72202    0.35909    1.000\\n    H526     H        0.76913    0.93174    0.85457    1.000\\n    H527     H        0.80557    0.89715    0.92831    1.000\\n    H528     H        0.73348    0.81120    0.88269    1.000\\n    H529     H        0.81843    0.78662    0.87147    1.000\\n    H530     H        0.80961    0.83468    0.75073    1.000\\n    H531     H        0.65950    0.81718    0.77999    1.000\\n    H532     H        0.69744    0.89735    0.77571    1.000\\n    H533     H        0.70531    0.79799    0.65850    1.000\\n    H534     H        0.62236    0.88409    0.60626    1.000\\n    H535     H        0.60720    0.91175    0.68951    1.000\\n    H536     H        0.57216    0.78882    0.71673    1.000\\n    H537     H        0.49613    0.85682    0.60142    1.000\\n    H538     H        0.46473    0.79101    0.65277    1.000\\n    H539     H        0.49902    0.93409    0.69903    1.000\\n    H540     H        0.44668    0.81245    0.77815    1.000\\n    H541     H        0.52285    0.85876    0.79335    1.000\\n    H542     H        0.64684    0.62964    0.47051    1.000\\n    H543     H        0.11800    0.77521    0.36936    1.000\\n\");\n",
              "\tviewer_1646335857011588.setStyle({\"stick\": {}});\n",
              "\tviewer_1646335857011588.addUnitCell();\n",
              "\tviewer_1646335857011588.replicateUnitCell(1,1,1);\n",
              "\tviewer_1646335857011588.zoomTo();\n",
              "viewer_1646335857011588.render();\n",
              "});\n",
              "</script>"
            ]
          },
          "metadata": {}
        }
      ]
    },
    {
      "cell_type": "markdown",
      "metadata": {
        "id": "OmIrmhyUoltx"
      },
      "source": [
        "# References and further reading\n",
        "\n",
        "- Harikrishna Sahu, Huan Tran, Kuan-Hsuan Shen, Joseph H. Montoya, Rampi Ramprasad, *PSP: A python toolkit for predicting 3D models of polymers*, J. Chem. Theory Comput., **2022**. DOI: 10.1021/acs.jctc.2c00022\n",
        "- User Manual: https://github.com/Ramprasad-Group/PSP/blob/master/documentation/PSP_user_manual.pdf\n",
        "- https://github.com/Ramprasad-Group/PSP"
      ]
    }
  ]
}